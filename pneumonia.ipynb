{
  "nbformat": 4,
  "nbformat_minor": 0,
  "metadata": {
    "colab": {
      "name": "pneumonia.ipynb",
      "version": "0.3.2",
      "provenance": [],
      "collapsed_sections": []
    },
    "kernelspec": {
      "name": "python3",
      "display_name": "Python 3"
    },
    "accelerator": "GPU"
  },
  "cells": [
    {
      "cell_type": "markdown",
      "metadata": {
        "id": "4CA8nCoY_13W",
        "colab_type": "text"
      },
      "source": [
        "## Kaggle"
      ]
    },
    {
      "cell_type": "code",
      "metadata": {
        "id": "d9DLWwVC_VrG",
        "colab_type": "code",
        "colab": {}
      },
      "source": [
        "!mkdir -p ~/.kaggle/"
      ],
      "execution_count": 0,
      "outputs": []
    },
    {
      "cell_type": "code",
      "metadata": {
        "id": "WTMssRja_0HR",
        "colab_type": "code",
        "colab": {}
      },
      "source": [
        "mv kaggle.json ~/.kaggle/"
      ],
      "execution_count": 0,
      "outputs": []
    },
    {
      "cell_type": "code",
      "metadata": {
        "id": "oqu4mZA9_1Qv",
        "colab_type": "code",
        "outputId": "51eb040f-14d6-4861-d441-5670ed11820a",
        "colab": {
          "base_uri": "https://localhost:8080/",
          "height": 340
        }
      },
      "source": [
        "!kaggle competitions download -c rsna-pneumonia-detection-challenge"
      ],
      "execution_count": 0,
      "outputs": [
        {
          "output_type": "stream",
          "text": [
            "Warning: Your Kaggle API key is readable by other users on this system! To fix this, you can run 'chmod 600 /root/.kaggle/kaggle.json'\n",
            "Downloading stage_2_detailed_class_info.csv.zip to /content\n",
            "\r  0% 0.00/583k [00:00<?, ?B/s]\n",
            "100% 583k/583k [00:00<00:00, 80.4MB/s]\n",
            "Downloading stage_2_sample_submission.csv to /content\n",
            "  0% 0.00/155k [00:00<?, ?B/s]\n",
            "100% 155k/155k [00:00<00:00, 46.5MB/s]\n",
            "Downloading stage_2_train_labels.csv.zip to /content\n",
            "  0% 0.00/661k [00:00<?, ?B/s]\n",
            "100% 661k/661k [00:00<00:00, 95.9MB/s]\n",
            "Downloading stage_2_test_images.zip to /content\n",
            " 95% 360M/377M [00:01<00:00, 222MB/s]\n",
            "100% 377M/377M [00:01<00:00, 211MB/s]\n",
            "Downloading stage_2_train_images.zip to /content\n",
            "100% 3.29G/3.29G [00:23<00:00, 127MB/s]\n",
            "100% 3.29G/3.29G [00:23<00:00, 148MB/s]\n",
            "Downloading GCP%20Credits%20Request%20Link%20-%20RSNA.txt to /content\n",
            "  0% 0.00/55.0 [00:00<?, ?B/s]\n",
            "100% 55.0/55.0 [00:00<00:00, 48.5kB/s]\n"
          ],
          "name": "stdout"
        }
      ]
    },
    {
      "cell_type": "code",
      "metadata": {
        "id": "9RP-8hBoBhxH",
        "colab_type": "code",
        "colab": {}
      },
      "source": [
        "!unzip -q stage_2_train_labels.csv.zip"
      ],
      "execution_count": 0,
      "outputs": []
    },
    {
      "cell_type": "code",
      "metadata": {
        "id": "3AvN49wv4pT0",
        "colab_type": "code",
        "colab": {}
      },
      "source": [
        "!mkdir images"
      ],
      "execution_count": 0,
      "outputs": []
    },
    {
      "cell_type": "code",
      "metadata": {
        "id": "-pO7JID34h4z",
        "colab_type": "code",
        "colab": {}
      },
      "source": [
        "!unzip -q stage_2_train_images.zip -d images"
      ],
      "execution_count": 0,
      "outputs": []
    },
    {
      "cell_type": "code",
      "metadata": {
        "id": "0NgArHlNXd7r",
        "colab_type": "code",
        "outputId": "207d151a-05e2-4632-9ff8-48f0df742fd9",
        "colab": {
          "base_uri": "https://localhost:8080/",
          "height": 122
        }
      },
      "source": [
        "!pip install pydicom"
      ],
      "execution_count": 0,
      "outputs": [
        {
          "output_type": "stream",
          "text": [
            "Collecting pydicom\n",
            "\u001b[?25l  Downloading https://files.pythonhosted.org/packages/43/88/d3c419ab2e753e7651510882a53219373e78fb55294cb247dffd3934ea55/pydicom-1.2.2-py2.py3-none-any.whl (7.0MB)\n",
            "\u001b[K     |████████████████████████████████| 7.0MB 2.7MB/s \n",
            "\u001b[?25hInstalling collected packages: pydicom\n",
            "Successfully installed pydicom-1.2.2\n"
          ],
          "name": "stdout"
        }
      ]
    },
    {
      "cell_type": "code",
      "metadata": {
        "id": "mHfXv_StAH1H",
        "colab_type": "code",
        "outputId": "b033ecd7-ae15-4b18-abe0-ce9e8ecbb734",
        "colab": {
          "base_uri": "https://localhost:8080/",
          "height": 34
        }
      },
      "source": [
        "import tensorflow as tf\n",
        "\n",
        "from tensorflow.keras.optimizers import SGD\n",
        "from tensorflow.train import AdamOptimizer\n",
        "\n",
        "from tensorflow.python.keras.utils.data_utils import Sequence\n",
        "\n",
        "from tensorflow.keras.layers import Flatten, Dropout, BatchNormalization, Reshape, GlobalAveragePooling2D\n",
        "from tensorflow.keras.layers import Dense, Dropout, Input, Conv2D, MaxPooling2D\n",
        "from tensorflow.keras.applications.mobilenet_v2 import MobileNetV2, preprocess_input\n",
        "\n",
        "from tensorflow.keras.models import Model\n",
        "from tensorflow.keras.callbacks import ReduceLROnPlateau, ModelCheckpoint, LearningRateScheduler\n",
        "\n",
        "from keras.preprocessing import image\n",
        "\n",
        "import itertools\n",
        "import matplotlib.pyplot as plt\n",
        "\n",
        "from sklearn.model_selection import train_test_split\n",
        "from sklearn.utils.class_weight import compute_class_weight\n",
        "from sklearn.metrics import confusion_matrix\n",
        "\n",
        "import matplotlib.image as mpimg\n",
        "import numpy as np\n",
        "import shutil\n",
        "import os\n",
        "import pandas as pd\n",
        "import pylab\n",
        "import pydicom\n",
        "\n",
        "import re"
      ],
      "execution_count": 0,
      "outputs": [
        {
          "output_type": "stream",
          "text": [
            "Using TensorFlow backend.\n"
          ],
          "name": "stderr"
        }
      ]
    },
    {
      "cell_type": "code",
      "metadata": {
        "id": "Y8A5a_E1W3qM",
        "colab_type": "code",
        "colab": {}
      },
      "source": [
        "tf.enable_eager_execution()"
      ],
      "execution_count": 0,
      "outputs": []
    },
    {
      "cell_type": "code",
      "metadata": {
        "id": "VTa7yFz6BRfn",
        "colab_type": "code",
        "colab": {}
      },
      "source": [
        "train_labels = pd.read_csv(\"stage_2_train_labels.csv\")"
      ],
      "execution_count": 0,
      "outputs": []
    },
    {
      "cell_type": "code",
      "metadata": {
        "id": "C09LJ_TMBnsI",
        "colab_type": "code",
        "outputId": "6615ab24-5a5b-4aec-d615-f7da3c1dd7dd",
        "colab": {
          "base_uri": "https://localhost:8080/",
          "height": 204
        }
      },
      "source": [
        "train_labels.head()"
      ],
      "execution_count": 0,
      "outputs": [
        {
          "output_type": "execute_result",
          "data": {
            "text/html": [
              "<div>\n",
              "<style scoped>\n",
              "    .dataframe tbody tr th:only-of-type {\n",
              "        vertical-align: middle;\n",
              "    }\n",
              "\n",
              "    .dataframe tbody tr th {\n",
              "        vertical-align: top;\n",
              "    }\n",
              "\n",
              "    .dataframe thead th {\n",
              "        text-align: right;\n",
              "    }\n",
              "</style>\n",
              "<table border=\"1\" class=\"dataframe\">\n",
              "  <thead>\n",
              "    <tr style=\"text-align: right;\">\n",
              "      <th></th>\n",
              "      <th>patientId</th>\n",
              "      <th>x</th>\n",
              "      <th>y</th>\n",
              "      <th>width</th>\n",
              "      <th>height</th>\n",
              "      <th>Target</th>\n",
              "    </tr>\n",
              "  </thead>\n",
              "  <tbody>\n",
              "    <tr>\n",
              "      <th>0</th>\n",
              "      <td>0004cfab-14fd-4e49-80ba-63a80b6bddd6</td>\n",
              "      <td>NaN</td>\n",
              "      <td>NaN</td>\n",
              "      <td>NaN</td>\n",
              "      <td>NaN</td>\n",
              "      <td>0</td>\n",
              "    </tr>\n",
              "    <tr>\n",
              "      <th>1</th>\n",
              "      <td>00313ee0-9eaa-42f4-b0ab-c148ed3241cd</td>\n",
              "      <td>NaN</td>\n",
              "      <td>NaN</td>\n",
              "      <td>NaN</td>\n",
              "      <td>NaN</td>\n",
              "      <td>0</td>\n",
              "    </tr>\n",
              "    <tr>\n",
              "      <th>2</th>\n",
              "      <td>00322d4d-1c29-4943-afc9-b6754be640eb</td>\n",
              "      <td>NaN</td>\n",
              "      <td>NaN</td>\n",
              "      <td>NaN</td>\n",
              "      <td>NaN</td>\n",
              "      <td>0</td>\n",
              "    </tr>\n",
              "    <tr>\n",
              "      <th>3</th>\n",
              "      <td>003d8fa0-6bf1-40ed-b54c-ac657f8495c5</td>\n",
              "      <td>NaN</td>\n",
              "      <td>NaN</td>\n",
              "      <td>NaN</td>\n",
              "      <td>NaN</td>\n",
              "      <td>0</td>\n",
              "    </tr>\n",
              "    <tr>\n",
              "      <th>4</th>\n",
              "      <td>00436515-870c-4b36-a041-de91049b9ab4</td>\n",
              "      <td>264.0</td>\n",
              "      <td>152.0</td>\n",
              "      <td>213.0</td>\n",
              "      <td>379.0</td>\n",
              "      <td>1</td>\n",
              "    </tr>\n",
              "  </tbody>\n",
              "</table>\n",
              "</div>"
            ],
            "text/plain": [
              "                              patientId      x      y  width  height  Target\n",
              "0  0004cfab-14fd-4e49-80ba-63a80b6bddd6    NaN    NaN    NaN     NaN       0\n",
              "1  00313ee0-9eaa-42f4-b0ab-c148ed3241cd    NaN    NaN    NaN     NaN       0\n",
              "2  00322d4d-1c29-4943-afc9-b6754be640eb    NaN    NaN    NaN     NaN       0\n",
              "3  003d8fa0-6bf1-40ed-b54c-ac657f8495c5    NaN    NaN    NaN     NaN       0\n",
              "4  00436515-870c-4b36-a041-de91049b9ab4  264.0  152.0  213.0   379.0       1"
            ]
          },
          "metadata": {
            "tags": []
          },
          "execution_count": 29
        }
      ]
    },
    {
      "cell_type": "code",
      "metadata": {
        "id": "6OMeOZES2R5P",
        "colab_type": "code",
        "outputId": "f2f8210f-8786-48de-8a22-a7888233dcd8",
        "colab": {
          "base_uri": "https://localhost:8080/",
          "height": 34
        }
      },
      "source": [
        "train_labels[\"patientId\"].unique().size"
      ],
      "execution_count": 0,
      "outputs": [
        {
          "output_type": "execute_result",
          "data": {
            "text/plain": [
              "26684"
            ]
          },
          "metadata": {
            "tags": []
          },
          "execution_count": 30
        }
      ]
    },
    {
      "cell_type": "code",
      "metadata": {
        "id": "GrDwc89E92hh",
        "colab_type": "code",
        "colab": {}
      },
      "source": [
        "images_paths = os.listdir(\"images\")"
      ],
      "execution_count": 0,
      "outputs": []
    },
    {
      "cell_type": "code",
      "metadata": {
        "id": "qzs8skFiKCAR",
        "colab_type": "code",
        "colab": {}
      },
      "source": [
        "X = [f'images/{image_path}' for image_path in images_paths]"
      ],
      "execution_count": 0,
      "outputs": []
    },
    {
      "cell_type": "code",
      "metadata": {
        "id": "u9i7XiXW975y",
        "colab_type": "code",
        "colab": {}
      },
      "source": [
        "original_image_width = 1024\n",
        "original_image_height = 1024\n",
        "\n",
        "y = []\n",
        "boxes = []\n",
        "\n",
        "for image_path in images_paths:\n",
        "  image_name = image_path[:-4]\n",
        "  patient_data = train_labels[train_labels[\"patientId\"] == image_name]\n",
        "  image_class = patient_data.iloc[0][\"Target\"]\n",
        "  \n",
        "  patient_boxes = []\n",
        "  \n",
        "  for patient in patient_data.values:\n",
        "    box_width = patient[3]\n",
        "    box_height = patient[4]\n",
        "    \n",
        "    if np.isnan(box_width):\n",
        "      patient_boxes.append([0, 0, 0, 0])\n",
        "    else:\n",
        "      x_min = patient[1] / original_image_width\n",
        "      y_min = patient[2] / original_image_height\n",
        "      x_max = (patient[1] + box_width) / original_image_width\n",
        "      y_max = (patient[2] + box_height) / original_image_height\n",
        "      patient_boxes.append([x_min, y_min, x_max, y_max])\n",
        "  \n",
        "  boxes.append(patient_boxes)\n",
        "  y.append(image_class)"
      ],
      "execution_count": 0,
      "outputs": []
    },
    {
      "cell_type": "code",
      "metadata": {
        "id": "4aTkfAj3YZut",
        "colab_type": "code",
        "outputId": "2e5ca672-17e0-44b8-ce72-7c5c55aefc5f",
        "colab": {
          "base_uri": "https://localhost:8080/",
          "height": 289
        }
      },
      "source": [
        "!nvidia-smi"
      ],
      "execution_count": 0,
      "outputs": [
        {
          "output_type": "stream",
          "text": [
            "Fri Apr 26 02:04:22 2019       \n",
            "+-----------------------------------------------------------------------------+\n",
            "| NVIDIA-SMI 418.56       Driver Version: 410.79       CUDA Version: 10.0     |\n",
            "|-------------------------------+----------------------+----------------------+\n",
            "| GPU  Name        Persistence-M| Bus-Id        Disp.A | Volatile Uncorr. ECC |\n",
            "| Fan  Temp  Perf  Pwr:Usage/Cap|         Memory-Usage | GPU-Util  Compute M. |\n",
            "|===============================+======================+======================|\n",
            "|   0  Tesla T4            Off  | 00000000:00:04.0 Off |                    0 |\n",
            "| N/A   45C    P0    26W /  70W |   8813MiB / 15079MiB |      0%      Default |\n",
            "+-------------------------------+----------------------+----------------------+\n",
            "                                                                               \n",
            "+-----------------------------------------------------------------------------+\n",
            "| Processes:                                                       GPU Memory |\n",
            "|  GPU       PID   Type   Process name                             Usage      |\n",
            "|=============================================================================|\n",
            "+-----------------------------------------------------------------------------+\n"
          ],
          "name": "stdout"
        }
      ]
    },
    {
      "cell_type": "code",
      "metadata": {
        "id": "IMKT2_EqZGNs",
        "colab_type": "code",
        "colab": {}
      },
      "source": [
        "!cat /proc/meminfo"
      ],
      "execution_count": 0,
      "outputs": []
    },
    {
      "cell_type": "markdown",
      "metadata": {
        "id": "5fbN4qVPJAJ8",
        "colab_type": "text"
      },
      "source": [
        "## Create new csv"
      ]
    },
    {
      "cell_type": "code",
      "metadata": {
        "id": "Ykr7-fIYE40G",
        "colab_type": "code",
        "colab": {}
      },
      "source": [
        "training_information = pd.DataFrame({'X': X, 'y': y, 'boxes': boxes})"
      ],
      "execution_count": 0,
      "outputs": []
    },
    {
      "cell_type": "code",
      "metadata": {
        "id": "PEy3JutZcvZU",
        "colab_type": "code",
        "colab": {}
      },
      "source": [
        "training_information.to_csv(\"training_information.csv\")"
      ],
      "execution_count": 0,
      "outputs": []
    },
    {
      "cell_type": "code",
      "metadata": {
        "id": "Dh-hAFYBcxFC",
        "colab_type": "code",
        "colab": {}
      },
      "source": [
        "training_information = pd.read_csv(\"training_information.csv\")"
      ],
      "execution_count": 0,
      "outputs": []
    },
    {
      "cell_type": "code",
      "metadata": {
        "id": "ELgd16ISGCEb",
        "colab_type": "code",
        "outputId": "3094a56a-0f09-4d7f-caec-3cef44807fe5",
        "colab": {
          "base_uri": "https://localhost:8080/",
          "height": 204
        }
      },
      "source": [
        "training_information.head()"
      ],
      "execution_count": 0,
      "outputs": [
        {
          "output_type": "execute_result",
          "data": {
            "text/html": [
              "<div>\n",
              "<style scoped>\n",
              "    .dataframe tbody tr th:only-of-type {\n",
              "        vertical-align: middle;\n",
              "    }\n",
              "\n",
              "    .dataframe tbody tr th {\n",
              "        vertical-align: top;\n",
              "    }\n",
              "\n",
              "    .dataframe thead th {\n",
              "        text-align: right;\n",
              "    }\n",
              "</style>\n",
              "<table border=\"1\" class=\"dataframe\">\n",
              "  <thead>\n",
              "    <tr style=\"text-align: right;\">\n",
              "      <th></th>\n",
              "      <th>Unnamed: 0</th>\n",
              "      <th>X</th>\n",
              "      <th>boxes</th>\n",
              "      <th>y</th>\n",
              "    </tr>\n",
              "  </thead>\n",
              "  <tbody>\n",
              "    <tr>\n",
              "      <th>0</th>\n",
              "      <td>0</td>\n",
              "      <td>images/b89bd111-9093-46cd-a75c-c58c58b80824.dcm</td>\n",
              "      <td>[[0, 0, 0, 0]]</td>\n",
              "      <td>0</td>\n",
              "    </tr>\n",
              "    <tr>\n",
              "      <th>1</th>\n",
              "      <td>1</td>\n",
              "      <td>images/651cd9f4-24c3-4ed0-9139-bb1595b18522.dcm</td>\n",
              "      <td>[[0, 0, 0, 0]]</td>\n",
              "      <td>0</td>\n",
              "    </tr>\n",
              "    <tr>\n",
              "      <th>2</th>\n",
              "      <td>2</td>\n",
              "      <td>images/764ae03e-966a-48d2-ad73-bdbe10274eea.dcm</td>\n",
              "      <td>[[0, 0, 0, 0]]</td>\n",
              "      <td>0</td>\n",
              "    </tr>\n",
              "    <tr>\n",
              "      <th>3</th>\n",
              "      <td>3</td>\n",
              "      <td>images/91b0043a-35bd-4cf9-b338-1cbc9b05b76d.dcm</td>\n",
              "      <td>[[0, 0, 0, 0]]</td>\n",
              "      <td>0</td>\n",
              "    </tr>\n",
              "    <tr>\n",
              "      <th>4</th>\n",
              "      <td>4</td>\n",
              "      <td>images/7aea6188-dc10-4758-9a8e-b4d3de1dbc2d.dcm</td>\n",
              "      <td>[[0, 0, 0, 0]]</td>\n",
              "      <td>0</td>\n",
              "    </tr>\n",
              "  </tbody>\n",
              "</table>\n",
              "</div>"
            ],
            "text/plain": [
              "   Unnamed: 0                                                X  \\\n",
              "0           0  images/b89bd111-9093-46cd-a75c-c58c58b80824.dcm   \n",
              "1           1  images/651cd9f4-24c3-4ed0-9139-bb1595b18522.dcm   \n",
              "2           2  images/764ae03e-966a-48d2-ad73-bdbe10274eea.dcm   \n",
              "3           3  images/91b0043a-35bd-4cf9-b338-1cbc9b05b76d.dcm   \n",
              "4           4  images/7aea6188-dc10-4758-9a8e-b4d3de1dbc2d.dcm   \n",
              "\n",
              "            boxes  y  \n",
              "0  [[0, 0, 0, 0]]  0  \n",
              "1  [[0, 0, 0, 0]]  0  \n",
              "2  [[0, 0, 0, 0]]  0  \n",
              "3  [[0, 0, 0, 0]]  0  \n",
              "4  [[0, 0, 0, 0]]  0  "
            ]
          },
          "metadata": {
            "tags": []
          },
          "execution_count": 11
        }
      ]
    },
    {
      "cell_type": "markdown",
      "metadata": {
        "id": "5943tiMMdJgb",
        "colab_type": "text"
      },
      "source": [
        "## Images"
      ]
    },
    {
      "cell_type": "code",
      "metadata": {
        "id": "11r8-xNGGG98",
        "colab_type": "code",
        "outputId": "e5e4d1fb-e2ca-4c22-85e8-02b919c53f08",
        "colab": {
          "base_uri": "https://localhost:8080/",
          "height": 392
        }
      },
      "source": [
        "positive_images = training_information[training_information[\"y\"] == 1][\"X\"][0:3]\n",
        "negative_images = training_information[training_information[\"y\"] == 0][\"X\"][0:3]\n",
        "\n",
        "def plot_images(image_index, image_path, title):\n",
        "  sp = figure.add_subplot(2, 3, image_index + 1)\n",
        "  sp.axis('Off')\n",
        "  dcm_data = pydicom.read_file(image_path)\n",
        "  image_loaded = dcm_data.pixel_array\n",
        "  sp.set_title(title, fontsize=16)\n",
        "  plt.imshow(image_loaded, cmap=pylab.cm.gist_gray)\n",
        "\n",
        "figure = plt.figure(figsize=(12, 6))\n",
        "\n",
        "for image_index, image_path in enumerate(positive_images):\n",
        "  plot_images(image_index, image_path, \"Positive\")\n",
        "\n",
        "for image_index, image_path in enumerate(negative_images):\n",
        "  plot_images(image_index + 3, image_path, \"Negative\")"
      ],
      "execution_count": 0,
      "outputs": [
        {
          "output_type": "display_data",
          "data": {
            "image/png": "iVBORw0KGgoAAAANSUhEUgAAAqAAAAF3CAYAAAB67/nPAAAABHNCSVQICAgIfAhkiAAAAAlwSFlz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\nRjo+Pg6RsqRgVrrdbkT6rgt