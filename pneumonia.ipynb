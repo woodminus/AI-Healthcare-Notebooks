{
  "nbformat": 4,
  "nbformat_minor": 0,
  "metadata": {
    "colab": {
      "name": "pneumonia.ipynb",
      "version": "0.3.2",
      "provenance": [],
      "collapsed_sections": []
    },
    "kernelspec": {
      "name": "python3",
      "display_name": "Python 3"
    },
    "accelerator": "GPU"
  },
  "cells": [
    {
      "cell_type": "markdown",
      "metadata": {
        "id": "4CA8nCoY_13W",
        "colab_type": "text"
      },
      "source": [
        "## Kaggle"
      ]
    },
    {
      "cell_type": "code",
      "metadata": {
        "id": "d9DLWwVC_VrG",
        "colab_type": "code",
        "colab": {}
      },
      "source": [
        "!mkdir -p ~/.kaggle/"
      ],
      "execution_count": 0,
      "outputs": []
    },
    {
      "cell_type": "code",
      "metadata": {
        "id": "WTMssRja_0HR",
        "colab_type": "code",
        "colab": {}
      },
      "source": [
        "mv kaggle.json ~/.kaggle/"
      ],
      "execution_count": 0,
      "outputs": []
    },
    {
      "cell_type": "code",
      "metadata": {
        "id": "oqu4mZA9_1Qv",
        "colab_type": "code",
        "outputId": "51eb040f-14d6-4861-d441-5670ed11820a",
        "colab": {
          "base_uri": "https://localhost:8080/",
          "height": 340
        }
      },
      "source": [
        "!kaggle competitions download -c rsna-pneumonia-detection-challenge"
      ],
      "execution_count": 0,
      "outputs": [
        {
          "output_type": "stream",
          "text": [
            "Warning: Your Kaggle API key is readable by other users on this system! To fix this, you can run 'chmod 600 /root/.kaggle/kaggle.json'\n",
            "Downloading stage_2_detailed_class_info.csv.zip to /content\n",
            "\r  0% 0.00/583k [00:00<?, ?B/s]\n",
            "100% 583k/583k [00:00<00:00, 80.4MB/s]\n",
            "Downloading stage_2_sample_submission.csv to /content\n",
            "  0% 0.00/155k [00:00<?, ?B/s]\n",
            "100% 155k/155k [00:00<00:00, 46.5MB/s]\n",
            "Downloading stage_2_train_labels.csv.zip to /content\n",
            "  0% 0.00/661k [00:00<?, ?B/s]\n",
            "100% 661k/661k [00:00<00:00, 95.9MB/s]\n",
            "Downloading stage_2_test_images.zip to /content\n",
            " 95% 360M/377M [00:01<00:00, 222MB/s]\n",
            "100% 377M/377M [00:01<00:00, 211MB/s]\n",
            "Downloading stage_2_train_images.zip to /content\n",
            "100% 3.29G/3.29G [00:23<00:00, 127MB/s]\n",
            "100% 3.29G/3.29G [00:23<00:00, 148MB/s]\n",
            "Downloading GCP%20Credits%20Request%20Link%20-%20RSNA.txt to /content\n",
            "  0% 0.00/55.0 [00:00<?, ?B/s]\n",
            "100% 55.0/55.0 [00:00<00:00, 48.5kB/s]\n"
          ],
          "name": "stdout"
        }
      ]
    },
    {
      "cell_type": "code",
      "metadata": {
        "id": "9RP-8hBoBhxH",
        "colab_type": "code",
        "colab": {}
      },
      "source": [
        "!unzip -q stage_2_train_labels.csv.zip"
      ],
      "execution_count": 0,
      "outputs": []
    },
    {
      "cell_type": "code",
      "metadata": {
        "id": "3AvN49wv4pT0",
        "colab_type": "code",
        "colab": {}
      },
      "source": [
        "!mkdir images"
      ],
      "execution_count": 0,
      "outputs": []
    },
    {
      "cell_type": "code",
      "metadata": {
        "id": "-pO7JID34h4z",
        "colab_type": "code",
        "colab": {}
      },
      "source": [
        "!unzip -q stage_2_train_images.zip -d images"
      ],
      "execution_count": 0,
      "outputs": []
    },
    {
      "cell_type": "code",
      "metadata": {
        "id": "0NgArHlNXd7r",
        "colab_type": "code",
        "outputId": "207d151a-05e2-4632-9ff8-48f0df742fd9",
        "colab": {
          "base_uri": "https://localhost:8080/",
          "height": 122
        }
      },
      "source": [
        "!pip install pydicom"
      ],
      "execution_count": 0,
      "outputs": [
        {
          "output_type": "stream",
          "text": [
            "Collecting pydicom\n",
            "\u001b[?25l  Downloading https://files.pythonhosted.org/packages/43/88/d3c419ab2e753e7651510882a53219373e78fb55294cb247dffd3934ea55/pydicom-1.2.2-py2.py3-none-any.whl (7.0MB)\n",
            "\u001b[K     |████████████████████████████████| 7.0MB 2.7MB/s \n",
            "\u001b[?25hInstalling collected packages: pydicom\n",
            "Successfully installed pydicom-1.2.2\n"
          ],
          "name": "stdout"
        }
      ]
    },
    {
      "cell_type": "code",
      "metadata": {
        "id": "mHfXv_StAH1H",
        "colab_type": "code",
        "outputId": "b033ecd7-ae15-4b18-abe0-ce9e8ecbb734",
        "colab": {
          "base_uri": "https://localhost:8080/",
          "height": 34
        }
      },
      "source": [
        "import tensorflow as tf\n",
        "\n",
        "from tensorflow.keras.optimizers import SGD\n",
        "from tensorflow.train import AdamOptimizer\n",
        "\n",
        "from tensorflow.python.keras.utils.data_utils import Sequence\n",
        "\n",
        "from tensorflow.keras.layers import Flatten, Dropout, BatchNormalization, Reshape, GlobalAveragePooling2D\n",
        "from tensorflow.keras.layers import Dense, Dropout, Input, Conv2D, MaxPooling2D\n",
        "from tensorflow.keras.applications.mobilenet_v2 import MobileNetV2, preprocess_input\n",
        "\n",
        "from tensorflow.keras.models import Model\n",
        "from tensorflow.keras.callbacks import ReduceLROnPlateau, ModelCheckpoint, LearningRateScheduler\n",
        "\n",
        "from keras.preprocessing import image\n",
        "\n",
        "import itertools\n",
        "import matplotlib.pyplot as plt\n",
        "\n",
        "from sklearn.model_selection import train_test_split\n",
        "from sklearn.utils.class_weight import compute_class_weight\n",
        "from sklearn.metrics import confusion_matrix\n",
        "\n",
        "import matplotlib.image as mpimg\n",
        "import numpy as np\n",
        "import shutil\n",
        "import os\n",
        "import pandas as pd\n",
        "import pylab\n",
        "import pydicom\n",
        "\n",
        "import re"
      ],
      "execution_count": 0,
      "outputs": [
        {
          "output_type": "stream",
          "text": [
            "Using TensorFlow backend.\n"
          ],
          "name": "stderr"
        }
      ]
    },
    {
      "cell_type": "code",
      "metadata": {
        "id": "Y8A5a_E1W3qM",
        "colab_type": "code",
        "colab": {}
      },
      "source": [
        "tf.enable_eager_execution()"
      ],
      "execution_count": 0,
      "outputs": []
    },
    {
      "cell_type": "code",
      "metadata": {
        "id": "VTa7yFz6BRfn",
        "colab_type": "code",
        "colab": {}
      },
      "source": [
        "train_labels = pd.read_csv(\"stage_2_train_labels.csv\")"
      ],
      "execution_count": 0,
      "outputs": []
    },
    {
      "cell_type": "code",
      "metadata": {
        "id": "C09LJ_TMBnsI",
        "colab_type": "code",
        "outputId": "6615ab24-5a5b-4aec-d615-f7da3c1dd7dd",
        "colab": {
          "base_uri": "https://localhost:8080/",
          "height": 204
        }
      },
      "source": [
        "train_labels.head()"
      ],
      "execution_count": 0,
      "outputs": [
        {
          "output_type": "execute_result",
          "data": {
            "text/html": [
              "<div>\n",
              "<style scoped>\n",
              "    .dataframe tbody tr th:only-of-type {\n",
              "        vertical-align: middle;\n",
              "    }\n",
              "\n",
              "    .dataframe tbody tr th {\n",
              "        vertical-align: top;\n",
              "    }\n",
              "\n",
              "    .dataframe thead th {\n",
              "        text-align: right;\n",
              "    }\n",
              "</style>\n",
              "<table border=\"1\" class=\"dataframe\">\n",
              "  <thead>\n",
              "    <tr style=\"text-align: right;\">\n",
              "      <th></th>\n",
              "      <th>patientId</th>\n",
              "      <th>x</th>\n",
              "      <th>y</th>\n",
              "      <th>width</th>\n",
              "      <th>height</th>\n",
              "      <th>Target</th>\n",
              "    </tr>\n",
              "  </thead>\n",
              "  <tbody>\n",
              "    <tr>\n",
              "      <th>0</th>\n",
              "      <td>0004cfab-14fd-4e49-80ba-63a80b6bddd6</td>\n",
              "      <td>NaN</td>\n",
              "      <td>NaN</td>\n",
              "      <td>NaN</td>\n",
              "      <td>NaN</td>\n",
              "      <td>0</td>\n",
              "    </tr>\n",
              "    <tr>\n",
              "      <th>1</th>\n",
              "      <td>00313ee0-9eaa-42f4-b0ab-c148ed3241cd</td>\n",
              "      <td>NaN</td>\n",
              "      <td>NaN</td>\n",
              "      <td>NaN</td>\n",
              "      <td>NaN</td>\n",
              "      <td>0</td>\n",
              "    </tr>\n",
              "    <tr>\n",
              "      <th>2</th>\n",
              "      <td>00322d4d-1c29-4943-afc9-b6754be640eb</td>\n",
              "      <td>NaN</td>\n",
              "      <td>NaN</td>\n",
              "      <td>NaN</td>\n",
              "      <td>NaN</td>\n",
              "      <td>0</td>\n",
              "    </tr>\n",
              "    <tr>\n",
              "      <th>3</th>\n",
              "      <td>003d8fa0-6bf1-40ed-b54c-ac657f8495c5</td>\n",
              "      <td>NaN</td>\n",
              "      <td>NaN</td>\n",
              "      <td>NaN</td>\n",
              "      <td>NaN</td>\n",
              "      <td>0</td>\n",
              "    </tr>\n",
              "    <tr>\n",
              "      <th>4</th>\n",
              "      <td>00436515-870c-4b36-a041-de91049b9ab4</td>\n",
              "      <td>264.0</td>\n",
              "      <td>152.0</td>\n",
              "      <td>213.0</td>\n",
              "      <td>379.0</td>\n",
              "      <td>1</td>\n",
              "    </tr>\n",
              "  </tbody>\n",
              "</table>\n",
              "</div>"
            ],
            "text/plain": [
              "                              patientId      x      y  width  height  Target\n",
              "0  0004cfab-14fd-4e49-80ba-63a80b6bddd6    NaN    NaN    NaN     NaN       0\n",
              "1  00313ee0-9eaa-42f4-b0ab-c148ed3241cd    NaN    NaN    NaN     NaN       0\n",
              "2  00322d4d-1c29-4943-afc9-b6754be640eb    NaN    NaN    NaN     NaN       0\n",
              "3  003d8fa0-6bf1-40ed-b54c-ac657f8495c5    NaN    NaN    NaN     NaN       0\n",
              "4  00436515-870c-4b36-a041-de91049b9ab4  264.0  152.0  213.0   379.0       1"
            ]
          },
          "metadata": {
            "tags": []
          },
          "execution_count": 29
        }
      ]
    },
    {
      "cell_type": "code",
      "metadata": {
        "id": "6OMeOZES2R5P",
        "colab_type": "code",
        "outputId": "f2f8210f-8786-48de-8a22-a7888233dcd8",
        "colab": {
          "base_uri": "https://localhost:8080/",
          "height": 34
        }
      },
      "source": [
        "train_labels[\"patientId\"].unique().size"
      ],
      "execution_count": 0,
      "outputs": [
        {
          "output_type": "execute_result",
          "data": {
            "text/plain": [
              "26684"
            ]
          },
          "metadata": {
            "tags": []
          },
          "execution_count": 30
        }
      ]
    },
    {
      "cell_type": "code",
      "metadata": {
        "id": "GrDwc89E92hh",
        "colab_type": "code",
        "colab": {}
      },
      "source": [
        "images_paths = os.listdir(\"images\")"
      ],
      "execution_count": 0,
      "outputs": []
    },
    {
      "cell_type": "code",
      "metadata": {
        "id": "qzs8skFiKCAR",
        "colab_type": "code",
        "colab": {}
      },
      "source": [
        "X = [f'images/{image_path}' for image_path in images_paths]"
      ],
      "execution_count": 0,
      "outputs": []
    },
    {
      "cell_type": "code",
      "metadata": {
        "id": "u9i7XiXW975y",
        "colab_type": "code",
        "colab": {}
      },
      "source": [
        "original_image_width = 1024\n",
        "original_image_height = 1024\n",
        "\n",
        "y = []\n",
        "boxes = []\n",
        "\n",
        "for image_path in images_paths:\n",
        "  image_name = image_path[:-4]\n",
        "  patient_data = train_labels[train_labels[\"patientId\"] == image_name]\n",
        "  image_class = patient_data.iloc[0][\"Target\"]\n",
        "  \n",
        "  patient_boxes = []\n",
        "  \n",
        "  for patient in patient_data.values:\n",
        "    box_width = patient[3]\n",
        "    box_height = patient[4]\n",
        "    \n",
        "    if np.isnan(box_width):\n",
        "      patient_boxes.append([0, 0, 0, 0])\n",
        "    else:\n",
        "      x_min = patient[1] / original_image_width\n",
        "      y_min = patient[2] / original_image_height\n",
        "      x_max = (patient[1] + box_width) / original_image_width\n",
        "      y_max = (patient[2] + box_height) / original_image_height\n",
        "      patient_boxes.append([x_min, y_min, x_max, y_max])\n",
        "  \n",
        "  boxes.append(patient_boxes)\n",
        "  y.append(image_class)"
      ],
      "execution_count": 0,
      "outputs": []
    },
    {
      "cell_type": "code",
      "metadata": {
        "id": "4aTkfAj3YZut",
        "colab_type": "code",
        "outputId": "2e5ca672-17e0-44b8-ce72-7c5c55aefc5f",
        "colab": {
          "base_uri": "https://localhost:8080/",
          "height": 289
        }
      },
      "source": [
        "!nvidia-smi"
      ],
      "execution_count": 0,
      "outputs": [
        {
          "output_type": "stream",
          "text": [
            "Fri Apr 26 02:04:22 2019       \n",
            "+-----------------------------------------------------------------------------+\n",
            "| NVIDIA-SMI 418.56       Driver Version: 410.79       CUDA Version: 10.0     |\n",
            "|-------------------------------+----------------------+----------------------+\n",
            "| GPU  Name        Persistence-M| Bus-Id        Disp.A | Volatile Uncorr. ECC |\n",
            "| Fan  Temp  Perf  Pwr:Usage/Cap|         Memory-Usage | GPU-Util  Compute M. |\n",
            "|===============================+======================+======================|\n",
            "|   0  Tesla T4            Off  | 00000000:00:04.0 Off |                    0 |\n",
            "| N/A   45C    P0    26W /  70W |   8813MiB / 15079MiB |      0%      Default |\n",
            "+-------------------------------+----------------------+----------------------+\n",
            "                                                                               \n",
            "+-----------------------------------------------------------------------------+\n",
            "| Processes:                                                       GPU Memory |\n",
            "|  GPU       PID   Type   Process name                             Usage      |\n",
            "|=============================================================================|\n",
            "+-----------------------------------------------------------------------------+\n"
          ],
          "name": "stdout"
        }
      ]
    },
    {
      "cell_type": "code",
      "metadata": {
        "id": "IMKT2_EqZGNs",
        "colab_type": "code",
        "colab": {}
      },
      "source": [
        "!cat /proc/meminfo"
      ],
      "execution_count": 0,
      "outputs": []
    },
    {
      "cell_type": "markdown",
      "metadata": {
        "id": "5fbN4qVPJAJ8",
        "colab_type": "text"
      },
      "source": [
        "## Create new csv"
      ]
    },
    {
      "cell_type": "code",
      "metadata": {
        "id": "Ykr7-fIYE40G",
        "colab_type": "code",
        "colab": {}
      },
      "source": [
        "training_information = pd.DataFrame({'X': X, 'y': y, 'boxes': boxes})"
      ],
      "execution_count": 0,
      "outputs": []
    },
    {
      "cell_type": "code",
      "metadata": {
        "id": "PEy3JutZcvZU",
        "colab_type": "code",
        "colab": {}
      },
      "source": [
        "training_information.to_csv(\"training_information.csv\")"
      ],
      "execution_count": 0,
      "outputs": []
    },
    {
      "cell_type": "code",
      "metadata": {
        "id": "Dh-hAFYBcxFC",
        "colab_type": "code",
        "colab": {}
      },
      "source": [
        "training_information = pd.read_csv(\"training_information.csv\")"
      ],
      "execution_count": 0,
      "outputs": []
    },
    {
      "cell_type": "code",
      "metadata": {
        "id": "ELgd16ISGCEb",
        "colab_type": "code",
        "outputId": "3094a56a-0f09-4d7f-caec-3cef44807fe5",
        "colab": {
          "base_uri": "https://localhost:8080/",
          "height": 204
        }
      },
      "source": [
        "training_information.head()"
      ],
      "execution_count": 0,
      "outputs": [
        {
          "output_type": "execute_result",
          "data": {
            "text/html": [
              "<div>\n",
              "<style scoped>\n",
              "    .dataframe tbody tr th:only-of-type {\n",
              "        vertical-align: middle;\n",
              "    }\n",
              "\n",
              "    .datafr