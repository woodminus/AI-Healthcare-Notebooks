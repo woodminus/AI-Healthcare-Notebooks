{
  "nbformat": 4,
  "nbformat_minor": 0,
  "metadata": {
    "colab": {
      "name": "pneumonia.ipynb",
      "version": "0.3.2",
      "provenance": [],
      "collapsed_sections": []
    },
    "kernelspec": {
      "name": "python3",
      "display_name": "Python 3"
    },
    "accelerator": "GPU"
  },
  "cells": [
    {
      "cell_type": "markdown",
      "metadata": {
        "id": "4CA8nCoY_13W",
        "colab_type": "text"
      },
      "source": [
        "## Kaggle"
      ]
    },
    {
      "cell_type": "code",
      "metadata": {
        "id": "d9DLWwVC_VrG",
        "colab_type": "code",
        "colab": {}
      },
      "source": [
        "!mkdir -p ~/.kaggle/"
      ],
      "execution_count": 0,
      "outputs": []
    },
    {
      "cell_type": "code",
      "metadata": {
        "id": "WTMssRja_0HR",
        "colab_type": "code",
        "colab": {}
      },
      "source": [
        "mv kaggle.json ~/.kaggle/"
      ],
      "execution_count": 0,
      "outputs": []
    },
    {
      "cell_type": "code",
      "metadata": {
        "id": "oqu4mZA9_1Qv",
        "colab_type": "code",
        "outputId": "51eb040f-14d6-4861-d441-5670ed11820a",
        "colab": {
          "base_uri": "https://localhost:8080/",
          "height": 340
        }
      },
      "source": [
        "!kaggle competitions download -c rsna-pneumonia-detection-challenge"
      ],
      "execution_count": 0,
      "outputs": [
        {
          "output_type": "stream",
          "text": [
            "Warning: Your Kaggle API key is readable by other users on this system! To fix this, you can run 'chmod 600 /root/.kaggle/kaggle.json'\n",
            "Downloading stage_2_detailed_class_info.csv.zip to /content\n",
            "\r  0% 0.00/583k [00:00<?, ?B/s]\n",
            "100% 583k/583k [00:00<00:00, 80.4MB/s]\n",
            "Downloading stage_2_sample_submission.csv to /content\n",
            "  0% 0.00/155k [00:00<?, ?B/s]\n",
            "100% 155k/155k [00:00<00:00, 46.5MB/s]\n",
            "Downloading stage_2_train_labels.csv.zip to /content\n",
            "  0% 0.00/661k [00:00<?, ?B/s]\n",
            "100% 661k/661k [00:00<00:00, 95.9MB/s]\n",
            "Downloading stage_2_test_images.zip to /content\n",
            " 95% 360M/377M [00:01<00:00, 222MB/s]\n",
            "100% 377M/377M [00:01<00:00, 211MB/s]\n",
            "Downloading stage_2_train_images.zip to /content\n",
            "100% 3.29G/3.29G [00:23<00:00, 127MB/s]\n",
            "100% 3.29G/3.29G [00:23<00:00, 148MB/s]\n",
            "Downloading GCP%20Credits%20Request%20Link%20-%20RSNA.txt to /content\n",
            "  0% 0.00/55.0 [00:00<?, ?B/s]\n",
            "100% 55.0/55.0 [00:00<00:00, 48.5kB/s]\n"
          ],
          "name": "stdout"
        }
      ]
    },
    {
      "cell_type": "code",
      "metadata": {
        "id": "9RP-8hBoBhxH",
        "colab_type": "code",
        "colab": {}
      },
      "source": [
        "!unzip -q stage_2_train_labels.csv.zip"
      ],
      "execution_count": 0,
      "outputs": []
    },
    {
      "cell_type": "code",
      "metadata": {
        "id": "3AvN49wv4pT0",
        "colab_type": "code",
        "colab": {}
      },
      "source": [
        "!mkdir images"
      ],
      "execution_count": 0,
      "outputs": []
    },
    {
      "cell_type": "code",
      "metadata": {
        "id": "-pO7JID34h4z",
        "colab_type": "code",
        "colab": {}
      },
      "source": [
        "!unzip -q stage_2_train_images.zip -d images"
      ],
      "execution_count": 0,
      "outputs": []
    },
    {
      "cell_type": "code",
      "metadata": {
        "id": "0NgArHlNXd7r",
        "colab_type": "code",
        "outputId": "207d151a-05e2-4632-9ff8-48f0df742fd9",
        "colab": {
          "base_uri": "https://localhost:8080/",
          "height": 122
        }
      },
      "source": [
        "!pip install pydicom"
      ],
      "execution_count": 0,
      "outputs": [
        {
          "output_type": "stream",
          "text": [
            "Collecting pydicom\n",
            "\u001b[?25l  Downloading https://files.pythonhosted.org/packages/43/88/d3c419ab2e753e7651510882a53219373e78fb55294cb247dffd3934ea55/pydicom-1.2.2-py2.py3-none-any.whl (7.0MB)\n",
            "\u001b[K     |████████████████████████████████| 7.0MB 2.7MB/s \n",
            "\u001b[?25hInstalling collected packages: pydicom\n",
            "Successfully installed pydicom-1.2.2\n"
          ],
          "name": "stdout"
        }
      ]
    },
    {
      "cell_type": "code",
      "metadata": {
        "id": "mHfXv_StAH1H",
        "colab_type": "code",
        "outputId": "b033ecd7-ae15-4b18-abe0-ce9e8ecbb734",
        "colab": {
          "base_uri": "https://localhost:8080/",
          "height": 34
        }
      },
      "source": [
        "import tensorflow as tf\n",
        "\n",
        "from tensorflow.keras.optimizers import SGD\n",
        "from tensorflow.train import AdamOptimizer\n",
        "\n",
        "from tensorflow.python.keras.utils.data_utils import Sequence\n",
        "\n",
        "from tensorflow.keras.layers import Flatten, Dropout, BatchNormalization, Reshape, GlobalAveragePooling2D\n",
        "from tensorflow.keras.layers import Dense, Dropout, Input, Conv2D, MaxPooling2D\n",
        "from tensorflow.keras.applications.mobilenet_v2 import MobileNetV2, preprocess_input\n",
        "\n",
        "from tensorflow.keras.models import Model\n",
        "from tensorflow.keras.callbacks import ReduceLROnPlateau, ModelCheckpoint, LearningRateScheduler\n",
        "\n",
        "from keras.preprocessing import image\n",
        "\n",
        "import itertools\n",
        "import matplotlib.pyplot as plt\n",
        "\n",
        "from sklearn.model_selection import train_test_split\n",
        "from sklearn.utils.class_weight import compute_class_weight\n",
        "from sklearn.metrics import confusion_matrix\n",
        "\n",
        "import matplotlib.image as mpimg\n",
        "import numpy as np\n",
        "import shutil\n",
        "import os\n",
        "import pandas as pd\n",
        "import pylab\n",
        "import pydicom\n",
        "\n",
        "import re"
      ],
      "execution_count": 0,
      "outputs": [
        {
          "output_type": "stream",
          "text": [
            "Using TensorFlow backend.\n"
          ],
          "name": "stderr"
        }
      ]
    },
    {
      "cell_type": "code",
      "metadata": {
        "id": "Y8A5a_E1W3qM",
        "colab_type": "code",
        "colab": {}
      },
      "source": [
        "tf.enable_eager_execution()"
      ],
      "execution_count": 0,
      "outputs": []
    },
    {
      "cell_type": "code",
      "metadata": {
        "id": "VTa7yFz6BRfn",
        "colab_type": "code",
        "colab": {}
      },
      "source": [
        "train_labels = pd.read_csv(\"stage_2_train_labels.csv\")"
      ],
      "execution_count": 0,
      "outputs": []
    },
    {
      "cell_type": "code",
      "metadata": {
        "id": "C09LJ_TMBnsI",
        "colab_type": "code",
        "outputId": "6615ab24-5a5b-4aec-d615-f7da3c1dd7dd",
        "colab": {
          "base_uri": "https://localhost:8080/",
          "height": 204
        }
      },
      "source": [
        "train_labels.head()"
      ],
      "execution_count": 0,
      "outputs": [
        {
          "output_type": "execute_result",
          "data": {
            "text/html": [
              "<div>\n",
              "<style scoped>\n",
              "    .dataframe tbody tr th:only-of-type {\n",
              "        vertical-align: middle;\n",
              "    }\n",
              "\n",
              "    .dataframe tbody tr th {\n",
              "        vertical-align: top;\n",
              "    }\n",
              "\n",
              "    .dataframe thead th {\n",
              "        text-align: right;\n",
              "    }\n",
              "</style>\n",
              "<table border=\"1\" class=\"dataframe\">\n",
              "  <thead>\n",
              "    <tr style=\"text-align: right;\">\n",
              "      <th></th>\n",
              "      <th>patientId</th>\n",
              "      <th>x</th>\n",
              "      <th>y</th>\n",
              "      <th>width</th>\n",
              "      <th>height</th>\n",
              "      <th>Target</th>\n",
              "    </tr>\n",
              "  </thead>\n",
              "  <tbody>\n",
              "    <tr>\n",
              "      <th>0</th>\n",
              "      <td>0004cfab-14fd-4e49-80ba-63a80b6bddd6</td>\n",
              "      <td>NaN</td>\n",
              "      <td>NaN</td>\n",
              "      <td>NaN</td>\n",
              "      <td>NaN</td>\n",
              "      <td>0</td>\n",
              "    </tr>\n",
              "    <tr>\n",
              "      <th>1</th>\n",
              "      <td>00313ee0-9eaa-42f4-b0ab-c148ed3241cd</td>\n",
              "      <td>NaN</td>\n",
              "      <td>NaN</td>\n",
              "      <td>NaN</td>\n",
              "      <td>NaN</td>\n",
              "      <td>0</td>\n",
              "    </tr>\n",
              "    <tr>\n",
              "      <th>2</th>\n",
              "      <td>00322d4d-1c29-4943-afc9-b6754be640eb</td>\n",
              "      <td>NaN</td>\n",
              "      <td>NaN</td>\n",
              "      <td>NaN</td>\n",
              "      <td>NaN</td>\n",
              "      <td>0</td>\n",
              "    </tr>\n",
              "    <tr>\n",
              "      <th>3</th>\n",
              "      <td>003d8fa0-6bf1-40ed-b54c-ac657f8495c5</td>\n",
              "      <td>NaN</td>\n",
              "      <td>NaN</td>\n",
              "      <td>NaN</td>\n",
              "      <td>NaN</td>\n",
              "      <td>0</td>\n",
              "    </tr>\n",
              "    <tr>\n",
              "      <th>4</th>\n",
              "      <td>00436515-870c-4b36-a041-de91049b9ab4</td>\n",
              "      <td>264.0</td>\n",
              "      <td>152.0</td>\n",
              "      <td>213.0</td>\n",
              "      <td>379.0</td>\n",
              "      <td>1</td>\n",
              "    </tr>\n",
              "  </tbody>\n",
              "</table>\n",
              "</div>"
            ],
            "text/plain": [
              "                              patientId      x      y  width  height  Target\n",
              "0  0004cfab-14fd-4e49-80ba-63a80b6bddd6    NaN    NaN    NaN     NaN       0\n",
              "1  00313ee0-9eaa-42f4-b0ab-c148ed3241cd    NaN    NaN    NaN     NaN       0\n",
              "2  00322d4d-1c29-4943-afc9-b6754be640eb    NaN    NaN    NaN     NaN       0\n",
              "3  003d8fa0-6bf1-40ed-b54c-ac657f8495c5    NaN    NaN    NaN     NaN       0\n",
              "4  00436515-870c-4b36-a041-de91049b9ab4  264.0  152.0  213.0   379.0       1"
            ]
          },
          "metadata": {
            "tags": []
          },
          "execution_count": 29
        }
      ]
    },
    {
      "cell_type": "code",
      "metadata": {
        "id": "6OMeOZES2R5P",
        "colab_type": "code",
        "outputId": "f2f8210f-8786-48de-8a22-a7888233dcd8",
        "colab": {
          "base_uri": "https://localhost:8080/",
          "height": 34
        }
      },
      "source": [
        "train_labels[\"patientId\"].unique().size"
      ],
      "execution_count": 0,
      "outputs": [
        {
          "output_type": "execute_result",
          "data": {
            "text/plain": [
              "26684"
            ]
          },
          "metadata": {
            "tags": []
          },
          "execution_count": 30
        }
      ]
    },
    {
      "cell_type": "code",
      "metadata": {
        "id": "GrDwc89E92hh",
        "colab_type": "code",
        "colab": {}
      },
      "source": [
        "images_paths = os.listdir(\"images\")"
      ],
      "execution_count": 0,
      "outputs": []
    },
    {
      "cell_type": "code",
      "metadata": {
        "id": "qzs8skFiKCAR",
        "colab_type": "code",
        "colab": {}
      },
      "source": [
        "X = [f'images/{image_path}' for image_path in images_paths]"
      ],
      "execution_count": 0,
      "outputs": []
    },
    {
      "cell_type": "code",
      "metadata": {
        "id": "u9i7XiXW975y",
        "colab_type": "code",
        "colab": {}
      },
      "source": [
        "original_image_width = 1024\n",
        "original_image_height = 1024\n",
        "\n",
        "y = []\n",
        "boxes = []\n",
        "\n",
        "for image_path in images_paths:\n",
        "  image_name = image_path[:-4]\n",
        "  patient_data = train_labels[train_labels[\"patientId\"] == image_name]\n",
        "  image_class = patient_data.iloc[0][\"Target\"]\n",
        "  \n",
        "  patient_boxes = []\n",
        "  \n",
        "  for patient in patient_data.values:\n",
        "    box_width = patient[3]\n",
        "    box_height = patient[4]\n",
        "    \n",
        "    if np.isnan(box_width):\n",
        "      patient_boxes.append([0, 0, 0, 0])\n",
        "    else:\n",
        "      x_min = patient[1] / original_image_width\n",
        "      y_min = patient[2] / original_image_height\n",
        "      x_max = (patient[1] + box_width) / original_image_width\n",
        "      y_max = (patient[2] + box_height) / original_image_height\n",
        "      patient_boxes.append([x_min, y_min, x_max, y_max])\n",
        "  \n",
        "  boxes.append(patient_boxes)\n",
        "  y.append(image_class)"
      ],
      "execution_count": 0,
      "outputs": []
    },
    {
      "cell_type": "code",
      "metadata": {
        "id": "4aTkfAj3YZut",
        "colab_type": "code",
        "outputId": "2e5ca672-17e0-44b8-ce72-7c5c55aefc5f",
        "colab": {
          "base_uri": "https://localhost:8080/",
          "height": 289
        }
      },
      "source": [
        "!nvidia-smi"
      ],
      "execution_count": 0,
      "outputs": [
        {
          "output_type": "stream",
          "text": [
            "Fri Apr 26 02:04:22 2019       \n",
            "+-----------------------------------------------------------------------------+\n",
            "| NVIDIA-SMI 418.56       Driver Version: 410.79       CUDA Version: 10.0     |\n",
            "|-------------------------------+----------------------+----------------------+\n",
            "| GPU  Name        Persistence-M| Bus-Id        Disp.A | Volatile Uncorr. ECC |\n",
            "| Fan  Temp  Perf  Pwr:Usage/Cap|         Memory-Usage | GPU-Util  Compute M. |\n",
            "|===============================+======================+======================|\n",
            "|   0  Tesla T4            Off  | 00000000:00:04.0 Off |                    0 |\n",
            "| N/A   45C    P0    26W /  70W |   8813MiB / 15079MiB |      0%      Default |\n",
            "+-------------------------------+----------------------+----------------------+\n",
            "                                                                               \n",
            "+-----------------------------------------------------------------------------+\n",
            "| Processes:                                                       GPU Memory |\n",
            "|  GPU       PID   Type   Process name                             Usage      |\n",
            "|=============================================================================|\n",
            "+-----------------------------------------------------------------------------+\n"
          ],
          "name": "stdout"
        }
      ]
    },
    {
      "cell_type": "code",
      "metadata": {
        "id": "IMKT2_EqZGNs",
        "colab_type": "code",
        "colab": {}
      },
      "source": [
        "!cat /proc/meminfo"
      ],
      "execution_count": 0,
      "outputs": []
    },
    {
      "cell_type": "markdown",
      "metadata": {
        "id": "5fbN4qVPJAJ8",
        "colab_type": "text"
      },
      "source": [
        "## Create new csv"
      ]
    },
    {
      "cell_type": "code",
      "metadata": {
        "id": "Ykr7-fIYE40G",
        "colab_type": "code",
        "colab": {}
      },
      "source": [
        "training_information = pd.DataFrame({'X': X, 'y': y, 'boxes': boxes})"
      ],
      "execution_count": 0,
      "outputs": []
    },
    {
      "cell_type": "code",
      "metadata": {
        "id": "PEy3JutZcvZU",
        "colab_type": "code",
        "colab": {}
      },
      "source": [
        "training_information.to_csv(\"training_information.csv\")"
      ],
      "execution_count": 0,
      "outputs": []
    },
    {
      "cell_type": "code",
      "metadata": {
        "id": "Dh-hAFYBcxFC",
        "colab_type": "code",
        "colab": {}
      },
      "source": [
        "training_information = pd.read_csv(\"training_information.csv\")"
      ],
      "execution_count": 0,
      "outputs": []
    },
    {
      "cell_type": "code",
      "metadata": {
        "id": "ELgd16ISGCEb",
        "colab_type": "code",
        "outputId": "3094a56a-0f09-4d7f-caec-3cef44807fe5",
        "colab": {
          "base_uri": "https://localhost:8080/",
          "height": 204
        }
      },
      "source": [
        "training_information.head()"
      ],
      "execution_count": 0,
      "outputs": [
        {
          "output_type": "execute_result",
          "data": {
            "text/html": [
              "<div>\n",
              "<style scoped>\n",
              "    .dataframe tbody tr th:only-of-type {\n",
              "        vertical-align: middle;\n",
              "    }\n",
              "\n",
              "    .dataframe tbody tr th {\n",
              "        vertical-align: top;\n",
              "    }\n",
              "\n",
              "    .dataframe thead th {\n",
              "        text-align: right;\n",
              "    }\n",
              "</style>\n",
              "<table border=\"1\" class=\"dataframe\">\n",
              "  <thead>\n",
              "    <tr style=\"text-align: right;\">\n",
              "      <th></th>\n",
              "      <th>Unnamed: 0</th>\n",
              "      <th>X</th>\n",
              "      <th>boxes</th>\n",
              "      <th>y</th>\n",
              "    </tr>\n",
              "  </thead>\n",
              "  <tbody>\n",
              "    <tr>\n",
              "      <th>0</th>\n",
              "      <td>0</td>\n",
              "      <td>images/b89bd111-9093-46cd-a75c-c58c58b80824.dcm</td>\n",
              "      <td>[[0, 0, 0, 0]]</td>\n",
              "      <td>0</td>\n",
              "    </tr>\n",
              "    <tr>\n",
              "      <th>1</th>\n",
              "      <td>1</td>\n",
              "      <td>images/651cd9f4-24c3-4ed0-9139-bb1595b18522.dcm</td>\n",
              "      <td>[[0, 0, 0, 0]]</td>\n",
              "      <td>0</td>\n",
              "    </tr>\n",
              "    <tr>\n",
              "      <th>2</th>\n",
              "      <td>2</td>\n",
              "      <td>images/764ae03e-966a-48d2-ad73-bdbe10274eea.dcm</td>\n",
              "      <td>[[0, 0, 0, 0]]</td>\n",
              "      <td>0</td>\n",
              "    </tr>\n",
              "    <tr>\n",
              "      <th>3</th>\n",
              "      <td>3</td>\n",
              "      <td>images/91b0043a-35bd-4cf9-b338-1cbc9b05b76d.dcm</td>\n",
              "      <td>[[0, 0, 0, 0]]</td>\n",
              "      <td>0</td>\n",
              "    </tr>\n",
              "    <tr>\n",
              "      <th>4</th>\n",
              "      <td>4</td>\n",
              "      <td>images/7aea6188-dc10-4758-9a8e-b4d3de1dbc2d.dcm</td>\n",
              "      <td>[[0, 0, 0, 0]]</td>\n",
              "      <td>0</td>\n",
              "    </tr>\n",
              "  </tbody>\n",
              "</table>\n",
              "</div>"
            ],
            "text/plain": [
              "   Unnamed: 0                                                X  \\\n",
              "0           0  images/b89bd111-9093-46cd-a75c-c58c58b80824.dcm   \n",
              "1           1  images/651cd9f4-24c3-4ed0-9139-bb1595b18522.dcm   \n",
              "2           2  images/764ae03e-966a-48d2-ad73-bdbe10274eea.dcm   \n",
              "3           3  images/91b0043a-35bd-4cf9-b338-1cbc9b05b76d.dcm   \n",
              "4           4  images/7aea6188-dc10-4758-9a8e-b4d3de1dbc2d.dcm   \n",
              "\n",
              "            boxes  y  \n",
              "0  [[0, 0, 0, 0]]  0  \n",
              "1  [[0, 0, 0, 0]]  0  \n",
              "2  [[0, 0, 0, 0]]  0  \n",
              "3  [[0, 0, 0, 0]]  0  \n",
              "4  [[0, 0, 0, 0]]  0  "
            ]
          },
          "metadata": {
            "tags": []
          },
          "execution_count": 11
        }
      ]
    },
    {
      "cell_type": "markdown",
      "metadata": {
        "id": "5943tiMMdJgb",
        "colab_type": "text"
      },
      "source": [
        "## Images"
      ]
    },
    {
      "cell_type": "code",
      "metadata": {
        "id": "11r8-xNGGG98",
        "colab_type": "code",
        "outputId": "e5e4d1fb-e2ca-4c22-85e8-02b919c53f08",
        "colab": {
          "base_uri": "https://localhost:8080/",
          "height": 392
        }
      },
      "source": [
        "positive_images = training_information[training_information[\"y\"] == 1][\"X\"][0:3]\n",
        "negative_images = training_information[training_information[\"y\"] == 0][\"X\"][0:3]\n",
        "\n",
        "def plot_images(image_index, image_path, title):\n",
        "  sp = figure.add_subplot(2, 3, image_index + 1)\n",
        "  sp.axis('Off')\n",
        "  dcm_data = pydicom.read_file(image_path)\n",
        "  image_loaded = dcm_data.pixel_array\n",
        "  sp.set_title(title, fontsize=16)\n",
        "  plt.imshow(image_loaded, cmap=pylab.cm.gist_gray)\n",
        "\n",
        "figure = plt.figure(figsize=(12, 6))\n",
        "\n",
        "for image_index, image_path in enumerate(positive_images):\n",
        "  plot_images(image_index, image_path, \"Positive\")\n",
        "\n",
        "for image_index, image_path in enumerate(negative_images):\n",
        "  plot_images(image_index + 3, image_path, \"Negative\")"
      ],
      "execution_count": 0,
      "outputs": [
        {
          "output_type": "display_data",
          "data": {
            "image/png": "iVBORw0KGgoAAAANSUhEUgAAAqAAAAF3CAYAAAB67/nPAAAABHNCSVQICAgIfAhkiAAAAAlwSFlz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\nAAAAAElFTkSuQmCC\n",
            "text/plain": [
              "<Figure size 864x432 with 6 Axes>"
            ]
          },
          "metadata": {
            "tags": []
          }
        }
      ]
    },
    {
      "cell_type": "markdown",
      "metadata": {
        "id": "0i-bVduK4j45",
        "colab_type": "text"
      },
      "source": [
        "## Match Boxes"
      ]
    },
    {
      "cell_type": "code",
      "metadata": {
        "id": "rE-p8mZX4jdu",
        "colab_type": "code",
        "colab": {}
      },
      "source": [
        "def iou(box, anchor_box):  \n",
        "  x_min = np.maximum(box[0], anchor_box[0])\n",
        "  y_min = np.maximum(box[1], anchor_box[1])\n",
        "  x_max = np.maximum(box[2], anchor_box[2])\n",
        "  y_max = np.maximum(box[3], anchor_box[3])\n",
        "  \n",
        "  overlap_area = np.maximum(0.0, x_max - x_min + 1) * np.maximum(0.0, y_max - y_min + 1)\n",
        "  \n",
        "  true_boxes_area = (box[2] - box[0] + 1) * (box[3] - box[1] + 1)\n",
        "  \n",
        "  anchor_boxes_area = (anchor_box[2] - anchor_box[0] + 1) * (anchor_box[3] - anchor_box[1] + 1)\n",
        "  \n",
        "  union_area = (true_boxes_area + anchor_boxes_area - overlap_area)\n",
        "  \n",
        "  return overlap_area / union_area"
      ],
      "execution_count": 0,
      "outputs": []
    },
    {
      "cell_type": "code",
      "metadata": {
        "id": "g4F3reDKNS2w",
        "colab_type": "code",
        "colab": {}
      },
      "source": [
        "grid_size = 5"
      ],
      "execution_count": 0,
      "outputs": []
    },
    {
      "cell_type": "code",
      "metadata": {
        "id": "gUsvIP5wMkBK",
        "colab_type": "code",
        "colab": {}
      },
      "source": [
        "def get_anchor(box):\n",
        "  max_iou = 0.0 \n",
        "  best_anchor = [0, 0, 0, 0]\n",
        "  best_anchor_index = (0, 0)\n",
        "  \n",
        "  column = 0\n",
        "  row = 0\n",
        "  \n",
        "  cell_width, cell_height = (1 / grid_size, 1 / grid_size)\n",
        "  \n",
        "  for cell_x_position in np.linspace(0, 1, grid_size + 1)[:-1]:\n",
        "    row = 0 \n",
        "    \n",
        "    for cell_y_position in np.linspace(0, 1, grid_size + 1)[:-1]:\n",
        "      x_min = cell_x_position\n",
        "      y_min = cell_y_position\n",
        "      \n",
        "      x_max = (cell_x_position + cell_width)\n",
        "      y_max = (cell_y_position + cell_height)\n",
        "      \n",
        "      anchor_box = [x_min, y_min, x_max, y_max]\n",
        "      current_iou = iou(box, anchor_box)\n",
        "      \n",
        "      if current_iou > max_iou:\n",
        "        best_anchor = anchor_box\n",
        "        max_iou = current_iou\n",
        "        best_anchor_index = (column, row)\n",
        "      \n",
        "      row += 1\n",
        "    column += 1\n",
        "    \n",
        "  return best_anchor, best_anchor_index"
      ],
      "execution_count": 0,
      "outputs": []
    },
    {
      "cell_type": "code",
      "metadata": {
        "id": "0O2wTltBOtF6",
        "colab_type": "code",
        "colab": {}
      },
      "source": [
        "def create_volume(boxes):\n",
        "  grid_volume = np.zeros((grid_size, grid_size, 5))\n",
        "  \n",
        "  for box in boxes:\n",
        "    if max(box) == 0:\n",
        "      continue\n",
        "    _, (column, row) = get_anchor(box)\n",
        "    grid_volume[column, row, :] = [1, *box]\n",
        "    \n",
        "  return grid_volume"
      ],
      "execution_count": 0,
      "outputs": []
    },
    {
      "cell_type": "code",
      "metadata": {
        "id": "mEUzOgNYYgUr",
        "colab_type": "code",
        "colab": {}
      },
      "source": [
        "positive_information = training_information[training_information[\"y\"] == 1]\n",
        "negative_information = training_information[training_information[\"y\"] == 0]"
      ],
      "execution_count": 0,
      "outputs": []
    },
    {
      "cell_type": "code",
      "metadata": {
        "id": "Cf9cDNifZZYi",
        "colab_type": "code",
        "outputId": "e46fa36a-cd49-4159-f178-4e90825f00cf",
        "colab": {
          "base_uri": "https://localhost:8080/",
          "height": 34
        }
      },
      "source": [
        "negative_information[\"X\"].size, positive_information[\"X\"].size"
      ],
      "execution_count": 0,
      "outputs": [
        {
          "output_type": "execute_result",
          "data": {
            "text/plain": [
              "(20672, 6012)"
            ]
          },
          "metadata": {
            "tags": []
          },
          "execution_count": 17
        }
      ]
    },
    {
      "cell_type": "code",
      "metadata": {
        "id": "GYulIepiZzO_",
        "colab_type": "code",
        "colab": {}
      },
      "source": [
        "def get_data_from_files(information):\n",
        "  data = {}\n",
        "  for file in information.values:\n",
        "    image_path = file[1]\n",
        "    boxes_text = file[2]\n",
        "    boxes_list = re.findall(r'\\[(.*?)\\]', boxes_text[1:-1])\n",
        "    ground_truth_boxes = [np.fromstring(box, dtype=float, sep=', ') for box in boxes_list]\n",
        "\n",
        "    data[image_path] = create_volume(ground_truth_boxes)\n",
        "  \n",
        "  return data"
      ],
      "execution_count": 0,
      "outputs": []
    },
    {
      "cell_type": "code",
      "metadata": {
        "id": "E_ruAXzaPnds",
        "colab_type": "code",
        "colab": {}
      },
      "source": [
        "positive_data = get_data_from_files(positive_information)\n",
        "negative_data = get_data_from_files(negative_information)"
      ],
      "execution_count": 0,
      "outputs": []
    },
    {
      "cell_type": "code",
      "metadata": {
        "id": "NET8NACuYzv-",
        "colab_type": "code",
        "outputId": "24aab9f6-2738-4592-c7f9-c1aebd6c4a7c",
        "colab": {
          "base_uri": "https://localhost:8080/",
          "height": 34
        }
      },
      "source": [
        "len(negative_data.values()), len(positive_data.values())"
      ],
      "execution_count": 0,
      "outputs": [
        {
          "output_type": "execute_result",
          "data": {
            "text/plain": [
              "(20672, 6012)"
            ]
          },
          "metadata": {
            "tags": []
          },
          "execution_count": 22
        }
      ]
    },
    {
      "cell_type": "markdown",
      "metadata": {
        "id": "E6sfXkEW-_u2",
        "colab_type": "text"
      },
      "source": [
        "## Training / Validation splits"
      ]
    },
    {
      "cell_type": "code",
      "metadata": {
        "id": "QbrtpnW7Xw9I",
        "colab_type": "code",
        "colab": {}
      },
      "source": [
        "positive_images_paths = list(positive_data.keys())\n",
        "positive_tensor_volumes = list(positive_data.values())\n",
        "\n",
        "negative_images_paths = list(negative_data.keys())\n",
        "negative_tensor_volumes = list(negative_data.values())\n",
        "\n",
        "positive_data_size = len(positive_images_paths)\n",
        "negative_data_size = len(negative_images_paths)\n",
        "\n",
        "positive_validation_size = int(positive_data_size * 0.20)\n",
        "negative_validation_size = int(negative_data_size * 0.20)"
      ],
      "execution_count": 0,
      "outputs": []
    },
    {
      "cell_type": "code",
      "metadata": {
        "id": "Y5mpaBCzbVTm",
        "colab_type": "code",
        "outputId": "f17c6991-4ad4-4f98-a1b4-451279f48416",
        "colab": {
          "base_uri": "https://localhost:8080/",
          "height": 34
        }
      },
      "source": [
        "negative_validation_size, positive_validation_size"
      ],
      "execution_count": 0,
      "outputs": [
        {
          "output_type": "execute_result",
          "data": {
            "text/plain": [
              "(4134, 1202)"
            ]
          },
          "metadata": {
            "tags": []
          },
          "execution_count": 24
        }
      ]
    },
    {
      "cell_type": "code",
      "metadata": {
        "id": "fE1qUoqJbRxo",
        "colab_type": "code",
        "colab": {}
      },
      "source": [
        "X_train = [*positive_images_paths[positive_validation_size:], *negative_images_paths[negative_validation_size:]]\n",
        "X_val = [*positive_images_paths[:positive_validation_size], *negative_images_paths[:negative_validation_size]]\n",
        "\n",
        "y_train = [*positive_tensor_volumes[positive_validation_size:], *negative_tensor_volumes[negative_validation_size:]]\n",
        "y_val = [*positive_tensor_volumes[:positive_validation_size], *negative_tensor_volumes[:negative_validation_size]]"
      ],
      "execution_count": 0,
      "outputs": []
    },
    {
      "cell_type": "code",
      "metadata": {
        "id": "30l6_789JDdI",
        "colab_type": "code",
        "colab": {}
      },
      "source": [
        "X_train = np.array(X_train)\n",
        "X_val = np.array(X_val)\n",
        "\n",
        "y_train = np.array(y_train)\n",
        "y_val = np.array(y_val)"
      ],
      "execution_count": 0,
      "outputs": []
    },
    {
      "cell_type": "code",
      "metadata": {
        "id": "m973GGsnX481",
        "colab_type": "code",
        "outputId": "88e1f539-d896-478b-8ed7-c11c12f4e447",
        "colab": {
          "base_uri": "https://localhost:8080/",
          "height": 34
        }
      },
      "source": [
        "len(X_train), len(X_val)"
      ],
      "execution_count": 0,
      "outputs": [
        {
          "output_type": "execute_result",
          "data": {
            "text/plain": [
              "(21348, 5336)"
            ]
          },
          "metadata": {
            "tags": []
          },
          "execution_count": 27
        }
      ]
    },
    {
      "cell_type": "code",
      "metadata": {
        "id": "hs02RfvGcgfD",
        "colab_type": "code",
        "outputId": "df592df8-9260-41cd-8893-f0cc8862c35d",
        "colab": {
          "base_uri": "https://localhost:8080/",
          "height": 34
        }
      },
      "source": [
        "len(y_train), len(y_val)"
      ],
      "execution_count": 0,
      "outputs": [
        {
          "output_type": "execute_result",
          "data": {
            "text/plain": [
              "(21348, 5336)"
            ]
          },
          "metadata": {
            "tags": []
          },
          "execution_count": 28
        }
      ]
    },
    {
      "cell_type": "markdown",
      "metadata": {
        "id": "n_4JTvP7TM2f",
        "colab_type": "text"
      },
      "source": [
        "## Generators"
      ]
    },
    {
      "cell_type": "code",
      "metadata": {
        "id": "1lR-5i4miD4b",
        "colab_type": "code",
        "colab": {}
      },
      "source": [
        "class DataGenerator(Sequence):\n",
        "    def __init__(self, images_paths, tensor_volumes, batch_size=32, predict=False, shuffle=True):\n",
        "      self.batch_size = batch_size\n",
        "      self.tensor_volumes = tensor_volumes\n",
        "      self.images_paths = images_paths\n",
        "      self.shuffle = shuffle\n",
        "      self.predict = predict\n",
        "      self.on_epoch_end()\n",
        "\n",
        "    def __len__(self):\n",
        "      return int(np.floor(len(self.images_paths) / self.batch_size))\n",
        "\n",
        "    def __getitem__(self, index):\n",
        "      from_range = index * self.batch_size\n",
        "      to_range = (index + 1) * self.batch_size\n",
        "      indexes = self.indexes[from_range:to_range]\n",
        "      \n",
        "      if self.predict:\n",
        "        X = self.__load_predict__(indexes)\n",
        "        return X\n",
        "      \n",
        "      else:\n",
        "        X, y = self.__load__(indexes)\n",
        "        return X, y\n",
        "\n",
        "    def on_epoch_end(self):\n",
        "      self.indexes = np.arange(len(self.images_paths))\n",
        "      \n",
        "      if self.shuffle == True:\n",
        "          np.random.shuffle(self.indexes)\n",
        "          \n",
        "    def __load_image__(self, index):\n",
        "      image_path = self.images_paths[index]\n",
        "      tensor_volume = self.tensor_volumes[index]\n",
        "\n",
        "      dcm_data = pydicom.read_file(image_path)\n",
        "      image_loaded = dcm_data.pixel_array\n",
        "\n",
        "      img = np.stack([image_loaded.copy()] * 3, axis=2)\n",
        "      img = image.array_to_img(img, scale=False)\n",
        "      img = img.resize((img_size, img_size))\n",
        "      img = image.img_to_array(img)\n",
        "      img = preprocess_input(img)\n",
        "      \n",
        "      return img\n",
        "    \n",
        "    def __load_predict__(self, indexes):\n",
        "      X = []\n",
        "      \n",
        "      for index in indexes:\n",
        "        img = self.__load_image__(index)\n",
        "        X.append(img)\n",
        "\n",
        "      return np.array(X)\n",
        "    \n",
        "    def __load__(self, indexes):\n",
        "      X = []\n",
        "      y = []\n",
        "      \n",
        "      for index in indexes:\n",
        "        img = self.__load_image__(index)\n",
        "        tensor_volume = self.tensor_volumes[index]\n",
        "        \n",
        "        X.append(img)\n",
        "        y.append(tensor_volume)\n",
        "\n",
        "      return np.array(X), np.array(y)"
      ],
      "execution_count": 0,
      "outputs": []
    },
    {
      "cell_type": "markdown",
      "metadata": {
        "id": "_1kWjAqCSF-0",
        "colab_type": "text"
      },
      "source": [
        "## Model"
      ]
    },
    {
      "cell_type": "code",
      "metadata": {
        "id": "PjmcrAKySCl6",
        "colab_type": "code",
        "colab": {}
      },
      "source": [
        "def create_model():\n",
        "  mobile_model = MobileNetV2(\n",
        "       weights=None,\n",
        "       input_shape=input_img_size,\n",
        "       alpha=1.5,\n",
        "       include_top=False)\n",
        "  \n",
        "  for layer in mobile_model.layers:\n",
        "    layer.trainable = True\n",
        "  \n",
        "  mobile_model_output = mobile_model.output\n",
        "\n",
        "  feature_map = Conv2D(5, 3, padding='valid', activation='sigmoid')(mobile_model_output)\n",
        "\n",
        "  model = Model(inputs=mobile_model.input, outputs=feature_map)\n",
        "  \n",
        "  return model"
      ],
      "execution_count": 0,
      "outputs": []
    },
    {
      "cell_type": "code",
      "metadata": {
        "id": "FM2oVoI0zgrg",
        "colab_type": "code",
        "colab": {}
      },
      "source": [
        "def custom_loss(y_true, y_pred):\n",
        "  mask = y_true[..., 0]\n",
        "  true_boxes = tf.boolean_mask(y_true, mask)\n",
        "  predicted_boxes = tf.boolean_mask(y_pred, mask)\n",
        "  \n",
        "  prediction_loss = tf.keras.losses.binary_crossentropy(y_true[..., 0], y_pred[..., 0])\n",
        "\n",
        "  detection_loss = tf.losses.absolute_difference(true_boxes[..., 1:], predicted_boxes[..., 1:]) \n",
        "  \n",
        "  return tf.reduce_mean(prediction_loss) + 10 * detection_loss"
      ],
      "execution_count": 0,
      "outputs": []
    },
    {
      "cell_type": "code",
      "metadata": {
        "id": "_QghiAmi-_RX",
        "colab_type": "code",
        "colab": {}
      },
      "source": [
        "def custom_accuracy(y_true, y_pred):\n",
        "  return tf.keras.metrics.binary_accuracy(y_true[..., 0], y_pred[..., 0])"
      ],
      "execution_count": 0,
      "outputs": []
    },
    {
      "cell_type": "code",
      "metadata": {
        "id": "o8US0irXki6F",
        "colab_type": "code",
        "colab": {}
      },
      "source": [
        "def mean_iou(y_true, y_pred):\n",
        "  mask = y_true[..., 0]\n",
        "  true_boxes = tf.boolean_mask(y_true, mask)[..., 1:]\n",
        "  predicted_boxes = tf.boolean_mask(y_pred, mask)[..., 1:]\n",
        "  \n",
        "  x_min = tf.math.maximum(true_boxes[..., 0], predicted_boxes[..., 0])\n",
        "  y_min = tf.math.maximum(true_boxes[..., 1], predicted_boxes[..., 1])\n",
        "  x_max = tf.math.maximum(true_boxes[..., 2], predicted_boxes[..., 2])\n",
        "  y_max = tf.math.maximum(true_boxes[..., 3], predicted_boxes[..., 3])\n",
        "  \n",
        "  overlap_area = tf.math.maximum(0.0, x_max - x_min + 1) * tf.math.maximum(0.0, y_max - y_min + 1)\n",
        "  \n",
        "  true_boxes_area = (true_boxes[..., 2] - true_boxes[..., 0] + 1) * (true_boxes[..., 3] - true_boxes[..., 1] + 1)\n",
        "  \n",
        "  predicted_boxes_area = (predicted_boxes[..., 2] - predicted_boxes[..., 0] + 1) * (predicted_boxes[..., 3] - predicted_boxes[..., 1] + 1)\n",
        "  \n",
        "  union_area = (true_boxes_area + predicted_boxes_area - overlap_area)\n",
        "  \n",
        "  return tf.math.reduce_mean(overlap_area / union_area)"
      ],
      "execution_count": 0,
      "outputs": []
    },
    {
      "cell_type": "code",
      "metadata": {
        "id": "aBhft3fdTdci",
        "colab_type": "code",
        "colab": {}
      },
      "source": [
        "batch_size = 32\n",
        "img_size = 224\n",
        "input_img_size = (224, 224, 3)\n",
        "\n",
        "learning_rate = 3e-4\n",
        "epochs = 50"
      ],
      "execution_count": 0,
      "outputs": []
    },
    {
      "cell_type": "code",
      "metadata": {
        "id": "zgu-t5fVTfB5",
        "colab_type": "code",
        "colab": {}
      },
      "source": [
        "def polynomial_decay(epoch):\n",
        "\tpower = 1.0\n",
        " \n",
        "\talpha = learning_rate * (1 - (epoch / float(epochs))) ** power\n",
        "\treturn alpha"
      ],
      "execution_count": 0,
      "outputs": []
    },
    {
      "cell_type": "code",
      "metadata": {
        "id": "78qamJmXTgH4",
        "colab_type": "code",
        "colab": {}
      },
      "source": [
        "weights_name = \"epoch={epoch:02d}|loss={loss:.4f}|mean_iou={mean_iou:.4f}.h5\"\n",
        "\n",
        "checkpoint = ModelCheckpoint(weights_name, monitor=\"loss\", verbose=1, save_best_only=True,\n",
        "                                 save_weights_only=True, mode=\"min\", period=1)\n",
        "\n",
        "lr_decay = LearningRateScheduler(polynomial_decay)\n",
        "\n",
        "optimizer = tf.keras.optimizers.Adam(lr=learning_rate)"
      ],
      "execution_count": 0,
      "outputs": []
    },
    {
      "cell_type": "markdown",
      "metadata": {
        "id": "3UCCHp2WToE8",
        "colab_type": "text"
      },
      "source": [
        "## Loss"
      ]
    },
    {
      "cell_type": "code",
      "metadata": {
        "id": "upKLK49DsnEC",
        "colab_type": "code",
        "colab": {}
      },
      "source": [
        "train_steps = int(len(X_train) / batch_size)\n",
        "val_steps = int( len(X_val) / batch_size)"
      ],
      "execution_count": 0,
      "outputs": []
    },
    {
      "cell_type": "code",
      "metadata": {
        "id": "J0CZDHYvswCi",
        "colab_type": "code",
        "outputId": "61c80750-3f42-4ade-ad32-de69957a298e",
        "colab": {
          "base_uri": "https://localhost:8080/",
          "height": 34
        }
      },
      "source": [
        "train_steps, val_steps"
      ],
      "execution_count": 0,
      "outputs": [
        {
          "output_type": "execute_result",
          "data": {
            "text/plain": [
              "(667, 166)"
            ]
          },
          "metadata": {
            "tags": []
          },
          "execution_count": 38
        }
      ]
    },
    {
      "cell_type": "code",
      "metadata": {
        "id": "mo3NZpsTThxX",
        "colab_type": "code",
        "outputId": "d38435cd-e945-4e8d-ad94-f7a54d5f0271",
        "colab": {
          "base_uri": "https://localhost:8080/",
          "height": 88
        }
      },
      "source": [
        "model = create_model()"
      ],
      "execution_count": 0,
      "outputs": [
        {
          "output_type": "stream",
          "text": [
            "WARNING:tensorflow:From /usr/local/lib/python3.6/dist-packages/tensorflow/python/ops/resource_variable_ops.py:642: colocate_with (from tensorflow.python.framework.ops) is deprecated and will be removed in a future version.\n",
            "Instructions for updating:\n",
            "Colocations handled automatically by placer.\n"
          ],
          "name": "stdout"
        }
      ]
    },
    {
      "cell_type": "code",
      "metadata": {
        "id": "ptNF4gfNuY5p",
        "colab_type": "code",
        "outputId": "6626eb17-f069-4280-d1cd-380924e5aade",
        "colab": {
          "base_uri": "https://localhost:8080/",
          "height": 88
        }
      },
      "source": [
        "model.compile(loss=custom_loss, metrics=[custom_accuracy, mean_iou], optimizer=optimizer)"
      ],
      "execution_count": 0,
      "outputs": [
        {
          "output_type": "stream",
          "text": [
            "WARNING:tensorflow:From /usr/local/lib/python3.6/dist-packages/tensorflow/python/ops/losses/losses_impl.py:277: to_float (from tensorflow.python.ops.math_ops) is deprecated and will be removed in a future version.\n",
            "Instructions for updating:\n",
            "Use tf.cast instead.\n"
          ],
          "name": "stdout"
        }
      ]
    },
    {
      "cell_type": "code",
      "metadata": {
        "id": "aR76EQpWBhym",
        "colab_type": "code",
        "outputId": "1d9a9f38-8e5f-412d-e737-a3c633ffe0c4",
        "colab": {
          "base_uri": "https://localhost:8080/",
          "height": 34
        }
      },
      "source": [
        "model.metrics_names"
      ],
      "execution_count": 0,
      "outputs": [
        {
          "output_type": "execute_result",
          "data": {
            "text/plain": [
              "['loss', 'custom_accuracy', 'mean_iou']"
            ]
          },
          "metadata": {
            "tags": []
          },
          "execution_count": 41
        }
      ]
    },
    {
      "cell_type": "code",
      "metadata": {
        "id": "XbL6SWO0k9E8",
        "colab_type": "code",
        "colab": {}
      },
      "source": [
        "train_generator = DataGenerator(X_train, y_train, batch_size)\n",
        "val_generator = DataGenerator(X_val, y_val, batch_size)"
      ],
      "execution_count": 0,
      "outputs": []
    },
    {
      "cell_type": "code",
      "metadata": {
        "id": "aL09FPiMTvS7",
        "colab_type": "code",
        "outputId": "665006b8-5873-46b4-957c-1212c018468d",
        "colab": {
          "base_uri": "https://localhost:8080/",
          "height": 4372
        }
      },
      "source": [
        "trained_model = model.fit_generator(train_generator,\n",
        "                        epochs=epochs,\n",
        "                        steps_per_epoch=train_steps,\n",
        "                        callbacks=[checkpoint, lr_decay],\n",
        "                        validation_data=val_generator,\n",
        "                        validation_steps=val_steps,\n",
        "                        verbose=1)"
      ],
      "execution_count": 0,
      "outputs": [
        {
          "output_type": "stream",
          "text": [
            "Epoch 1/50\n",
            "WARNING:tensorflow:From /usr/local/lib/python3.6/dist-packages/tensorflow/python/ops/math_ops.py:3066: to_int32 (from tensorflow.python.ops.math_ops) is deprecated and will be removed in a future version.\n",
            "Instructions for updating:\n",
            "Use tf.cast instead.\n"
          ],
          "name": "stdout"
        },
        {
          "output_type": "stream",
          "text": [
            "/usr/local/lib/python3.6/dist-packages/tensorflow/python/ops/gradients_impl.py:110: UserWarning: Converting sparse IndexedSlices to a dense Tensor of unknown shape. This may consume a large amount of memory.\n",
            "  \"Converting sparse IndexedSlices to a dense Tensor of unknown shape. \"\n"
          ],
          "name": "stderr"
        },
        {
          "output_type": "stream",
          "text": [
            "166/166 [==============================] - 98s 593ms/step - loss: 1.6360 - custom_accuracy: 0.9857 - mean_iou: 1.0002\n",
            "\n",
            "Epoch 00001: loss improved from inf to 1.20958, saving model to epoch=01|loss=1.2096|mean_iou=1.0118.h5\n",
            "667/667 [==============================] - 644s 965ms/step - loss: 1.2096 - custom_accuracy: 0.9851 - mean_iou: 1.0118 - val_loss: 1.6360 - val_custom_accuracy: 0.9857 - val_mean_iou: 1.0002\n",
            "Epoch 2/50\n",
            "166/166 [==============================] - 98s 589ms/step - loss: 1.6043 - custom_accuracy: 0.9857 - mean_iou: 0.9997\n",
            "\n",
            "Epoch 00002: loss improved from 1.20958 to 0.66199, saving model to epoch=02|loss=0.6620|mean_iou=0.9991.h5\n",
            "667/667 [==============================] - 610s 914ms/step - loss: 0.6620 - custom_accuracy: 0.9857 - mean_iou: 0.9991 - val_loss: 1.6043 - val_custom_accuracy: 0.9857 - val_mean_iou: 0.9997\n",
            "Epoch 3/50\n",
            "166/166 [==============================] - 97s 587ms/step - loss: 1.6035 - custom_accuracy: 0.9857 - mean_iou: 0.9913\n",
            "\n",
            "Epoch 00003: loss improved from 0.66199 to 0.62514, saving model to epoch=03|loss=0.6251|mean_iou=0.9989.h5\n",
            "667/667 [==============================] - 611s 916ms/step - loss: 0.6251 - custom_accuracy: 0.9857 - mean_iou: 0.9989 - val_loss: 1.6035 - val_custom_accuracy: 0.9857 - val_mean_iou: 0.9913\n",
            "Epoch 4/50\n",
            "166/166 [==============================] - 98s 592ms/step - loss: 1.6554 - custom_accuracy: 0.9858 - mean_iou: 1.0143\n",
            "\n",
            "Epoch 00004: loss improved from 0.62514 to 0.59481, saving model to epoch=04|loss=0.5948|mean_iou=0.9980.h5\n",
            "667/667 [==============================] - 608s 911ms/step - loss: 0.5948 - custom_accuracy: 0.9857 - mean_iou: 0.9980 - val_loss: 1.6554 - val_custom_accuracy: 0.9858 - val_mean_iou: 1.0143\n",
            "Epoch 5/50\n",
            "166/166 [==============================] - 99s 594ms/step - loss: 1.5775 - custom_accuracy: 0.9858 - mean_iou: 1.0033\n",
            "\n",
            "Epoch 00005: loss improved from 0.59481 to 0.57673, saving model to epoch=05|loss=0.5767|mean_iou=nan.h5\n",
            "667/667 [==============================] - 614s 921ms/step - loss: 0.5767 - custom_accuracy: 0.9857 - mean_iou: nan - val_loss: 1.5775 - val_custom_accuracy: 0.9858 - val_mean_iou: 1.0033\n",
            "Epoch 6/50\n",
            "166/166 [==============================] - 97s 585ms/step - loss: 1.4732 - custom_accuracy: 0.9857 - mean_iou: 0.9965\n",
            "\n",
            "Epoch 00006: loss improved from 0.57673 to 0.55884, saving model to epoch=06|loss=0.5588|mean_iou=0.9979.h5\n",
            "667/667 [==============================] - 613s 919ms/step - loss: 0.5588 - custom_accuracy: 0.9857 - mean_iou: 0.9979 - val_loss: 1.4732 - val_custom_accuracy: 0.9857 - val_mean_iou: 0.9965\n",
            "Epoch 7/50\n",
            "166/166 [==============================] - 97s 586ms/step - loss: 1.2823 - custom_accuracy: 0.9858 - mean_iou: 0.9896\n",
            "\n",
            "Epoch 00007: loss improved from 0.55884 to 0.53841, saving model to epoch=07|loss=0.5384|mean_iou=0.9956.h5\n",
            "667/667 [==============================] - 617s 925ms/step - loss: 0.5384 - custom_accuracy: 0.9857 - mean_iou: 0.9956 - val_loss: 1.2823 - val_custom_accuracy: 0.9858 - val_mean_iou: 0.9896\n",
            "Epoch 8/50\n",
            "166/166 [==============================] - 99s 594ms/step - loss: 1.0434 - custom_accuracy: 0.9857 - mean_iou: 0.9855\n",
            "\n",
            "Epoch 00008: loss improved from 0.53841 to 0.52544, saving model to epoch=08|loss=0.5254|mean_iou=0.9959.h5\n",
            "667/667 [==============================] - 618s 927ms/step - loss: 0.5254 - custom_accuracy: 0.9857 - mean_iou: 0.9959 - val_loss: 1.0434 - val_custom_accuracy: 0.9857 - val_mean_iou: 0.9855\n",
            "Epoch 9/50\n",
            "166/166 [==============================] - 97s 582ms/step - loss: 0.8220 - custom_accuracy: 0.9857 - mean_iou: 0.9803\n",
            "\n",
            "Epoch 00009: loss improved from 0.52544 to 0.51854, saving model to epoch=09|loss=0.5185|mean_iou=nan.h5\n",
            "667/667 [==============================] - 616s 923ms/step - loss: 0.5185 - custom_accuracy: 0.9857 - mean_iou: nan - val_loss: 0.8220 - val_custom_accuracy: 0.9857 - val_mean_iou: 0.9803\n",
            "Epoch 10/50\n",
            "166/166 [==============================] - 98s 590ms/step - loss: 0.6328 - custom_accuracy: 0.9858 - mean_iou: 0.9844\n",
            "\n",
            "Epoch 00010: loss improved from 0.51854 to 0.50182, saving model to epoch=10|loss=0.5018|mean_iou=0.9950.h5\n",
            "667/667 [==============================] - 616s 923ms/step - loss: 0.5018 - custom_accuracy: 0.9858 - mean_iou: 0.9950 - val_loss: 0.6328 - val_custom_accuracy: 0.9858 - val_mean_iou: 0.9844\n",
            "Epoch 11/50\n",
            "166/166 [==============================] - 97s 586ms/step - loss: 0.6287 - custom_accuracy: 0.9857 - mean_iou: 0.9939\n",
            "\n",
            "Epoch 00011: loss improved from 0.50182 to 0.49507, saving model to epoch=11|loss=0.4951|mean_iou=0.9944.h5\n",
            "667/667 [==============================] - 618s 926ms/step - loss: 0.4951 - custom_accuracy: 0.9857 - mean_iou: 0.9944 - val_loss: 0.6287 - val_custom_accuracy: 0.9857 - val_mean_iou: 0.9939\n",
            "Epoch 12/50\n",
            "166/166 [==============================] - 96s 580ms/step - loss: 0.5860 - custom_accuracy: 0.9857 - mean_iou: 0.9915\n",
            "\n",
            "Epoch 00012: loss improved from 0.49507 to 0.49168, saving model to epoch=12|loss=0.4917|mean_iou=0.9953.h5\n",
            "667/667 [==============================] - 613s 920ms/step - loss: 0.4917 - custom_accuracy: 0.9858 - mean_iou: 0.9953 - val_loss: 0.5860 - val_custom_accuracy: 0.9857 - val_mean_iou: 0.9915\n",
            "Epoch 13/50\n",
            "166/166 [==============================] - 97s 583ms/step - loss: 0.5467 - custom_accuracy: 0.9860 - mean_iou: 0.9894\n",
            "\n",
            "Epoch 00013: loss improved from 0.49168 to 0.47869, saving model to epoch=13|loss=0.4787|mean_iou=0.9949.h5\n",
            "667/667 [==============================] - 613s 918ms/step - loss: 0.4787 - custom_accuracy: 0.9857 - mean_iou: 0.9949 - val_loss: 0.5467 - val_custom_accuracy: 0.9860 - val_mean_iou: 0.9894\n",
            "Epoch 14/50\n",
            "166/166 [==============================] - 93s 561ms/step - loss: 0.6184 - custom_accuracy: 0.9858 - mean_iou: 0.9933\n",
            "\n",
            "Epoch 00014: loss improved from 0.47869 to 0.46922, saving model to epoch=14|loss=0.4692|mean_iou=0.9952.h5\n",
            "667/667 [==============================] - 604s 905ms/step - loss: 0.4692 - custom_accuracy: 0.9858 - mean_iou: 0.9952 - val_loss: 0.6184 - val_custom_accuracy: 0.9858 - val_mean_iou: 0.9933\n",
            "Epoch 15/50\n",
            "166/166 [==============================] - 95s 574ms/step - loss: 0.5580 - custom_accuracy: 0.9861 - mean_iou: 0.9870\n",
            "\n",
            "Epoch 00015: loss improved from 0.46922 to 0.46137, saving model to epoch=15|loss=0.4614|mean_iou=0.9948.h5\n",
            "667/667 [==============================] - 617s 925ms/step - loss: 0.4614 - custom_accuracy: 0.9859 - mean_iou: 0.9948 - val_loss: 0.5580 - val_custom_accuracy: 0.9861 - val_mean_iou: 0.9870\n",
            "Epoch 16/50\n",
            "166/166 [==============================] - 105s 630ms/step - loss: 0.5394 - custom_accuracy: 0.9859 - mean_iou: 0.9929\n",
            "\n",
            "Epoch 00016: loss improved from 0.46137 to 0.44691, saving model to epoch=16|loss=0.4469|mean_iou=0.9938.h5\n",
            "667/667 [==============================] - 657s 985ms/step - loss: 0.4469 - custom_accuracy: 0.9859 - mean_iou: 0.9938 - val_loss: 0.5394 - val_custom_accuracy: 0.9859 - val_mean_iou: 0.9929\n",
            "Epoch 17/50\n",
            "166/166 [==============================] - 106s 637ms/step - loss: 0.5312 - custom_accuracy: 0.9860 - mean_iou: 0.9914\n",
            "\n",
            "Epoch 00017: loss improved from 0.44691 to 0.43889, saving model to epoch=17|loss=0.4389|mean_iou=0.9948.h5\n",
            "667/667 [==============================] - 653s 979ms/step - loss: 0.4389 - custom_accuracy: 0.9859 - mean_iou: 0.9948 - val_loss: 0.5312 - val_custom_accuracy: 0.9860 - val_mean_iou: 0.9914\n",
            "Epoch 18/50\n",
            "166/166 [==============================] - 106s 639ms/step - loss: 0.5312 - custom_accuracy: 0.9859 - mean_iou: 0.9966\n",
            "\n",
            "Epoch 00018: loss improved from 0.43889 to 0.41748, saving model to epoch=18|loss=0.4175|mean_iou=0.9948.h5\n",
            "667/667 [==============================] - 658s 986ms/step - loss: 0.4175 - custom_accuracy: 0.9859 - mean_iou: 0.9948 - val_loss: 0.5312 - val_custom_accuracy: 0.9859 - val_mean_iou: 0.9966\n",
            "Epoch 19/50\n",
            "166/166 [==============================] - 107s 644ms/step - loss: 0.5397 - custom_accuracy: 0.9861 - mean_iou: 0.9960\n",
            "\n",
            "Epoch 00019: loss improved from 0.41748 to 0.40982, saving model to epoch=19|loss=0.4098|mean_iou=0.9948.h5\n",
            "667/667 [==============================] - 656s 984ms/step - loss: 0.4098 - custom_accuracy: 0.9860 - mean_iou: 0.9948 - val_loss: 0.5397 - val_custom_accuracy: 0.9861 - val_mean_iou: 0.9960\n",
            "Epoch 20/50\n",
            "166/166 [==============================] - 107s 644ms/step - loss: 0.5114 - custom_accuracy: 0.9862 - mean_iou: 0.9901\n",
            "\n",
            "Epoch 00020: loss improved from 0.40982 to 0.38965, saving model to epoch=20|loss=0.3897|mean_iou=0.9950.h5\n",
            "667/667 [==============================] - 652s 978ms/step - loss: 0.3897 - custom_accuracy: 0.9861 - mean_iou: 0.9950 - val_loss: 0.5114 - val_custom_accuracy: 0.9862 - val_mean_iou: 0.9901\n",
            "Epoch 21/50\n",
            "166/166 [==============================] - 105s 634ms/step - loss: 0.5572 - custom_accuracy: 0.9860 - mean_iou: 0.9901\n",
            "\n",
            "Epoch 00021: loss improved from 0.38965 to 0.37514, saving model to epoch=21|loss=0.3751|mean_iou=0.9955.h5\n",
            "667/667 [==============================] - 652s 978ms/step - loss: 0.3751 - custom_accuracy: 0.9861 - mean_iou: 0.9955 - val_loss: 0.5572 - val_custom_accuracy: 0.9860 - val_mean_iou: 0.9901\n",
            "Epoch 22/50\n",
            "166/166 [==============================] - 106s 636ms/step - loss: 0.5153 - custom_accuracy: 0.9862 - mean_iou: 0.9909\n",
            "\n",
            "Epoch 00022: loss improved from 0.37514 to 0.36302, saving model to epoch=22|loss=0.3630|mean_iou=0.9957.h5\n",
            "667/667 [==============================] - 653s 979ms/step - loss: 0.3630 - custom_accuracy: 0.9861 - mean_iou: 0.9957 - val_loss: 0.5153 - val_custom_accuracy: 0.9862 - val_mean_iou: 0.9909\n",
            "Epoch 23/50\n",
            "166/166 [==============================] - 106s 636ms/step - loss: 0.4980 - custom_accuracy: 0.9861 - mean_iou: 0.9912\n",
            "\n",
            "Epoch 00023: loss improved from 0.36302 to 0.34428, saving model to epoch=23|loss=0.3443|mean_iou=0.9961.h5\n",
            "667/667 [==============================] - 654s 981ms/step - loss: 0.3443 - custom_accuracy: 0.9862 - mean_iou: 0.9961 - val_loss: 0.4980 - val_custom_accuracy: 0.9861 - val_mean_iou: 0.9912\n",
            "Epoch 24/50\n",
            "166/166 [==============================] - 105s 635ms/step - loss: 0.4931 - custom_accuracy: 0.9863 - mean_iou: 0.9910\n",
            "\n",
            "Epoch 00024: loss improved from 0.34428 to 0.32694, saving model to epoch=24|loss=0.3269|mean_iou=nan.h5\n",
            "667/667 [==============================] - 652s 977ms/step - loss: 0.3269 - custom_accuracy: 0.9863 - mean_iou: nan - val_loss: 0.4931 - val_custom_accuracy: 0.9863 - val_mean_iou: 0.9910\n",
            "Epoch 25/50\n",
            "166/166 [==============================] - 95s 571ms/step - loss: 0.5048 - custom_accuracy: 0.9862 - mean_iou: 0.9907\n",
            "\n",
            "Epoch 00025: loss improved from 0.32694 to 0.31456, saving model to epoch=25|loss=0.3146|mean_iou=nan.h5\n",
            "667/667 [==============================] - 614s 920ms/step - loss: 0.3146 - custom_accuracy: 0.9863 - mean_iou: nan - val_loss: 0.5048 - val_custom_accuracy: 0.9862 - val_mean_iou: 0.9907\n",
            "Epoch 26/50\n",
            "166/166 [==============================] - 98s 593ms/step - loss: 0.5111 - custom_accuracy: 0.9862 - mean_iou: 0.9918\n",
            "\n",
            "Epoch 00026: loss improved from 0.31456 to 0.30083, saving model to epoch=26|loss=0.3008|mean_iou=0.9962.h5\n",
            "667/667 [==============================] - 616s 923ms/step - loss: 0.3008 - custom_accuracy: 0.9864 - mean_iou: 0.9962 - val_loss: 0.5111 - val_custom_accuracy: 0.9862 - val_mean_iou: 0.9918\n",
            "Epoch 27/50\n",
            "166/166 [==============================] - 98s 590ms/step - loss: 0.4973 - custom_accuracy: 0.9862 - mean_iou: 0.9917\n",
            "\n",
            "Epoch 00027: loss improved from 0.30083 to 0.28508, saving model to epoch=27|loss=0.2851|mean_iou=0.9969.h5\n",
            "667/667 [==============================] - 623s 934ms/step - loss: 0.2851 - custom_accuracy: 0.9865 - mean_iou: 0.9969 - val_loss: 0.4973 - val_custom_accuracy: 0.9862 - val_mean_iou: 0.9917\n",
            "Epoch 28/50\n",
            "166/166 [==============================] - 97s 582ms/step - loss: 0.5094 - custom_accuracy: 0.9861 - mean_iou: 0.9924\n",
            "\n",
            "Epoch 00028: loss improved from 0.28508 to 0.27412, saving model to epoch=28|loss=0.2741|mean_iou=0.9964.h5\n",
            "667/667 [==============================] - 627s 939ms/step - loss: 0.2741 - custom_accuracy: 0.9866 - mean_iou: 0.9964 - val_loss: 0.5094 - val_custom_accuracy: 0.9861 - val_mean_iou: 0.9924\n",
            "Epoch 29/50\n",
            "166/166 [==============================] - 97s 586ms/step - loss: 0.5102 - custom_accuracy: 0.9862 - mean_iou: 0.9917\n",
            "\n",
            "Epoch 00029: loss improved from 0.27412 to 0.26504, saving model to epoch=29|loss=0.2650|mean_iou=nan.h5\n",
            "667/667 [==============================] - 621s 930ms/step - loss: 0.2650 - custom_accuracy: 0.9866 - mean_iou: nan - val_loss: 0.5102 - val_custom_accuracy: 0.9862 - val_mean_iou: 0.9917\n",
            "Epoch 30/50\n",
            "166/166 [==============================] - 96s 580ms/step - loss: 0.4935 - custom_accuracy: 0.9864 - mean_iou: 0.9916\n",
            "\n",
            "Epoch 00030: loss improved from 0.26504 to 0.25096, saving model to epoch=30|loss=0.2510|mean_iou=0.9973.h5\n",
            "667/667 [==============================] - 622s 933ms/step - loss: 0.2510 - custom_accuracy: 0.9868 - mean_iou: 0.9973 - val_loss: 0.4935 - val_custom_accuracy: 0.9864 - val_mean_iou: 0.9916\n",
            "Epoch 31/50\n",
            "166/166 [==============================] - 96s 578ms/step - loss: 0.4985 - custom_accuracy: 0.9863 - mean_iou: 0.9932\n",
            "\n",
            "Epoch 00031: loss improved from 0.25096 to 0.24230, saving model to epoch=31|loss=0.2423|mean_iou=0.9973.h5\n",
            "667/667 [==============================] - 622s 932ms/step - loss: 0.2423 - custom_accuracy: 0.9869 - mean_iou: 0.9973 - val_loss: 0.4985 - val_custom_accuracy: 0.9863 - val_mean_iou: 0.9932\n",
            "Epoch 32/50\n",
            "166/166 [==============================] - 95s 572ms/step - loss: 0.4992 - custom_accuracy: 0.9863 - mean_iou: 0.9927\n",
            "\n",
            "Epoch 00032: loss improved from 0.24230 to 0.22928, saving model to epoch=32|loss=0.2293|mean_iou=0.9976.h5\n",
            "667/667 [==============================] - 617s 925ms/step - loss: 0.2293 - custom_accuracy: 0.9870 - mean_iou: 0.9976 - val_loss: 0.4992 - val_custom_accuracy: 0.9863 - val_mean_iou: 0.9927\n",
            "Epoch 33/50\n",
            "166/166 [==============================] - 94s 569ms/step - loss: 0.4855 - custom_accuracy: 0.9862 - mean_iou: 0.9907\n",
            "\n",
            "Epoch 00033: loss improved from 0.22928 to 0.21918, saving model to epoch=33|loss=0.2192|mean_iou=0.9980.h5\n",
            "667/667 [==============================] - 611s 916ms/step - loss: 0.2192 - custom_accuracy: 0.9870 - mean_iou: 0.9980 - val_loss: 0.4855 - val_custom_accuracy: 0.9862 - val_mean_iou: 0.9907\n",
            "Epoch 34/50\n",
            "166/166 [==============================] - 94s 568ms/step - loss: 0.4933 - custom_accuracy: 0.9863 - mean_iou: 0.9919\n",
            "\n",
            "Epoch 00034: loss improved from 0.21918 to 0.20760, saving model to epoch=34|loss=0.2076|mean_iou=0.9980.h5\n",
            "667/667 [==============================] - 611s 916ms/step - loss: 0.2076 - custom_accuracy: 0.9871 - mean_iou: 0.9980 - val_loss: 0.4933 - val_custom_accuracy: 0.9863 - val_mean_iou: 0.9919\n",
            "Epoch 35/50\n",
            "166/166 [==============================] - 95s 570ms/step - loss: 0.4896 - custom_accuracy: 0.9864 - mean_iou: 0.9906\n",
            "\n",
            "Epoch 00035: loss improved from 0.20760 to 0.20027, saving model to epoch=35|loss=0.2003|mean_iou=nan.h5\n",
            "667/667 [==============================] - 608s 912ms/step - loss: 0.2003 - custom_accuracy: 0.9873 - mean_iou: nan - val_loss: 0.4896 - val_custom_accuracy: 0.9864 - val_mean_iou: 0.9906\n",
            "Epoch 36/50\n",
            "166/166 [==============================] - 94s 566ms/step - loss: 0.4862 - custom_accuracy: 0.9862 - mean_iou: 0.9925\n",
            "\n",
            "Epoch 00036: loss improved from 0.20027 to 0.18930, saving model to epoch=36|loss=0.1893|mean_iou=0.9984.h5\n",
            "667/667 [==============================] - 607s 911ms/step - loss: 0.1893 - custom_accuracy: 0.9875 - mean_iou: 0.9984 - val_loss: 0.4862 - val_custom_accuracy: 0.9862 - val_mean_iou: 0.9925\n",
            "Epoch 37/50\n",
            "166/166 [==============================] - 94s 568ms/step - loss: 0.4868 - custom_accuracy: 0.9861 - mean_iou: 0.9924\n",
            "\n",
            "Epoch 00037: loss improved from 0.18930 to 0.18190, saving model to epoch=37|loss=0.1819|mean_iou=0.9982.h5\n",
            "667/667 [==============================] - 608s 912ms/step - loss: 0.1819 - custom_accuracy: 0.9877 - mean_iou: 0.9982 - val_loss: 0.4868 - val_custom_accuracy: 0.9861 - val_mean_iou: 0.9924\n",
            "Epoch 38/50\n",
            "166/166 [==============================] - 94s 566ms/step - loss: 0.4905 - custom_accuracy: 0.9862 - mean_iou: nan\n",
            "\n",
            "Epoch 00038: loss improved from 0.18190 to 0.17232, saving model to epoch=38|loss=0.1723|mean_iou=0.9981.h5\n",
            "667/667 [==============================] - 606s 908ms/step - loss: 0.1723 - custom_accuracy: 0.9877 - mean_iou: 0.9981 - val_loss: 0.4905 - val_custom_accuracy: 0.9862 - val_mean_iou: nan\n",
            "Epoch 39/50\n",
            "166/166 [==============================] - 94s 564ms/step - loss: 0.4846 - custom_accuracy: 0.9860 - mean_iou: 0.9901\n",
            "\n",
            "Epoch 00039: loss improved from 0.17232 to 0.16364, saving model to epoch=39|loss=0.1636|mean_iou=nan.h5\n",
            "667/667 [==============================] - 608s 912ms/step - loss: 0.1636 - custom_accuracy: 0.9879 - mean_iou: nan - val_loss: 0.4846 - val_custom_accuracy: 0.9860 - val_mean_iou: 0.9901\n",
            "Epoch 40/50\n",
            "166/166 [==============================] - 93s 560ms/step - loss: 0.4837 - custom_accuracy: 0.9862 - mean_iou: 0.9910\n",
            "\n",
            "Epoch 00040: loss improved from 0.16364 to 0.15525, saving model to epoch=40|loss=0.1553|mean_iou=0.9985.h5\n",
            "667/667 [==============================] - 605s 907ms/step - loss: 0.1553 - custom_accuracy: 0.9881 - mean_iou: 0.9985 - val_loss: 0.4837 - val_custom_accuracy: 0.9862 - val_mean_iou: 0.9910\n",
            "Epoch 41/50\n",
            "166/166 [==============================] - 95s 570ms/step - loss: 0.4856 - custom_accuracy: 0.9861 - mean_iou: 0.9914\n",
            "\n",
            "Epoch 00041: loss improved from 0.15525 to 0.14682, saving model to epoch=41|loss=0.1468|mean_iou=0.9987.h5\n",
            "667/667 [==============================] - 611s 915ms/step - loss: 0.1468 - custom_accuracy: 0.9882 - mean_iou: 0.9987 - val_loss: 0.4856 - val_custom_accuracy: 0.9861 - val_mean_iou: 0.9914\n",
            "Epoch 42/50\n",
            "166/166 [==============================] - 96s 581ms/step - loss: 0.4854 - custom_accuracy: 0.9861 - mean_iou: 0.9914\n",
            "\n",
            "Epoch 00042: loss improved from 0.14682 to 0.14014, saving model to epoch=42|loss=0.1401|mean_iou=0.9987.h5\n",
            "667/667 [==============================] - 616s 924ms/step - loss: 0.1401 - custom_accuracy: 0.9883 - mean_iou: 0.9987 - val_loss: 0.4854 - val_custom_accuracy: 0.9861 - val_mean_iou: 0.9914\n",
            "Epoch 43/50\n",
            "166/166 [==============================] - 93s 562ms/step - loss: 0.4812 - custom_accuracy: 0.9860 - mean_iou: 0.9917\n",
            "\n",
            "Epoch 00043: loss improved from 0.14014 to 0.13173, saving model to epoch=43|loss=0.1317|mean_iou=0.9989.h5\n",
            "667/667 [==============================] - 613s 919ms/step - loss: 0.1317 - custom_accuracy: 0.9885 - mean_iou: 0.9989 - val_loss: 0.4812 - val_custom_accuracy: 0.9860 - val_mean_iou: 0.9917\n",
            "Epoch 44/50\n",
            "166/166 [==============================] - 96s 581ms/step - loss: 0.4782 - custom_accuracy: 0.9858 - mean_iou: 0.9912\n",
            "\n",
            "Epoch 00044: loss improved from 0.13173 to 0.12265, saving model to epoch=44|loss=0.1227|mean_iou=0.9990.h5\n",
            "667/667 [==============================] - 613s 919ms/step - loss: 0.1227 - custom_accuracy: 0.9888 - mean_iou: 0.9990 - val_loss: 0.4782 - val_custom_accuracy: 0.9858 - val_mean_iou: 0.9912\n",
            "Epoch 45/50\n",
            "166/166 [==============================] - 97s 586ms/step - loss: 0.4824 - custom_accuracy: 0.9861 - mean_iou: 0.9909\n",
            "\n",
            "Epoch 00045: loss improved from 0.12265 to 0.11457, saving model to epoch=45|loss=0.1146|mean_iou=0.9990.h5\n",
            "667/667 [==============================] - 620s 930ms/step - loss: 0.1146 - custom_accuracy: 0.9889 - mean_iou: 0.9990 - val_loss: 0.4824 - val_custom_accuracy: 0.9861 - val_mean_iou: 0.9909\n",
            "Epoch 46/50\n",
            "166/166 [==============================] - 96s 579ms/step - loss: 0.4805 - custom_accuracy: 0.9861 - mean_iou: 0.9913\n",
            "\n",
            "Epoch 00046: loss improved from 0.11457 to 0.10836, saving model to epoch=46|loss=0.1084|mean_iou=0.9991.h5\n",
            "667/667 [==============================] - 617s 925ms/step - loss: 0.1084 - custom_accuracy: 0.9892 - mean_iou: 0.9991 - val_loss: 0.4805 - val_custom_accuracy: 0.9861 - val_mean_iou: 0.9913\n",
            "Epoch 47/50\n",
            "166/166 [==============================] - 98s 590ms/step - loss: 0.4808 - custom_accuracy: 0.9861 - mean_iou: 0.9915\n",
            "\n",
            "Epoch 00047: loss improved from 0.10836 to 0.10227, saving model to epoch=47|loss=0.1023|mean_iou=nan.h5\n",
            "667/667 [==============================] - 618s 927ms/step - loss: 0.1023 - custom_accuracy: 0.9893 - mean_iou: nan - val_loss: 0.4808 - val_custom_accuracy: 0.9861 - val_mean_iou: 0.9915\n",
            "Epoch 48/50\n",
            "166/166 [==============================] - 97s 586ms/step - loss: 0.4795 - custom_accuracy: 0.9860 - mean_iou: 0.9897\n",
            "\n",
            "Epoch 00048: loss improved from 0.10227 to 0.09496, saving model to epoch=48|loss=0.0950|mean_iou=0.9993.h5\n",
            "667/667 [==============================] - 615s 923ms/step - loss: 0.0950 - custom_accuracy: 0.9894 - mean_iou: 0.9993 - val_loss: 0.4795 - val_custom_accuracy: 0.9860 - val_mean_iou: 0.9897\n",
            "Epoch 49/50\n",
            "166/166 [==============================] - 98s 587ms/step - loss: 0.4788 - custom_accuracy: 0.9861 - mean_iou: 0.9911\n",
            "\n",
            "Epoch 00049: loss improved from 0.09496 to 0.08859, saving model to epoch=49|loss=0.0886|mean_iou=nan.h5\n",
            "667/667 [==============================] - 616s 924ms/step - loss: 0.0886 - custom_accuracy: 0.9896 - mean_iou: nan - val_loss: 0.4788 - val_custom_accuracy: 0.9861 - val_mean_iou: 0.9911\n",
            "Epoch 50/50\n",
            "166/166 [==============================] - 96s 581ms/step - loss: 0.4780 - custom_accuracy: 0.9861 - mean_iou: 0.9909\n",
            "\n",
            "Epoch 00050: loss improved from 0.08859 to 0.08462, saving model to epoch=50|loss=0.0846|mean_iou=0.9992.h5\n",
            "667/667 [==============================] - 621s 930ms/step - loss: 0.0846 - custom_accuracy: 0.9897 - mean_iou: 0.9992 - val_loss: 0.4780 - val_custom_accuracy: 0.9861 - val_mean_iou: 0.9909\n"
          ],
          "name": "stdout"
        }
      ]
    },
    {
      "cell_type": "code",
      "metadata": {
        "id": "qMt-hhtWS_Mj",
        "colab_type": "code",
        "colab": {}
      },
      "source": [
        "def plot_validation_training(metric, trained_model):\n",
        "  validation_metric = trained_model.history[f'val_{metric}']\n",
        "  training_metric = trained_model.history[metric]\n",
        "  epochs = range(len(training_metric))\n",
        "  plt.plot(epochs, training_metric, 'b', label=f'Training {metric}')\n",
        "  plt.plot(epochs, validation_metric, 'r', label=f'Validation {metric}')\n",
        "  plt.ylim(bottom=0)\n",
        "  plt.xlabel('Epochs ', fontsize=16)\n",
        "  plt.ylabel(metric, fontsize=16)\n",
        "  loc = 'upper right' if metric == \"loss\" else 'lower right'\n",
        "  plt.legend(loc=loc)\n",
        "  plt.title(f'Training and validation {metric}', fontsize = 20)\n",
        "  plt.show()"
      ],
      "execution_count": 0,
      "outputs": []
    },
    {
      "cell_type": "code",
      "metadata": {
        "id": "7Gx8yJFPTCnE",
        "colab_type": "code",
        "outputId": "b4bf968d-3401-4508-dbdb-03b01b2c38d5",
        "colab": {
          "base_uri": "https://localhost:8080/",
          "height": 305
        }
      },
      "source": [
        "plot_validation_training(\"loss\", trained_model)"
      ],
      "execution_count": 0,
      "outputs": [
        {
          "output_type": "display_data",
          "data": {
            "image/png": "iVBORw0KGgoAAAANSUhEUgAAAYoAAAEgCAYAAACq+TSYAAAABHNCSVQICAgIfAhkiAAAAAlwSFlz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\n",
            "text/plain": [
              "<Figure size 432x288 with 1 Axes>"
            ]
          },
          "metadata": {
            "tags": []
          }
        }
      ]
    },
    {
      "cell_type": "code",
      "metadata": {
        "id": "mEFaEhLkTJi8",
        "colab_type": "code",
        "outputId": "e853526e-8394-4b54-8d45-7f1eeae9525b",
        "colab": {
          "base_uri": "https://localhost:8080/",
          "height": 305
        }
      },
      "source": [
        "plot_validation_training(\"custom_accuracy\", trained_model)"
      ],
      "execution_count": 0,
      "outputs": [
        {
          "output_type": "display_data",
          "data": {
            "image/png": "iVBORw0KGgoAAAANSUhEUgAAAa4AAAEgCAYAAADsT5cyAAAABHNCSVQICAgIfAhkiAAAAAlwSFlz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