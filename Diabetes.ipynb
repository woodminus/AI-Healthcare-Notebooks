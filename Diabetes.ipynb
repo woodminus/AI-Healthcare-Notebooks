
{
  "nbformat": 4,
  "nbformat_minor": 0,
  "metadata": {
    "colab": {
      "name": "Diabetes.ipynb",
      "version": "0.3.2",
      "provenance": [],
      "collapsed_sections": []
    },
    "kernelspec": {
      "name": "python3",
      "display_name": "Python 3"
    }
  },
  "cells": [
    {
      "metadata": {
        "id": "JJeZk_WtVZWm",
        "colab_type": "code",
        "colab": {}
      },
      "cell_type": "code",
      "source": [
        "import pandas as pd\n",
        "import numpy as np\n",
        "import matplotlib.pyplot as plt\n",
        "import seaborn as sns"
      ],
      "execution_count": 0,
      "outputs": []
    },
    {
      "metadata": {
        "id": "Nq3h0NDVYwIq",
        "colab_type": "code",
        "colab": {}
      },
      "cell_type": "code",
      "source": [
        "dataset = pd.read_csv(\"./diabetes.csv\")"
      ],
      "execution_count": 0,
      "outputs": []
    },
    {
      "metadata": {
        "id": "EanLqzvIZAoV",
        "colab_type": "code",
        "outputId": "586991f3-7c89-4b6f-e4eb-781781328380",
        "colab": {
          "base_uri": "https://localhost:8080/",
          "height": 204
        }
      },
      "cell_type": "code",
      "source": [
        "dataset.head()"
      ],
      "execution_count": 3,
      "outputs": [
        {
          "output_type": "execute_result",
          "data": {
            "text/html": [
              "<div>\n",
              "<style scoped>\n",
              "    .dataframe tbody tr th:only-of-type {\n",
              "        vertical-align: middle;\n",
              "    }\n",
              "\n",
              "    .dataframe tbody tr th {\n",
              "        vertical-align: top;\n",
              "    }\n",
              "\n",
              "    .dataframe thead th {\n",
              "        text-align: right;\n",
              "    }\n",
              "</style>\n",
              "<table border=\"1\" class=\"dataframe\">\n",
              "  <thead>\n",
              "    <tr style=\"text-align: right;\">\n",
              "      <th></th>\n",
              "      <th>Pregnancies</th>\n",
              "      <th>Glucose</th>\n",
              "      <th>BloodPressure</th>\n",
              "      <th>SkinThickness</th>\n",
              "      <th>Insulin</th>\n",
              "      <th>BMI</th>\n",
              "      <th>DiabetesPedigreeFunction</th>\n",
              "      <th>Age</th>\n",
              "      <th>Outcome</th>\n",
              "    </tr>\n",
              "  </thead>\n",
              "  <tbody>\n",
              "    <tr>\n",
              "      <th>0</th>\n",
              "      <td>6</td>\n",
              "      <td>148</td>\n",
              "      <td>72</td>\n",
              "      <td>35</td>\n",
              "      <td>0</td>\n",
              "      <td>33.6</td>\n",
              "      <td>0.627</td>\n",
              "      <td>50</td>\n",
              "      <td>1</td>\n",
              "    </tr>\n",
              "    <tr>\n",
              "      <th>1</th>\n",
              "      <td>1</td>\n",
              "      <td>85</td>\n",
              "      <td>66</td>\n",
              "      <td>29</td>\n",
              "      <td>0</td>\n",
              "      <td>26.6</td>\n",
              "      <td>0.351</td>\n",
              "      <td>31</td>\n",
              "      <td>0</td>\n",
              "    </tr>\n",
              "    <tr>\n",
              "      <th>2</th>\n",
              "      <td>8</td>\n",
              "      <td>183</td>\n",
              "      <td>64</td>\n",
              "      <td>0</td>\n",
              "      <td>0</td>\n",
              "      <td>23.3</td>\n",
              "      <td>0.672</td>\n",
              "      <td>32</td>\n",
              "      <td>1</td>\n",
              "    </tr>\n",
              "    <tr>\n",
              "      <th>3</th>\n",
              "      <td>1</td>\n",
              "      <td>89</td>\n",
              "      <td>66</td>\n",
              "      <td>23</td>\n",
              "      <td>94</td>\n",
              "      <td>28.1</td>\n",
              "      <td>0.167</td>\n",
              "      <td>21</td>\n",
              "      <td>0</td>\n",
              "    </tr>\n",
              "    <tr>\n",
              "      <th>4</th>\n",
              "      <td>0</td>\n",
              "      <td>137</td>\n",
              "      <td>40</td>\n",
              "      <td>35</td>\n",
              "      <td>168</td>\n",
              "      <td>43.1</td>\n",
              "      <td>2.288</td>\n",
              "      <td>33</td>\n",
              "      <td>1</td>\n",
              "    </tr>\n",
              "  </tbody>\n",
              "</table>\n",
              "</div>"
            ],
            "text/plain": [
              "   Pregnancies  Glucose  BloodPressure  SkinThickness  Insulin   BMI  \\\n",
              "0            6      148             72             35        0  33.6   \n",
              "1            1       85             66             29        0  26.6   \n",
              "2            8      183             64              0        0  23.3   \n",
              "3            1       89             66             23       94  28.1   \n",
              "4            0      137             40             35      168  43.1   \n",
              "\n",
              "   DiabetesPedigreeFunction  Age  Outcome  \n",
              "0                     0.627   50        1  \n",
              "1                     0.351   31        0  \n",
              "2                     0.672   32        1  \n",
              "3                     0.167   21        0  \n",
              "4                     2.288   33        1  "
            ]
          },
          "metadata": {
            "tags": []
          },
          "execution_count": 3
        }
      ]
    },
    {
      "metadata": {
        "id": "Ofr6g7QXZvjn",
        "colab_type": "code",
        "outputId": "1cadea2c-43bf-486f-b4f8-836b5490d789",
        "colab": {
          "base_uri": "https://localhost:8080/",
          "height": 34
        }
      },
      "cell_type": "code",
      "source": [
        "dataset.shape"
      ],
      "execution_count": 4,
      "outputs": [
        {
          "output_type": "execute_result",
          "data": {
            "text/plain": [
              "(768, 9)"
            ]
          },
          "metadata": {
            "tags": []
          },
          "execution_count": 4
        }
      ]
    },
    {
      "metadata": {
        "id": "Voomsyw-ZfOU",
        "colab_type": "code",
        "outputId": "16ef4ce6-27d8-48a7-8067-13f802f6400b",
        "colab": {
          "base_uri": "https://localhost:8080/",
          "height": 187
        }
      },
      "cell_type": "code",
      "source": [
        "dataset.count()"
      ],
      "execution_count": 5,
      "outputs": [
        {
          "output_type": "execute_result",
          "data": {
            "text/plain": [
              "Pregnancies                 768\n",
              "Glucose                     768\n",
              "BloodPressure               768\n",
              "SkinThickness               768\n",
              "Insulin                     768\n",
              "BMI                         768\n",
              "DiabetesPedigreeFunction    768\n",
              "Age                         768\n",
              "Outcome                     768\n",
              "dtype: int64"
            ]
          },
          "metadata": {
            "tags": []
          },
          "execution_count": 5
        }
      ]
    },
    {
      "metadata": {
        "id": "kK0q5LjnZH80",
        "colab_type": "code",
        "outputId": "9e41d813-8a0b-41b5-bae4-f4deef05876d",
        "colab": {
          "base_uri": "https://localhost:8080/",
          "height": 187
        }
      },
      "cell_type": "code",
      "source": [
        "dataset.isnull().sum()"
      ],
      "execution_count": 0,
      "outputs": [
        {
          "output_type": "execute_result",
          "data": {
            "text/plain": [
              "Pregnancies                 0\n",
              "Glucose                     0\n",
              "BloodPressure               0\n",
              "SkinThickness               0\n",
              "Insulin                     0\n",
              "BMI                         0\n",
              "DiabetesPedigreeFunction    0\n",
              "Age                         0\n",
              "Outcome                     0\n",
              "dtype: int64"
            ]
          },
          "metadata": {
            "tags": []
          },
          "execution_count": 133
        }
      ]
    },
    {
      "metadata": {
        "id": "1ED54Z3s3108",
        "colab_type": "code",
        "outputId": "1281d06d-e312-49d8-d9d3-391dc5ac86b1",
        "colab": {
          "base_uri": "https://localhost:8080/",
          "height": 187
        }
      },
      "cell_type": "code",
      "source": [
        "dataset.isna().sum()"
      ],
      "execution_count": 0,
      "outputs": [
        {
          "output_type": "execute_result",
          "data": {
            "text/plain": [
              "Pregnancies                 0\n",
              "Glucose                     0\n",
              "BloodPressure               0\n",
              "SkinThickness               0\n",
              "Insulin                     0\n",
              "BMI                         0\n",
              "DiabetesPedigreeFunction    0\n",
              "Age                         0\n",
              "Outcome                     0\n",
              "dtype: int64"
            ]
          },
          "metadata": {
            "tags": []
          },
          "execution_count": 134
        }
      ]
    },
    {
      "metadata": {
        "id": "FG9Del_PYwLb",
        "colab_type": "code",
        "outputId": "a85b5996-67d4-4708-b466-0715d31143a9",
        "colab": {
          "base_uri": "https://localhost:8080/",
          "height": 591
        }
      },
      "cell_type": "code",
      "source": [
        "sns.heatmap(dataset.corr(), annot=True, cmap='RdYlGn', linewidths=0.2)\n",
        "figure = plt.gcf()\n",
        "figure.set_size_inches(10, 8)\n",
        "plt.show()"
      ],
      "execution_count": 0,
      "outputs": [
        {
          "output_type": "display_data",
          "data": {
            "image/png": "[encoded data removed]",
            "text/plain": [
              "<Figure size 720x576 with 2 Axes>"
            ]
          },
          "metadata": {
            "tags": []
          }
        }
      ]
    },
    {
      "metadata": {
        "id": "UasEkZ9W3Y3Q",
        "colab_type": "code",
        "outputId": "d9b18aa5-e183-4788-9747-13a1883895f0",
        "colab": {
          "base_uri": "https://localhost:8080/",
          "height": 85
        }
      },
      "cell_type": "code",
      "source": [
        "dataset.groupby(\"Outcome\").size()"
      ],
      "execution_count": 0,
      "outputs": [
        {
          "output_type": "execute_result",
          "data": {
            "text/plain": [
              "Outcome\n",
              "0    500\n",
              "1    268\n",
              "dtype: int64"
            ]
          },
          "metadata": {
            "tags": []
          },
          "execution_count": 136
        }
      ]
    },
    {
      "metadata": {
        "id": "-Q4TbUFUcrrF",
        "colab_type": "code",
        "colab": {}
      },
      "cell_type": "code",
      "source": [
        "positive_target_data = dataset[dataset[\"Outcome\"] == 1]\n",
        "negative_target_data = dataset[dataset[\"Outcome\"] == 0]\n",
        "\n",
        "def compare_hist(column):\n",
        "  figure = plt.figure(figsize=(10, 6))\n",
        "  ax1 = plt.subplot(2, 2, 1)\n",
        "  plt.hist(positive_target_data[column], color=\"#e74c3c\")\n",
        "  plt.xlabel(column)\n",
        "  ax2 = plt.subplot(2, 2, 2)\n",
        "  plt.hist(negative_target_data[column], color=\"#3498db\")\n",
        "  plt.xlabel(column)\n",
        "  \n",
        "  ylim = (0, max(ax1.get_ylim()[1], ax2.get_ylim()[1]))\n",
        "  ax1.set_ylim(ylim)\n",
        "  ax2.set_ylim(ylim)\n",
        "  xlim = (min(ax1.get_xlim()[0], ax2.get_xlim()[0]), max(ax1.get_xlim()[1], ax2.get_xlim()[1]))\n",
        "  ax1.set_xlim(xlim)\n",
        "  ax2.set_xlim(xlim)\n",
        "  \n",
        "def compare_bar(column):\n",
        "  figure = plt.figure(figsize=(10, 6))\n",
        "  ax1 = plt.subplot(2, 2, 1)\n",
        "  positive_target_data[['Outcome', column]].groupby(column).count().plot(kind='bar', rot=0, legend=False, ax=ax1, color=\"#e74c3c\")\n",
        "  ax2 = plt.subplot(2, 2, 2)\n",
        "  negative_target_data[['Outcome', column]].groupby(column).count().plot(kind='bar', rot=0, legend=False, ax=ax2, color=\"#3498db\")\n",
        "  \n",
        "  ylim = (0, max(ax1.get_ylim()[1], ax2.get_ylim()[1]))\n",
        "  ax1.set_ylim(ylim)\n",
        "  ax2.set_ylim(ylim)\n",
        "  xlim = (min(ax1.get_xlim()[0], ax2.get_xlim()[0]), max(ax1.get_xlim()[1], ax2.get_xlim()[1]))\n",
        "  ax1.set_xlim(xlim)\n",
        "  ax2.set_xlim(xlim)"
      ],
      "execution_count": 0,
      "outputs": []
    },
    {
      "metadata": {
        "id": "GfW9mvRDkQTp",
        "colab_type": "text"
      },
      "cell_type": "markdown",
      "source": [
        "## Pregnancies"
      ]
    },
    {
      "metadata": {
        "id": "OBTHW4CFc0lT",
        "colab_type": "code",
        "outputId": "da5f3edb-7320-4a6a-fc9c-e9e02deac638",
        "colab": {
          "base_uri": "https://localhost:8080/",
          "height": 210
        }
      },
      "cell_type": "code",
      "source": [
        "compare_bar('Pregnancies')"
      ],
      "execution_count": 0,
      "outputs": [
        {
          "output_type": "display_data",
          "data": {
            "image/png": "[encoded data removed]",
            "text/plain": [
              "<Figure size 720x432 with 2 Axes>"
            ]
          },
          "metadata": {
            "tags": []
          }
        }
      ]
    },
    {
      "metadata": {
        "id": "idR9bTZKdtOF",
        "colab_type": "code",
        "outputId": "52a79938-f081-4cd7-d835-aaf91796ae6f",
        "colab": {
          "base_uri": "https://localhost:8080/",
          "height": 34
        }
      },
      "cell_type": "code",
      "source": [
        "positive_target_data[\"Pregnancies\"].mean(), negative_target_data[\"Pregnancies\"].mean() "
      ],
      "execution_count": 0,
      "outputs": [
        {
          "output_type": "execute_result",
          "data": {
            "text/plain": [
              "(4.865671641791045, 3.298)"
            ]
          },
          "metadata": {
            "tags": []
          },
          "execution_count": 22
        }
      ]
    },
    {
      "metadata": {
        "id": "Y31yW8R-kOdQ",
        "colab_type": "text"
      },
      "cell_type": "markdown",
      "source": [
        "## Glucose"
      ]
    },
    {
      "metadata": {
        "id": "Bkr9AGbxc-Je",
        "colab_type": "code",
        "outputId": "aaf82c24-004a-4341-818a-754ddd207552",
        "colab": {
          "base_uri": "https://localhost:8080/",
          "height": 210
        }
      },
      "cell_type": "code",
      "source": [
        "compare_hist('Glucose')"
      ],
      "execution_count": 0,
      "outputs": [
        {
          "output_type": "display_data",
          "data": {
            "image/png": "[encoded data removed]",
            "text/plain": [
              "<Figure size 720x432 with 2 Axes>"
            ]
          },
          "metadata": {
            "tags": []
          }
        }
      ]
    },
    {
      "metadata": {
        "id": "ZdZKUJtieacL",
        "colab_type": "code",
        "outputId": "b71e0603-97ad-40b4-cda9-3bf319183379",
        "colab": {
          "base_uri": "https://localhost:8080/",
          "height": 34
        }
      },
      "cell_type": "code",
      "source": [
        "positive_target_data[\"Glucose\"].mean(), negative_target_data[\"Glucose\"].mean()"
      ],
      "execution_count": 0,
      "outputs": [
        {
          "output_type": "execute_result",
          "data": {
            "text/plain": [
              "(141.25746268656715, 109.98)"
            ]
          },
          "metadata": {
            "tags": []
          },
          "execution_count": 23
        }
      ]
    },
    {
      "metadata": {
        "id": "lCtnJs83htoA",
        "colab_type": "code",
        "outputId": "4af01d65-01fe-4fd9-dff8-fa8cf2c947a1",
        "colab": {
          "base_uri": "https://localhost:8080/",
          "height": 34
        }
      },
      "cell_type": "code",
      "source": [
        "positive_target_data[\"Glucose\"].median(), negative_target_data[\"Glucose\"].median()"
      ],
      "execution_count": 0,
      "outputs": [
        {
          "output_type": "execute_result",
          "data": {
            "text/plain": [
              "(140.0, 107.0)"
            ]
          },
          "metadata": {
            "tags": []
          },
          "execution_count": 26
        }
      ]
    },
    {
      "metadata": {
        "id": "u024wfS8kMbQ",
        "colab_type": "text"
      },
      "cell_type": "markdown",
      "source": [
        "## Blood Pressure"
      ]
    },
    {
      "metadata": {
        "id": "TNkj-bXUddUx",
        "colab_type": "code",
        "outputId": "7a94e6e1-60a8-4eb5-bf4e-0643098bf6cd",
        "colab": {
          "base_uri": "https://localhost:8080/",
          "height": 210
        }
      },
      "cell_type": "code",
      "source": [
        "compare_hist('BloodPressure')"
      ],
      "execution_count": 0,
      "outputs": [
        {
          "output_type": "display_data",
          "data": {
            "image/png": "[encoded data removed]",
            "text/plain": [
              "<Figure size 720x432 with 2 Axes>"
            ]
          },
          "metadata": {
            "tags": []
          }
        }
      ]
    },
    {
      "metadata": {
        "id": "mVNBiXx0ejir",
        "colab_type": "code",
        "outputId": "f1999aa8-0bf5-419e-ae46-2942d668037f",
        "colab": {
          "base_uri": "https://localhost:8080/",
          "height": 34
        }
      },
      "cell_type": "code",
      "source": [
        "positive_target_data[\"BloodPressure\"].mean(), negative_target_data[\"BloodPressure\"].mean()"
      ],
      "execution_count": 0,
      "outputs": [
        {
          "output_type": "execute_result",
          "data": {
            "text/plain": [
              "(70.82462686567165, 68.184)"
            ]
          },
          "metadata": {
            "tags": []
          },
          "execution_count": 24
        }
      ]
    },
    {
      "metadata": {
        "id": "Cw5y05eDh-DV",
        "colab_type": "code",
        "outputId": "75cd998a-7bd6-400f-fe87-356c9afcbfa1",
        "colab": {
          "base_uri": "https://localhost:8080/",
          "height": 34
        }
      },
      "cell_type": "code",
      "source": [
        "positive_target_data[\"BloodPressure\"].median(), negative_target_data[\"BloodPressure\"].median()"
      ],
      "execution_count": 0,
      "outputs": [
        {
          "output_type": "execute_result",
          "data": {
            "text/plain": [
              "(74.0, 70.0)"
            ]
          },
          "metadata": {
            "tags": []
          },
          "execution_count": 27
        }
      ]
    },
    {
      "metadata": {
        "id": "wP18MfnckKir",
        "colab_type": "text"
      },
      "cell_type": "markdown",
      "source": [
        "## Skin Thickness"
      ]
    },
    {
      "metadata": {
        "id": "1tYU920YfvyY",
        "colab_type": "code",
        "outputId": "3768fff3-9243-4fff-9acc-8ea93108195d",
        "colab": {
          "base_uri": "https://localhost:8080/",
          "height": 210
        }
      },
      "cell_type": "code",
      "source": [
        "compare_hist('SkinThickness')"
      ],
      "execution_count": 0,
      "outputs": [
        {
          "output_type": "display_data",
          "data": {
            "image/png": "[encoded data removed]",
            "text/plain": [
              "<Figure size 720x432 with 2 Axes>"
            ]
          },
          "metadata": {
            "tags": []
          }
        }
      ]
    },
    {
      "metadata": {
        "id": "hpFiU5XokIpY",
        "colab_type": "text"
      },
      "cell_type": "markdown",
      "source": [
        "## Insulin"
      ]
    },
    {
      "metadata": {
        "id": "h-xzsJoXgCRv",
        "colab_type": "code",
        "outputId": "d1fa71b4-9494-418e-9507-72119b826af3",
        "colab": {
          "base_uri": "https://localhost:8080/",
          "height": 210
        }
      },
      "cell_type": "code",
      "source": [
        "compare_hist('Insulin')"
      ],
      "execution_count": 0,
      "outputs": [
        {
          "output_type": "display_data",
          "data": {
            "image/png": "[encoded data removed]",
            "text/plain": [
              "<Figure size 720x432 with 2 Axes>"
            ]
          },
          "metadata": {
            "tags": []
          }
        }
      ]
    },
    {
      "metadata": {
        "id": "mV6P5YAvgrmG",
        "colab_type": "code",
        "outputId": "72d6464e-554f-4d7e-b186-139e3d06143c",
        "colab": {
          "base_uri": "https://localhost:8080/",
          "height": 34
        }
      },
      "cell_type": "code",
      "source": [
        "positive_target_data[\"Insulin\"].mean(), negative_target_data[\"Insulin\"].mean()"
      ],
      "execution_count": 0,
      "outputs": [
        {
          "output_type": "execute_result",
          "data": {
            "text/plain": [
              "(100.33582089552239, 68.792)"
            ]
          },
          "metadata": {
            "tags": []
          },
          "execution_count": 25
        }
      ]
    },
    {
      "metadata": {
        "id": "gBD8JK89hA-F",
        "colab_type": "text"
      },
      "cell_type": "markdown",
      "source": [
        "## Body Mass Index"
      ]
    },
    {
      "metadata": {
        "id": "kOLFIxqjgkrh",
        "colab_type": "code",
        "outputId": "c7e4a2d5-5d37-4399-a708-62046fc2769f",
        "colab": {
          "base_uri": "https://localhost:8080/",
          "height": 210
        }
      },
      "cell_type": "code",
      "source": [
        "compare_hist('BMI')"
      ],
      "execution_count": 0,
      "outputs": [
        {
          "output_type": "display_data",
          "data": {
            "image/png": "[encoded data removed]",
            "text/plain": [
              "<Figure size 720x432 with 2 Axes>"
            ]
          },
          "metadata": {
            "tags": []
          }
        }
      ]
    },
    {
      "metadata": {
        "id": "RhJ4WtivhG49",
        "colab_type": "code",
        "outputId": "54ac0c9a-cbf4-4aa0-abc9-70e2d158d190",
        "colab": {
          "base_uri": "https://localhost:8080/",
          "height": 34
        }
      },
      "cell_type": "code",
      "source": [
        "positive_target_data[\"BMI\"].mean(), negative_target_data[\"BMI\"].mean() "
      ],
      "execution_count": 0,
      "outputs": [
        {
          "output_type": "execute_result",
          "data": {
            "text/plain": [
              "(35.14253731343278, 30.30419999999996)"
            ]
          },
          "metadata": {
            "tags": []
          },
          "execution_count": 28
        }
      ]
    },
    {
      "metadata": {
        "id": "NMvXGvf3iqtl",
        "colab_type": "code",
        "outputId": "5e56051b-729c-4cd8-9b7b-b6b7b3ee3eb4",
        "colab": {
          "base_uri": "https://localhost:8080/",
          "height": 34
        }
      },
      "cell_type": "code",
      "source": [
        "positive_target_data[\"BMI\"].median(), negative_target_data[\"BMI\"].median() "
      ],
      "execution_count": 0,
      "outputs": [
        {
          "output_type": "execute_result",
          "data": {
            "text/plain": [
              "(34.25, 30.05)"
            ]
          },
          "metadata": {
            "tags": []
          },
          "execution_count": 29
        }
      ]
    },
    {
      "metadata": {
        "id": "yOcZxDNhkTjD",
        "colab_type": "text"
      },
      "cell_type": "markdown",
      "source": [
        "## Diabetes Pedigree Function"
      ]
    },
    {
      "metadata": {
        "id": "T8nztGIGg9-a",
        "colab_type": "code",
        "outputId": "d72b8797-8852-46a9-9833-7bee86ea1566",
        "colab": {
          "base_uri": "https://localhost:8080/",
          "height": 210
        }
      },
      "cell_type": "code",
      "source": [
        "compare_hist('DiabetesPedigreeFunction')"
      ],
      "execution_count": 0,
      "outputs": [
        {
          "output_type": "display_data",
          "data": {
            "image/png": "[encoded data removed]",
            "text/plain": [
              "<Figure size 720x432 with 2 Axes>"
            ]
          },
          "metadata": {
            "tags": []
          }
        }
      ]
    },
    {
      "metadata": {
        "id": "nLg4KJKTkVoU",
        "colab_type": "text"
      },
      "cell_type": "markdown",
      "source": [
        "## Age"
      ]
    },
    {
      "metadata": {
        "id": "dM8Xu7Z7jIHb",
        "colab_type": "code",
        "outputId": "edfbc695-1a36-4318-e7bc-fa200c9b5894",
        "colab": {
          "base_uri": "https://localhost:8080/",
          "height": 210
        }
      },
      "cell_type": "code",
      "source": [
        "compare_hist('Age')"
      ],
      "execution_count": 0,
      "outputs": [
        {
          "output_type": "display_data",
          "data": {
            "image/png": "[encoded data removed]",
            "text/plain": [
              "<Figure size 720x432 with 2 Axes>"
            ]
          },
          "metadata": {
            "tags": []
          }
        }
      ]
    },
    {
      "metadata": {
        "id": "ssKUpxsZb1RA",
        "colab_type": "text"
      },
      "cell_type": "markdown",
      "source": [
        "## Glucose 0 values"
      ]
    },
    {
      "metadata": {
        "id": "xnMKbCvXbFyz",
        "colab_type": "code",
        "outputId": "60bad8ba-e7ee-4386-e6f1-025a865a0de0",
        "colab": {
          "base_uri": "https://localhost:8080/",
          "height": 85
        }
      },
      "cell_type": "code",
      "source": [
        "dataset.groupby(\"Outcome\")[\"Glucose\"].max()"
      ],
      "execution_count": 0,
      "outputs": [
        {
          "output_type": "execute_result",
          "data": {
            "text/plain": [
              "Outcome\n",
              "0    197\n",
              "1    199\n",
              "Name: Glucose, dtype: int64"
            ]
          },
          "metadata": {
            "tags": []
          },
          "execution_count": 140
        }
      ]
    },
    {
      "metadata": {
        "id": "0Ve9Xl4wbQOs",
        "colab_type": "code",
        "outputId": "c0a1f9a0-e1f4-4dd6-ea6b-dbd81c2cca3a",
        "colab": {
          "base_uri": "https://localhost:8080/",
          "height": 85
        }
      },
      "cell_type": "code",
      "source": [
        "dataset.groupby(\"Outcome\")[\"Glucose\"].min()"
      ],
      "execution_count": 0,
      "outputs": [
        {
          "output_type": "execute_result",
          "data": {
            "text/plain": [
              "Outcome\n",
              "0    0\n",
              "1    0\n",
              "Name: Glucose, dtype: int64"
            ]
          },
          "metadata": {
            "tags": []
          },
          "execution_count": 141
        }
      ]
    },
    {
      "metadata": {
        "id": "vNiVJuFmbmcO",
        "colab_type": "code",
        "outputId": "4ffe2ddb-5f28-486a-c2e4-8bac1f100339",
        "colab": {
          "base_uri": "https://localhost:8080/",
          "height": 34
        }
      },
      "cell_type": "code",
      "source": [
        "(dataset[\"Glucose\"] == 0).sum()"
      ],
      "execution_count": 0,
      "outputs": [
        {
          "output_type": "execute_result",
          "data": {
            "text/plain": [
              "5"
            ]
          },
          "metadata": {
            "tags": []
          },
          "execution_count": 142
        }
      ]
    },
    {
      "metadata": {
        "id": "pi12G53ubt8Q",
        "colab_type": "code",
        "outputId": "126f3b5d-af89-4d2d-cd76-c967a6c467c3",
        "colab": {
          "base_uri": "https://localhost:8080/",
          "height": 204
        }
      },
      "cell_type": "code",
      "source": [
        "dataset[dataset[\"Glucose\"] == 0]"
      ],
      "execution_count": 0,
      "outputs": [
        {
          "output_type": "execute_result",
          "data": {
            "text/html": [
              "<div>\n",
              "<style scoped>\n",
              "    .dataframe tbody tr th:only-of-type {\n",
              "        vertical-align: middle;\n",
              "    }\n",
              "\n",
              "    .dataframe tbody tr th {\n",
              "        vertical-align: top;\n",
              "    }\n",
              "\n",
              "    .dataframe thead th {\n",
              "        text-align: right;\n",
              "    }\n",
              "</style>\n",
              "<table border=\"1\" class=\"dataframe\">\n",
              "  <thead>\n",
              "    <tr style=\"text-align: right;\">\n",
              "      <th></th>\n",
              "      <th>Pregnancies</th>\n",
              "      <th>Glucose</th>\n",
              "      <th>BloodPressure</th>\n",
              "      <th>SkinThickness</th>\n",
              "      <th>Insulin</th>\n",
              "      <th>BMI</th>\n",
              "      <th>DiabetesPedigreeFunction</th>\n",
              "      <th>Age</th>\n",
              "      <th>Outcome</th>\n",
              "    </tr>\n",
              "  </thead>\n",
              "  <tbody>\n",
              "    <tr>\n",
              "      <th>75</th>\n",
              "      <td>1</td>\n",
              "      <td>0</td>\n",
              "      <td>48</td>\n",
              "      <td>20</td>\n",
              "      <td>0</td>\n",
              "      <td>24.7</td>\n",
              "      <td>0.140</td>\n",
              "      <td>22</td>\n",
              "      <td>0</td>\n",
              "    </tr>\n",
              "    <tr>\n",
              "      <th>182</th>\n",
              "      <td>1</td>\n",
              "      <td>0</td>\n",
              "      <td>74</td>\n",
              "      <td>20</td>\n",
              "      <td>23</td>\n",
              "      <td>27.7</td>\n",
              "      <td>0.299</td>\n",
              "      <td>21</td>\n",
              "      <td>0</td>\n",
              "    </tr>\n",
              "    <tr>\n",
              "      <th>342</th>\n",
              "      <td>1</td>\n",
              "      <td>0</td>\n",
              "      <td>68</td>\n",
              "      <td>35</td>\n",
              "      <td>0</td>\n",
              "      <td>32.0</td>\n",
              "      <td>0.389</td>\n",
              "      <td>22</td>\n",
              "      <td>0</td>\n",
              "    </tr>\n",
              "    <tr>\n",
              "      <th>349</th>\n",
              "      <td>5</td>\n",
              "      <td>0</td>\n",
              "      <td>80</td>\n",
              "      <td>32</td>\n",
              "      <td>0</td>\n",
              "      <td>41.0</td>\n",
              "      <td>0.346</td>\n",
              "      <td>37</td>\n",
              "      <td>1</td>\n",
              "    </tr>\n",
              "    <tr>\n",
              "      <th>502</th>\n",
              "      <td>6</td>\n",
              "      <td>0</td>\n",
              "      <td>68</td>\n",
              "      <td>41</td>\n",
              "      <td>0</td>\n",
              "      <td>39.0</td>\n",
              "      <td>0.727</td>\n",
              "      <td>41</td>\n",
              "      <td>1</td>\n",
              "    </tr>\n",
              "  </tbody>\n",
              "</table>\n",
              "</div>"
            ],
            "text/plain": [
              "     Pregnancies  Glucose  BloodPressure  SkinThickness  Insulin   BMI  \\\n",
              "75             1        0             48             20        0  24.7   \n",
              "182            1        0             74             20       23  27.7   \n",
              "342            1        0             68             35        0  32.0   \n",
              "349            5        0             80             32        0  41.0   \n",
              "502            6        0             68             41        0  39.0   \n",
              "\n",
              "     DiabetesPedigreeFunction  Age  Outcome  \n",
              "75                      0.140   22        0  \n",
              "182                     0.299   21        0  \n",
              "342                     0.389   22        0  \n",
              "349                     0.346   37        1  \n",
              "502                     0.727   41        1  "
            ]
          },
          "metadata": {
            "tags": []
          },
          "execution_count": 143
        }
      ]
    },
    {
      "metadata": {
        "id": "2ljg-Ibtd-lO",
        "colab_type": "text"
      },
      "cell_type": "markdown",
      "source": [
        "## Insulin 0 values"
      ]
    },
    {
      "metadata": {
        "id": "gwI8jKpUc092",
        "colab_type": "code",
        "outputId": "5e93dd92-0cb4-4a15-faaf-97dee247c784",
        "colab": {
          "base_uri": "https://localhost:8080/",
          "height": 85
        }
      },
      "cell_type": "code",
      "source": [
        "dataset.groupby(\"Outcome\")[\"Insulin\"].max()"
      ],
      "execution_count": 0,
      "outputs": [
        {
          "output_type": "execute_result",
          "data": {
            "text/plain": [
              "Outcome\n",
              "0    744\n",
              "1    846\n",
              "Name: Insulin, dtype: int64"
            ]
          },
          "metadata": {
            "tags": []
          },
          "execution_count": 145
        }
      ]
    },
    {
      "metadata": {
        "id": "nRaII5hyc5Ie",
        "colab_type": "code",
        "outputId": "e16d6847-7100-4209-e73b-bce0e27bf089",
        "colab": {
          "base_uri": "https://localhost:8080/",
          "height": 85
        }
      },
      "cell_type": "code",
      "source": [
        "dataset.groupby(\"Outcome\")[\"Insulin\"].min()"
      ],
      "execution_count": 0,
      "outputs": [
        {
          "output_type": "execute_result",
          "data": {
            "text/plain": [
              "Outcome\n",
              "0    0\n",
              "1    0\n",
              "Name: Insulin, dtype: int64"
            ]
          },
          "metadata": {
            "tags": []
          },
          "execution_count": 146
        }
      ]
    },
    {
      "metadata": {
        "id": "sgZIzMNJkEP3",
        "colab_type": "code",
        "outputId": "69b30c14-75b6-4a58-f542-b3c3466b9cef",
        "colab": {
          "base_uri": "https://localhost:8080/",
          "height": 34
        }
      },
      "cell_type": "code",
      "source": [
        "(dataset[\"Insulin\"] == 0).sum()"
      ],
      "execution_count": 0,
      "outputs": [
        {
          "output_type": "execute_result",
          "data": {
            "text/plain": [
              "374"
            ]
          },
          "metadata": {
            "tags": []
          },
          "execution_count": 34
        }
      ]
    },
    {
      "metadata": {
        "id": "Q4adii4PeVqQ",
        "colab_type": "text"
      },
      "cell_type": "markdown",
      "source": [
        "## Blood Pressure 0 values"
      ]
    },
    {
      "metadata": {
        "id": "VkzrFkoveg1Y",
        "colab_type": "code",
        "outputId": "484ef3d0-89be-4137-d115-2bf59f12b420",
        "colab": {
          "base_uri": "https://localhost:8080/",
          "height": 85
        }
      },
      "cell_type": "code",
      "source": [
        "dataset.groupby(\"Outcome\")[\"BloodPressure\"].max()"
      ],
      "execution_count": 0,
      "outputs": [
        {
          "output_type": "execute_result",
          "data": {
            "text/plain": [
              "Outcome\n",
              "0    122\n",
              "1    114\n",
              "Name: BloodPressure, dtype: int64"
            ]
          },
          "metadata": {
            "tags": []
          },
          "execution_count": 150
        }
      ]
    },
    {
      "metadata": {
        "id": "guYKQeeAeuVR",
        "colab_type": "code",
        "outputId": "741d726f-df15-4cf9-836f-ffca0508dc42",
        "colab": {
          "base_uri": "https://localhost:8080/",
          "height": 85
        }
      },
      "cell_type": "code",
      "source": [
        "dataset.groupby(\"Outcome\")[\"BloodPressure\"].min()"
      ],
      "execution_count": 0,
      "outputs": [
        {
          "output_type": "execute_result",
          "data": {
            "text/plain": [
              "Outcome\n",
              "0    0\n",
              "1    0\n",
              "Name: BloodPressure, dtype: int64"
            ]
          },
          "metadata": {
            "tags": []
          },
          "execution_count": 151
        }
      ]
    },
    {
      "metadata": {
        "id": "FDlHQKRJ16Hh",
        "colab_type": "code",
        "outputId": "3d693e4d-e747-4065-f2bb-f600b19614da",
        "colab": {
          "base_uri": "https://localhost:8080/",
          "height": 34
        }
      },
      "cell_type": "code",
      "source": [
        "(dataset[\"BloodPressure\"] == 0).sum()"
      ],
      "execution_count": 0,
      "outputs": [
        {
          "output_type": "execute_result",
          "data": {
            "text/plain": [
              "35"
            ]
          },
          "metadata": {
            "tags": []
          },
          "execution_count": 152
        }
      ]
    },
    {
      "metadata": {
        "id": "ZIoUEjz-5l4J",
        "colab_type": "text"
      },
      "cell_type": "markdown",
      "source": [
        "## BMI 0 values"
      ]
    },
    {
      "metadata": {
        "id": "gSwSDoUv5ioi",
        "colab_type": "code",
        "outputId": "45a325f0-9e95-4975-f7d2-432422487ad2",
        "colab": {
          "base_uri": "https://localhost:8080/",
          "height": 34
        }
      },
      "cell_type": "code",
      "source": [
        "(dataset[\"BMI\"] == 0).sum()"
      ],
      "execution_count": 0,
      "outputs": [
        {
          "output_type": "execute_result",
          "data": {
            "text/plain": [
              "11"
            ]
          },
          "metadata": {
            "tags": []
          },
          "execution_count": 153
        }
      ]
    },
    {
      "metadata": {
        "id": "ZZoSAg1H9qKA",
        "colab_type": "text"
      },
      "cell_type": "markdown",
      "source": [
        "## Remove 0 values"
      ]
    },
    {
      "metadata": {
        "id": "3pNeEGRs5n6j",
        "colab_type": "code",
        "colab": {}
      },
      "cell_type": "code",
      "source": [
        "bmi_indices = dataset.loc[dataset[\"BMI\"] == 0].index"
      ],
      "execution_count": 0,
      "outputs": []
    },
    {
      "metadata": {
        "id": "WgPYzm647u5f",
        "colab_type": "code",
        "colab": {}
      },
      "cell_type": "code",
      "source": [
        "cleaned_dataset = dataset.drop(bmi_indices, axis=0)"
      ],
      "execution_count": 0,
      "outputs": []
    },
    {
      "metadata": {
        "id": "GJJnOEYz7Mda",
        "colab_type": "code",
        "colab": {}
      },
      "cell_type": "code",
      "source": [
        "glucose_indices = dataset.loc[dataset[\"Glucose\"] == 0].index\n",
        "cleaned_dataset.drop(glucose_indices, axis=0, inplace=True)"
      ],
      "execution_count": 0,
      "outputs": []
    },
    {
      "metadata": {
        "id": "a63inh6k9Ke7",
        "colab_type": "code",
        "colab": {}
      },
      "cell_type": "code",
      "source": [
        "bloodPressure_indices = cleaned_dataset.loc[cleaned_dataset[\"BloodPressure\"] == 0].index\n",
        "cleaned_dataset.drop(bloodPressure_indices, axis=0, inplace=True)"
      ],
      "execution_count": 0,
      "outputs": []
    },
    {
      "metadata": {
        "id": "xUVgvFTW9Mtk",
        "colab_type": "code",
        "outputId": "ee8d5b66-3999-4e32-fa5e-6128cac40a09",
        "colab": {
          "base_uri": "https://localhost:8080/",
          "height": 34
        }
      },
      "cell_type": "code",
      "source": [
        "cleaned_dataset.shape"
      ],
      "execution_count": 11,
      "outputs": [
        {
          "output_type": "execute_result",
          "data": {
            "text/plain": [
              "(724, 9)"
            ]
          },
          "metadata": {
            "tags": []
          },
          "execution_count": 11
        }
      ]
    },
    {
      "metadata": {
        "id": "fIl2r2fbbM4m",
        "colab_type": "code",
        "colab": {
          "base_uri": "https://localhost:8080/",
          "height": 85
        },
        "outputId": "e15d992a-495f-4166-d3bc-2da2808c4dbf"
      },
      "cell_type": "code",
      "source": [
        "cleaned_dataset.groupby(\"Outcome\").size()"
      ],
      "execution_count": 52,
      "outputs": [
        {
          "output_type": "execute_result",
          "data": {
            "text/plain": [
              "Outcome\n",
              "0    475\n",
              "1    249\n",
              "dtype: int64"
            ]
          },
          "metadata": {
            "tags": []
          },
          "execution_count": 52
        }
      ]
    },
    {
      "metadata": {
        "id": "RJM3mM0TTRDd",
        "colab_type": "text"
      },
      "cell_type": "markdown",
      "source": [
        "## Data preprocess"
      ]
    },
    {
      "metadata": {
        "id": "FXSOaUA-9meG",
        "colab_type": "code",
        "colab": {}
      },
      "cell_type": "code",
      "source": [
        "feature_names = np.array(['Pregnancies', 'Glucose', 'BloodPressure', 'SkinThickness', 'Insulin', 'BMI', 'DiabetesPedigreeFunction', 'Age'])"
      ],
      "execution_count": 0,
      "outputs": []
    },
    {
      "metadata": {
        "id": "aRn3UUEkTT2k",
        "colab_type": "code",
        "colab": {}
      },
      "cell_type": "code",
      "source": [
        "from sklearn.model_selection import train_test_split\n",
        "from sklearn.preprocessing import StandardScaler"
      ],
      "execution_count": 0,
      "outputs": []
    },
    {
      "metadata": {
        "id": "fbARte7jThli",
        "colab_type": "code",
        "colab": {}
      },
      "cell_type": "code",
      "source": [
        "standardScaler = StandardScaler()\n",
        "cleaned_dataset[feature_names] = standardScaler.fit_transform(cleaned_dataset[feature_names])"
      ],
      "execution_count": 0,
      "outputs": []
    },
    {
      "metadata": {
        "id": "MJ42ocH9Bkjq",
        "colab_type": "code",
        "colab": {}
      },
      "cell_type": "code",
      "source": [
        "X = cleaned_dataset[feature_names]\n",
        "y = cleaned_dataset[\"Outcome\"]"
      ],
      "execution_count": 0,
      "outputs": []
    },
    {
      "metadata": {
        "id": "49mhIXQUCOSj",
        "colab_type": "code",
        "outputId": "8492dce6-2ebb-411f-be6b-a3503f140355",
        "colab": {
          "base_uri": "https://localhost:8080/",
          "height": 34
        }
      },
      "cell_type": "code",
      "source": [
        "X.shape, y.shape"
      ],
      "execution_count": 16,
      "outputs": [
        {
          "output_type": "execute_result",
          "data": {
            "text/plain": [
              "((724, 8), (724,))"
            ]
          },
          "metadata": {
            "tags": []
          },
          "execution_count": 16
        }
      ]
    },
    {
      "metadata": {
        "id": "Ojc6hVNM-byZ",
        "colab_type": "text"
      },
      "cell_type": "markdown",
      "source": [
        "## Models"
      ]
    },
    {
      "metadata": {
        "id": "6YmI2OGLCQCu",
        "colab_type": "code",
        "colab": {}
      },
      "cell_type": "code",
      "source": [
        "from sklearn.ensemble import RandomForestClassifier\n",
        "from sklearn.ensemble import GradientBoostingClassifier"
      ],
      "execution_count": 0,
      "outputs": []
    },
    {
      "metadata": {
        "id": "pweCs8tfCuyS",
        "colab_type": "code",
        "colab": {}
      },
      "cell_type": "code",
      "source": [
        "from sklearn.model_selection import train_test_split\n",
        "from sklearn.model_selection import cross_val_score\n",
        "from sklearn.model_selection import KFold\n",
        "\n",
        "from sklearn.metrics import accuracy_score\n",
        "from sklearn.metrics import classification_report\n",
        "from sklearn.metrics import roc_curve, auc\n",
        "from sklearn.metrics import confusion_matrix\n",
        "import itertools"
      ],
      "execution_count": 0,
      "outputs": []
    },
    {
      "metadata": {
        "id": "15T0UuIDCvUg",
        "colab_type": "code",
        "colab": {}
      },
      "cell_type": "code",
      "source": [
        "X_train, X_val, y_train, y_val = train_test_split(X, y, stratify=cleaned_dataset[\"Outcome\"], random_state=0)"
      ],
      "execution_count": 0,
      "outputs": []
    },
    {
      "metadata": {
        "id": "frH0q7Y2pUh-",
        "colab_type": "code",
        "colab": {}
      },
      "cell_type": "code",
      "source": [
        "def plot_confusion_matrix(cm, classes,\n",
        "                          normalize=False,\n",
        "                          title='Confusion matrix',\n",
        "                          cmap=plt.cm.Blues):\n",
        "    \"\"\"\n",
        "    This function prints and plots the confusion matrix.\n",
        "    Normalization can be applied by setting `normalize=True`.\n",
        "    \"\"\"\n",
        "    if normalize:\n",
        "        cm = cm.astype('float') / cm.sum(axis=1)[:, np.newaxis]\n",
        "        print(\"Normalized confusion matrix\")\n",
        "    else:\n",
        "        print('Confusion matrix, without normalization')\n",
        "\n",
        "    plt.imshow(cm, interpolation='nearest', cmap=cmap)\n",
        "    plt.title(title)\n",
        "    plt.colorbar()\n",
        "    tick_marks = np.arange(len(classes))\n",
        "    plt.xticks(tick_marks, classes, rotation=45)\n",
        "    plt.yticks(tick_marks, classes)\n",
        "\n",
        "    fmt = '.2f' if normalize else 'd'\n",
        "    thresh = cm.max() / 2.\n",
        "    for i, j in itertools.product(range(cm.shape[0]), range(cm.shape[1])):\n",
        "        plt.text(j, i, format(cm[i, j], fmt),\n",
        "                 horizontalalignment=\"center\",\n",
        "                 color=\"white\" if cm[i, j] > thresh else \"black\")\n",
        "\n",
        "    plt.ylabel('True label')\n",
        "    plt.xlabel('Predicted label')\n",
        "    plt.tight_layout()"
      ],
      "execution_count": 0,
      "outputs": []
    },
    {
      "metadata": {
        "id": "yStUGmCMUHC1",
        "colab_type": "code",
        "colab": {}
      },
      "cell_type": "code",
      "source": [
        "def evaluate_confusion_matrix(y, y_predicted, name):\n",
        "  model_confusion_matrix = confusion_matrix(y, y_predicted)\n",
        "  \n",
        "  plot_confusion_matrix(model_confusion_matrix, classes)\n",
        "  \n",
        "  sensitivity = model_confusion_matrix[0, 0] / (model_confusion_matrix[0, 0] + model_confusion_matrix[0, 1])\n",
        "  print(f'{name} sensitivity score: {sensitivity}')\n",
        "  \n",
        "  specificity = model_confusion_matrix[1, 1] / (model_confusion_matrix[1, 1] + model_confusion_matrix[1, 0])\n",
        "  print(f'{name} specificity score: {specificity}')"
      ],
      "execution_count": 0,
      "outputs": []
    },
    {
      "metadata": {
        "id": "UYwlkXR0rbx1",
        "colab_type": "code",
        "colab": {}
      },
      "cell_type": "code",
      "source": [
        "def plot_auc(y, y_predicted):\n",
        "  fpr, tpr, thresholds = roc_curve(y, y_predicted)\n",
        "\n",
        "  fig, ax = plt.subplots()\n",
        "  ax.plot(fpr, tpr)\n",
        "  ax.plot([0, 1], [0, 1], transform=ax.transAxes, ls=\"--\", c=\".3\")\n",
        "  plt.xlim([0.0, 1.0])\n",
        "  plt.ylim([0.0, 1.0])\n",
        "  plt.rcParams['font.size'] = 12\n",
        "  plt.title(f'Area under the curve {auc(fpr, tpr)}')\n",
        "  plt.xlabel('False Positive Rate (1 - Specificity)')\n",
        "  plt.ylabel('True Positive Rate (Sensitivity)')\n",
        "  plt.grid(True)"
      ],
      "execution_count": 0,
      "outputs": []
    },
    {
      "metadata": {
        "id": "LELMwA31ULbn",
        "colab_type": "code",
        "colab": {}
      },
      "cell_type": "code",
      "source": [
        "def train_and_evaluate_model(model, name=\"model\"):\n",
        "  model.fit(X_train, y_train)\n",
        "  y_train_predicted = model.predict(X_train)\n",
        "  y_val_predicted = model.predict(X_val)\n",
        "  \n",
        "  train_score = accuracy_score(y_train, y_train_predicted)\n",
        "  print(f'{name} train accuracy score: {train_score}')\n",
        "  \n",
        "  validation_score = accuracy_score(y_val, y_val_predicted)\n",
        "  print(f'{name} accuracy score: {validation_score}')\n",
        "  \n",
        "  print(\"-------------------------------------------\")\n",
        "  \n",
        "  evaluate_confusion_matrix(y_val, y_val_predicted, name)\n",
        "  \n",
        "  print(\"-------------------------------------------\")\n",
        "  \n",
        "  plot_auc(y_val, y_val_predicted)\n",
        "  \n",
        "  report = classification_report(y_val, y_val_predicted, target_names=classes)\n",
        "  print(report)"
      ],
      "execution_count": 0,
      "outputs": []
    },
    {
      "metadata": {
        "id": "hAZGbaIWqVkk",
        "colab_type": "code",
        "colab": {}
      },
      "cell_type": "code",
      "source": [
        "classes = [\"positive\", \"negative\"]"
      ],
      "execution_count": 0,
      "outputs": []
    },
    {
      "metadata": {
        "id": "3bVjRGYrpw4q",
        "colab_type": "text"
      },
      "cell_type": "markdown",
      "source": [
        "## Random forest"
      ]
    },
    {
      "metadata": {
        "id": "samH6rzBDeZb",
        "colab_type": "code",
        "outputId": "390dc788-45f2-452f-a124-aada426bcbe9",
        "colab": {
          "base_uri": "https://localhost:8080/",
          "height": 1032
        }
      },
      "cell_type": "code",
      "source": [
        "random_forest_model = RandomForestClassifier(n_estimators=100)\n",
        "train_and_evaluate_model(random_forest_model, \"Random forest\")"
      ],
      "execution_count": 25,
      "outputs": [
        {
          "output_type": "stream",
          "text": [
            "Random forest train accuracy score: 1.0\n",
            "Random forest accuracy score: 0.7955801104972375\n",
            "-------------------------------------------\n",
            "Confusion matrix, without normalization\n",
            "Random forest sensitivity score: 0.8739495798319328\n",
            "Random forest specificity score: 0.6451612903225806\n",
            "-------------------------------------------\n",
            "              precision    recall  f1-score   support\n",
            "\n",
            "    positive       0.83      0.87      0.85       119\n",
            "    negative       0.73      0.65      0.68        62\n",
            "\n",
            "   micro avg       0.80      0.80      0.80       181\n",
            "   macro avg       0.78      0.76      0.77       181\n",
            "weighted avg       0.79      0.80      0.79       181\n",
            "\n"
          ],
          "name": "stdout"
        },
        {
          "output_type": "display_data",
          "data": {
            "image/png": "[encoded data removed]",
            "text/plain": [
              "<Figure size 576x396 with 2 Axes>"
            ]
          },
          "metadata": {
            "tags": []
          }
        },
        {
          "output_type": "display_data",
          "data": {
            "image/png": "[encoded data removed]",
            "text/plain": [
              "<Figure size 576x396 with 1 Axes>"
            ]
          },
          "metadata": {
            "tags": []
          }
        }
      ]
    },
    {
      "metadata": {
        "id": "MFsTUMgWp2Wp",
        "colab_type": "text"
      },
      "cell_type": "markdown",
      "source": [
        "## Gradient Boosting Classifier"
      ]
    },
    {
      "metadata": {
        "id": "oZS87rcn8uFJ",
        "colab_type": "code",
        "outputId": "965aeb5e-9ddd-40b2-d667-e07214768d26",
        "colab": {
          "base_uri": "https://localhost:8080/",
          "height": 1032
        }
      },
      "cell_type": "code",
      "source": [
        "gradient_boosting_model = GradientBoostingClassifier(n_estimators=100)\n",
        "train_and_evaluate_model(gradient_boosting_model, \"Gradient Boosting\")"
      ],
      "execution_count": 26,
      "outputs": [
        {
          "output_type": "stream",
          "text": [
            "Gradient Boosting train accuracy score: 0.9152854511970534\n",
            "Gradient Boosting accuracy score: 0.7734806629834254\n",
            "-------------------------------------------\n",
            "Confusion matrix, without normalization\n",
            "Gradient Boosting sensitivity score: 0.8571428571428571\n",
            "Gradient Boosting specificity score: 0.6129032258064516\n",
            "-------------------------------------------\n",
            "              precision    recall  f1-score   support\n",
            "\n",
            "    positive       0.81      0.86      0.83       119\n",
            "    negative       0.69      0.61      0.65        62\n",
            "\n",
            "   micro avg       0.77      0.77      0.77       181\n",
            "   macro avg       0.75      0.74      0.74       181\n",
            "weighted avg       0.77      0.77      0.77       181\n",
            "\n"
          ],
          "name": "stdout"
        },
        {
          "output_type": "display_data",
          "data": {
            "image/png": "[encoded data removed]",
            "text/plain": [
              "<Figure size 576x396 with 2 Axes>"
            ]
          },
          "metadata": {
            "tags": []
          }
        },
        {
          "output_type": "display_data",
          "data": {
            "image/png": "[encoded data removed]",
            "text/plain": [
              "<Figure size 576x396 with 1 Axes>"
            ]
          },
          "metadata": {
            "tags": []
          }
        }
      ]
    },
    {
      "metadata": {
        "id": "4hSmlInJU0ln",
        "colab_type": "text"
      },
      "cell_type": "markdown",
      "source": [
        "## Permutation importance"
      ]
    },
    {
      "metadata": {
        "id": "ysSO8UswUzqY",
        "colab_type": "code",
        "colab": {}
      },
      "cell_type": "code",
      "source": [
        "!pip install eli5"
      ],
      "execution_count": 0,
      "outputs": []
    },
    {
      "metadata": {
        "id": "etttA_gEU5gS",
        "colab_type": "code",
        "colab": {}
      },
      "cell_type": "code",
      "source": [
        "import eli5\n",
        "from eli5.sklearn import PermutationImportance"
      ],
      "execution_count": 0,
      "outputs": []
    },
    {
      "metadata": {
        "id": "rdeyhjYhU7JC",
        "colab_type": "code",
        "colab": {
          "base_uri": "https://localhost:8080/",
          "height": 170
        },
        "outputId": "45b2e8fc-e808-4caf-d482-032315f5c9a1"
      },
      "cell_type": "code",
      "source": [
        "perm_random_forest = RandomForestClassifier(n_estimators=100)\n",
        "perm_random_forest.fit(X, y)\n",
        "perm = PermutationImportance(perm_random_forest, random_state=1).fit(X, y)\n",
        "eli5.show_weights(perm, feature_names=feature_names)"
      ],
      "execution_count": 29,
      "outputs": [
        {
          "output_type": "execute_result",
          "data": {
            "text/html": [
              "\n",
              "    <style>\n",
              "    table.eli5-weights tr:hover {\n",
              "        filter: brightness(85%);\n",
              "    }\n",
              "</style>\n",
              "\n",
              "\n",
              "\n",
              "    \n",
              "\n",
              "    \n",
              "\n",
              "    \n",
              "\n",
              "    \n",
              "\n",
              "    \n",
              "\n",
              "    \n",
              "\n",
              "\n",
              "    \n",
              "\n",
              "    \n",
              "\n",
              "    \n",
              "\n",
              "    \n",
              "\n",
              "    \n",
              "\n",
              "    \n",
              "\n",
              "\n",
              "    \n",
              "\n",
              "    \n",
              "\n",
              "    \n",
              "\n",
              "    \n",
              "\n",
              "    \n",
              "        <table class=\"eli5-weights eli5-feature-importances\" style=\"border-collapse: collapse; border: none; margin-top: 0em; table-layout: auto;\">\n",
              "    <thead>\n",
              "    <tr style=\"border: none;\">\n",
              "        <th style=\"padding: 0 1em 0 0.5em; text-align: right; border: none;\">Weight</th>\n",
              "        <th style=\"padding: 0 0.5em 0 0.5em; text-align: left; border: none;\">Feature</th>\n",
              "    </tr>\n",
              "    </thead>\n",
              "    <tbody>\n",
              "    \n",
              "        <tr style=\"background-color: hsl(120, 100.00%, 80.00%); border: none;\">\n",
              "            <td style=\"padding: 0 1em 0 0.5em; text-align: right; border: none;\">\n",
              "                0.1892\n",
              "                \n",
              "                    &plusmn; 0.0144\n",
              "                \n",
              "            </td>\n",
              "            <td style=\"padding: 0 0.5em 0 0.5em; text-align: left; border: none;\">\n",
              "                Glucose\n",
              "            </td>\n",
              "        </tr>\n",
              "    \n",
              "        <tr style=\"background-color: hsl(120, 100.00%, 86.71%); border: none;\">\n",
              "            <td style=\"padding: 0 1em 0 0.5em; text-align: right; border: none;\">\n",
              "                0.1055\n",
              "                \n",
              "                    &plusmn; 0.0238\n",
              "                \n",
              "            </td>\n",
              "            <td style=\"padding: 0 0.5em 0 0.5em; text-align: left; border: none;\">\n",
              "                Age\n",
              "            </td>\n",
              "        </tr>\n",
              "    \n",
              "        <tr style=\"background-color: hsl(120, 100.00%, 86.76%); border: none;\">\n",
              "            <td style=\"padding: 0 1em 0 0.5em; text-align: right; border: none;\">\n",
              "                0.1050\n",
              "                \n",
              "                    &plusmn; 0.0213\n",
              "                \n",
              "            </td>\n",
              "            <td style=\"padding: 0 0.5em 0 0.5em; text-align: left; border: none;\">\n",
              "                BMI\n",
              "            </td>\n",
              "        </tr>\n",
              "    \n",
              "        <tr style=\"background-color: hsl(120, 100.00%, 90.23%); border: none;\">\n",
              "            <td style=\"padding: 0 1em 0 0.5em; text-align: right; border: none;\">\n",
              "                0.0680\n",
              "                \n",
              "                    &plusmn; 0.0086\n",
              "                \n",
              "            </td>\n",
              "            <td style=\"padding: 0 0.5em 0 0.5em; text-align: left; border: none;\">\n",
              "                DiabetesPedigreeFunction\n",
              "            </td>\n",
              "        </tr>\n",
              "    \n",
              "        <tr style=\"background-color: hsl(120, 100.00%, 94.20%); border: none;\">\n",
              "            <td style=\"padding: 0 1em 0 0.5em; text-align: right; border: none;\">\n",
              "                0.0323\n",
              "                \n",
              "                    &plusmn; 0.0083\n",
              "                \n",
              "            </td>\n",
              "            <td style=\"padding: 0 0.5em 0 0.5em; text-align: left; border: none;\">\n",
              "                Insulin\n",
              "            </td>\n",
              "        </tr>\n",
              "    \n",
              "        <tr style=\"background-color: hsl(120, 100.00%, 94.33%); border: none;\">\n",
              "            <td style=\"padding: 0 1em 0 0.5em; text-align: right; border: none;\">\n",
              "                0.0312\n",
              "                \n",
              "                    &plusmn; 0.0090\n",
              "                \n",
              "            </td>\n",
              "            <td style=\"padding: 0 0.5em 0 0.5em; text-align: left; border: none;\">\n",
              "                BloodPressure\n",
              "            </td>\n",
              "        </tr>\n",
              "    \n",
              "        <tr style=\"background-color: hsl(120, 100.00%, 94.51%); border: none;\">\n",
              "            <td style=\"padding: 0 1em 0 0.5em; text-align: right; border: none;\">\n",
              "                0.0298\n",
              "                \n",
              "                    &plusmn; 0.0054\n",
              "                \n",
              "            </td>\n",
              "            <td style=\"padding: 0 0.5em 0 0.5em; text-align: left; border: none;\">\n",
              "                Pregnancies\n",
              "            </td>\n",
              "        </tr>\n",
              "    \n",
              "        <tr style=\"background-color: hsl(120, 100.00%, 94.95%); border: none;\">\n",
              "            <td style=\"padding: 0 1em 0 0.5em; text-align: right; border: none;\">\n",
              "                0.0265\n",
              "                \n",
              "                    &plusmn; 0.0081\n",
              "                \n",
              "            </td>\n",
              "            <td style=\"padding: 0 0.5em 0 0.5em; text-align: left; border: none;\">\n",
              "                SkinThickness\n",
              "            </td>\n",
              "        </tr>\n",
              "    \n",
              "    \n",
              "    </tbody>\n",
              "</table>\n",
              "    \n",
              "\n",
              "    \n",
              "\n",
              "\n",
              "    \n",
              "\n",
              "    \n",
              "\n",
              "    \n",
              "\n",
              "    \n",
              "\n",
              "    \n",
              "\n",
              "    \n",
              "\n",
              "\n",
              "\n"
            ],
            "text/plain": [
              "<IPython.core.display.HTML object>"
            ]
          },
          "metadata": {
            "tags": []
          },
          "execution_count": 29
        }
      ]
    },
    {
      "metadata": {
        "id": "vxiDEHhEVGKG",
        "colab_type": "text"
      },
      "cell_type": "markdown",
      "source": [
        "## Recursive Feature Elimination"
      ]
    },
    {
      "metadata": {
        "id": "9MKT1sfdVFlA",
        "colab_type": "code",
        "colab": {}
      },
      "cell_type": "code",
      "source": [
        "from sklearn.feature_selection import RFECV"
      ],
      "execution_count": 0,
      "outputs": []
    },
    {
      "metadata": {
        "id": "NpOE8m6yVIa1",
        "colab_type": "code",
        "colab": {
          "base_uri": "https://localhost:8080/",
          "height": 187
        },
        "outputId": "d41ede8f-c663-4b00-c21a-f7cf60db7385"
      },
      "cell_type": "code",
      "source": [
        "random_forest_model = RandomForestClassifier(n_estimators=100)\n",
        "kfold = KFold(n_splits=5, random_state=10) \n",
        "\n",
        "rfe = RFECV(estimator=random_forest_model, step=1, cv=kfold, scoring='accuracy')\n",
        "rfe.fit(X, y)"
      ],
      "execution_count": 31,
      "outputs": [
        {
          "output_type": "execute_result",
          "data": {
            "text/plain": [
              "RFECV(cv=KFold(n_splits=5, random_state=10, shuffle=False),\n",
              "   estimator=RandomForestClassifier(bootstrap=True, class_weight=None, criterion='gini',\n",
              "            max_depth=None, max_features='auto', max_leaf_nodes=None,\n",
              "            min_impurity_decrease=0.0, min_impurity_split=None,\n",
              "            min_samples_leaf=1, min_samples_split=2,\n",
              "            min_weight_fraction_leaf=0.0, n_estimators=100, n_jobs=None,\n",
              "            oob_score=False, random_state=None, verbose=0,\n",
              "            warm_start=False),\n",
              "   min_features_to_select=1, n_jobs=None, scoring='accuracy', step=1,\n",
              "   verbose=0)"
            ]
          },
          "metadata": {
            "tags": []
          },
          "execution_count": 31
        }
      ]
    },
    {
      "metadata": {
        "id": "gE8F8d2SVKWE",
        "colab_type": "code",
        "colab": {}
      },
      "cell_type": "code",
      "source": [
        "selected_features = rfe.get_support()\n",
        "selected_features = np.array(selected_features)"
      ],
      "execution_count": 0,
      "outputs": []
    },
    {
      "metadata": {
        "id": "B9hEKnOfWk-A",
        "colab_type": "code",
        "colab": {
          "base_uri": "https://localhost:8080/",
          "height": 51
        },
        "outputId": "63540d38-8bf8-42de-bfa2-7c065d9d4f35"
      },
      "cell_type": "code",
      "source": [
        "feature_names[selected_features]"
      ],
      "execution_count": 38,
      "outputs": [
        {
          "output_type": "execute_result",
          "data": {
            "text/plain": [
              "array(['Pregnancies', 'Glucose', 'BloodPressure', 'BMI',\n",
              "       'DiabetesPedigreeFunction', 'Age'], dtype='<U24')"
            ]
          },
          "metadata": {
            "tags": []
          },
          "execution_count": 38
        }
      ]
    },
    {
      "metadata": {
        "id": "e_1hmBTvVNR1",
        "colab_type": "code",
        "colab": {}
      },
      "cell_type": "code",
      "source": [
        "good_features = feature_names[selected_features]"
      ],
      "execution_count": 0,
      "outputs": []
    },
    {
      "metadata": {
        "id": "2pcOnhWNWanf",
        "colab_type": "code",
        "colab": {}
      },
      "cell_type": "code",
      "source": [
        "X = cleaned_dataset[good_features]\n",
        "y = cleaned_dataset[\"Outcome\"]\n",
        "\n",
        "X_train, X_val, y_train, y_val = train_test_split(X, y, stratify=cleaned_dataset[\"Outcome\"], random_state=0)"
      ],
      "execution_count": 0,
      "outputs": []
    },
    {
      "metadata": {
        "id": "rr5NuT7yW8kj",
        "colab_type": "code",
        "colab": {
          "base_uri": "https://localhost:8080/",
          "height": 1032
        },
        "outputId": "43c8de22-17cc-4b3d-d366-597cb4546e60"
      },
      "cell_type": "code",
      "source": [
        "random_forest_model = RandomForestClassifier(n_estimators=100)\n",
        "train_and_evaluate_model(random_forest_model, \"Random forest\")"
      ],
      "execution_count": 44,
      "outputs": [
        {
          "output_type": "stream",
          "text": [
            "Random forest train accuracy score: 1.0\n",
            "Random forest accuracy score: 0.7679558011049724\n",
            "-------------------------------------------\n",
            "Confusion matrix, without normalization\n",
            "Random forest sensitivity score: 0.8991596638655462\n",
            "Random forest specificity score: 0.5161290322580645\n",
            "-------------------------------------------\n",
            "              precision    recall  f1-score   support\n",
            "\n",
            "    positive       0.78      0.90      0.84       119\n",
            "    negative       0.73      0.52      0.60        62\n",
            "\n",
            "   micro avg       0.77      0.77      0.77       181\n",
            "   macro avg       0.75      0.71      0.72       181\n",
            "weighted avg       0.76      0.77      0.76       181\n",
            "\n"
          ],
          "name": "stdout"
        },
        {
          "output_type": "display_data",
          "data": {
            "image/png": "[encoded data removed]",
            "text/plain": [
              "<Figure size 576x396 with 2 Axes>"
            ]
          },
          "metadata": {
            "tags": []
          }
        },
        {
          "output_type": "display_data",
          "data": {
            "image/png": "[encoded data removed]",
            "text/plain": [
              "<Figure size 576x396 with 1 Axes>"
            ]
          },
          "metadata": {
            "tags": []
          }
        }
      ]
    },
    {
      "metadata": {
        "id": "UKHN9OQZYHz1",
        "colab_type": "code",
        "colab": {}
      },
      "cell_type": "code",
      "source": [
        "X = cleaned_dataset[feature_names]\n",
        "y = cleaned_dataset[\"Outcome\"]\n",
        "\n",
        "X_train, X_val, y_train, y_val = train_test_split(X, y, stratify=cleaned_dataset[\"Outcome\"], random_state=0)"
      ],
      "execution_count": 0,
      "outputs": []
    },
    {
      "metadata": {
        "id": "djQpWRNKZtfy",
        "colab_type": "code",
        "colab": {
          "base_uri": "https://localhost:8080/",
          "height": 1032
        },
        "outputId": "68390596-a579-4038-b25a-18bb9f19fd8d"
      },
      "cell_type": "code",
      "source": [
        "random_forest_model = RandomForestClassifier(n_estimators=100, max_depth=5, class_weight='balanced')\n",
        "train_and_evaluate_model(random_forest_model, \"Random forest\")"
      ],
      "execution_count": 49,
      "outputs": [
        {
          "output_type": "stream",
          "text": [
            "Random forest train accuracy score: 0.85451197053407\n",
            "Random forest accuracy score: 0.7845303867403315\n",
            "-------------------------------------------\n",
            "Confusion matrix, without normalization\n",
            "Random forest sensitivity score: 0.7983193277310925\n",
            "Random forest specificity score: 0.7580645161290323\n",
            "-------------------------------------------\n",
            "              precision    recall  f1-score   support\n",
            "\n",
            "    positive       0.86      0.80      0.83       119\n",
            "    negative       0.66      0.76      0.71        62\n",
            "\n",
            "   micro avg       0.78      0.78      0.78       181\n",
            "   macro avg       0.76      0.78      0.77       181\n",
            "weighted avg       0.79      0.78      0.79       181\n",
            "\n"
          ],
          "name": "stdout"
        },
        {
          "output_type": "display_data",
          "data": {
            "image/png": "[encoded data removed]",
            "text/plain": [
              "<Figure size 576x396 with 2 Axes>"
            ]
          },
          "metadata": {
            "tags": []
          }
        },
        {
          "output_type": "display_data",
          "data": {
            "image/png": "[encoded data removed]",
            "text/plain": [
              "<Figure size 576x396 with 1 Axes>"
            ]
          },
          "metadata": {
            "tags": []
          }
        }
      ]
    },
    {
      "metadata": {
        "id": "iEVQgNueZyk7",
        "colab_type": "code",
        "colab": {}
      },
      "cell_type": "code",
      "source": [
        "from sklearn.externals import joblib"
      ],
      "execution_count": 0,
      "outputs": []
    },
    {
      "metadata": {
        "id": "cbndnYOqZ6oU",
        "colab_type": "code",
        "colab": {
          "base_uri": "https://localhost:8080/",
          "height": 34
        },
        "outputId": "8258722c-6b84-45bf-8550-c0d45c3fc0a2"
      },
      "cell_type": "code",
      "source": [
        "filename = 'forest_diabetes_model.sav'\n",
        "joblib.dump(random_forest_model, filename)"
      ],
      "execution_count": 51,
      "outputs": [
        {
          "output_type": "execute_result",
          "data": {
            "text/plain": [
              "['forest_diabetes_model.sav']"
            ]
          },
          "metadata": {
            "tags": []
          },
          "execution_count": 51
        }
      ]
    },
    {
      "metadata": {
        "id": "6ZAm6eF_Z81U",
        "colab_type": "code",
        "colab": {}
      },
      "cell_type": "code",
      "source": [
        ""
      ],
      "execution_count": 0,
      "outputs": []
    }
  ]
}