
{
  "nbformat": 4,
  "nbformat_minor": 0,
  "metadata": {
    "colab": {
      "name": "breastCancer.ipynb",
      "version": "0.3.2",
      "provenance": [],
      "collapsed_sections": []
    },
    "kernelspec": {
      "name": "python3",
      "display_name": "Python 3"
    },
    "accelerator": "GPU"
  },
  "cells": [
    {
      "metadata": {
        "id": "_82qTr1dUFkj",
        "colab_type": "text"
      },
      "cell_type": "markdown",
      "source": [
        "## Kaggle"
      ]
    },
    {
      "metadata": {
        "id": "xnLjGVtMPAWP",
        "colab_type": "code",
        "colab": {}
      },
      "cell_type": "code",
      "source": [
        "!mkdir -p ~/.kaggle/"
      ],
      "execution_count": 0,
      "outputs": []
    },
    {
      "metadata": {
        "id": "iV7PDpbTWakY",
        "colab_type": "code",
        "colab": {}
      },
      "cell_type": "code",
      "source": [
        "mv kaggle.json ~/.kaggle/"
      ],
      "execution_count": 0,
      "outputs": []
    },
    {
      "metadata": {
        "id": "WdWMrkteEbU8",
        "colab_type": "code",
        "outputId": "cf85c4b4-f1b1-4780-b28a-ba2414e66037",
        "colab": {
          "base_uri": "https://localhost:8080/",
          "height": 85
        }
      },
      "cell_type": "code",
      "source": [
        "!kaggle datasets download -d paultimothymooney/breast-histopathology-images"
      ],
      "execution_count": 5,
      "outputs": [
        {
          "output_type": "stream",
          "text": [
            "Warning: Your Kaggle API key is readable by other users on this system! To fix this, you can run 'chmod 600 /root/.kaggle/kaggle.json'\n",
            "Downloading breast-histopathology-images.zip to /content\n",
            "100% 1.48G/1.49G [00:23<00:00, 101MB/s] \n",
            "100% 1.49G/1.49G [00:23<00:00, 67.3MB/s]\n"
          ],
          "name": "stdout"
        }
      ]
    },
    {
      "metadata": {
        "id": "QYc5Ba-0VE95",
        "colab_type": "code",
        "colab": {}
      },
      "cell_type": "code",
      "source": [
        "!mkdir images"
      ],
      "execution_count": 0,
      "outputs": []
    },
    {
      "metadata": {
        "id": "EqwU2LbtVAoo",
        "colab_type": "code",
        "colab": {}
      },
      "cell_type": "code",
      "source": [
        "!unzip -q breast-histopathology-images.zip"
      ],
      "execution_count": 0,
      "outputs": []
    },
    {
      "metadata": {
        "id": "4Kr1Rs0pUcQ5",
        "colab_type": "code",
        "colab": {}
      },
      "cell_type": "code",
      "source": [
        "!unzip -q IDC_regular_ps50_idx5.zip -d images"
      ],
      "execution_count": 0,
      "outputs": []
    },
    {
      "metadata": {
        "id": "G5OMnAFBxWoT",
        "colab_type": "code",
        "outputId": "e8c5ef46-6587-49f3-f8f8-4675175102a8",
        "colab": {
          "base_uri": "https://localhost:8080/",
          "height": 34
        }
      },
      "cell_type": "code",
      "source": [
        "import numpy as np\n",
        "import keras\n",
        "from keras import backend as K\n",
        "from keras.optimizers import Adam, SGD\n",
        "\n",
        "from keras.layers import Flatten, Dropout, BatchNormalization, Reshape, GlobalAveragePooling2D\n",
        "from keras.layers import Dense, Dropout, Input\n",
        "from keras.applications.mobilenet_v2 import MobileNetV2, preprocess_input\n",
        "\n",
        "from keras.models import Model\n",
        "from keras.callbacks import ReduceLROnPlateau, ModelCheckpoint, LearningRateScheduler\n",
        "\n",
        "from keras.preprocessing.image import ImageDataGenerator\n",
        "\n",
        "from sklearn.metrics import confusion_matrix\n",
        "import itertools\n",
        "import matplotlib.pyplot as plt\n",
        "import pandas as pd\n",
        "\n",
        "from keras.preprocessing import image\n",
        "\n",
        "from sklearn.model_selection import train_test_split\n",
        "from sklearn.utils.class_weight import compute_class_weight\n",
        "\n",
        "import matplotlib.image as mpimg\n",
        "\n",
        "import shutil\n",
        "import os"
      ],
      "execution_count": 9,
      "outputs": [
        {
          "output_type": "stream",
          "text": [
            "Using TensorFlow backend.\n"
          ],
          "name": "stderr"
        }
      ]
    },
    {
      "metadata": {
        "id": "QKRHzcuXVxGl",
        "colab_type": "code",
        "colab": {}
      },
      "cell_type": "code",
      "source": [
        "images_folder = os.listdir(\"images\")"
      ],
      "execution_count": 0,
      "outputs": []
    },
    {
      "metadata": {
        "id": "IjHCfq7kWzWP",
        "colab_type": "code",
        "outputId": "9b3e1193-db6f-4d50-9913-f26f691d3568",
        "colab": {
          "base_uri": "https://localhost:8080/",
          "height": 392
        }
      },
      "cell_type": "code",
      "source": [
        "first_folder = images_folder[0]\n",
        "benign_images_first_folder = f'images/{first_folder}/0'\n",
        "benign_images = os.listdir(benign_images_first_folder)[0:3]\n",
        "malignant_images_first_folder = f'images/{first_folder}/1'\n",
        "malignant_images = os.listdir(malignant_images_first_folder)[0:3]\n",
        "\n",
        "def plot_images(image_index, folder_name, image_name, title):\n",
        "  sp = figure.add_subplot(2, 3, image_index + 1)\n",
        "  sp.axis('Off')\n",
        "  image_path = f'{folder_name}/{image_name}'\n",
        "  image_loaded = img=mpimg.imread(image_path)\n",
        "  sp.set_title(title, fontsize=16)\n",
        "  plt.imshow(image_loaded, interpolation=None)\n",
        "\n",
        "figure = plt.figure(figsize=(12, 6))\n",
        "\n",
        "for image_index, image_name in enumerate(benign_images):\n",
        "  plot_images(image_index, benign_images_first_folder, image_name, \"Benign\")\n",
        "\n",
        "for image_index, image_name in enumerate(malignant_images):\n",
        "  plot_images(image_index + 3, malignant_images_first_folder, image_name, \"Malignant\")"
      ],
      "execution_count": 11,
      "outputs": [
        {
          "output_type": "display_data",
          "data": {
            "image/png": "[encoded data removed]",
            "text/plain": [
              "<Figure size 864x432 with 6 Axes>"
            ]
          },
          "metadata": {
            "tags": []
          }
        }
      ]
    },
    {
      "metadata": {
        "id": "lC8HnFAZYpMj",
        "colab_type": "code",
        "colab": {}
      },
      "cell_type": "code",
      "source": [
        "!mkdir training && mkdir validation"
      ],
      "execution_count": 0,
      "outputs": []
    },
    {
      "metadata": {
        "id": "w56vBtOqY4oH",
        "colab_type": "code",
        "colab": {}
      },
      "cell_type": "code",
      "source": [
        "!mkdir training/benign && mkdir training/malignant"
      ],
      "execution_count": 0,
      "outputs": []
    },
    {
      "metadata": {
        "id": "7BgZMhLuY-0s",
        "colab_type": "code",
        "colab": {}
      },
      "cell_type": "code",
      "source": [
        "!mkdir validation/benign && mkdir validation/malignant"
      ],
      "execution_count": 0,
      "outputs": []
    },
    {
      "metadata": {
        "id": "0rc3ePlDazMJ",
        "colab_type": "text"
      },
      "cell_type": "markdown",
      "source": [
        "## Move to training folder"
      ]
    },
    {
      "metadata": {
        "id": "th2Bp_Iue7l_",
        "colab_type": "code",
        "colab": {}
      },
      "cell_type": "code",
      "source": [
        "benign_images_training_folder_name = \"training/benign\"\n",
        "malignant_images_training_folder_name = \"training/malignant\""
      ],
      "execution_count": 0,
      "outputs": []
    },
    {
      "metadata": {
        "id": "rzekONYnFhcX",
        "colab_type": "code",
        "colab": {}
      },
      "cell_type": "code",
      "source": [
        "for folder in images_folder:\n",
        "  benign_folder = os.listdir(f'images/{folder}/0')\n",
        "  malignant_folder = os.listdir(f'images/{folder}/1')\n",
        "  \n",
        "  for benign_image in benign_folder:\n",
        "    image_url = f'images/{folder}/0/{benign_image}'\n",
        "    shutil.move(image_url, benign_images_training_folder_name)\n",
        "    \n",
        "  for malign_image in malignant_folder:\n",
        "    image_url = f'images/{folder}/1/{malign_image}'\n",
        "    shutil.move(image_url, malignant_images_training_folder_name)"
      ],
      "execution_count": 0,
      "outputs": []
    },
    {
      "metadata": {
        "id": "1sZidsEEb-_p",
        "colab_type": "code",
        "colab": {}
      },
      "cell_type": "code",
      "source": [
        "benign_images = len(os.listdir(benign_images_training_folder_name))\n",
        "malignant_images = len(os.listdir(malignant_images_training_folder_name))\n",
        "total_images =  benign_images + malignant_images"
      ],
      "execution_count": 0,
      "outputs": []
    },
    {
      "metadata": {
        "id": "6QE6JCrEcG-b",
        "colab_type": "code",
        "outputId": "206f0095-b5ec-42b5-986c-e5142d11c646",
        "colab": {
          "base_uri": "https://localhost:8080/",
          "height": 68
        }
      },
      "cell_type": "code",
      "source": [
        "print(f'Total images: {total_images}')\n",
        "print(f'Benign images: {benign_images}')\n",
        "print(f'Malignant images: {malignant_images}')"
      ],
      "execution_count": 18,
      "outputs": [
        {
          "output_type": "stream",
          "text": [
            "Total images: 277524\n",
            "Benign images: 198738\n",
            "Malignant images: 78786\n"
          ],
          "name": "stdout"
        }
      ]
    },
    {
      "metadata": {
        "id": "Olja0AE8bh7V",
        "colab_type": "text"
      },
      "cell_type": "markdown",
      "source": [
        "## Move to Validation folder"
      ]
    },
    {
      "metadata": {
        "id": "aLi-5IXJbg5i",
        "colab_type": "code",
        "colab": {}
      },
      "cell_type": "code",
      "source": [
        "validation_size = 0.20\n",
        "\n",
        "benign_validation_folder_size = int(benign_images * 0.20)\n",
        "malignant_validation_folder_size = int(malignant_images * 0.20)"
      ],
      "execution_count": 0,
      "outputs": []
    },
    {
      "metadata": {
        "id": "oqdsQ370dfXp",
        "colab_type": "code",
        "outputId": "8464580b-1e22-4619-a4ff-f48d0c0a57b7",
        "colab": {
          "base_uri": "https://localhost:8080/",
          "height": 51
        }
      },
      "cell_type": "code",
      "source": [
        "print(f'Benign validation size: {benign_validation_folder_size}')\n",
        "print(f'Malignant validation size: {malignant_validation_folder_size}')"
      ],
      "execution_count": 20,
      "outputs": [
        {
          "output_type": "stream",
          "text": [
            "Benign validation size: 39747\n",
            "Malignant validation size: 15757\n"
          ],
          "name": "stdout"
        }
      ]
    },
    {
      "metadata": {
        "id": "weifQ46VgkZe",
        "colab_type": "code",
        "colab": {}
      },
      "cell_type": "code",
      "source": [
        "benign_images_validation_folder_name = \"validation/benign\"\n",
        "malignant_images_validation_folder_name = \"validation/malignant\""
      ],
      "execution_count": 0,
      "outputs": []
    },
    {
      "metadata": {
        "id": "w4XQciDLdmpO",
        "colab_type": "code",
        "colab": {}
      },
      "cell_type": "code",
      "source": [
        "benign_images_training_folder = os.listdir(benign_images_training_folder_name)\n",
        "malignant_images_training_folder = os.listdir(malignant_images_training_folder_name)\n",
        "\n",
        "for image_name in benign_images_training_folder[:benign_validation_folder_size]:\n",
        "  image_url = f'{benign_images_training_folder_name}/{image_name}'\n",
        "  shutil.move(image_url, benign_images_validation_folder_name)\n",
        "  \n",
        "for image_name in malignant_images_training_folder[:malignant_validation_folder_size]:\n",
        "  image_url = f'{malignant_images_training_folder_name}/{image_name}'\n",
        "  shutil.move(image_url, malignant_images_validation_folder_name)"
      ],
      "execution_count": 0,
      "outputs": []
    },
    {
      "metadata": {
        "id": "qffWk7LSfo_X",
        "colab_type": "code",
        "colab": {}
      },
      "cell_type": "code",
      "source": [
        "training_folder_size = len(os.listdir(benign_images_training_folder_name)) + len(os.listdir(malignant_images_training_folder_name))\n",
        "validation_folder_size = len(os.listdir(benign_images_validation_folder_name)) + len(os.listdir(malignant_images_validation_folder_name))"
      ],
      "execution_count": 0,
      "outputs": []
    },
    {
      "metadata": {
        "id": "lEqYWskjgBnR",
        "colab_type": "code",
        "outputId": "0a2ff41b-57a0-46a6-835c-409fbb295bd3",
        "colab": {
          "base_uri": "https://localhost:8080/",
          "height": 51
        }
      },
      "cell_type": "code",
      "source": [
        "print(f'Training folder size: {training_folder_size}')\n",
        "print(f'Validation folder size: {validation_folder_size}')"
      ],
      "execution_count": 24,
      "outputs": [
        {
          "output_type": "stream",
          "text": [
            "Training folder size: 222020\n",
            "Validation folder size: 55504\n"
          ],
          "name": "stdout"
        }
      ]
    },
    {
      "metadata": {
        "id": "aFu7w3UyhQsy",
        "colab_type": "text"
      },
      "cell_type": "markdown",
      "source": [
        "## Generators"
      ]
    },
    {
      "metadata": {
        "id": "LGSQbcPLhP4t",
        "colab_type": "code",
        "colab": {}
      },
      "cell_type": "code",
      "source": [
        "batch_size = 128\n",
        "img_size = 48\n",
        "input_img_size = (48, 48, 3)\n",
        "num_classes = 2"
      ],
      "execution_count": 0,
      "outputs": []
    },
    {
      "metadata": {
        "id": "rV6ZP-o-hMJj",
        "colab_type": "code",
        "outputId": "3a029a27-1726-407d-935b-7e5dd87a4509",
        "colab": {
          "base_uri": "https://localhost:8080/",
          "height": 51
        }
      },
      "cell_type": "code",
      "source": [
        "train_generator = ImageDataGenerator(\n",
        "    preprocessing_function=preprocess_input,\n",
        "    rotation_range=20,\n",
        "    zoom_range=0.05,\n",
        "    width_shift_range=0.05,\n",
        "    height_shift_range=0.05,\n",
        "    shear_range=0.05,\n",
        "    horizontal_flip=True,\n",
        "    fill_mode=\"nearest\").flow_from_directory(\n",
        "    \"training\",\n",
        "    target_size=(img_size, img_size),\n",
        "    color_mode=\"rgb\",\n",
        "\t  shuffle=True,\n",
        "    batch_size=batch_size)\n",
        "\n",
        "val_generator = ImageDataGenerator(\n",
        "    preprocessing_function=preprocess_input).flow_from_directory(\n",
        "    \"validation\",\n",
        "    target_size=(img_size, img_size),\n",
        "    color_mode=\"rgb\",\n",
        "\t  shuffle=False,\n",
        "    batch_size=batch_size)"
      ],
      "execution_count": 26,
      "outputs": [
        {
          "output_type": "stream",
          "text": [
            "Found 222020 images belonging to 2 classes.\n",
            "Found 55504 images belonging to 2 classes.\n"
          ],
          "name": "stdout"
        }
      ]
    },
    {
      "metadata": {
        "id": "OsgcwsSoiVQO",
        "colab_type": "code",
        "colab": {}
      },
      "cell_type": "code",
      "source": [
        "train_steps = int(training_folder_size // batch_size)\n",
        "val_steps = int(validation_folder_size // batch_size) "
      ],
      "execution_count": 0,
      "outputs": []
    },
    {
      "metadata": {
        "id": "ZhlHVPfeifqT",
        "colab_type": "code",
        "outputId": "5983c09c-fef5-4464-d3b5-b26dd64cbd6d",
        "colab": {
          "base_uri": "https://localhost:8080/",
          "height": 34
        }
      },
      "cell_type": "code",
      "source": [
        "train_steps, val_steps"
      ],
      "execution_count": 28,
      "outputs": [
        {
          "output_type": "execute_result",
          "data": {
            "text/plain": [
              "(1734, 433)"
            ]
          },
          "metadata": {
            "tags": []
          },
          "execution_count": 28
        }
      ]
    },
    {
      "metadata": {
        "id": "CkMX9t7Gil6t",
        "colab_type": "text"
      },
      "cell_type": "markdown",
      "source": [
        "## Model"
      ]
    },
    {
      "metadata": {
        "id": "D86hdx7rihgP",
        "colab_type": "code",
        "colab": {}
      },
      "cell_type": "code",
      "source": [
        "def create_model():\n",
        "  input_tensor = Input(shape=input_img_size)\n",
        "  \n",
        "  mobile_model = MobileNetV2(\n",
        "       weights=None,\n",
        "       input_tensor=input_tensor,\n",
        "       input_shape=input_img_size,\n",
        "       alpha=1.5,\n",
        "       include_top=False)\n",
        "  \n",
        "  for layer in mobile_model.layers:\n",
        "    layer.trainable = True\n",
        "  \n",
        "  mobile_model_output = mobile_model.output\n",
        "  classification_layer = Flatten()(mobile_model_output)\n",
        "  classification_layer = Dense(256, activation='relu')(classification_layer)\n",
        "  classification_layer = Dropout(0.5)(classification_layer)\n",
        "  predictions = Dense(activation=\"softmax\", units=num_classes)(classification_layer)\n",
        "\n",
        "  model = Model(inputs=input_tensor, outputs=predictions)\n",
        "  \n",
        "  return model"
      ],
      "execution_count": 0,
      "outputs": []
    },
    {
      "metadata": {
        "id": "umAwfSoyiyO4",
        "colab_type": "code",
        "colab": {}
      },
      "cell_type": "code",
      "source": [
        "learning_rate = 3e-4\n",
        "epochs = 20"
      ],
      "execution_count": 0,
      "outputs": []
    },
    {
      "metadata": {
        "id": "4S8u4nsWiztB",
        "colab_type": "code",
        "colab": {}
      },
      "cell_type": "code",
      "source": [
        "def polynomial_decay(epoch):\n",
        "\tpower = 1.0\n",
        " \n",
        "\talpha = learning_rate * (1 - (epoch / float(epochs))) ** power\n",
        "\treturn alpha"
      ],
      "execution_count": 0,
      "outputs": []
    },
    {
      "metadata": {
        "id": "MzsRYh6qkRHF",
        "colab_type": "code",
        "colab": {}
      },
      "cell_type": "code",
      "source": [
        "y_true = np.concatenate((val_generator.classes, train_generator.classes))"
      ],
      "execution_count": 0,
      "outputs": []
    },
    {
      "metadata": {
        "id": "QGTt43lYkGZE",
        "colab_type": "code",
        "colab": {}
      },
      "cell_type": "code",
      "source": [
        "cw = compute_class_weight('balanced', np.unique(y_true), y_true)"
      ],
      "execution_count": 0,
      "outputs": []
    },
    {
      "metadata": {
        "id": "KPmP00tplZOm",
        "colab_type": "code",
        "colab": {}
      },
      "cell_type": "code",
      "source": [
        "class_weights = {index: weight for index, weight in enumerate(cw)}"
      ],
      "execution_count": 0,
      "outputs": []
    },
    {
      "metadata": {
        "id": "I9_4uMJLl-J0",
        "colab_type": "code",
        "outputId": "689b09b6-73b3-48c0-edd1-f3e9a47f0177",
        "colab": {
          "base_uri": "https://localhost:8080/",
          "height": 34
        }
      },
      "cell_type": "code",
      "source": [
        "class_weights"
      ],
      "execution_count": 0,
      "outputs": [
        {
          "output_type": "execute_result",
          "data": {
            "text/plain": [
              "{0: 0.6982157413277783, 1: 1.761251999086132}"
            ]
          },
          "metadata": {
            "tags": []
          },
          "execution_count": 33
        }
      ]
    },
    {
      "metadata": {
        "id": "bOq-b2WKi1F3",
        "colab_type": "code",
        "outputId": "ec29af15-6546-47c0-de62-2d23b646a516",
        "colab": {
          "base_uri": "https://localhost:8080/",
          "height": 88
        }
      },
      "cell_type": "code",
      "source": [
        "weights_name = \"epoch={epoch:02d}|accuracy={val_acc:.4f}.h5\"\n",
        "\n",
        "checkpoint = ModelCheckpoint(weights_name, monitor=\"val_acc\", verbose=1, save_best_only=True,\n",
        "                                 save_weights_only=True, mode=\"max\", period=1)\n",
        "\n",
        "lr_decay = LearningRateScheduler(polynomial_decay)\n",
        "\n",
        "optimizer = SGD(lr=learning_rate, momentum=0.9)"
      ],
      "execution_count": 35,
      "outputs": [
        {
          "output_type": "stream",
          "text": [
            "WARNING:tensorflow:From /usr/local/lib/python3.6/dist-packages/tensorflow/python/framework/op_def_library.py:263: colocate_with (from tensorflow.python.framework.ops) is deprecated and will be removed in a future version.\n",
            "Instructions for updating:\n",
            "Colocations handled automatically by placer.\n"
          ],
          "name": "stdout"
        }
      ]
    },
    {
      "metadata": {
        "id": "d8SF8Y9Li7sJ",
        "colab_type": "code",
        "outputId": "27da9640-4830-44f4-86aa-e0ec07aaf193",
        "colab": {
          "base_uri": "https://localhost:8080/",
          "height": 88
        }
      },
      "cell_type": "code",
      "source": [
        "model = create_model()\n",
        "model.compile(loss='binary_crossentropy', optimizer=optimizer, metrics=['acc'])"
      ],
      "execution_count": 36,
      "outputs": [
        {
          "output_type": "stream",
          "text": [
            "WARNING:tensorflow:From /usr/local/lib/python3.6/dist-packages/keras/backend/tensorflow_backend.py:3445: calling dropout (from tensorflow.python.ops.nn_ops) with keep_prob is deprecated and will be removed in a future version.\n",
            "Instructions for updating:\n",
            "Please use `rate` instead of `keep_prob`. Rate should be set to `rate = 1 - keep_prob`.\n"
          ],
          "name": "stdout"
        }
      ]
    },
    {
      "metadata": {
        "id": "wT-RGl9QjI9C",
        "colab_type": "code",
        "outputId": "f0788398-c1f2-4012-f6bd-8b0081b772b3",
        "colab": {
          "base_uri": "https://localhost:8080/",
          "height": 1448
        }
      },
      "cell_type": "code",
      "source": [
        "trained_model = model.fit_generator(train_generator,\n",
        "                        epochs=epochs,\n",
        "                        class_weight=class_weights,\n",
        "                        steps_per_epoch=train_steps,\n",
        "                        callbacks=[checkpoint, lr_decay],\n",
        "                        validation_data=val_generator,\n",
        "                        validation_steps=val_steps,\n",
        "                        verbose=1)"
      ],
      "execution_count": 0,
      "outputs": [
        {
          "output_type": "stream",
          "text": [
            "WARNING:tensorflow:From /usr/local/lib/python3.6/dist-packages/tensorflow/python/ops/math_ops.py:3066: to_int32 (from tensorflow.python.ops.math_ops) is deprecated and will be removed in a future version.\n",
            "Instructions for updating:\n",
            "Use tf.cast instead.\n",
            "Epoch 1/20\n",
            "1734/1734 [==============================] - 1073s 619ms/step - loss: 0.4558 - acc: 0.8023 - val_loss: 0.3677 - val_acc: 0.8448\n",
            "\n",
            "Epoch 00001: val_acc improved from -inf to 0.84478, saving model to epoch=01|accuracy=0.8448.h5\n",
            "Epoch 2/20\n",
            "1734/1734 [==============================] - 1044s 602ms/step - loss: 0.4011 - acc: 0.8272 - val_loss: 0.4111 - val_acc: 0.8396\n",
            "\n",
            "Epoch 00002: val_acc did not improve from 0.84478\n",
            "Epoch 3/20\n",
            "1734/1734 [==============================] - 1045s 603ms/step - loss: 0.3841 - acc: 0.8336 - val_loss: 0.3658 - val_acc: 0.8501\n",
            "\n",
            "Epoch 00003: val_acc improved from 0.84478 to 0.85013, saving model to epoch=03|accuracy=0.8501.h5\n",
            "Epoch 4/20\n",
            "1734/1734 [==============================] - 1040s 600ms/step - loss: 0.3748 - acc: 0.8370 - val_loss: 0.4060 - val_acc: 0.8155\n",
            "\n",
            "Epoch 00004: val_acc did not improve from 0.85013\n",
            "Epoch 5/20\n",
            "1734/1734 [==============================] - 1049s 605ms/step - loss: 0.3676 - acc: 0.8411 - val_loss: 0.3786 - val_acc: 0.8337\n",
            "\n",
            "Epoch 00005: val_acc did not improve from 0.85013\n",
            "Epoch 6/20\n",
            "1734/1734 [==============================] - 1044s 602ms/step - loss: 0.3633 - acc: 0.8420 - val_loss: 0.3482 - val_acc: 0.8598\n",
            "\n",
            "Epoch 00006: val_acc improved from 0.85013 to 0.85978, saving model to epoch=06|accuracy=0.8598.h5\n",
            "Epoch 7/20\n",
            "1734/1734 [==============================] - 1048s 605ms/step - loss: 0.3596 - acc: 0.8437 - val_loss: 0.3772 - val_acc: 0.8391\n",
            "\n",
            "Epoch 00007: val_acc did not improve from 0.85978\n",
            "Epoch 8/20\n",
            "1734/1734 [==============================] - 1049s 605ms/step - loss: 0.3548 - acc: 0.8457 - val_loss: 0.3271 - val_acc: 0.8615\n",
            "\n",
            "Epoch 00008: val_acc improved from 0.85978 to 0.86146, saving model to epoch=08|accuracy=0.8615.h5\n",
            "Epoch 9/20\n",
            "1734/1734 [==============================] - 1053s 607ms/step - loss: 0.3512 - acc: 0.8464 - val_loss: 0.3410 - val_acc: 0.8553\n",
            "\n",
            "Epoch 00009: val_acc did not improve from 0.86146\n",
            "Epoch 10/20\n",
            "1734/1734 [==============================] - 1050s 605ms/step - loss: 0.3491 - acc: 0.8469 - val_loss: 0.3256 - val_acc: 0.8644\n",
            "\n",
            "Epoch 00010: val_acc improved from 0.86146 to 0.86440, saving model to epoch=10|accuracy=0.8644.h5\n",
            "Epoch 11/20\n",
            "1734/1734 [==============================] - 1052s 607ms/step - loss: 0.3451 - acc: 0.8487 - val_loss: 0.3150 - val_acc: 0.8650\n",
            "\n",
            "Epoch 00011: val_acc improved from 0.86440 to 0.86505, saving model to epoch=11|accuracy=0.8650.h5\n",
            "Epoch 12/20\n",
            "1734/1734 [==============================] - 1067s 615ms/step - loss: 0.3431 - acc: 0.8497 - val_loss: 0.3537 - val_acc: 0.8466\n",
            "\n",
            "Epoch 00012: val_acc did not improve from 0.86505\n",
            "Epoch 13/20\n",
            "1734/1734 [==============================] - 1069s 617ms/step - loss: 0.3408 - acc: 0.8514 - val_loss: 0.3410 - val_acc: 0.8544\n",
            "\n",
            "Epoch 00013: val_acc did not improve from 0.86505\n",
            "Epoch 14/20\n",
            "1734/1734 [==============================] - 1049s 605ms/step - loss: 0.3390 - acc: 0.8512 - val_loss: 0.3256 - val_acc: 0.8603\n",
            "\n",
            "Epoch 00014: val_acc did not improve from 0.86505\n",
            "Epoch 15/20\n",
            "1734/1734 [==============================] - 1058s 610ms/step - loss: 0.3366 - acc: 0.8522 - val_loss: 0.3063 - val_acc: 0.8687\n",
            "\n",
            "Epoch 00015: val_acc improved from 0.86505 to 0.86872, saving model to epoch=15|accuracy=0.8687.h5\n",
            "Epoch 16/20\n",
            "1734/1734 [==============================] - 1045s 603ms/step - loss: 0.3357 - acc: 0.8530 - val_loss: 0.3421 - val_acc: 0.8530\n",
            "\n",
            "Epoch 00016: val_acc did not improve from 0.86872\n",
            "Epoch 17/20\n",
            "1734/1734 [==============================] - 1043s 601ms/step - loss: 0.3349 - acc: 0.8533 - val_loss: 0.3329 - val_acc: 0.8576\n",
            "\n",
            "Epoch 00017: val_acc did not improve from 0.86872\n",
            "Epoch 18/20\n",
            "1734/1734 [==============================] - 1045s 603ms/step - loss: 0.3336 - acc: 0.8537 - val_loss: 0.3246 - val_acc: 0.8605\n",
            "\n",
            "Epoch 00018: val_acc did not improve from 0.86872\n",
            "Epoch 19/20\n",
            "1734/1734 [==============================] - 1045s 603ms/step - loss: 0.3327 - acc: 0.8545 - val_loss: 0.3354 - val_acc: 0.8548\n",
            "\n",
            "Epoch 00019: val_acc did not improve from 0.86872\n",
            "Epoch 20/20\n",
            "1734/1734 [==============================] - 1051s 606ms/step - loss: 0.3321 - acc: 0.8544 - val_loss: 0.3277 - val_acc: 0.8581\n",
            "\n",
            "Epoch 00020: val_acc did not improve from 0.86872\n"
          ],
          "name": "stdout"
        }
      ]
    },
    {
      "metadata": {
        "id": "1D2eDrvHjLVv",
        "colab_type": "code",
        "colab": {}
      },
      "cell_type": "code",
      "source": [
        "def plot_validation_training(metric, trained_model):\n",
        "  validation_metric = trained_model.history[f'val_{metric}']\n",
        "  training_metric = trained_model.history[metric]\n",
        "  epochs = range(len(training_metric))\n",
        "  plt.plot(epochs, training_metric, 'b', label=f'Training {metric}')\n",
        "  plt.plot(epochs, validation_metric, 'r', label=f'Validation {metric}')\n",
        "  plt.ylim(bottom=0)\n",
        "  plt.xlabel('Epochs ', fontsize=16)\n",
        "  plt.ylabel(metric, fontsize=16)\n",
        "  loc = 'upper right' if metric == \"loss\" else 'lower right'\n",
        "  plt.legend(loc=loc)\n",
        "  plt.title(f'Training and validation {metric}', fontsize = 20)\n",
        "  plt.show()"
      ],
      "execution_count": 0,
      "outputs": []
    },
    {
      "metadata": {
        "id": "-6vbh3hQjQZv",
        "colab_type": "code",
        "outputId": "b87558dd-0ca0-44e4-c842-fdd5e1d8ff6b",
        "colab": {
          "base_uri": "https://localhost:8080/",
          "height": 387
        }
      },
      "cell_type": "code",
      "source": [
        "plot_validation_training(\"loss\", trained_model)"
      ],
      "execution_count": 0,
      "outputs": [
        {
          "output_type": "display_data",
          "data": {
            "image/png": "[encoded data removed]",
            "text/plain": [
              "<Figure size 576x396 with 1 Axes>"
            ]
          },
          "metadata": {
            "tags": []
          }
        }
      ]
    },
    {
      "metadata": {
        "id": "Q36sAG4-jRwI",
        "colab_type": "code",
        "outputId": "bb85c1a3-0689-44e0-ae7b-7df796ccc98b",
        "colab": {
          "base_uri": "https://localhost:8080/",
          "height": 387
        }
      },
      "cell_type": "code",
      "source": [
        "plot_validation_training(\"acc\", trained_model)"
      ],
      "execution_count": 0,
      "outputs": [
        {
          "output_type": "display_data",
          "data": {
            "image/png": "[encoded data removed]",
            "text/plain": [
              "<Figure size 576x396 with 1 Axes>"
            ]
          },
          "metadata": {
            "tags": []
          }
        }
      ]
    },
    {
      "metadata": {
        "id": "o7J1YvjGjTs7",
        "colab_type": "code",
        "colab": {}
      },
      "cell_type": "code",
      "source": [
        "def plot_confusion_matrix(cm, classes,\n",
        "                          normalize=False,\n",
        "                          title='Confusion matrix',\n",
        "                          cmap=plt.cm.Blues):\n",
        "    \"\"\"\n",
        "    This function prints and plots the confusion matrix.\n",
        "    Normalization can be applied by setting `normalize=True`.\n",
        "    \"\"\"\n",
        "    if normalize:\n",
        "        cm = cm.astype('float') / cm.sum(axis=1)[:, np.newaxis]\n",
        "        print(\"Normalized confusion matrix\")\n",
        "    else:\n",
        "        print('Confusion matrix, without normalization')\n",
        "\n",
        "    plt.imshow(cm, interpolation='nearest', cmap=cmap)\n",
        "    plt.title(title)\n",
        "    plt.colorbar()\n",
        "    tick_marks = np.arange(len(classes))\n",
        "    plt.xticks(tick_marks, classes, rotation=45)\n",
        "    plt.yticks(tick_marks, classes)\n",
        "\n",
        "    fmt = '.2f' if normalize else 'd'\n",
        "    thresh = cm.max() / 2.\n",
        "    for i, j in itertools.product(range(cm.shape[0]), range(cm.shape[1])):\n",
        "        plt.text(j, i, format(cm[i, j], fmt),\n",
        "                 horizontalalignment=\"center\",\n",
        "                 color=\"white\" if cm[i, j] > thresh else \"black\")\n",
        "\n",
        "    plt.ylabel('True label')\n",
        "    plt.xlabel('Predicted label')\n",
        "    plt.tight_layout()"
      ],
      "execution_count": 0,
      "outputs": []
    },
    {
      "metadata": {
        "id": "kfaMMhrxs3-T",
        "colab_type": "code",
        "colab": {}
      },
      "cell_type": "code",
      "source": [
        "model.load_weights('epoch=15_accuracy=0.8687.h5')"
      ],
      "execution_count": 0,
      "outputs": []
    },
    {
      "metadata": {
        "id": "3iy9IjpijVUw",
        "colab_type": "code",
        "colab": {}
      },
      "cell_type": "code",
      "source": [
        "val_generator.reset()"
      ],
      "execution_count": 0,
      "outputs": []
    },
    {
      "metadata": {
        "id": "h2zPTlBOjXHF",
        "colab_type": "code",
        "outputId": "f7a35465-d3c3-469f-ffd5-c9ce784d9971",
        "colab": {
          "base_uri": "https://localhost:8080/",
          "height": 34
        }
      },
      "cell_type": "code",
      "source": [
        "classes_predicted = model.predict_generator(val_generator, steps=val_steps, verbose=1)"
      ],
      "execution_count": 0,
      "outputs": [
        {
          "output_type": "stream",
          "text": [
            "433/433 [==============================] - 77s 177ms/step\n"
          ],
          "name": "stdout"
        }
      ]
    },
    {
      "metadata": {
        "id": "LOGeMc1CjY3U",
        "colab_type": "code",
        "outputId": "8f49fb82-0b74-447d-a777-8d5ba45a402b",
        "colab": {
          "base_uri": "https://localhost:8080/",
          "height": 34
        }
      },
      "cell_type": "code",
      "source": [
        "len(classes_predicted)"
      ],
      "execution_count": 0,
      "outputs": [
        {
          "output_type": "execute_result",
          "data": {
            "text/plain": [
              "55424"
            ]
          },
          "metadata": {
            "tags": []
          },
          "execution_count": 43
        }
      ]
    },
    {
      "metadata": {
        "id": "JXkMfIxEjaz6",
        "colab_type": "code",
        "colab": {}
      },
      "cell_type": "code",
      "source": [
        "real_classes = np.argmax(classes_predicted, axis=1)"
      ],
      "execution_count": 0,
      "outputs": []
    },
    {
      "metadata": {
        "id": "2QVsGDXgjcM-",
        "colab_type": "code",
        "colab": {}
      },
      "cell_type": "code",
      "source": [
        "val_labels = val_generator.classes"
      ],
      "execution_count": 0,
      "outputs": []
    },
    {
      "metadata": {
        "id": "0svhad3D3SUs",
        "colab_type": "code",
        "outputId": "87720e1e-69af-42df-9cca-9571ce7a7ccc",
        "colab": {
          "base_uri": "https://localhost:8080/",
          "height": 34
        }
      },
      "cell_type": "code",
      "source": [
        "len(val_labels)"
      ],
      "execution_count": 0,
      "outputs": [
        {
          "output_type": "execute_result",
          "data": {
            "text/plain": [
              "55504"
            ]
          },
          "metadata": {
            "tags": []
          },
          "execution_count": 46
        }
      ]
    },
    {
      "metadata": {
        "id": "QoqePxngjds5",
        "colab_type": "code",
        "colab": {}
      },
      "cell_type": "code",
      "source": [
        "val_labels = val_labels[:55424]"
      ],
      "execution_count": 0,
      "outputs": []
    },
    {
      "metadata": {
        "id": "MMDBs85_jgQz",
        "colab_type": "code",
        "outputId": "e32fa14c-e5e5-430e-cd31-c7f0d56d6a1f",
        "colab": {
          "base_uri": "https://localhost:8080/",
          "height": 34
        }
      },
      "cell_type": "code",
      "source": [
        "len(val_labels), len(real_classes)"
      ],
      "execution_count": 0,
      "outputs": [
        {
          "output_type": "execute_result",
          "data": {
            "text/plain": [
              "(55424, 55424)"
            ]
          },
          "metadata": {
            "tags": []
          },
          "execution_count": 48
        }
      ]
    },
    {
      "metadata": {
        "id": "MLP3V48HjiL0",
        "colab_type": "code",
        "outputId": "4347503c-3a9f-429d-a231-85e1328df6d9",
        "colab": {
          "base_uri": "https://localhost:8080/",
          "height": 34
        }
      },
      "cell_type": "code",
      "source": [
        "val_generator.class_indices"
      ],
      "execution_count": 0,
      "outputs": [
        {
          "output_type": "execute_result",
          "data": {
            "text/plain": [
              "{'benign': 0, 'malignant': 1}"
            ]
          },
          "metadata": {
            "tags": []
          },
          "execution_count": 49
        }
      ]
    },
    {
      "metadata": {
        "id": "-I0hPHU9jjyf",
        "colab_type": "code",
        "colab": {}
      },
      "cell_type": "code",
      "source": [
        "classes_names = [\"Benign\", \"Malignant\"]"
      ],
      "execution_count": 0,
      "outputs": []
    },
    {
      "metadata": {
        "id": "fVooRo5OjuIb",
        "colab_type": "code",
        "outputId": "abbb52e8-96d0-42cf-fc99-dba51a553848",
        "colab": {
          "base_uri": "https://localhost:8080/",
          "height": 418
        }
      },
      "cell_type": "code",
      "source": [
        "cm = confusion_matrix(val_labels, real_classes, labels=range(num_classes))\n",
        "plot_confusion_matrix(cm, classes_names)"
      ],
      "execution_count": 0,
      "outputs": [
        {
          "output_type": "stream",
          "text": [
            "Confusion matrix, without normalization\n"
          ],
          "name": "stdout"
        },
        {
          "output_type": "display_data",
          "data": {
            "image/png": "[encoded data removed]",
            "text/plain": [
              "<Figure size 576x396 with 2 Axes>"
            ]
          },
          "metadata": {
            "tags": []
          }
        }
      ]
    },
    {
      "metadata": {
        "id": "mcnY6BLSjyEX",
        "colab_type": "code",
        "outputId": "b3e1bcd1-ec48-450f-fe64-91cf88e2d87b",
        "colab": {
          "base_uri": "https://localhost:8080/",
          "height": 51
        }
      },
      "cell_type": "code",
      "source": [
        "sensitivity = cm[0, 0] / (cm[0, 0] + cm[0, 1])\n",
        "print(f'sensitivity: {sensitivity}')\n",
        "\n",
        "specificity = cm[1, 1] / (cm[1, 1] + cm[1, 0])\n",
        "print(f'specifity: {specificity}')"
      ],
      "execution_count": 0,
      "outputs": [
        {
          "output_type": "stream",
          "text": [
            "sensitivity: 0.8568193825949129\n",
            "specifity: 0.8617720227084263\n"
          ],
          "name": "stdout"
        }
      ]
    },
    {
      "metadata": {
        "id": "_chKt-onjzs7",
        "colab_type": "code",
        "colab": {}
      },
      "cell_type": "code",
      "source": [
        "from sklearn.metrics import classification_report"
      ],
      "execution_count": 0,
      "outputs": []
    },
    {
      "metadata": {
        "id": "uUxmxH9Tj1aU",
        "colab_type": "code",
        "outputId": "498ebbe9-d3b2-451b-c736-d8379bb83710",
        "colab": {
          "base_uri": "https://localhost:8080/",
          "height": 170
        }
      },
      "cell_type": "code",
      "source": [
        "report = classification_report(val_labels, real_classes, target_names=classes_names)\n",
        "print(report)"
      ],
      "execution_count": 0,
      "outputs": [
        {
          "output_type": "stream",
          "text": [
            "              precision    recall  f1-score   support\n",
            "\n",
            "      Benign       0.94      0.86      0.90     39747\n",
            "   Malignant       0.70      0.86      0.77     15677\n",
            "\n",
            "   micro avg       0.86      0.86      0.86     55424\n",
            "   macro avg       0.82      0.86      0.84     55424\n",
            "weighted avg       0.87      0.86      0.86     55424\n",
            "\n"
          ],
          "name": "stdout"
        }
      ]
    },
    {
      "metadata": {
        "id": "HONahXsYr2dM",
        "colab_type": "text"
      },
      "cell_type": "markdown",
      "source": [
        "## Gradient maps"
      ]
    },
    {
      "metadata": {
        "id": "AKZUVqtMr1xf",
        "colab_type": "code",
        "colab": {
          "base_uri": "https://localhost:8080/",
          "height": 170
        },
        "outputId": "36780f60-8776-41c4-e464-19b75f4678a9"
      },
      "cell_type": "code",
      "source": [
        "!pip uninstall keras-vis"
      ],
      "execution_count": 1,
      "outputs": [
        {
          "output_type": "stream",
          "text": [
            "Uninstalling keras-vis-0.4.1:\n",
            "  Would remove:\n",
            "    /usr/local/lib/python3.6/dist-packages/docs/*\n",
            "    /usr/local/lib/python3.6/dist-packages/keras_vis-0.4.1.dist-info/*\n",
            "    /usr/local/lib/python3.6/dist-packages/vis/*\n",
            "  Would not remove (might be manually added):\n",
            "    /usr/local/lib/python3.6/dist-packages/docs/autogen.py\n",
            "Proceed (y/n)? y\n",
            "  Successfully uninstalled keras-vis-0.4.1\n"
          ],
          "name": "stdout"
        }
      ]
    },
    {
      "metadata": {
        "id": "uTbRFc5fr4sw",
        "colab_type": "code",
        "colab": {}
      },
      "cell_type": "code",
      "source": [
        "!pip install git+https://github.com/raghakot/keras-vis.git -U"
      ],
      "execution_count": 0,
      "outputs": []
    },
    {
      "metadata": {
        "id": "BoGJ6T1Rr_Ob",
        "colab_type": "code",
        "colab": {}
      },
      "cell_type": "code",
      "source": [
        "from vis.visualization import visualize_saliency, overlay\n",
        "from vis.utils import utils\n",
        "from keras import activations"
      ],
      "execution_count": 0,
      "outputs": []
    },
    {
      "metadata": {
        "id": "nTe7r0qitLIb",
        "colab_type": "code",
        "colab": {}
      },
      "cell_type": "code",
      "source": [
        "benign_folder = os.listdir(\"training/benign\")\n",
        "malignant_folder = os.listdir(\"training/malignant\")\n",
        "\n",
        "benign_folder_name = \"training/benign\"\n",
        "malignant_folder_name = \"training/malignant\""
      ],
      "execution_count": 0,
      "outputs": []
    },
    {
      "metadata": {
        "id": "SJXe1hljt04Y",
        "colab_type": "code",
        "colab": {
          "base_uri": "https://localhost:8080/",
          "height": 105
        },
        "outputId": "ef1a54d3-1287-47b1-8d97-b056f121b755"
      },
      "cell_type": "code",
      "source": [
        "benign_image_path = f'{benign_folder_name}/{benign_folder[20]}'\n",
        "malignant_image_path = f'{malignant_folder_name}/{malignant_folder[58]}'\n",
        "\n",
        "benign_image = utils.load_img(benign_image_path, target_size=(48, 48))\n",
        "malignant_image = utils.load_img(malignant_image_path, target_size=(48, 48))"
      ],
      "execution_count": 49,
      "outputs": [
        {
          "output_type": "stream",
          "text": [
            "/usr/local/lib/python3.6/dist-packages/skimage/transform/_warps.py:105: UserWarning: The default mode, 'constant', will be changed to 'reflect' in skimage 0.15.\n",
            "  warn(\"The default mode, 'constant', will be changed to 'reflect' in \"\n",
            "/usr/local/lib/python3.6/dist-packages/skimage/transform/_warps.py:110: UserWarning: Anti-aliasing will be enabled by default in skimage 0.15 to avoid aliasing artifacts when down-sampling images.\n",
            "  warn(\"Anti-aliasing will be enabled by default in skimage 0.15 to \"\n"
          ],
          "name": "stderr"
        }
      ]
    },
    {
      "metadata": {
        "id": "cCod8jnEuZq7",
        "colab_type": "code",
        "colab": {}
      },
      "cell_type": "code",
      "source": [
        "benign_image_model = image.load_img(benign_image_path, target_size=(48, 48))\n",
        "malignant_image_model = image.load_img(malignant_image_path, target_size=(48, 48))\n",
        "\n",
        "benign_image_model = image.img_to_array(benign_image_model)\n",
        "benign_image_model = preprocess_input(benign_image_model)\n",
        "\n",
        "malignant_image_model = image.img_to_array(malignant_image_model)\n",
        "malignant_image_model = preprocess_input(malignant_image_model)\n",
        "\n",
        "preprocessed_images = np.array([benign_image_model, malignant_image_model])"
      ],
      "execution_count": 0,
      "outputs": []
    },
    {
      "metadata": {
        "id": "Esumi11iu0_I",
        "colab_type": "code",
        "colab": {}
      },
      "cell_type": "code",
      "source": [
        "predictions = model.predict(preprocessed_images)\n",
        "predicted_classes = np.argmax(predictions, axis=1)"
      ],
      "execution_count": 0,
      "outputs": []
    },
    {
      "metadata": {
        "id": "-hh5VV2lu6KB",
        "colab_type": "code",
        "colab": {}
      },
      "cell_type": "code",
      "source": [
        "images_array = [benign_image, malignant_image]"
      ],
      "execution_count": 0,
      "outputs": []
    },
    {
      "metadata": {
        "id": "OukyS2Y4u_Is",
        "colab_type": "code",
        "colab": {
          "base_uri": "https://localhost:8080/",
          "height": 424
        },
        "outputId": "441ced24-40b4-4da9-e4b7-949825104eec"
      },
      "cell_type": "code",
      "source": [
        "fig, ax = plt.subplots(1, 2, figsize=(8, 8))\n",
        "fig.suptitle('Normal Images')\n",
        "\n",
        "for index, img in enumerate(images_array):   \n",
        "  class_index = predicted_classes[index]\n",
        "  ax[index].set_title(f'class: {classes_names[index]}, pred: {classes_names[class_index]}')\n",
        "  ax[index].imshow(img)"
      ],
      "execution_count": 53,
      "outputs": [
        {
          "output_type": "display_data",
          "data": {
            "image/png": "[encoded data removed]",
            "text/plain": [
              "<Figure size 576x576 with 2 Axes>"
            ]
          },
          "metadata": {
            "tags": []
          }
        }
      ]
    },
    {
      "metadata": {
        "id": "TrB5v9V2wSbJ",
        "colab_type": "code",
        "colab": {
          "base_uri": "https://localhost:8080/",
          "height": 424
        },
        "outputId": "2f595e99-f07f-4c49-93c4-8f90bbbc6307"
      },
      "cell_type": "code",
      "source": [
        "layer_idx = utils.find_layer_idx(model, 'dense_2')\n",
        "\n",
        "fig, ax = plt.subplots(1, 2, figsize=(8, 8))\n",
        "fig.suptitle('Gradient maps')\n",
        "\n",
        "for index, img in enumerate(images_array):    \n",
        "    grads = visualize_saliency(model, layer_idx, filter_indices=index, seed_input=img)\n",
        "    ax[index].set_title(classes_names[index])\n",
        "    ax[index].imshow(grads, cmap='jet')"
      ],
      "execution_count": 54,
      "outputs": [
        {
          "output_type": "display_data",
          "data": {
            "image/png": "[encoded data removed]",
            "text/plain": [
              "<Figure size 576x576 with 2 Axes>"
            ]
          },
          "metadata": {
            "tags": []
          }
        }
      ]
    },
    {
      "metadata": {
        "id": "liVtgdUHwVya",
        "colab_type": "code",
        "colab": {
          "base_uri": "https://localhost:8080/",
          "height": 541
        },
        "outputId": "c55511f9-a0bb-47a4-a3ae-bda12cb75068"
      },
      "cell_type": "code",
      "source": [
        "for modifier in ['guided', 'relu']:\n",
        "    plt.figure()\n",
        "    f, ax = plt.subplots(1, 2)\n",
        "    plt.suptitle(modifier)\n",
        "    \n",
        "    for index, img in enumerate(images_array):    \n",
        "        grads = visualize_saliency(model, layer_idx, filter_indices=index, \n",
        "                                   seed_input=img, backprop_modifier=modifier)   \n",
        "        ax[index].imshow(grads, cmap='jet')"
      ],
      "execution_count": 55,
      "outputs": [
        {
          "output_type": "display_data",
          "data": {
            "text/plain": [
              "<Figure size 432x288 with 0 Axes>"
            ]
          },
          "metadata": {
            "tags": []
          }
        },
        {
          "output_type": "display_data",
          "data": {
            "image/png": "[encoded data removed]",
            "text/plain": [
              "<Figure size 432x288 with 2 Axes>"
            ]
          },
          "metadata": {
            "tags": []
          }
        },
        {
          "output_type": "display_data",
          "data": {
            "text/plain": [
              "<Figure size 432x288 with 0 Axes>"
            ]
          },
          "metadata": {
            "tags": []
          }
        },
        {
          "output_type": "display_data",
          "data": {
            "image/png": "[encoded data removed]",
            "text/plain": [
              "<Figure size 432x288 with 2 Axes>"
            ]
          },
          "metadata": {
            "tags": []
          }
        }
      ]
    },
    {
      "metadata": {
        "id": "biRT1DOrwb5f",
        "colab_type": "code",
        "colab": {
          "base_uri": "https://localhost:8080/",
          "height": 803
        },
        "outputId": "f3b5f438-e572-4cda-ca4f-843ab006e936"
      },
      "cell_type": "code",
      "source": [
        "import matplotlib.cm as cm\n",
        "from vis.visualization import visualize_cam\n",
        "\n",
        "penultimate_layer = utils.find_layer_idx(model, 'Conv_1_bn')\n",
        "\n",
        "for modifier in [None, 'guided', 'relu']:\n",
        "    plt.figure()\n",
        "    f, ax = plt.subplots(1, 2)\n",
        "    plt.suptitle(\"vanilla\" if modifier is None else modifier)\n",
        "    for index, img in enumerate(images_array):    \n",
        "        grads = visualize_cam(model, layer_idx, filter_indices=index, \n",
        "                              seed_input=img, penultimate_layer_idx=penultimate_layer,\n",
        "                              backprop_modifier=modifier)        \n",
        "  \n",
        "        jet_heatmap = np.uint8(cm.jet(grads)[..., :3] * 255)\n",
        "        ax[index].imshow(overlay(jet_heatmap, img))"
      ],
      "execution_count": 56,
      "outputs": [
        {
          "output_type": "display_data",
          "data": {
            "text/plain": [
              "<Figure size 432x288 with 0 Axes>"
            ]
          },
          "metadata": {
            "tags": []
          }
        },
        {
          "output_type": "display_data",
          "data": {
            "image/png": "[encoded data removed]",
            "text/plain": [
              "<Figure size 432x288 with 2 Axes>"
            ]
          },
          "metadata": {
            "tags": []
          }
        },
        {
          "output_type": "display_data",
          "data": {
            "text/plain": [
              "<Figure size 432x288 with 0 Axes>"
            ]
          },
          "metadata": {
            "tags": []
          }
        },
        {
          "output_type": "display_data",
          "data": {
            "image/png": "[encoded data removed]",
            "text/plain": [
              "<Figure size 432x288 with 2 Axes>"
            ]
          },
          "metadata": {
            "tags": []
          }
        },
        {
          "output_type": "display_data",
          "data": {
            "text/plain": [
              "<Figure size 432x288 with 0 Axes>"
            ]
          },
          "metadata": {
            "tags": []
          }
        },
        {
          "output_type": "display_data",
          "data": {
            "image/png": "[encoded data removed]",
            "text/plain": [
              "<Figure size 432x288 with 2 Axes>"
            ]
          },
          "metadata": {
            "tags": []
          }
        }
      ]
    },
    {
      "metadata": {
        "id": "BR3kX7Tq3tep",
        "colab_type": "text"
      },
      "cell_type": "markdown",
      "source": [
        "## Save model"
      ]
    },
    {
      "metadata": {
        "id": "hBAOuV1p3kpY",
        "colab_type": "code",
        "colab": {}
      },
      "cell_type": "code",
      "source": [
        "model_json = model.to_json()\n",
        "with open(\"breast_cancer_model.json\", \"w\") as json_file:\n",
        "    json_file.write(model_json)"
      ],
      "execution_count": 0,
      "outputs": []
    },
    {
      "metadata": {
        "id": "B4Ed8a5goVgP",
        "colab_type": "code",
        "colab": {}
      },
      "cell_type": "code",
      "source": [
        ""
      ],
      "execution_count": 0,
      "outputs": []
    }
  ]
}