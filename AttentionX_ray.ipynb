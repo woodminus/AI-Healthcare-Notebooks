{
  "nbformat": 4,
  "nbformat_minor": 0,
  "metadata": {
    "colab": {
      "name": "AttentionX-ray.ipynb",
      "provenance": [],
      "collapsed_sections": [
        "7bBjhrRQM_nW",
        "DtpLGSfq8OJR",
        "c8HXapLbs5nx",
        "PHLkYWE2lccr"
      ]
    },
    "kernelspec": {
      "name": "python3",
      "display_name": "Python 3"
    },
    "accelerator": "GPU"
  },
  "cells": [
    {
      "cell_type": "markdown",
      "metadata": {
        "id": "7bBjhrRQM_nW",
        "colab_type": "text"
      },
      "source": [
        "# TensorFlow"
      ]
    },
    {
      "cell_type": "code",
      "metadata": {
        "id": "-Xd7FWi0M5lQ",
        "colab_type": "code",
        "outputId": "dd0746b7-1b49-4c4d-bea4-64d49ab49cd7",
        "colab": {
          "base_uri": "https://localhost:8080/",
          "height": 119
        }
      },
      "source": [
        "!pip install -q --upgrade tensorflow"
      ],
      "execution_count": 0,
      "outputs": [
        {
          "output_type": "stream",
          "text": [
            "\u001b[K     |████████████████████████████████| 86.3MB 131kB/s \n",
            "\u001b[K     |████████████████████████████████| 450kB 52.3MB/s \n",
            "\u001b[K     |████████████████████████████████| 3.8MB 57.8MB/s \n",
            "\u001b[K     |████████████████████████████████| 81kB 12.5MB/s \n",
            "\u001b[31mERROR: tensorboard 2.0.1 has requirement grpcio>=1.24.3, but you'll have grpcio 1.15.0 which is incompatible.\u001b[0m\n",
            "\u001b[31mERROR: google-colab 1.0.0 has requirement google-auth~=1.4.0, but you'll have google-auth 1.7.1 which is incompatible.\u001b[0m\n",
            "\u001b[?25h"
          ],
          "name": "stdout"
        }
      ]
    },
    {
      "cell_type": "code",
      "metadata": {
        "id": "zmJmIR0BM7f1",
        "colab_type": "code",
        "colab": {}
      },
      "source": [
        "import tensorflow as tf"
      ],
      "execution_count": 0,
      "outputs": []
    },
    {
      "cell_type": "code",
      "metadata": {
        "id": "bteNP3kjM8n8",
        "colab_type": "code",
        "outputId": "bf432589-01b1-4d76-ecc2-5bcf88876644",
        "colab": {
          "base_uri": "https://localhost:8080/",
          "height": 34
        }
      },
      "source": [
        "tf.__version__"
      ],
      "execution_count": 0,
      "outputs": [
        {
          "output_type": "execute_result",
          "data": {
            "text/plain": [
              "'2.0.0'"
            ]
          },
          "metadata": {
            "tags": []
          },
          "execution_count": 3
        }
      ]
    },
    {
      "cell_type": "code",
      "metadata": {
        "id": "0lf7OIRNM925",
        "colab_type": "code",
        "colab": {}
      },
      "source": [
        "from tensorflow.keras.applications.densenet import DenseNet121, preprocess_input\n",
        "from tensorflow.python.keras.utils.data_utils import Sequence\n",
        "from tensorflow.keras import layers\n",
        "from tensorflow.keras.models import Model\n",
        "\n",
        "import numpy as np\n",
        "import time\n",
        "import cv2\n",
        "from skimage.measure import label\n",
        "import matplotlib.pyplot as plt"
      ],
      "execution_count": 0,
      "outputs": []
    },
    {
      "cell_type": "markdown",
      "metadata": {
        "id": "DtpLGSfq8OJR",
        "colab_type": "text"
      },
      "source": [
        "# Dataset"
      ]
    },
    {
      "cell_type": "code",
      "metadata": {
        "id": "ir8C-Lt-8MNV",
        "colab_type": "code",
        "colab": {}
      },
      "source": [
        "import urllib\n",
        "import pandas as pd\n",
        "import tarfile\n",
        "import os\n",
        "import matplotlib.pyplot as plt"
      ],
      "execution_count": 0,
      "outputs": []
    },
    {
      "cell_type": "code",
      "metadata": {
        "id": "xfP4qVIONVZj",
        "colab_type": "code",
        "colab": {}
      },
      "source": [
        "links = [\n",
        "  'https://nihcc.box.com/shared/static/vfk49d74nhbxq3nqjg0900w5nvkorp5c.gz',\n",
        "  'https://nihcc.box.com/shared/static/i28rlmbvmfjbl8p2n3ril0pptcmcu9d1.gz',\n",
        "  'https://nihcc.box.com/shared/static/f1t00wrtdk94satdfb9olcolqx20z2jp.gz',\n",
        "\t'https://nihcc.box.com/shared/static/0aowwzs5lhjrceb3qp67ahp0rd1l1etg.gz',\n",
        "  'https://nihcc.box.com/shared/static/v5e3goj22zr6h8tzualxfsqlqaygfbsn.gz',\n",
        "\t'https://nihcc.box.com/shared/static/asi7ikud9jwnkrnkj99jnpfkjdes7l6l.gz',\n",
        "\t'https://nihcc.box.com/shared/static/jn1b4mw4n6lnh74ovmcjb8y48h8xj07n.gz',\n",
        "  'https://nihcc.box.com/shared/static/tvpxmn7qyrgl0w8wfh9kqfjskv6nmm1j.gz',\n",
        "\t'https://nihcc.box.com/shared/static/upyy3ml7qdumlgk2rfcvlb9k6gvqq2pj.gz',\n",
        "\t'https://nihcc.box.com/shared/static/l6nilvfa9cg3s28tqv1qc1olm3gnz54p.gz',\n",
        "\t'https://nihcc.box.com/shared/static/hhq8fkdgvcari67vfhs7ppg2w6ni4jze.gz',\n",
        "\t'https://nihcc.box.com/shared/static/ioqwiy20ihqwyr8pf4c24eazhh281pbu.gz'\n",
        "]"
      ],
      "execution_count": 0,
      "outputs": []
    },
    {
      "cell_type": "code",
      "metadata": {
        "id": "5Rm8aMvt9YCT",
        "colab_type": "code",
        "outputId": "100f45c7-5c6b-4f07-fafc-7806898222d6",
        "colab": {
          "base_uri": "https://localhost:8080/",
          "height": 238
        }
      },
      "source": [
        "for idx, link in enumerate(links):\n",
        "    fn = 'images_%02d.tar.gz' % (idx+1)\n",
        "    print('downloading', fn, '...')\n",
        "    urllib.request.urlretrieve(link, fn)  # download the zip file\n",
        "\n",
        "print(\"Download complete. Please check the checksums\")"
      ],
      "execution_count": 0,
      "outputs": [
        {
          "output_type": "stream",
          "text": [
            "downloading images_01.tar.gz ...\n",
            "downloading images_02.tar.gz ...\n",
            "downloading images_03.tar.gz ...\n",
            "downloading images_04.tar.gz ...\n",
            "downloading images_05.tar.gz ...\n",
            "downloading images_06.tar.gz ...\n",
            "downloading images_07.tar.gz ...\n",
            "downloading images_08.tar.gz ...\n",
            "downloading images_09.tar.gz ...\n",
            "downloading images_10.tar.gz ...\n",
            "downloading images_11.tar.gz ...\n",
            "downloading images_12.tar.gz ...\n",
            "Download complete. Please check the checksums\n"
          ],
          "name": "stdout"
        }
      ]
    },
    {
      "cell_type": "code",
      "metadata": {
        "id": "eYVVrHH2Jj1W",
        "colab_type": "code",
        "outputId": "9d939e16-69eb-4191-be43-b3a68f823949",
        "colab": {
          "base_uri": "https://localhost:8080/",
          "height": 170
        }
      },
      "source": [
        "for index in range(1, 10):\n",
        "  file_name = f'images_0{index}.tar.gz'\n",
        "  tarf = tarfile.open(file_name)\n",
        "  tarf.extractall()\n",
        "  print(f\"{file_name} completed\")"
      ],
      "execution_count": 0,
      "outputs": [
        {
          "output_type": "stream",
          "text": [
            "images_01.tar.gz completed\n",
            "images_02.tar.gz completed\n",
            "images_03.tar.gz completed\n",
            "images_04.tar.gz completed\n",
            "images_05.tar.gz completed\n",
            "images_06.tar.gz completed\n",
            "images_07.tar.gz completed\n",
            "images_08.tar.gz completed\n",
            "images_09.tar.gz completed\n"
          ],
          "name": "stdout"
        }
      ]
    },
    {
      "cell_type": "code",
      "metadata": {
        "id": "eH8PYuIzPEea",
        "colab_type": "code",
        "outputId": "d05ff163-54e0-4358-d34f-c59f4616e8d3",
        "colab": {
          "base_uri": "https://localhost:8080/",
          "height": 68
        }
      },
      "source": [
        "for index in range(10, 13):\n",
        "  file_name = f'images_{index}.tar.gz'\n",
        "  tarf = tarfile.open(file_name)\n",
        "  tarf.extractall()\n",
        "  print(f\"{file_name} completed\")"
      ],
      "execution_count": 0,
      "outputs": [
        {
          "output_type": "stream",
          "text": [
            "images_10.tar.gz completed\n",
            "images_11.tar.gz completed\n",
            "images_12.tar.gz completed\n"
          ],
          "name": "stdout"
        }
      ]
    },
    {
      "cell_type": "markdown",
      "metadata": {
        "id": "c8HXapLbs5nx",
        "colab_type": "text"
      },
      "source": [
        "## Load original csv"
      ]
    },
    {
      "cell_type": "code",
      "metadata": {
        "id": "iXNM6DEH9X_E",
        "colab_type": "code",
        "colab": {}
      },
      "source": [
        "data_csv = pd.read_csv(\"Data_Entry_2017.csv\")"
      ],
      "execution_count": 0,
      "outputs": []
    },
    {
      "cell_type": "code",
      "metadata": {
        "id": "CtFH2ELU-k9I",
        "colab_type": "code",
        "outputId": "c592d2b2-8649-4031-c2e9-8b643986afbf",
        "colab": {
          "base_uri": "https://localhost:8080/",
          "height": 241
        }
      },
      "source": [
        "data_csv.head()"
      ],
      "execution_count": 0,
      "outputs": [
        {
          "output_type": "execute_result",
          "data": {
            "text/html": [
              "<div>\n",
              "<style scoped>\n",
              "    .dataframe tbody tr th:only-of-type {\n",
              "        vertical-align: middle;\n",
              "    }\n",
              "\n",
              "    .dataframe tbody tr th {\n",
              "        vertical-align: top;\n",
              "    }\n",
              "\n",
              "    .dataframe thead th {\n",
              "        text-align: right;\n",
              "    }\n",
              "</style>\n",
              "<table border=\"1\" class=\"dataframe\">\n",
              "  <thead>\n",
              "    <tr style=\"text-align: right;\">\n",
              "      <th></th>\n",
              "      <th>Image Index</th>\n",
              "      <th>Finding Labels</th>\n",
              "      <th>Follow-up #</th>\n",
              "      <th>Patient ID</th>\n",
              "      <th>Patient Age</th>\n",
              "      <th>Patient Gender</th>\n",
              "      <th>View Position</th>\n",
              "      <th>OriginalImage[Width</th>\n",
              "      <th>Height]</th>\n",
              "      <th>OriginalImagePixelSpacing[x</th>\n",
              "      <th>y]</th>\n",
              "      <th>Unnamed: 11</th>\n",
              "    </tr>\n",
              "  </thead>\n",
              "  <tbody>\n",
              "    <tr>\n",
              "      <th>0</th>\n",
              "      <td>00000001_000.png</td>\n",
              "      <td>Cardiomegaly</td>\n",
              "      <td>0</td>\n",
              "      <td>1</td>\n",
              "      <td>58</td>\n",
              "      <td>M</td>\n",
              "      <td>PA</td>\n",
              "      <td>2682</td>\n",
              "      <td>2749</td>\n",
              "      <td>0.143</td>\n",
              "      <td>0.143</td>\n",
              "      <td>NaN</td>\n",
              "    </tr>\n",
              "    <tr>\n",
              "      <th>1</th>\n",
              "      <td>00000001_001.png</td>\n",
              "      <td>Cardiomegaly|Emphysema</td>\n",
              "      <td>1</td>\n",
              "      <td>1</td>\n",
              "      <td>58</td>\n",
              "      <td>M</td>\n",
              "      <td>PA</td>\n",
              "      <td>2894</td>\n",
              "      <td>2729</td>\n",
              "      <td>0.143</td>\n",
              "      <td>0.143</td>\n",
              "      <td>NaN</td>\n",
              "    </tr>\n",
              "    <tr>\n",
              "      <th>2</th>\n",
              "      <td>00000001_002.png</td>\n",
              "      <td>Cardiomegaly|Effusion</td>\n",
              "      <td>2</td>\n",
              "      <td>1</td>\n",
              "      <td>58</td>\n",
              "      <td>M</td>\n",
              "      <td>PA</td>\n",
              "      <td>2500</td>\n",
              "      <td>2048</td>\n",
              "      <td>0.168</td>\n",
              "      <td>0.168</td>\n",
              "      <td>NaN</td>\n",
              "    </tr>\n",
              "    <tr>\n",
              "      <th>3</th>\n",
              "      <td>00000002_000.png</td>\n",
              "      <td>No Finding</td>\n",
              "      <td>0</td>\n",
              "      <td>2</td>\n",
              "      <td>81</td>\n",
              "      <td>M</td>\n",
              "      <td>PA</td>\n",
              "      <td>2500</td>\n",
              "      <td>2048</td>\n",
              "      <td>0.171</td>\n",
              "      <td>0.171</td>\n",
              "      <td>NaN</td>\n",
              "    </tr>\n",
              "    <tr>\n",
              "      <th>4</th>\n",
              "      <td>00000003_000.png</td>\n",
              "      <td>Hernia</td>\n",
              "      <td>0</td>\n",
              "      <td>3</td>\n",
              "      <td>81</td>\n",
              "      <td>F</td>\n",
              "      <td>PA</td>\n",
              "      <td>2582</td>\n",
              "      <td>2991</td>\n",
              "      <td>0.143</td>\n",
              "      <td>0.143</td>\n",
              "      <td>NaN</td>\n",
              "    </tr>\n",
              "  </tbody>\n",
              "</table>\n",
              "</div>"
            ],
            "text/plain": [
              "        Image Index          Finding Labels  ...     y]  Unnamed: 11\n",
              "0  00000001_000.png            Cardiomegaly  ...  0.143          NaN\n",
              "1  00000001_001.png  Cardiomegaly|Emphysema  ...  0.143          NaN\n",
              "2  00000001_002.png   Cardiomegaly|Effusion  ...  0.168          NaN\n",
              "3  00000002_000.png              No Finding  ...  0.171          NaN\n",
              "4  00000003_000.png                  Hernia  ...  0.143          NaN\n",
              "\n",
              "[5 rows x 12 columns]"
            ]
          },
          "metadata": {
            "tags": []
          },
          "execution_count": 48
        }
      ]
    },
    {
      "cell_type": "code",
      "metadata": {
        "id": "oBNx-x-gkZFZ",
        "colab_type": "code",
        "outputId": "46185166-2287-4a92-ac7a-2f9483b16863",
        "colab": {
          "base_uri": "https://localhost:8080/",
          "height": 34
        }
      },
      "source": [
        "data_csv[\"Patient ID\"].unique().size"
      ],
      "execution_count": 0,
      "outputs": [
        {
          "output_type": "execute_result",
          "data": {
            "text/plain": [
              "30805"
            ]
          },
          "metadata": {
            "tags": []
          },
          "execution_count": 41
        }
      ]
    },
    {
      "cell_type": "code",
      "metadata": {
        "id": "DVJ8S6lRoL0S",
        "colab_type": "code",
        "colab": {}
      },
      "source": [
        "training_size = 112120 * .70\n",
        "validation_size = 112120 * .10\n",
        "test_size = 112120 * .20"
      ],
      "execution_count": 0,
      "outputs": []
    },
    {
      "cell_type": "code",
      "metadata": {
        "id": "La87BMDvoStn",
        "colab_type": "code",
        "outputId": "9b9b9fc7-c365-493c-be13-178bbed31536",
        "colab": {
          "base_uri": "https://localhost:8080/",
          "height": 34
        }
      },
      "source": [
        "training_size, validation_size, test_size"
      ],
      "execution_count": 0,
      "outputs": [
        {
          "output_type": "execute_result",
          "data": {
            "text/plain": [
              "(78484.0, 11212.0, 22424.0)"
            ]
          },
          "metadata": {
            "tags": []
          },
          "execution_count": 44
        }
      ]
    },
    {
      "cell_type": "code",
      "metadata": {
        "id": "WH3aJm2ppY4i",
        "colab_type": "code",
        "colab": {}
      },
      "source": [
        "training_split = data_csv.sample(n=int(training_size))"
      ],
      "execution_count": 0,
      "outputs": []
    },
    {
      "cell_type": "code",
      "metadata": {
        "id": "-VXTIBFtpZan",
        "colab_type": "code",
        "outputId": "4cec05cb-8f95-4164-f8d6-b8d257b9e91a",
        "colab": {
          "base_uri": "https://localhost:8080/",
          "height": 34
        }
      },
      "source": [
        "data_csv[\"Image Index\"].count()"
      ],
      "execution_count": 0,
      "outputs": [
        {
          "output_type": "execute_result",
          "data": {
            "text/plain": [
              "112120"
            ]
          },
          "metadata": {
            "tags": []
          },
          "execution_count": 33
        }
      ]
    },
    {
      "cell_type": "code",
      "metadata": {
        "id": "Fjnxx9rFhPc0",
        "colab_type": "code",
        "colab": {}
      },
      "source": [
        "training_split = data_csv.sample(n=int(training_size), replace=False)\n",
        "validation_split = data_csv.drop(training_split.index).sample(n=int(validation_size), replace=False)\n",
        "test_split = data_csv.drop(training_split.index).drop(validation_split.index)"
      ],
      "execution_count": 0,
      "outputs": []
    },
    {
      "cell_type": "code",
      "metadata": {
        "id": "yce5_c09okRw",
        "colab_type": "code",
        "outputId": "0e099831-4c9a-4739-860c-369967cbc612",
        "colab": {
          "base_uri": "https://localhost:8080/",
          "height": 34
        }
      },
      "source": [
        "training_split[\"Image Index\"].count(), validation_split[\"Image Index\"].count(), test_split[\"Image Index\"].count()"
      ],
      "execution_count": 0,
      "outputs": [
        {
          "output_type": "execute_result",
          "data": {
            "text/plain": [
              "(78484, 11212, 22424)"
            ]
          },
          "metadata": {
            "tags": []
          },
          "execution_count": 51
        }
      ]
    },
    {
      "cell_type": "code",
      "metadata": {
        "id": "UYieQIaNsa-P",
        "colab_type": "code",
        "colab": {}
      },
      "source": [
        "training_split.to_csv('training_split.csv')\n",
        "validation_split.to_csv('validation_split.csv')\n",
        "test_split.to_csv('test_split.csv')"
      ],
      "execution_count": 0,
      "outputs": []
    },
    {
      "cell_type": "markdown",
      "metadata": {
        "id": "hdRCFdR1s-NQ",
        "colab_type": "text"
      },
      "source": [
        "## Load split csv"
      ]
    },
    {
      "cell_type": "code",
      "metadata": {
        "id": "Qo2j8Y8ZtDVP",
        "colab_type": "code",
        "colab": {}
      },
      "source": [
        "training_split = pd.read_csv(\"training_split.csv\")\n",
        "validation_split = pd.read_csv(\"validation_split.csv\")\n",
        "test_split = pd.read_csv(\"test_split.csv\")"
      ],
      "execution_count": 0,
      "outputs": []
    },
    {
      "cell_type": "code",
      "metadata": {
        "id": "rN48eaf2_Q5O",
        "colab_type": "code",
        "colab": {}
      },
      "source": [
        "classes_names = {\n",
        "  \"Atelectasis\": 0,\n",
        "  \"Consolidation\": 1,\n",
        "  \"Infiltration\": 2,\n",
        "  \"Pneumothorax\": 3,\n",
        "  \"Edema\": 4,\n",
        "  \"Emphysema\": 5,\n",
        "  \"Fibrosis\": 6,\n",
        "  \"Effusion\": 7,\n",
        "  \"Pneumonia\": 8,\n",
        "  \"Pleural_Thickening\": 9,\n",
        "  \"Cardiomegaly\": 10,\n",
        "  \"Nodule\": 11,\n",
        "  \"Mass\": 12,\n",
        "  \"Hernia\": 13,\n",
        "  \"No Finding\": 14,\n",
        "}"
      ],
      "execution_count": 0,
      "outputs": []
    },
    {
      "cell_type": "code",
      "metadata": {
        "id": "coyYsUSQyIO-",
        "colab_type": "code",
        "colab": {}
      },
      "source": [
        "def load_labels(text_labels):\n",
        "  labels = np.zeros((15), dtype=int)\n",
        "\n",
        "  text_labels = text_labels.split(\"|\")\n",
        "\n",
        "  for true_label in text_labels:\n",
        "    class_index = classes_names[true_label]\n",
        "    labels[class_index] = 1\n",
        "\n",
        "  return labels"
      ],
      "execution_count": 0,
      "outputs": []
    },
    {
      "cell_type": "markdown",
      "metadata": {
        "id": "DTOI0BZp5hbx",
        "colab_type": "text"
      },
      "source": [
        "### Load training data"
      ]
    },
    {
      "cell_type": "code",
      "metadata": {
        "id": "NkjKG4Nn-6Sa",
        "colab_type": "code",
        "colab": {}
      },
      "source": [
        "train_labels = second_training_split[\"Finding Labels\"].values\n",
        "train_images_path = second_training_split[\"Image Index\"].values"
      ],
      "execution_count": 0,
      "outputs": []
    },
    {
      "cell_type": "code",
      "metadata": {
        "id": "hJIIhB59_Hmg",
        "colab_type": "code",
        "outputId": "b86f8e15-1c71-4281-ae4c-0e8b3275dc6f",
        "colab": {
          "base_uri": "https://localhost:8080/",
          "height": 34
        }
      },
      "source": [
        "train_labels.size, train_images_path.size"
      ],
      "execution_count": 0,
      "outputs": [
        {
          "output_type": "execute_result",
          "data": {
            "text/plain": [
              "(19620, 19620)"
            ]
          },
          "metadata": {
            "tags": []
          },
          "execution_count": 33
        }
      ]
    },
    {
      "cell_type": "code",
      "metadata": {
        "id": "ZaYR-sl9yPXr",
        "colab_type": "code",
        "colab": {}
      },
      "source": [
        "onehot_train_labels = list(map(load_labels, train_labels))"
      ],
      "execution_count": 0,
      "outputs": []
    },
    {
      "cell_type": "code",
      "metadata": {
        "id": "FbTfGQ5h1VSz",
        "colab_type": "code",
        "colab": {}
      },
      "source": [
        "onehot_train_labels = np.array(onehot_train_labels)"
      ],
      "execution_count": 0,
      "outputs": []
    },
    {
      "cell_type": "code",
      "metadata": {
        "id": "GjQtGgTY5zY5",
        "colab_type": "code",
        "colab": {}
      },
      "source": [
        "train_images_path = np.array([f\"images/{img_path}\" for img_path in train_images_path])"
      ],
      "execution_count": 0,
      "outputs": []
    },
    {
      "cell_type": "markdown",
      "metadata": {
        "id": "nrDFucyq56fb",
        "colab_type": "text"
      },
      "source": [
        "### Load validation data"
      ]
    },
    {
      "cell_type": "code",
      "metadata": {
        "id": "0PfrvRnsjYVo",
        "colab_type": "code",
        "colab": {}
      },
      "source": [
        "val_labels = validation_split[\"Finding Labels\"].values\n",
        "val_images_path = validation_split[\"Image Index\"].values"
      ],
      "execution_count": 0,
      "outputs": []
    },
    {
      "cell_type": "code",
      "metadata": {
        "id": "ALMYXIFxjcGh",
        "colab_type": "code",
        "outputId": "5001868d-a3a1-4410-92af-350e30481569",
        "colab": {
          "base_uri": "https://localhost:8080/",
          "height": 34
        }
      },
      "source": [
        "val_labels.size, val_images_path.size"
      ],
      "execution_count": 0,
      "outputs": [
        {
          "output_type": "execute_result",
          "data": {
            "text/plain": [
              "(11212, 11212)"
            ]
          },
          "metadata": {
            "tags": []
          },
          "execution_count": 13
        }
      ]
    },
    {
      "cell_type": "code",
      "metadata": {
        "id": "WnepfTmejhlU",
        "colab_type": "code",
        "colab": {}
      },
      "source": [
        "onehot_val_labels = list(map(load_labels, val_labels))"
      ],
      "execution_count": 0,
      "outputs": []
    },
    {
      "cell_type": "code",
      "metadata": {
        "id": "n6oxUjYwjnji",
        "colab_type": "code",
        "colab": {}
      },
      "source": [
        "onehot_val_labels = np.array(onehot_val_labels)"
      ],
      "execution_count": 0,
      "outputs": []
    },
    {
      "cell_type": "code",
      "metadata": {
        "id": "GS7sY2WQjnYl",
        "colab_type": "code",
        "colab": {}
      },
      "source": [
        "val_images_path = np.array([f\"images/{img_path}\" for img_path in val_images_path])"
      ],
      "execution_count": 0,
      "outputs": []
    },
    {
      "cell_type": "markdown",
      "metadata": {
        "id": "tvl5BluACeXi",
        "colab_type": "text"
      },
      "source": [
        "## Generator"
      ]
    },
    {
      "cell_type": "code",
      "metadata": {
        "id": "mjkSfIb0Dvi1",
        "colab_type": "code",
        "colab": {}
      },
      "source": [
        "image_size = (224, 224, 3)"
      ],
      "execution_count": 0,
      "outputs": []
    },
    {
      "cell_type": "code",
      "metadata": {
        "id": "q0x07e_-DMzr",
        "colab_type": "code",
        "colab": {}
      },
      "source": [
        "@tf.function()\n",
        "def random_jitter(img):\n",
        "  resized_image = tf.image.resize(img, [256, 256], method=tf.image.ResizeMethod.NEAREST_NEIGHBOR)\n",
        "  \n",
        "  cropped_image = tf.image.random_crop(resized_image, size=[image_size[0], image_size[1], 3])\n",
        "\n",
        "  if tf.random.uniform(()) > 0.5:\n",
        "    cropped_image = tf.image.flip_left_right(cropped_image)\n",
        "\n",
        "  return cropped_image"
      ],
      "execution_count": 0,
      "outputs": []
    },
    {
      "cell_type": "code",
      "metadata": {
        "id": "Srs4HxLBiuZi",
        "colab_type": "code",
        "colab": {}
      },
      "source": [
        "@tf.function()\n",
        "def crop_center(img):\n",
        "  resized_image = tf.image.resize(img, [256, 256], method=tf.image.ResizeMethod.NEAREST_NEIGHBOR)\n",
        "  cropped_image = tf.image.central_crop(resized_image, 0.125)\n",
        "\n",
        "  return cropped_image"
      ],
      "execution_count": 0,
      "outputs": []
    },
    {
      "cell_type": "code",
      "metadata": {
        "id": "oVgBcuUc491J",
        "colab_type": "code",
        "colab": {}
      },
      "source": [
        "def normalize(img):\n",
        "  imagenet_mean = np.array([103.939, 116.779, 123.68])\n",
        "  img = tf.subtract(img, imagenet_mean)\n",
        "\n",
        "  return img"
      ],
      "execution_count": 0,
      "outputs": []
    },
    {
      "cell_type": "code",
      "metadata": {
        "id": "zhtIYaMRq0Mu",
        "colab_type": "code",
        "colab": {}
      },
      "source": [
        "def load_image(image_path):\n",
        "  img = tf.io.read_file(image_path)\n",
        "  img = tf.image.decode_jpeg(img, channels=3)\n",
        "  img = tf.cast(img, tf.float32)\n",
        "\n",
        "  return img"
      ],
      "execution_count": 0,
      "outputs": []
    },
    {
      "cell_type": "code",
      "metadata": {
        "id": "Tfcw4QYiqar9",
        "colab_type": "code",
        "colab": {}
      },
      "source": [
        "def load_train_data(image_path, labels):\n",
        "  img = load_image(image_path)\n",
        "  img = random_jitter(img)\n",
        "  img = normalize(img)\n",
        "\n",
        "  img = tf.cast(img, tf.float32)\n",
        "\n",
        "  return img, labels"
      ],
      "execution_count": 0,
      "outputs": []
    },
    {
      "cell_type": "code",
      "metadata": {
        "id": "nL1UighxkknD",
        "colab_type": "code",
        "colab": {}
      },
      "source": [
        "def load_val_data(image_path, labels):\n",
        "  img = load_image(image_path)\n",
        "  img = crop_center(img)\n",
        "  img = normalize(img)\n",
        "\n",
        "  return img, labels"
      ],
      "execution_count": 0,
      "outputs": []
    },
    {
      "cell_type": "code",
      "metadata": {
        "id": "q9zBAeIBr-U2",
        "colab_type": "code",
        "colab": {}
      },
      "source": [
        "train_dataset = tf.data.Dataset.from_tensor_slices((train_images_path, onehot_train_labels))\n",
        "train_dataset = train_dataset.shuffle(len(onehot_train_labels))\n",
        "train_dataset = train_dataset.map(load_train_data, num_parallel_calls=tf.data.experimental.AUTOTUNE)"
      ],
      "execution_count": 0,
      "outputs": []
    },
    {
      "cell_type": "code",
      "metadata": {
        "id": "tnIgPhqAknx5",
        "colab_type": "code",
        "colab": {}
      },
      "source": [
        "val_dataset = tf.data.Dataset.from_tensor_slices((val_images_path, onehot_val_labels))\n",
        "val_dataset = val_dataset.shuffle(len(onehot_val_labels))\n",
        "val_dataset = val_dataset.map(load_val_data, num_parallel_calls=tf.data.experimental.AUTOTUNE)"
      ],
      "execution_count": 0,
      "outputs": []
    },
    {
      "cell_type": "markdown",
      "metadata": {
        "id": "U_JGNCKUNaDo",
        "colab_type": "text"
      },
      "source": [
        "# Models"
      ]
    },
    {
      "cell_type": "code",
      "metadata": {
        "id": "ixY8p9MANcHU",
        "colab_type": "code",
        "colab": {}
      },
      "source": [
        "num_classes = 15"
      ],
      "execution_count": 0,
      "outputs": []
    },
    {
      "cell_type": "code",
      "metadata": {
        "id": "Y90QY8TtNbOn",
        "colab_type": "code",
        "colab": {}
      },
      "source": [
        "def create_branch():\n",
        "  dense_model = DenseNet121(\n",
        "      weights=\"imagenet\",\n",
        "      input_shape=image_size,\n",
        "      include_top=False)\n",
        "\n",
        "  feature_maps = dense_model.output\n",
        "  pooling_layer = layers.GlobalMaxPool2D()(feature_maps)\n",
        "  predictions = layers.Dense(num_classes, activation=\"sigmoid\")(pooling_layer)\n",
        "\n",
        "  model = Model(inputs=dense_model.input, outputs=[predictions, feature_maps, pooling_layer])\n",
        "\n",
        "  weight_decay_value = 1e-4\n",
        "  weight_decay = tf.keras.regularizers.l2(l=weight_decay_value)\n",
        "\n",
        "  for layer in model.layers:\n",
        "    layer.trainable = True\n",
        "\n",
        "    if hasattr(layer, 'kernel_regularizer'):\n",
        "        layer.kernel_regularizer = weight_decay\n",
        "\n",
        "  return model"
      ],
      "execution_count": 0,
      "outputs": []
    },
    {
      "cell_type": "code",
      "metadata": {
        "id": "D2TQGVaaPPoo",
        "colab_type": "code",
        "outputId": "aa24e00c-7803-40b1-b8e8-26c9316cdbf8",
        "colab": {
          "base_uri": "https://localhost:8080/",
          "height": 51
        }
      },
      "source": [
        "global_branch_model = create_branch()"
      ],
      "execution_count": 0,
      "outputs": [
        {
          "output_type": "stream",
          "text": [
            "Downloading data from https://github.com/keras-team/keras-applications/releases/download/densenet/densenet121_weights_tf_dim_ordering_tf_kernels_notop.h5\n",
            "29089792/29084464 [==============================] - 1s 0us/step\n"
          ],
          "name": "stdout"
        }
      ]
    },
    {
      "cell_type": "code",
      "metadata": {
        "id": "XA9w1IkmPTga",
        "colab_type": "code",
        "colab": {}
      },
      "source": [
        "global_branch_model.summary()"
      ],
      "execution_count": 0,
      "outputs": []
    },
    {
      "cell_type": "code",
      "metadata": {
        "id": "K-n1T9lr5XUB",
        "colab_type": "code",
        "colab": {}
      },
      "source": [
        "local_branch_model = create_branch()"
      ],
      "execution_count": 0,
      "outputs": []
    },
    {
      "cell_type": "code",
      "metadata": {
        "id": "Ez5vaDyyQD5N",
        "colab_type": "code",
        "colab": {}
      },
      "source": [
        "def create_fusion_branch():\n",
        "  global_pool = layers.Input(shape=(1024))\n",
        "  local_pool = layers.Input(shape=(1024))\n",
        "\n",
        "  concat_layer = layers.concatenate([global_pool, local_pool])\n",
        "  model = layers.Dense(num_classes, activation=\"sigmoid\")(concat_layer)\n",
        "\n",
        "  model = Model(inputs=[global_pool, local_pool], outputs=model)\n",
        "\n",
        "  return model"
      ],
      "execution_count": 0,
      "outputs": []
    },
    {
      "cell_type": "code",
      "metadata": {
        "id": "pNEac2bT6YaP",
        "colab_type": "code",
        "colab": {}
      },
      "source": [
        "fusion_branch_model = create_fusion_branch()"
      ],
      "execution_count": 0,
      "outputs": []
    },
    {
      "cell_type": "code",
      "metadata": {
        "id": "vlnjmHQS6rRJ",
        "colab_type": "code",
        "colab": {}
      },
      "source": [
        "fusion_branch_model.summary()"
      ],
      "execution_count": 0,
      "outputs": []
    },
    {
      "cell_type": "markdown",
      "metadata": {
        "id": "hER4ubLMgLya",
        "colab_type": "text"
      },
      "source": [
        "# Training"
      ]
    },
    {
      "cell_type": "code",
      "metadata": {
        "id": "beRvbKo4gMmg",
        "colab_type": "code",
        "colab": {}
      },
      "source": [
        "def compute_loss(true_classes, pred_classes):\n",
        "  loss = tf.keras.losses.binary_crossentropy(true_classes, pred_classes)\n",
        "  return tf.reduce_mean(loss)"
      ],
      "execution_count": 0,
      "outputs": []
    },
    {
      "cell_type": "code",
      "metadata": {
        "id": "M280lXI9mFD8",
        "colab_type": "code",
        "colab": {}
      },
      "source": [
        "auc_metric = tf.keras.metrics.AUC()"
      ],
      "execution_count": 0,
      "outputs": []
    },
    {
      "cell_type": "code",
      "metadata": {
        "id": "BM71i98sk98B",
        "colab_type": "code",
        "colab": {}
      },
      "source": [
        "def compute_metrics(true_classes, pred_classes):\n",
        "  auc_metric.reset_states()\n",
        "  auc_metric.update_state(true_classes, pred_classes)\n",
        "  auc_value = auc_metric.result()\n",
        "\n",
        "  return auc_value"
      ],
      "execution_count": 0,
      "outputs": []
    },
    {
      "cell_type": "code",
      "metadata": {
        "id": "V33ePCFWjXLd",
        "colab_type": "code",
        "colab": {}
      },
      "source": [
        "epochs = 50"
      ],
      "execution_count": 0,
      "outputs": []
    },
    {
      "cell_type": "markdown",
      "metadata": {
        "id": "9eY3CxavhEmU",
        "colab_type": "text"
      },
      "source": [
        "## Stage 1 (Global Model)"
      ]
    },
    {
      "cell_type": "code",
      "metadata": {
        "id": "XWEqOagWiJUx",
        "colab_type": "code",
        "colab": {}
      },
      "source": [
        "batch_size = 64\n",
        "train_steps = int(train_labels.size / batch_size)\n",
        "global_branch_optimizer = tf.keras.optimizers.SGD(learning_rate=1e-2, momentum=0.9)"
      ],
      "execution_count": 0,
      "outputs": []
    },
    {
      "cell_type": "markdown",
      "metadata": {
        "id": "xA2d3yEfwcyD",
        "colab_type": "text"
      },
      "source": [
        "### Checkpoints"
      ]
    },
    {
      "cell_type": "code",
      "metadata": {
        "id": "VMhI0W0xYLel",
        "colab_type": "code",
        "colab": {}
      },
      "source": [
        "checkpoint_dir = './training_checkpoints'\n",
        "checkpoint_prefix = os.path.join(checkpoint_dir, \"stage1-ckpt\")\n",
        "checkpoint = tf.train.Checkpoint(global_branch_optimizer=global_branch_optimizer, global_branch_model=global_branch_model)"
      ],
      "execution_count": 0,
      "outputs": []
    },
    {
      "cell_type": "code",
      "metadata": {
        "id": "MRgJs-2KlhQl",
        "colab_type": "code",
        "outputId": "f4ce8732-7fc4-47ea-e8e0-02691244f996",
        "colab": {
          "base_uri": "https://localhost:8080/",
          "height": 34
        }
      },
      "source": [
        "tf.train.latest_checkpoint(checkpoint_dir)"
      ],
      "execution_count": 0,
      "outputs": [
        {
          "output_type": "execute_result",
          "data": {
            "text/plain": [
              "'./training_checkpoints/stage1-ckpt-4'"
            ]
          },
          "metadata": {
            "tags": []
          },
          "execution_count": 56
        }
      ]
    },
    {
      "cell_type": "code",
      "metadata": {
        "id": "FZ0PRlzM9tpX",
        "colab_type": "code",
        "outputId": "82c2ee4f-30cd-4965-e5bc-d4e2cd5b5150",
        "colab": {
          "base_uri": "https://localhost:8080/",
          "height": 34
        }
      },
      "source": [
        "checkpoint.restore(tf.train.latest_checkpoint(checkpoint_dir))"
      ],
      "execution_count": 0,
      "outputs": [
        {
          "output_type": "execute_result",
          "data": {
            "text/plain": [
              "<tensorflow.python.training.tracking.util.CheckpointLoadStatus at 0x7feb037b8588>"
            ]
          },
          "metadata": {
            "tags": []
          },
          "execution_count": 57
        }
      ]
    },
    {
      "cell_type": "markdown",
      "metadata": {
        "id": "ff6-wuK8wjy8",
        "colab_type": "text"
      },
      "source": [
        "### Train functions"
      ]
    },
    {
      "cell_type": "code",
      "metadata": {
        "id": "5iIXiGqPb98N",
        "colab_type": "code",
        "colab": {}
      },
      "source": [
        "train_generator = train_dataset.batch(batch_size)"
      ],
      "execution_count": 0,
      "outputs": []
    },
    {
      "cell_type": "code",
      "metadata": {
        "id": "jdnzwTubkQpB",
        "colab_type": "code",
        "colab": {}
      },
      "source": [
        "stage_1_loss_results = []\n",
        "stage_1_auc_results = []"
      ],
      "execution_count": 0,
      "outputs": []
    },
    {
      "cell_type": "code",
      "metadata": {
        "id": "QOTUTT-Hgp_0",
        "colab_type": "code",
        "colab": {}
      },
      "source": [
        "@tf.function\n",
        "def train_stage_1(batch_images, labels):\n",
        "    with tf.GradientTape() as tape:\n",
        "      pred_classes, _, _ = global_branch_model(batch_images, training=True)\n",
        "      loss = compute_loss(labels, pred_classes)\n",
        "      \n",
        "    auc_value = compute_metrics(labels, pred_classes)\n",
        "      \n",
        "    gradients = tape.gradient(loss, global_branch_model.trainable_variables)   \n",
        "\n",
        "    global_branch_optimizer.apply_gradients(zip(gradients, global_branch_model.trainable_variables))\n",
        "\n",
        "    return loss, auc_value"
      ],
      "execution_count": 0,
      "outputs": []
    },
    {
      "cell_type": "code",
      "metadata": {
        "id": "T_XxkI4jkaP6",
        "colab_type": "code",
        "colab": {}
      },
      "source": [
        "def train(epochs):\n",
        "  for epoch in range(epochs):\n",
        "    batch_time = time.time()\n",
        "    epoch_time = time.time()\n",
        "    step = 1\n",
        "\n",
        "    for batch_images, labels in train_generator:\n",
        "      loss, auc_value = train_stage_1(batch_images, labels)\n",
        "\n",
        "      auc_value = auc_value.numpy()\n",
        "      loss = loss.numpy()\n",
        "\n",
        "      print('\\r', 'Epoch', f\"{epoch + 1}/{epochs}\", '| Step', f\"{step}/{train_steps}\",  '| loss:', loss, \"| AUC:\", auc_value, \"| time:\", time.time() - batch_time, end='')\n",
        "      \n",
        "      step += 1\n",
        "      stage_1_loss_results.append(loss)\n",
        "      stage_1_auc_results.append(auc_value)\n",
        "      \n",
        "      batch_time = time.time()\n",
        "\n",
        "    checkpoint.save(file_prefix=checkpoint_prefix)\n",
        "\n",
        "    if (epoch + 1) % 20 == 0:\n",
        "      current_lr = tf.keras.backend.get_value(global_branch_optimizer.lr)\n",
        "      new_lr = current_lr / 10\n",
        "      tf.keras.backend.set_value(global_branch_optimizer.lr, new_lr)\n",
        "\n",
        "    print('\\r', 'Epoch', f\"{epoch + 1}/{epochs}\", '| Step', f\"{step}/{train_steps}\",  '| loss:', loss, \"| AUC:\", auc_value, \"| time:\", time.time() - epoch_time)"
      ],
      "execution_count": 0,
      "outputs": []
    },
    {
      "cell_type": "code",
      "metadata": {
        "id": "iupwq6v5uEkC",
        "colab_type": "code",
        "outputId": "9d52c10c-ff7c-4f66-8ee7-8a45755dd681",
        "colab": {
          "base_uri": "https://localhost:8080/",
          "height": 34
        }
      },
      "source": [
        "train(epochs)"
      ],
      "execution_count": 0,
      "outputs": [
        {
          "output_type": "stream",
          "text": [
            " Epoch 1/1 | Step 409/408 | loss: 0.1740795 | AUC: 0.88910556 | time: 54.43811798095703"
          ],
          "name": "stdout"
        }
      ]
    },
    {
      "cell_type": "code",
      "metadata": {
        "id": "fYUA7fdiMeg3",
        "colab_type": "code",
        "outputId": "489da0b1-34aa-4ce9-cef3-5c3b5407af6d",
        "colab": {
          "base_uri": "https://localhost:8080/",
          "height": 34
        }
      },
      "source": [
        "checkpoint.save(file_prefix=checkpoint_prefix)"
      ],
      "execution_count": 0,
      "outputs": [
        {
          "output_type": "execute_result",
          "data": {
            "text/plain": [
              "'./training_checkpoints/stage1-ckpt-4'"
            ]
          },
          "metadata": {
            "tags": []
          },
          "execution_count": 47
        }
      ]
    },
    {
      "cell_type": "markdown",
      "metadata": {
        "id": "PHLkYWE2lccr",
        "colab_type": "text"
      },
      "source": [
        "## Global Model Validation"
      ]
    },
    {
      "cell_type": "code",
      "metadata": {
        "id": "7YDlIwfaqPAM",
        "colab_type": "code",
        "colab": {}
      },
      "source": [
        "classes_predicted = []\n",
        "val_steps = int(val_labels.size / batch_size)\n",
        "val_generator = val_dataset.batch(batch_size)"
      ],
      "execution_count": 0,
      "outputs": []
    },
    {
      "cell_type": "code",
      "metadata": {
        "id": "2yuDuVIHld1X",
        "colab_type": "code",
        "colab": {}
      },
      "source": [
        "def validate():\n",
        "  batch_time = time.time()\n",
        "  step = 0\n",
        "\n",
        "  for batch_images, labels in val_generator:\n",
        "    pred_classes, _, _ = global_branch_model(batch_images, training=False)\n",
        "    classes_predicted.extend(pred_classes.numpy())\n",
        "\n",
        "    auc_value = compute_metrics(labels, pred_classes)\n",
        "\n",
        "    auc_value = auc_value.numpy()\n",
        "\n",
        "    print('\\r', ' Step', f\"{step}/{val_steps}\", \"| AUC:\", auc_value, \"| time:\", time.time() - batch_time, end='')\n",
        "    \n",
        "    step += 1\n",
        "    batch_time = time.time()"
      ],
      "execution_count": 0,
      "outputs": []
    },
    {
      "cell_type": "code",
      "metadata": {
        "id": "DlW9zglwmLUA",
        "colab_type": "code",
        "outputId": "86145304-214e-440f-f286-1f8d3c514380",
        "colab": {
          "base_uri": "https://localhost:8080/",
          "height": 34
        }
      },
      "source": [
        "validate()"
      ],
      "execution_count": 0,
      "outputs": [
        {
          "output_type": "stream",
          "text": [
            " | Step 175/175 | AUC: 0.5967078 | time: 0.2941281795501709"
          ],
          "name": "stdout"
        }
      ]
    },
    {
      "cell_type": "code",
      "metadata": {
        "id": "GmpXnfLjvodQ",
        "colab_type": "code",
        "outputId": "eccbe694-be21-4918-dc4c-c86477b42d21",
        "colab": {
          "base_uri": "https://localhost:8080/",
          "height": 34
        }
      },
      "source": [
        "classes_predicted = np.array(classes_predicted)\n",
        "classes_predicted.shape"
      ],
      "execution_count": 0,
      "outputs": [
        {
          "output_type": "execute_result",
          "data": {
            "text/plain": [
              "(11212, 15)"
            ]
          },
          "metadata": {
            "tags": []
          },
          "execution_count": 113
        }
      ]
    },
    {
      "cell_type": "code",
      "metadata": {
        "id": "DeUEQcfVouSO",
        "colab_type": "code",
        "colab": {}
      },
      "source": [
        "auc = compute_metrics(onehot_val_labels, classes_predicted)"
      ],
      "execution_count": 0,
      "outputs": []
    },
    {
      "cell_type": "code",
      "metadata": {
        "id": "dKAR4FwJyuxR",
        "colab_type": "code",
        "outputId": "3ad18d75-0172-4970-d108-b3d186e8b8ba",
        "colab": {
          "base_uri": "https://localhost:8080/",
          "height": 34
        }
      },
      "source": [
        "auc"
      ],
      "execution_count": 0,
      "outputs": [
        {
          "output_type": "execute_result",
          "data": {
            "text/plain": [
              "<tf.Tensor: id=1380020, shape=(), dtype=float32, numpy=0.7757791>"
            ]
          },
          "metadata": {
            "tags": []
          },
          "execution_count": 115
        }
      ]
    },
    {
      "cell_type": "markdown",
      "metadata": {
        "id": "7dvkQg2hS_xx",
        "colab_type": "text"
      },
      "source": [
        "## Stage 2 (Local Model)"
      ]
    },
    {
      "cell_type": "code",
      "metadata": {
        "id": "ZqMpUqyI4Sqc",
        "colab_type": "code",
        "colab": {}
      },
      "source": [
        "treshhold = 0.7"
      ],
      "execution_count": 0,
      "outputs": []
    },
    {
      "cell_type": "code",
      "metadata": {
        "id": "4wRspB9GYIK9",
        "colab_type": "code",
        "colab": {}
      },
      "source": [
        "def get_local_images(feature_maps, global_images):\n",
        "  batch_size = len(feature_maps)\n",
        "  local_images = np.zeros((batch_size, 224, 224, 3), dtype=np.float32)\n",
        "\n",
        "  for index in range(batch_size):\n",
        "    feature_map = feature_maps[index, ...]\n",
        "    global_image = global_images[index, ...]\n",
        "\n",
        "    l1_distance = tf.norm(feature_map, ord=1, axis=2) # outputs 7x7\n",
        "    l1_distance = l1_distance - tf.keras.backend.min(l1_distance)\n",
        "    heatmap = l1_distance / tf.keras.backend.max(l1_distance)\n",
        "\n",
        "    resized_heatmap = tf.image.resize(tf.expand_dims(heatmap, 2), image_size[0:2], method=tf.image.ResizeMethod.BILINEAR)\n",
        "\n",
        "    binary_mask = tf.where(resized_heatmap[..., 0] > treshhold, 1, 0)\n",
        "    \n",
        "    labeled_mask, labels_indexes = label(binary_mask, connectivity=2, background=0, return_num=True)\n",
        "\n",
        "    elements_by_label = [np.sum(labeled_mask == label_index) for label_index in range(1, labels_indexes + 1)]\n",
        "\n",
        "    if len(elements_by_label) == 0:\n",
        "      max_connected_region = (labeled_mask == -1)\n",
        "    else:\n",
        "      max_label_index = np.argmax(elements_by_label) + 1\n",
        "      max_connected_region = (labeled_mask == max_label_index)\n",
        "\n",
        "    max_connected_region_stack = tf.stack([max_connected_region, max_connected_region, max_connected_region], axis=2)\n",
        "\n",
        "    masked_image = tf.cast(max_connected_region_stack, tf.float32) * global_image\n",
        "    mask_coords = np.argwhere(masked_image != 0)\n",
        "\n",
        "    min_y = min(mask_coords[:, 0])\n",
        "    min_x = min(mask_coords[:, 1])\n",
        "\n",
        "    max_y = max(mask_coords[:, 0])\n",
        "    max_x = max(mask_coords[:, 1])\n",
        "\n",
        "    local_image = global_image[min_y:max_y, min_x:max_x, :]\n",
        "    local_image = tf.image.resize(local_image, image_size[0:2], method=tf.image.ResizeMethod.BILINEAR)\n",
        "\n",
        "    local_images[index, ...] = local_image\n",
        "\n",
        "  return local_images"
      ],
      "execution_count": 0,
      "outputs": []
    },
    {
      "cell_type": "code",
      "metadata": {
        "id": "Acsm6sqHK212",
        "colab_type": "code",
        "colab": {}
      },
      "source": [
        "batch_size = 32\n",
        "train_steps = int(train_labels.size / batch_size)\n",
        "local_branch_optimizer = tf.keras.optimizers.SGD(learning_rate=1e-2, momentum=0.9)"
      ],
      "execution_count": 0,
      "outputs": []
    },
    {
      "cell_type": "code",
      "metadata": {
        "id": "GrfwaReLL5cz",
        "colab_type": "code",
        "colab": {}
      },
      "source": [
        "train_generator = train_dataset.batch(batch_size)"
      ],
      "execution_count": 0,
      "outputs": []
    },
    {
      "cell_type": "markdown",
      "metadata": {
        "id": "ZHrkx4DxyPe7",
        "colab_type": "text"
      },
      "source": [
        "#### Checkpoints"
      ]
    },
    {
      "cell_type": "code",
      "metadata": {
        "id": "xEsI8TTPKxrm",
        "colab_type": "code",
        "colab": {}
      },
      "source": [
        "checkpoint_stage2_prefix = os.path.join(checkpoint_dir, \"stage2-ckpt\")\n",
        "checkpoint_stage2 = tf.train.Checkpoint(local_branch_optimizer=local_branch_optimizer, local_branch_model=local_branch_model)"
      ],
      "execution_count": 0,
      "outputs": []
    },
    {
      "cell_type": "code",
      "metadata": {
        "id": "s2tlcsEyyUVR",
        "colab_type": "code",
        "colab": {}
      },
      "source": [
        "tf.train.latest_checkpoint(checkpoint_dir)"
      ],
      "execution_count": 0,
      "outputs": []
    },
    {
      "cell_type": "code",
      "metadata": {
        "id": "bGzCXK1pyU64",
        "colab_type": "code",
        "colab": {}
      },
      "source": [
        "checkpoint.restore(tf.train.latest_checkpoint(checkpoint_dir))"
      ],
      "execution_count": 0,
      "outputs": []
    },
    {
      "cell_type": "markdown",
      "metadata": {
        "id": "BjqW_FFnyVRI",
        "colab_type": "text"
      },
      "source": [
        "### Train functions"
      ]
    },
    {
      "cell_type": "code",
      "metadata": {
        "id": "l9miXpjUzGYT",
        "colab_type": "code",
        "colab": {}
      },
      "source": [
        "stage_2_loss_results = []\n",
        "stage_2_auc_results = []"
      ],
      "execution_count": 0,
      "outputs": []
    },
    {
      "cell_type": "code",
      "metadata": {
        "id": "MbjvKcdp2cfD",
        "colab_type": "code",
        "colab": {}
      },
      "source": [
        "@tf.function\n",
        "def train_stage_2(local_images, labels):\n",
        "    with tf.GradientTape() as tape:\n",
        "      pred_classes, _, _ = local_branch_model(local_images, training=True)\n",
        "\n",
        "      loss = compute_loss(labels, pred_classes)\n",
        "      \n",
        "    auc_value = compute_metrics(labels, pred_classes)\n",
        "      \n",
        "    gradients = tape.gradient(loss, local_branch_model.trainable_variables)   \n",
        "\n",
        "    local_branch_optimizer.apply_gradients(zip(gradients, local_branch_model.trainable_variables))\n",
        "\n",
        "    return loss, auc_value"
      ],
      "execution_count": 0,
      "outputs": []
    },
    {
      "cell_type": "code",
      "metadata": {
        "id": "U9O0lKUaKhit",
        "colab_type": "code",
        "colab": {}
      },
      "source": [
        "def train(epochs):\n",
        "  for epoch in range(epochs):\n",
        "    batch_time = time.time()\n",
        "    epoch_time = time.time()\n",
        "    step = 1\n",
        "\n",
        "    for batch_images, labels in train_generator:\n",
        "      _, feature_maps, _ = global_branch_model(batch_images, training=False)\n",
        "      local_images = get_local_images(feature_maps, batch_images)\n",
        "      \n",
        "      loss, auc_value = train_stage_2(local_images, labels)\n",
        "\n",
        "      auc_value = auc_value.numpy()\n",
        "      loss = loss.numpy()\n",
        "\n",
        "      print('\\r', 'Epoch', f\"{epoch + 1}/{epochs}\", '| Step', f\"{step}/{train_steps}\",  '| loss:', loss, \"| AUC:\", auc_value, \"| time:\", time.time() - batch_time, end='')\n",
        "      \n",
        "      step += 1\n",
        "      stage_2_loss_results.append(loss)\n",
        "      stage_2_auc_results.append(auc_value)\n",
        "      \n",
        "      batch_time = time.time()\n",
        "  \n",
        "    if (epoch + 1) % 20 == 0:\n",
        "      current_lr = tf.keras.backend.get_value(local_branch_optimizer.lr)\n",
        "      new_lr = current_lr / 10\n",
        "      tf.keras.backend.set_value(local_branch_optimizer.lr, new_lr)\n",
        "  \n",
        "  checkpoint_stage2.save(file_prefix=checkpoint_stage2_prefix)\n",
        "  print('\\r', 'Epoch', f\"{epoch + 1}/{epochs}\", '| Step', f\"{step}/{train_steps}\",  '| loss:', loss, \"| AUC:\", auc_value, \"| time:\", time.time() - epoch_time)"
      ],
      "execution_count": 0,
      "outputs": []
    },
    {
      "cell_type": "code",
      "metadata": {
        "id": "tug5PgIfKuIa",
        "colab_type": "code",
        "outputId": "a4f68573-2e56-4c77-9805-3536d2dad0d9",
        "colab": {
          "base_uri": "https://localhost:8080/",
          "height": 34
        }
      },
      "source": [
        "train(epochs)"
      ],
      "execution_count": 0,
      "outputs": [
        {
          "output_type": "stream",
          "text": [
            " Epoch 1/1 | Step 613/613 | loss: 0.15168105 | AUC: 0.9151786 | time: 16.711588144302368"
          ],
          "name": "stdout"
        }
      ]
    },
    {
      "cell_type": "markdown",
      "metadata": {
        "id": "iewuH679Y_sg",
        "colab_type": "text"
      },
      "source": [
        "## Stage 3"
      ]
    },
    {
      "cell_type": "code",
      "metadata": {
        "id": "Tg-fEV8K8nBR",
        "colab_type": "code",
        "colab": {}
      },
      "source": [
        "batch_size = 32\n",
        "train_steps = int(train_labels.size / batch_size)\n",
        "fusion_branch_optimizer = tf.keras.optimizers.SGD(learning_rate=1e-2, momentum=0.9)"
      ],
      "execution_count": 0,
      "outputs": []
    },
    {
      "cell_type": "code",
      "metadata": {
        "id": "oX0oz7768m3B",
        "colab_type": "code",
        "colab": {}
      },
      "source": [
        "train_generator = train_dataset.batch(batch_size)"
      ],
      "execution_count": 0,
      "outputs": []
    },
    {
      "cell_type": "markdown",
      "metadata": {
        "id": "dgazjDEF8VXF",
        "colab_type": "text"
      },
      "source": [
        "### Checkpoints"
      ]
    },
    {
      "cell_type": "code",
      "metadata": {
        "id": "O8dg-nTE8Qo6",
        "colab_type": "code",
        "colab": {}
      },
      "source": [
        "checkpoint_stage3_prefix = os.path.join(checkpoint_dir, \"stage3-ckpt\")\n",
        "checkpoint_stage3 = tf.train.Checkpoint(fusion_branch_optimizer=fusion_branch_optimizer, fusion_branch_model=fusion_branch_model)"
      ],
      "execution_count": 0,
      "outputs": []
    },
    {
      "cell_type": "code",
      "metadata": {
        "id": "RTR5OYj08Qfh",
        "colab_type": "code",
        "colab": {}
      },
      "source": [
        "tf.train.latest_checkpoint(checkpoint_dir)"
      ],
      "execution_count": 0,
      "outputs": []
    },
    {
      "cell_type": "code",
      "metadata": {
        "id": "6s2y0Pz78U9p",
        "colab_type": "code",
        "colab": {}
      },
      "source": [
        "checkpoint.restore(tf.train.latest_checkpoint(checkpoint_dir))"
      ],
      "execution_count": 0,
      "outputs": []
    },
    {
      "cell_type": "markdown",
      "metadata": {
        "id": "rCiC0tKJ8RKH",
        "colab_type": "text"
      },
      "source": [
        "### Train functions"
      ]
    },
    {
      "cell_type": "code",
      "metadata": {
        "id": "6UQkI2r88L-D",
        "colab_type": "code",
        "colab": {}
      },
      "source": [
        "stage_3_loss_results = []\n",
        "stage_3_auc_results = []"
      ],
      "execution_count": 0,
      "outputs": []
    },
    {
      "cell_type": "code",
      "metadata": {
        "id": "Jy9t9UFaZAdw",
        "colab_type": "code",
        "colab": {}
      },
      "source": [
        "@tf.function\n",
        "def train_stage_3(global_pooling_layers, local_pooling_layers, labels):\n",
        "    with tf.GradientTape() as tape:\n",
        "      pred_classes = fusion_branch_model([global_pooling_layers, local_pooling_layers], training=True)\n",
        "\n",
        "      loss = compute_loss(labels, pred_classes)\n",
        "      \n",
        "    auc_value = compute_metrics(labels, pred_classes)\n",
        "      \n",
        "    gradients = tape.gradient(loss, fusion_branch_model.trainable_variables)   \n",
        "\n",
        "    fusion_branch_optimizer.apply_gradients(zip(gradients, fusion_branch_model.trainable_variables))\n",
        "\n",
        "    return loss, auc_value"
      ],
      "execution_count": 0,
      "outputs": []
    },
    {
      "cell_type": "code",
      "metadata": {
        "id": "H4lHtVCY7XUx",
        "colab_type": "code",
        "colab": {}
      },
      "source": [
        "def train(epochs):\n",
        "  for epoch in range(epochs):\n",
        "    batch_time = time.time()\n",
        "    epoch_time = time.time()\n",
        "    step = 1\n",
        "\n",
        "    for batch_images, labels in train_generator:\n",
        "      _, feature_maps, global_pooling_layers = global_branch_model(batch_images, training=False)\n",
        "      local_images = get_local_images(feature_maps, batch_images)\n",
        "       _, _, local_pooling_layers = local_branch_model(local_images, training=False)\n",
        "      \n",
        "      loss, auc_value = train_stage_3(global_pooling_layers, local_pooling_layers, labels)\n",
        "\n",
        "      auc_value = auc_value.numpy()\n",
        "      loss = loss.numpy()\n",
        "\n",
        "      print('\\r', 'Epoch', f\"{epoch + 1}/{epochs}\", '| Step', f\"{step}/{train_steps}\",  '| loss:', loss, \"| AUC:\", auc_value, \"| time:\", time.time() - batch_time, end='')\n",
        "      \n",
        "      step += 1\n",
        "      stage_3_loss_results.append(loss)\n",
        "      stage_3_auc_results.append(auc_value)\n",
        "      \n",
        "      batch_time = time.time()\n",
        "\n",
        "    if (epoch + 1) % 20 == 0:\n",
        "      current_lr = tf.keras.backend.get_value(fusion_branch_optimizer.lr)\n",
        "      new_lr = current_lr / 10\n",
        "      tf.keras.backend.set_value(fusion_branch_optimizer.lr, new_lr)\n",
        "  \n",
        "  checkpoint_stage3.save(file_prefix=checkpoint_stage3_prefix)\n",
        "  print('\\r', 'Epoch', f\"{epoch + 1}/{epochs}\", '| Step', f\"{step}/{train_steps}\",  '| loss:', loss, \"| AUC:\", auc_value, \"| time:\", time.time() - epoch_time)"
      ],
      "execution_count": 0,
      "outputs": []
    },
    {
      "cell_type": "code",
      "metadata": {
        "id": "D8m3M3cG9EPu",
        "colab_type": "code",
        "colab": {}
      },
      "source": [
        "train(epochs)"
      ],
      "execution_count": 0,
      "outputs": []
    }
  ]
}