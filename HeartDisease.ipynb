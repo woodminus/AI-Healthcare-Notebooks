{
  "nbformat": 4,
  "nbformat_minor": 0,
  "metadata": {
    "colab": {
      "name": "HeartDisease.ipynb",
      "version": "0.3.2",
      "provenance": [],
      "collapsed_sections": []
    },
    "kernelspec": {
      "name": "python3",
      "display_name": "Python 3"
    }
  },
  "cells": [
    {
      "metadata": {
        "id": "VGQomyb6H6KM",
        "colab_type": "code",
        "colab": {}
      },
      "cell_type": "code",
      "source": [
        "import pandas as pd\n",
        "import numpy as np\n",
        "import matplotlib.pyplot as plt\n",
        "import seaborn as sns\n",
        "%matplotlib inline"
      ],
      "execution_count": 0,
      "outputs": []
    },
    {
      "metadata": {
        "id": "r0mXvAftH9Zw",
        "colab_type": "code",
        "colab": {}
      },
      "cell_type": "code",
      "source": [
        "dataset = pd.read_csv(\"./heart.csv\")"
      ],
      "execution_count": 0,
      "outputs": []
    },
    {
      "metadata": {
        "id": "2tXeAFe6ICMn",
        "colab_type": "code",
        "outputId": "a0cbb9ea-e885-4211-c3ed-2948c55945f2",
        "colab": {
          "base_uri": "https://localhost:8080/",
          "height": 204
        }
      },
      "cell_type": "code",
      "source": [
        "dataset.head()"
      ],
      "execution_count": 3,
      "outputs": [
        {
          "output_type": "execute_result",
          "data": {
            "text/html": [
              "<div>\n",
              "<style scoped>\n",
              "    .dataframe tbody tr th:only-of-type {\n",
              "        vertical-align: middle;\n",
              "    }\n",
              "\n",
              "    .dataframe tbody tr th {\n",
              "        vertical-align: top;\n",
              "    }\n",
              "\n",
              "    .dataframe thead th {\n",
              "        text-align: right;\n",
              "    }\n",
              "</style>\n",
              "<table border=\"1\" class=\"dataframe\">\n",
              "  <thead>\n",
              "    <tr style=\"text-align: right;\">\n",
              "      <th></th>\n",
              "      <th>age</th>\n",
              "      <th>sex</th>\n",
              "      <th>cp</th>\n",
              "      <th>trestbps</th>\n",
              "      <th>chol</th>\n",
              "      <th>fbs</th>\n",
              "      <th>restecg</th>\n",
              "      <th>thalach</th>\n",
              "      <th>exang</th>\n",
              "      <th>oldpeak</th>\n",
              "      <th>slope</th>\n",
              "      <th>ca</th>\n",
              "      <th>thal</th>\n",
              "      <th>target</th>\n",
              "    </tr>\n",
              "  </thead>\n",
              "  <tbody>\n",
              "    <tr>\n",
              "      <th>0</th>\n",
              "      <td>63</td>\n",
              "      <td>1</td>\n",
              "      <td>3</td>\n",
              "      <td>145</td>\n",
              "      <td>233</td>\n",
              "      <td>1</td>\n",
              "      <td>0</td>\n",
              "      <td>150</td>\n",
              "      <td>0</td>\n",
              "      <td>2.3</td>\n",
              "      <td>0</td>\n",
              "      <td>0</td>\n",
              "      <td>1</td>\n",
              "      <td>1</td>\n",
              "    </tr>\n",
              "    <tr>\n",
              "      <th>1</th>\n",
              "      <td>37</td>\n",
              "      <td>1</td>\n",
              "      <td>2</td>\n",
              "      <td>130</td>\n",
              "      <td>250</td>\n",
              "      <td>0</td>\n",
              "      <td>1</td>\n",
              "      <td>187</td>\n",
              "      <td>0</td>\n",
              "      <td>3.5</td>\n",
              "      <td>0</td>\n",
              "      <td>0</td>\n",
              "      <td>2</td>\n",
              "      <td>1</td>\n",
              "    </tr>\n",
              "    <tr>\n",
              "      <th>2</th>\n",
              "      <td>41</td>\n",
              "      <td>0</td>\n",
              "      <td>1</td>\n",
              "      <td>130</td>\n",
              "      <td>204</td>\n",
              "      <td>0</td>\n",
              "      <td>0</td>\n",
              "      <td>172</td>\n",
              "      <td>0</td>\n",
              "      <td>1.4</td>\n",
              "      <td>2</td>\n",
              "      <td>0</td>\n",
              "      <td>2</td>\n",
              "      <td>1</td>\n",
              "    </tr>\n",
              "    <tr>\n",
              "      <th>3</th>\n",
              "      <td>56</td>\n",
              "      <td>1</td>\n",
              "      <td>1</td>\n",
              "      <td>120</td>\n",
              "      <td>236</td>\n",
              "      <td>0</td>\n",
              "      <td>1</td>\n",
              "      <td>178</td>\n",
              "      <td>0</td>\n",
              "      <td>0.8</td>\n",
              "      <td>2</td>\n",
              "      <td>0</td>\n",
              "      <td>2</td>\n",
              "      <td>1</td>\n",
              "    </tr>\n",
              "    <tr>\n",
              "      <th>4</th>\n",
              "      <td>57</td>\n",
              "      <td>0</td>\n",
              "      <td>0</td>\n",
              "      <td>120</td>\n",
              "      <td>354</td>\n",
              "      <td>0</td>\n",
              "      <td>1</td>\n",
              "      <td>163</td>\n",
              "      <td>1</td>\n",
              "      <td>0.6</td>\n",
              "      <td>2</td>\n",
              "      <td>0</td>\n",
              "      <td>2</td>\n",
              "      <td>1</td>\n",
              "    </tr>\n",
              "  </tbody>\n",
              "</table>\n",
              "</div>"
            ],
            "text/plain": [
              "   age  sex  cp  trestbps  chol  fbs  restecg  thalach  exang  oldpeak  slope  \\\n",
              "0   63    1   3       145   233    1        0      150      0      2.3      0   \n",
              "1   37    1   2       130   250    0        1      187      0      3.5      0   \n",
              "2   41    0   1       130   204    0        0      172      0      1.4      2   \n",
              "3   56    1   1       120   236    0        1      178      0      0.8      2   \n",
              "4   57    0   0       120   354    0        1      163      1      0.6      2   \n",
              "\n",
              "   ca  thal  target  \n",
              "0   0     1       1  \n",
              "1   0     2       1  \n",
              "2   0     2       1  \n",
              "3   0     2       1  \n",
              "4   0     2       1  "
            ]
          },
          "metadata": {
            "tags": []
          },
          "execution_count": 3
        }
      ]
    },
    {
      "metadata": {
        "id": "K5TFoZL_Nit3",
        "colab_type": "text"
      },
      "cell_type": "markdown",
      "source": [
        "* cp = chest pain type Value 1: typical angina -- Value 2: atypical angina -- Value 3: non-anginal pain -- Value 4: asymptomatic\n",
        "\n",
        "* trestbps = resting blood pressure\n",
        "* chol = serum cholestoral in mg/dl \n",
        "* fbs = fasting blood sugar > 120 mg/dl (1=true, 0=false)\n",
        "* restecg = resting electrocardiographic results (values 0,1,2)\n",
        "* thalach = maximum heart rate achieved \n",
        "* exang = exercise induced angina (1 = yes; 0 = no) \n",
        "* oldpeak = ST depression induced by exercise relative to rest \n",
        "* slope = the slope of the peak exercise ST segment \n",
        "* ca = number of major vessels (0-3) colored by flourosopy \n",
        "* thal: 3 = normal; 6 = fixed defect; 7 = reversable defect"
      ]
    },
    {
      "metadata": {
        "id": "IaNz6ay7IEDH",
        "colab_type": "code",
        "outputId": "f8c8f716-6281-452b-fd35-ce89f9e05e8b",
        "colab": {
          "base_uri": "https://localhost:8080/",
          "height": 34
        }
      },
      "cell_type": "code",
      "source": [
        "dataset.shape"
      ],
      "execution_count": 4,
      "outputs": [
        {
          "output_type": "execute_result",
          "data": {
            "text/plain": [
              "(303, 14)"
            ]
          },
          "metadata": {
            "tags": []
          },
          "execution_count": 4
        }
      ]
    },
    {
      "metadata": {
        "id": "wqrSBz6DIK5X",
        "colab_type": "code",
        "outputId": "a9186056-a121-4e98-a418-1111bf918b5a",
        "colab": {
          "base_uri": "https://localhost:8080/",
          "height": 272
        }
      },
      "cell_type": "code",
      "source": [
        "dataset.count()"
      ],
      "execution_count": 5,
      "outputs": [
        {
          "output_type": "execute_result",
          "data": {
            "text/plain": [
              "age         303\n",
              "sex         303\n",
              "cp          303\n",
              "trestbps    303\n",
              "chol        303\n",
              "fbs         303\n",
              "restecg     303\n",
              "thalach     303\n",
              "exang       303\n",
              "oldpeak     303\n",
              "slope       303\n",
              "ca          303\n",
              "thal        303\n",
              "target      303\n",
              "dtype: int64"
            ]
          },
          "metadata": {
            "tags": []
          },
          "execution_count": 5
        }
      ]
    },
    {
      "metadata": {
        "id": "GtGrb2S7IQLw",
        "colab_type": "code",
        "outputId": "38e18a54-01aa-48c4-8329-493ef57937fb",
        "colab": {
          "base_uri": "https://localhost:8080/",
          "height": 272
        }
      },
      "cell_type": "code",
      "source": [
        "dataset.isnull().sum()"
      ],
      "execution_count": 0,
      "outputs": [
        {
          "output_type": "execute_result",
          "data": {
            "text/plain": [
              "age         0\n",
              "sex         0\n",
              "cp          0\n",
              "trestbps    0\n",
              "chol        0\n",
              "fbs         0\n",
              "restecg     0\n",
              "thalach     0\n",
              "exang       0\n",
              "oldpeak     0\n",
              "slope       0\n",
              "ca          0\n",
              "thal        0\n",
              "target      0\n",
              "dtype: int64"
            ]
          },
          "metadata": {
            "tags": []
          },
          "execution_count": 6
        }
      ]
    },
    {
      "metadata": {
        "id": "adKT0tASITIw",
        "colab_type": "code",
        "outputId": "be65612b-6324-4f1b-e8d0-e7be1619bb29",
        "colab": {
          "base_uri": "https://localhost:8080/",
          "height": 272
        }
      },
      "cell_type": "code",
      "source": [
        "dataset.isna().sum()"
      ],
      "execution_count": 0,
      "outputs": [
        {
          "output_type": "execute_result",
          "data": {
            "text/plain": [
              "age         0\n",
              "sex         0\n",
              "cp          0\n",
              "trestbps    0\n",
              "chol        0\n",
              "fbs         0\n",
              "restecg     0\n",
              "thalach     0\n",
              "exang       0\n",
              "oldpeak     0\n",
              "slope       0\n",
              "ca          0\n",
              "thal        0\n",
              "target      0\n",
              "dtype: int64"
            ]
          },
          "metadata": {
            "tags": []
          },
          "execution_count": 7
        }
      ]
    },
    {
      "metadata": {
        "id": "ttsgiy9hIWM5",
        "colab_type": "code",
        "outputId": "0a17cf14-fffc-426c-b5aa-32aafef72aa2",
        "colab": {
          "base_uri": "https://localhost:8080/",
          "height": 671
        }
      },
      "cell_type": "code",
      "source": [
        "sns.heatmap(dataset.corr(), annot=True, cmap='RdYlGn', linewidths=0.2)\n",
        "figure = plt.gcf()\n",
        "figure.set_size_inches(15, 11)\n",
        "plt.show()"
      ],
      "execution_count": 0,
      "outputs": [
        {
          "output_type": "display_data",
          "data": {
            "image/png": "[encoded data removed]",
            "text/plain": [
              "<Figure size 1080x792 with 2 Axes>"
            ]
          },
          "metadata": {
            "tags": []
          }
        }
      ]
    },
    {
      "metadata": {
        "id": "Vf-iw9GhIa4z",
        "colab_type": "code",
        "outputId": "1cb1e04b-06db-4830-eb1e-60e17f5c8d64",
        "colab": {
          "base_uri": "https://localhost:8080/",
          "height": 34
        }
      },
      "cell_type": "code",
      "source": [
        "dataset[\"cp\"].unique()"
      ],
      "execution_count": 0,
      "outputs": [
        {
          "output_type": "execute_result",
          "data": {
            "text/plain": [
              "array([3, 2, 1, 0])"
            ]
          },
          "metadata": {
            "tags": []
          },
          "execution_count": 10
        }
      ]
    },
    {
      "metadata": {
        "id": "xjFBr44QI1Ub",
        "colab_type": "code",
        "outputId": "51cf7276-32cc-4a0c-dcb2-0719fb70842b",
        "colab": {
          "base_uri": "https://localhost:8080/",
          "height": 34
        }
      },
      "cell_type": "code",
      "source": [
        "dataset[\"thal\"].unique()"
      ],
      "execution_count": 0,
      "outputs": [
        {
          "output_type": "execute_result",
          "data": {
            "text/plain": [
              "array([1, 2, 3, 0])"
            ]
          },
          "metadata": {
            "tags": []
          },
          "execution_count": 12
        }
      ]
    },
    {
      "metadata": {
        "id": "THJr-QImNf-h",
        "colab_type": "code",
        "outputId": "d02ee22e-0f24-478b-9c53-ed5d4680db59",
        "colab": {
          "base_uri": "https://localhost:8080/",
          "height": 34
        }
      },
      "cell_type": "code",
      "source": [
        "dataset[\"ca\"].unique()"
      ],
      "execution_count": 0,
      "outputs": [
        {
          "output_type": "execute_result",
          "data": {
            "text/plain": [
              "array([0, 2, 1, 3, 4])"
            ]
          },
          "metadata": {
            "tags": []
          },
          "execution_count": 13
        }
      ]
    },
    {
      "metadata": {
        "id": "0-os3EQGaLY-",
        "colab_type": "code",
        "colab": {}
      },
      "cell_type": "code",
      "source": [
        "positive_target_data = dataset[dataset[\"target\"] == 1]\n",
        "negative_target_data = dataset[dataset[\"target\"] == 0]\n",
        "\n",
        "\n",
        "def compare_hist(column):\n",
        "  figure = plt.figure(figsize=(10, 6))\n",
        "  ax1 = plt.subplot(2, 2, 1)\n",
        "  plt.hist(positive_target_data[column], color=\"#e74c3c\")\n",
        "  plt.xlabel(column)\n",
        "  ax2 = plt.subplot(2, 2, 2)\n",
        "  plt.hist(negative_target_data[column], color=\"#3498db\")\n",
        "  plt.xlabel(column)\n",
        "  \n",
        "  ylim = (0, max(ax1.get_ylim()[1], ax2.get_ylim()[1]))\n",
        "  ax1.set_ylim(ylim)\n",
        "  ax2.set_ylim(ylim)\n",
        "  xlim = (min(ax1.get_xlim()[0], ax2.get_xlim()[0]), max(ax1.get_xlim()[1], ax2.get_xlim()[1]))\n",
        "  ax1.set_xlim(xlim)\n",
        "  ax2.set_xlim(xlim)\n",
        "  \n",
        "def compare_bar(column):\n",
        "  figure = plt.figure(figsize=(10, 6))\n",
        "  ax1 = plt.subplot(2, 2, 1)\n",
        "  positive_target_data[['target', column]].groupby(column).count().plot(kind='bar', rot=0, legend=False, ax=ax1, color=\"#e74c3c\")\n",
        "  ax2 = plt.subplot(2, 2, 2)\n",
        "  negative_target_data[['target', column]].groupby(column).count().plot(kind='bar', rot=0, legend=False, ax=ax2, color=\"#3498db\")\n",
        "  \n",
        "  ylim = (0, max(ax1.get_ylim()[1], ax2.get_ylim()[1]))\n",
        "  ax1.set_ylim(ylim)\n",
        "  ax2.set_ylim(ylim)\n",
        "  xlim = (min(ax1.get_xlim()[0], ax2.get_xlim()[0]), max(ax1.get_xlim()[1], ax2.get_xlim()[1]))\n",
        "  ax1.set_xlim(xlim)\n",
        "  ax2.set_xlim(xlim)"
      ],
      "execution_count": 0,
      "outputs": []
    },
    {
      "metadata": {
        "id": "1jngHFKm6QnD",
        "colab_type": "code",
        "outputId": "8fe1ecc1-abae-47d9-f074-59c1cfe8c094",
        "colab": {
          "base_uri": "https://localhost:8080/",
          "height": 210
        }
      },
      "cell_type": "code",
      "source": [
        "compare_bar(\"thal\")"
      ],
      "execution_count": 0,
      "outputs": [
        {
          "output_type": "display_data",
          "data": {
            "image/png": "[encoded data removed]",
            "text/plain": [
              "<Figure size 720x432 with 2 Axes>"
            ]
          },
          "metadata": {
            "tags": []
          }
        }
      ]
    },
    {
      "metadata": {
        "id": "OgYt6urL6TNx",
        "colab_type": "text"
      },
      "cell_type": "markdown",
      "source": [
        "disorder called thalassemia"
      ]
    },
    {
      "metadata": {
        "id": "LCUxwqR2bmbe",
        "colab_type": "code",
        "outputId": "5012d3a8-6245-4103-b2e5-a811a0c0bcaf",
        "colab": {
          "base_uri": "https://localhost:8080/",
          "height": 210
        }
      },
      "cell_type": "code",
      "source": [
        "compare_bar(\"fbs\")"
      ],
      "execution_count": 0,
      "outputs": [
        {
          "output_type": "display_data",
          "data": {
            "image/png": "[encoded data removed]",
            "text/plain": [
              "<Figure size 720x432 with 2 Axes>"
            ]
          },
          "metadata": {
            "tags": []
          }
        }
      ]
    },
    {
      "metadata": {
        "id": "K1ZtDKyTqw0N",
        "colab_type": "text"
      },
      "cell_type": "markdown",
      "source": [
        "Fasting Blood sugar\n",
        "\n",
        "This feature can measuring diabetes. trajectories of fasting blood sugar are significantly associated with the risk of myocardio infarction."
      ]
    },
    {
      "metadata": {
        "id": "zRrryfvNa_Uu",
        "colab_type": "code",
        "outputId": "0a65a548-d7fe-4a0e-e4e3-e5fa3f36be89",
        "colab": {
          "base_uri": "https://localhost:8080/",
          "height": 210
        }
      },
      "cell_type": "code",
      "source": [
        "compare_hist(\"chol\")"
      ],
      "execution_count": 0,
      "outputs": [
        {
          "output_type": "display_data",
          "data": {
            "image/png": "[encoded data removed]",
            "text/plain": [
              "<Figure size 720x432 with 2 Axes>"
            ]
          },
          "metadata": {
            "tags": []
          }
        }
      ]
    },
    {
      "metadata": {
        "id": "_YiswprZs0h7",
        "colab_type": "text"
      },
      "cell_type": "markdown",
      "source": [
        "Cholesterol\n",
        "\n",
        "People who have high cholesterol in their blood are more likely to have their blood vessels narrowed with more cholesterol. (atherosclerosis)\n",
        "\n",
        "Coronary heart disease, which is one of the most common heart diseases, comes from lack of blood supply for the heart"
      ]
    },
    {
      "metadata": {
        "id": "mYmVAFSPbDI7",
        "colab_type": "code",
        "outputId": "95692766-d31d-45aa-d84a-996dcb685a35",
        "colab": {
          "base_uri": "https://localhost:8080/",
          "height": 213
        }
      },
      "cell_type": "code",
      "source": [
        "compare_bar(\"restecg\")"
      ],
      "execution_count": 0,
      "outputs": [
        {
          "output_type": "display_data",
          "data": {
            "image/png": "[encoded data removed]",
            "text/plain": [
              "<Figure size 720x432 with 2 Axes>"
            ]
          },
          "metadata": {
            "tags": []
          }
        }
      ]
    },
    {
      "metadata": {
        "id": "RGsCc3MpucHR",
        "colab_type": "text"
      },
      "cell_type": "markdown",
      "source": [
        "Resting ECG\n",
        "\n",
        "0: Normal\n",
        "1: Wave anormality (T wave inversion, ST elevation ) \n",
        "\n",
        "T wave sign of lacking blood in endocardium\n",
        "ST there are some damage to the myocardium due to the lack of blood for a relatively long period of time.\n",
        "\n",
        "2: Showing probable or definite left ventricular hypertrophy"
      ]
    },
    {
      "metadata": {
        "id": "Y_LLZ3bPetzU",
        "colab_type": "code",
        "outputId": "e6af8190-fe0f-496d-ec58-18ae7b7ab006",
        "colab": {
          "base_uri": "https://localhost:8080/",
          "height": 211
        }
      },
      "cell_type": "code",
      "source": [
        "compare_hist(\"trestbps\")"
      ],
      "execution_count": 0,
      "outputs": [
        {
          "output_type": "display_data",
          "data": {
            "image/png": "[encoded data removed]",
            "text/plain": [
              "<Figure size 720x432 with 2 Axes>"
            ]
          },
          "metadata": {
            "tags": []
          }
        }
      ]
    },
    {
      "metadata": {
        "id": "2jfC3hj2vlbC",
        "colab_type": "text"
      },
      "cell_type": "markdown",
      "source": [
        "Resting blood pressure\n",
        "\n",
        "Normal blood pressure is around 120/80\n",
        "\n",
        "high blood pressure can result in congestive heart failure"
      ]
    },
    {
      "metadata": {
        "id": "KI3xVna7fBq3",
        "colab_type": "code",
        "outputId": "723bdee1-8cec-4ea7-cc77-ebc783125bab",
        "colab": {
          "base_uri": "https://localhost:8080/",
          "height": 210
        }
      },
      "cell_type": "code",
      "source": [
        "compare_hist(\"age\")"
      ],
      "execution_count": 0,
      "outputs": [
        {
          "output_type": "display_data",
          "data": {
            "image/png": "[encoded data removed]",
            "text/plain": [
              "<Figure size 720x432 with 2 Axes>"
            ]
          },
          "metadata": {
            "tags": []
          }
        }
      ]
    },
    {
      "metadata": {
        "id": "iaaQHntjft4J",
        "colab_type": "code",
        "outputId": "d0d8636a-e84a-4563-8aa7-c034f03916af",
        "colab": {
          "base_uri": "https://localhost:8080/",
          "height": 210
        }
      },
      "cell_type": "code",
      "source": [
        "compare_hist(\"thalach\")"
      ],
      "execution_count": 0,
      "outputs": [
        {
          "output_type": "display_data",
          "data": {
            "image/png": "[encoded data removed]",
            "text/plain": [
              "<Figure size 720x432 with 2 Axes>"
            ]
          },
          "metadata": {
            "tags": []
          }
        }
      ]
    },
    {
      "metadata": {
        "id": "FJBAa-cRzUxD",
        "colab_type": "text"
      },
      "cell_type": "markdown",
      "source": [
        "Maximum heart rate achieved"
      ]
    },
    {
      "metadata": {
        "id": "kYMbumXDxvqJ",
        "colab_type": "code",
        "outputId": "3f076cc4-a67c-4480-8a6d-bc67bf49e726",
        "colab": {
          "base_uri": "https://localhost:8080/",
          "height": 210
        }
      },
      "cell_type": "code",
      "source": [
        "compare_bar(\"slope\")"
      ],
      "execution_count": 0,
      "outputs": [
        {
          "output_type": "display_data",
          "data": {
            "image/png": "[encoded data removed]",
            "text/plain": [
              "<Figure size 720x432 with 2 Axes>"
            ]
          },
          "metadata": {
            "tags": []
          }
        }
      ]
    },
    {
      "metadata": {
        "id": "LNtK3DWxxzEL",
        "colab_type": "text"
      },
      "cell_type": "markdown",
      "source": [
        "Slope of the peak exercise ST segment\n",
        "\n",
        "0: upsloping\n",
        "1: flat\n",
        "2: downsloping"
      ]
    },
    {
      "metadata": {
        "id": "otE3Av-NyEKH",
        "colab_type": "code",
        "outputId": "23c3daa7-4833-46e1-b3b0-c3ed08b094f3",
        "colab": {
          "base_uri": "https://localhost:8080/",
          "height": 210
        }
      },
      "cell_type": "code",
      "source": [
        "compare_bar(\"ca\")"
      ],
      "execution_count": 0,
      "outputs": [
        {
          "output_type": "display_data",
          "data": {
            "image/png": "[encoded data removed]",
            "text/plain": [
              "<Figure size 720x432 with 2 Axes>"
            ]
          },
          "metadata": {
            "tags": []
          }
        }
      ]
    },
    {
      "metadata": {
        "id": "7eatZL3syHOm",
        "colab_type": "text"
      },
      "cell_type": "markdown",
      "source": [
        "number of major visible vessels under fluorosopy\n",
        "\n",
        "under fluorosopy only arteries that have a stable blood transmition can be shown clearly."
      ]
    },
    {
      "metadata": {
        "id": "LZki5b2MzMyw",
        "colab_type": "code",
        "outputId": "e51e7e44-5301-46c3-b8db-ef17224f32a5",
        "colab": {
          "base_uri": "https://localhost:8080/",
          "height": 211
        }
      },
      "cell_type": "code",
      "source": [
        "compare_hist(\"oldpeak\")"
      ],
      "execution_count": 0,
      "outputs": [
        {
          "output_type": "display_data",
          "data": {
            "image/png": "[encoded data removed]",
            "text/plain": [
              "<Figure size 720x432 with 2 Axes>"
            ]
          },
          "metadata": {
            "tags": []
          }
        }
      ]
    },
    {
      "metadata": {
        "id": "_Es_zNpdz3S5",
        "colab_type": "text"
      },
      "cell_type": "markdown",
      "source": [
        "ST depression induced by exercise relative to rest\n",
        "\n",
        "In exercise, coronary arteries can introduce shortage of blood transmitted to the heart"
      ]
    },
    {
      "metadata": {
        "id": "tcNH6Q6w0UDy",
        "colab_type": "code",
        "outputId": "fb688b1c-0b93-4931-97f5-34e3915f2119",
        "colab": {
          "base_uri": "https://localhost:8080/",
          "height": 210
        }
      },
      "cell_type": "code",
      "source": [
        "compare_bar(\"cp\")"
      ],
      "execution_count": 0,
      "outputs": [
        {
          "output_type": "display_data",
          "data": {
            "image/png": "[encoded data removed]",
            "text/plain": [
              "<Figure size 720x432 with 2 Axes>"
            ]
          },
          "metadata": {
            "tags": []
          }
        }
      ]
    },
    {
      "metadata": {
        "id": "JxeXcmWi0Wz1",
        "colab_type": "text"
      },
      "cell_type": "markdown",
      "source": [
        "Chest pain type\n",
        "\n",
        "* Value 0: asymptomatic\n",
        "* Value 1: typical angina\n",
        "* Value 2: atypical angina\n",
        "* Value 3: non-anginal pain"
      ]
    },
    {
      "metadata": {
        "id": "4VaXMlY11SAN",
        "colab_type": "code",
        "outputId": "4518ff4f-6058-47e1-d7ac-8ec42ac37853",
        "colab": {
          "base_uri": "https://localhost:8080/",
          "height": 210
        }
      },
      "cell_type": "code",
      "source": [
        "compare_bar(\"exang\")"
      ],
      "execution_count": 0,
      "outputs": [
        {
          "output_type": "display_data",
          "data": {
            "image/png": "[encoded data removed]",
            "text/plain": [
              "<Figure size 720x432 with 2 Axes>"
            ]
          },
          "metadata": {
            "tags": []
          }
        }
      ]
    },
    {
      "metadata": {
        "id": "-UO6lqtR1UzS",
        "colab_type": "text"
      },
      "cell_type": "markdown",
      "source": [
        "Exercise induced angina"
      ]
    },
    {
      "metadata": {
        "id": "wVjRSoEJPCSr",
        "colab_type": "code",
        "outputId": "5c333079-f542-4aae-a335-565b605e0550",
        "colab": {
          "base_uri": "https://localhost:8080/",
          "height": 265
        }
      },
      "cell_type": "code",
      "source": [
        "dataset[\"sex\"].value_counts().plot.pie(explode=[0, 0.1], autopct='%1.1f%%')"
      ],
      "execution_count": 0,
      "outputs": [
        {
          "output_type": "execute_result",
          "data": {
            "text/plain": [
              "<matplotlib.axes._subplots.AxesSubplot at 0x7f27d65a3160>"
            ]
          },
          "metadata": {
            "tags": []
          },
          "execution_count": 22
        },
        {
          "output_type": "display_data",
          "data": {
            "image/png": "[encoded data removed]",
            "text/plain": [
              "<Figure size 432x288 with 1 Axes>"
            ]
          },
          "metadata": {
            "tags": []
          }
        }
      ]
    },
    {
      "metadata": {
        "id": "gDzLMZ0pQ68Z",
        "colab_type": "code",
        "outputId": "ac8f34f9-6cf0-44ed-fb3a-cb7e07bbd2da",
        "colab": {
          "base_uri": "https://localhost:8080/",
          "height": 85
        }
      },
      "cell_type": "code",
      "source": [
        "dataset.groupby(\"target\").size()"
      ],
      "execution_count": 0,
      "outputs": [
        {
          "output_type": "execute_result",
          "data": {
            "text/plain": [
              "target\n",
              "0    138\n",
              "1    165\n",
              "dtype: int64"
            ]
          },
          "metadata": {
            "tags": []
          },
          "execution_count": 25
        }
      ]
    },
    {
      "metadata": {
        "id": "645gbmqQ_SWH",
        "colab_type": "code",
        "outputId": "20c4b384-39e4-4494-8166-e7cef03f9980",
        "colab": {
          "base_uri": "https://localhost:8080/",
          "height": 265
        }
      },
      "cell_type": "code",
      "source": [
        "dataset[dataset[\"sex\"] == 0][\"target\"].value_counts().plot.pie(explode=[0, 0.1], autopct='%1.1f%%')"
      ],
      "execution_count": 0,
      "outputs": [
        {
          "output_type": "execute_result",
          "data": {
            "text/plain": [
              "<matplotlib.axes._subplots.AxesSubplot at 0x7f9053e7d940>"
            ]
          },
          "metadata": {
            "tags": []
          },
          "execution_count": 25
        },
        {
          "output_type": "display_data",
          "data": {
            "image/png": "[encoded data removed]",
            "text/plain": [
              "<Figure size 432x288 with 1 Axes>"
            ]
          },
          "metadata": {
            "tags": []
          }
        }
      ]
    },
    {
      "metadata": {
        "id": "IVA5hbr-_bWY",
        "colab_type": "code",
        "outputId": "e9e0cf22-ddce-4d77-da0b-c946d7e99e84",
        "colab": {
          "base_uri": "https://localhost:8080/",
          "height": 265
        }
      },
      "cell_type": "code",
      "source": [
        "dataset[dataset[\"sex\"] == 1][\"target\"].value_counts().plot.pie(explode=[0, 0.1], autopct='%1.1f%%')"
      ],
      "execution_count": 0,
      "outputs": [
        {
          "output_type": "execute_result",
          "data": {
            "text/plain": [
              "<matplotlib.axes._subplots.AxesSubplot at 0x7f9053e4f828>"
            ]
          },
          "metadata": {
            "tags": []
          },
          "execution_count": 26
        },
        {
          "output_type": "display_data",
          "data": {
            "image/png": "[encoded data removed]",
            "text/plain": [
              "<Figure size 432x288 with 1 Axes>"
            ]
          },
          "metadata": {
            "tags": []
          }
        }
      ]
    },
    {
      "metadata": {
        "id": "WhT87c9pQrei",
        "colab_type": "code",
        "outputId": "f7ba2437-2f53-47de-df78-320c5da327e2",
        "colab": {
          "base_uri": "https://localhost:8080/",
          "height": 310
        }
      },
      "cell_type": "code",
      "source": [
        "dataset.groupby(\"target\")[\"cp\"].value_counts().plot.bar()"
      ],
      "execution_count": 0,
      "outputs": [
        {
          "output_type": "execute_result",
          "data": {
            "text/plain": [
              "<matplotlib.axes._subplots.AxesSubplot at 0x7f27d6084898>"
            ]
          },
          "metadata": {
            "tags": []
          },
          "execution_count": 26
        },
        {
          "output_type": "display_data",
          "data": {
            "image/png": "[encoded data removed]",
            "text/plain": [
              "<Figure size 432x288 with 1 Axes>"
            ]
          },
          "metadata": {
            "tags": []
          }
        }
      ]
    },
    {
      "metadata": {
        "id": "JMSlnJ9rRPJu",
        "colab_type": "code",
        "outputId": "8bc72709-4ad1-40bf-85a9-21f7941d5481",
        "colab": {
          "base_uri": "https://localhost:8080/",
          "height": 292
        }
      },
      "cell_type": "code",
      "source": [
        "dataset.groupby(\"target\")[\"thalach\"].mean().plot.bar()"
      ],
      "execution_count": 0,
      "outputs": [
        {
          "output_type": "execute_result",
          "data": {
            "text/plain": [
              "<matplotlib.axes._subplots.AxesSubplot at 0x7f27d6064b70>"
            ]
          },
          "metadata": {
            "tags": []
          },
          "execution_count": 27
        },
        {
          "output_type": "display_data",
          "data": {
            "image/png": "[encoded data removed]",
            "text/plain": [
              "<Figure size 432x288 with 1 Axes>"
            ]
          },
          "metadata": {
            "tags": []
          }
        }
      ]
    },
    {
      "metadata": {
        "id": "y6aEHoRkReDR",
        "colab_type": "code",
        "outputId": "874e817a-769f-4d52-f562-c31fcfbbd030",
        "colab": {
          "base_uri": "https://localhost:8080/",
          "height": 85
        }
      },
      "cell_type": "code",
      "source": [
        "dataset.groupby(\"target\")[\"thalach\"].max()"
      ],
      "execution_count": 0,
      "outputs": [
        {
          "output_type": "execute_result",
          "data": {
            "text/plain": [
              "target\n",
              "0    195\n",
              "1    202\n",
              "Name: thalach, dtype: int64"
            ]
          },
          "metadata": {
            "tags": []
          },
          "execution_count": 29
        }
      ]
    },
    {
      "metadata": {
        "id": "B48ORobdRhcB",
        "colab_type": "code",
        "outputId": "7c3894ae-1f32-48c6-d4ee-199c1f20a7d6",
        "colab": {
          "base_uri": "https://localhost:8080/",
          "height": 85
        }
      },
      "cell_type": "code",
      "source": [
        "dataset.groupby(\"target\")[\"thalach\"].min()"
      ],
      "execution_count": 0,
      "outputs": [
        {
          "output_type": "execute_result",
          "data": {
            "text/plain": [
              "target\n",
              "0    71\n",
              "1    96\n",
              "Name: thalach, dtype: int64"
            ]
          },
          "metadata": {
            "tags": []
          },
          "execution_count": 30
        }
      ]
    },
    {
      "metadata": {
        "id": "SDutmHxH8Nub",
        "colab_type": "code",
        "outputId": "c42d13cb-acfd-4fdb-f633-59d4138fd79e",
        "colab": {
          "base_uri": "https://localhost:8080/",
          "height": 554
        }
      },
      "cell_type": "code",
      "source": [
        "dataset[[\"trestbps\", \"age\", \"chol\", \"thalach\"]].boxplot(figsize=(9,9))"
      ],
      "execution_count": 0,
      "outputs": [
        {
          "output_type": "execute_result",
          "data": {
            "text/plain": [
              "<matplotlib.axes._subplots.AxesSubplot at 0x7f9051638a20>"
            ]
          },
          "metadata": {
            "tags": []
          },
          "execution_count": 21
        },
        {
          "output_type": "display_data",
          "data": {
            "image/png": "[encoded data removed]",
            "text/plain": [
              "<Figure size 648x648 with 1 Axes>"
            ]
          },
          "metadata": {
            "tags": []
          }
        }
      ]
    },
    {
      "metadata": {
        "id": "kBFfFqHF9YSy",
        "colab_type": "code",
        "outputId": "7e2f1537-fcb6-4d83-8b8f-bacd2b8b7f06",
        "colab": {
          "base_uri": "https://localhost:8080/",
          "height": 282
        }
      },
      "cell_type": "code",
      "source": [
        "dataset[[\"oldpeak\"]].boxplot()"
      ],
      "execution_count": 0,
      "outputs": [
        {
          "output_type": "execute_result",
          "data": {
            "text/plain": [
              "<matplotlib.axes._subplots.AxesSubplot at 0x7f90514ee208>"
            ]
          },
          "metadata": {
            "tags": []
          },
          "execution_count": 23
        },
        {
          "output_type": "display_data",
          "data": {
            "image/png": "[encoded data removed]",
            "text/plain": [
              "<Figure size 432x288 with 1 Axes>"
            ]
          },
          "metadata": {
            "tags": []
          }
        }
      ]
    },
    {
      "metadata": {
        "id": "LkFASFQI_Mce",
        "colab_type": "text"
      },
      "cell_type": "markdown",
      "source": [
        "## Data preprocess"
      ]
    },
    {
      "metadata": {
        "id": "z1Ic3FFi_OiR",
        "colab_type": "code",
        "colab": {}
      },
      "cell_type": "code",
      "source": [
        "from sklearn.model_selection import train_test_split\n",
        "from sklearn.preprocessing import StandardScaler"
      ],
      "execution_count": 0,
      "outputs": []
    },
    {
      "metadata": {
        "id": "_JT_4bohedxt",
        "colab_type": "code",
        "colab": {}
      },
      "cell_type": "code",
      "source": [
        "standar_dataset = dataset.copy()"
      ],
      "execution_count": 0,
      "outputs": []
    },
    {
      "metadata": {
        "id": "AAJ0wP8RAaa5",
        "colab_type": "code",
        "colab": {}
      },
      "cell_type": "code",
      "source": [
        "standardScaler = StandardScaler()\n",
        "scale_columns = ['age', 'trestbps', 'chol', 'thalach', 'oldpeak']\n",
        "standar_dataset[scale_columns] = standardScaler.fit_transform(standar_dataset[scale_columns])"
      ],
      "execution_count": 0,
      "outputs": []
    },
    {
      "metadata": {
        "id": "U_TEdzNWAFEu",
        "colab_type": "code",
        "outputId": "caee40cd-1523-4787-dcb5-f3c3f7eb9e0f",
        "colab": {
          "base_uri": "https://localhost:8080/",
          "height": 119
        }
      },
      "cell_type": "code",
      "source": [
        "standar_dataset[scale_columns].mean()"
      ],
      "execution_count": 32,
      "outputs": [
        {
          "output_type": "execute_result",
          "data": {
            "text/plain": [
              "age         5.825923e-17\n",
              "trestbps   -7.146832e-16\n",
              "chol       -9.828955e-17\n",
              "thalach    -5.203025e-16\n",
              "oldpeak    -3.140136e-16\n",
              "dtype: float64"
            ]
          },
          "metadata": {
            "tags": []
          },
          "execution_count": 32
        }
      ]
    },
    {
      "metadata": {
        "id": "0Y6sHrbnAqIs",
        "colab_type": "code",
        "outputId": "c20ef940-3b33-493f-8d02-dd94cfd387bb",
        "colab": {
          "base_uri": "https://localhost:8080/",
          "height": 119
        }
      },
      "cell_type": "code",
      "source": [
        "dataset[scale_columns].mean()"
      ],
      "execution_count": 33,
      "outputs": [
        {
          "output_type": "execute_result",
          "data": {
            "text/plain": [
              "age          54.366337\n",
              "trestbps    131.623762\n",
              "chol        246.264026\n",
              "thalach     149.646865\n",
              "oldpeak       1.039604\n",
              "dtype: float64"
            ]
          },
          "metadata": {
            "tags": []
          },
          "execution_count": 33
        }
      ]
    },
    {
      "metadata": {
        "id": "nRfMbrKW7390",
        "colab_type": "text"
      },
      "cell_type": "markdown",
      "source": [
        "## Models"
      ]
    },
    {
      "metadata": {
        "id": "brUKJxHW9JZ6",
        "colab_type": "code",
        "colab": {}
      },
      "cell_type": "code",
      "source": [
        "feature_names = np.array(['age', 'sex', 'cp', 'trestbps', 'chol', 'fbs', 'restecg', 'thalach', 'exang', 'oldpeak', 'slope', 'ca', 'thal'])\n",
        "X = standar_dataset[feature_names]\n",
        "y = standar_dataset[\"target\"]"
      ],
      "execution_count": 0,
      "outputs": []
    },
    {
      "metadata": {
        "id": "SVmfHQQXCdtO",
        "colab_type": "code",
        "colab": {}
      },
      "cell_type": "code",
      "source": [
        "X_train, X_val, y_train, y_val = train_test_split(X, y, stratify=standar_dataset[\"target\"], random_state=0)"
      ],
      "execution_count": 0,
      "outputs": []
    },
    {
      "metadata": {
        "id": "2m2w0GbgCloe",
        "colab_type": "code",
        "colab": {}
      },
      "cell_type": "code",
      "source": [
        "from sklearn.ensemble import RandomForestClassifier\n",
        "from sklearn.ensemble import GradientBoostingClassifier\n",
        "\n",
        "from sklearn.model_selection import cross_val_score\n",
        "from sklearn.model_selection import KFold\n",
        "from sklearn.metrics import accuracy_score\n",
        "from sklearn.metrics import confusion_matrix\n",
        "from sklearn.metrics import classification_report\n",
        "from sklearn.metrics import roc_curve, auc\n",
        "import itertools"
      ],
      "execution_count": 0,
      "outputs": []
    },
    {
      "metadata": {
        "id": "ryjMhnGZYQIJ",
        "colab_type": "code",
        "colab": {}
      },
      "cell_type": "code",
      "source": [
        "def plot_confusion_matrix(cm, classes,\n",
        "                          normalize=False,\n",
        "                          title='Confusion matrix',\n",
        "                          cmap=plt.cm.Blues):\n",
        "    \"\"\"\n",
        "    This function prints and plots the confusion matrix.\n",
        "    Normalization can be applied by setting `normalize=True`.\n",
        "    \"\"\"\n",
        "    if normalize:\n",
        "        cm = cm.astype('float') / cm.sum(axis=1)[:, np.newaxis]\n",
        "        print(\"Normalized confusion matrix\")\n",
        "    else:\n",
        "        print('Confusion matrix, without normalization')\n",
        "\n",
        "    plt.imshow(cm, interpolation='nearest', cmap=cmap)\n",
        "    plt.title(title)\n",
        "    plt.colorbar()\n",
        "    tick_marks = np.arange(len(classes))\n",
        "    plt.xticks(tick_marks, classes, rotation=45)\n",
        "    plt.yticks(tick_marks, classes)\n",
        "\n",
        "    fmt = '.2f' if normalize else 'd'\n",
        "    thresh = cm.max() / 2.\n",
        "    for i, j in itertools.product(range(cm.shape[0]), range(cm.shape[1])):\n",
        "        plt.text(j, i, format(cm[i, j], fmt),\n",
        "                 horizontalalignment=\"center\",\n",
        "                 color=\"white\" if cm[i, j] > thresh else \"black\")\n",
        "\n",
        "    plt.ylabel('True label')\n",
        "    plt.xlabel('Predicted label')\n",
        "    plt.tight_layout()"
      ],
      "execution_count": 0,
      "outputs": []
    },
    {
      "metadata": {
        "id": "occgz8Oqi5C5",
        "colab_type": "code",
        "colab": {}
      },
      "cell_type": "code",
      "source": [
        "def evaluate_confusion_matrix(y, y_predicted, name):\n",
        "  model_confusion_matrix = confusion_matrix(y, y_predicted)\n",
        "  \n",
        "  plot_confusion_matrix(model_confusion_matrix, classes)\n",
        "  \n",
        "  sensitivity = model_confusion_matrix[0, 0] / (model_confusion_matrix[0, 0] + model_confusion_matrix[0, 1])\n",
        "  print(f'{name} sensitivity score: {sensitivity}')\n",
        "  \n",
        "  specificity = model_confusion_matrix[1, 1] / (model_confusion_matrix[1, 1] + model_confusion_matrix[1, 0])\n",
        "  print(f'{name} specifity score: {specificity}')"
      ],
      "execution_count": 0,
      "outputs": []
    },
    {
      "metadata": {
        "id": "_R88aPPrjhik",
        "colab_type": "code",
        "colab": {}
      },
      "cell_type": "code",
      "source": [
        "def plot_auc(y, y_predicted):\n",
        "  fpr, tpr, thresholds = roc_curve(y, y_predicted)\n",
        "\n",
        "  fig, ax = plt.subplots()\n",
        "  ax.plot(fpr, tpr)\n",
        "  ax.plot([0, 1], [0, 1], transform=ax.transAxes, ls=\"--\", c=\".3\")\n",
        "  plt.xlim([0.0, 1.0])\n",
        "  plt.ylim([0.0, 1.0])\n",
        "  plt.rcParams['font.size'] = 12\n",
        "  plt.title(f'Area under the curve {auc(fpr, tpr)}')\n",
        "  plt.xlabel('False Positive Rate (1 - Specificity)')\n",
        "  plt.ylabel('True Positive Rate (Sensitivity)')\n",
        "  plt.grid(True)"
      ],
      "execution_count": 0,
      "outputs": []
    },
    {
      "metadata": {
        "id": "5VDpQxzVU1tx",
        "colab_type": "code",
        "colab": {}
      },
      "cell_type": "code",
      "source": [
        "def train_and_evaluate_model(model, name=\"model\"):\n",
        "  model.fit(X_train, y_train)\n",
        "  y_train_predicted = model.predict(X_train)\n",
        "  y_val_predicted = model.predict(X_val)\n",
        "  \n",
        "  train_score = accuracy_score(y_train, y_train_predicted)\n",
        "  print(f'{name} train accuracy score: {train_score}')\n",
        "  \n",
        "  validation_score = accuracy_score(y_val, y_val_predicted)\n",
        "  print(f'{name} accuracy score: {validation_score}')\n",
        "  \n",
        "  print(\"-------------------------------------------\")\n",
        "  \n",
        "  evaluate_confusion_matrix(y_val, y_val_predicted, name)\n",
        "  \n",
        "  print(\"-------------------------------------------\")\n",
        "  \n",
        "  plot_auc(y_val, y_val_predicted)\n",
        "  \n",
        "  report = classification_report(y_val, y_val_predicted, target_names=classes)\n",
        "  print(report)"
      ],
      "execution_count": 0,
      "outputs": []
    },
    {
      "metadata": {
        "id": "y6eubRAmVvcn",
        "colab_type": "code",
        "colab": {}
      },
      "cell_type": "code",
      "source": [
        "classes = [\"positive\", \"negative\"]"
      ],
      "execution_count": 0,
      "outputs": []
    },
    {
      "metadata": {
        "id": "YUgiJiPAZuAK",
        "colab_type": "text"
      },
      "cell_type": "markdown",
      "source": [
        "## Random forest"
      ]
    },
    {
      "metadata": {
        "id": "h10jI9QoWj6E",
        "colab_type": "code",
        "outputId": "e00dffdc-398e-4f54-8ce9-031e2a83d11c",
        "colab": {
          "base_uri": "https://localhost:8080/",
          "height": 842
        }
      },
      "cell_type": "code",
      "source": [
        "random_forest_model = RandomForestClassifier(n_estimators=100)\n",
        "train_and_evaluate_model(random_forest_model, \"Random forest\")"
      ],
      "execution_count": 102,
      "outputs": [
        {
          "output_type": "stream",
          "text": [
            "Random forest train accuracy score: 1.0\n",
            "Random forest accuracy score: 0.8552631578947368\n",
            "-------------------------------------------\n",
            "Confusion matrix, without normalization\n",
            "Random forest sensitivity score: 0.8285714285714286\n",
            "Random forest specifity score: 0.8780487804878049\n",
            "-------------------------------------------\n",
            "              precision    recall  f1-score   support\n",
            "\n",
            "    positive       0.85      0.83      0.84        35\n",
            "    negative       0.86      0.88      0.87        41\n",
            "\n",
            "   micro avg       0.86      0.86      0.86        76\n",
            "   macro avg       0.86      0.85      0.85        76\n",
            "weighted avg       0.86      0.86      0.86        76\n",
            "\n"
          ],
          "name": "stdout"
        },
        {
          "output_type": "display_data",
          "data": {
            "image/png": "[encoded data removed]",
            "text/plain": [
              "<Figure size 432x288 with 2 Axes>"
            ]
          },
          "metadata": {
            "tags": []
          }
        },
        {
          "output_type": "display_data",
          "data": {
            "image/png": "[encoded data removed]",
            "text/plain": [
              "<Figure size 432x288 with 1 Axes>"
            ]
          },
          "metadata": {
            "tags": []
          }
        }
      ]
    },
    {
      "metadata": {
        "id": "QtGTY7KYUj5X",
        "colab_type": "text"
      },
      "cell_type": "markdown",
      "source": [
        "## Gradient Boosting Classifier"
      ]
    },
    {
      "metadata": {
        "id": "3kqeTLTqUuHB",
        "colab_type": "code",
        "outputId": "e2a707cc-c9c1-46c1-e58c-315b3a0acf9a",
        "colab": {
          "base_uri": "https://localhost:8080/",
          "height": 842
        }
      },
      "cell_type": "code",
      "source": [
        "gradient_boosting_model = GradientBoostingClassifier(n_estimators=100)\n",
        "train_and_evaluate_model(gradient_boosting_model, \"Gradient Boosting\")"
      ],
      "execution_count": 110,
      "outputs": [
        {
          "output_type": "stream",
          "text": [
            "Gradient Boosting train accuracy score: 1.0\n",
            "Gradient Boosting accuracy score: 0.8026315789473685\n",
            "-------------------------------------------\n",
            "Confusion matrix, without normalization\n",
            "Gradient Boosting sensitivity score: 0.7714285714285715\n",
            "Gradient Boosting specifity score: 0.8292682926829268\n",
            "-------------------------------------------\n",
            "              precision    recall  f1-score   support\n",
            "\n",
            "    positive       0.79      0.77      0.78        35\n",
            "    negative       0.81      0.83      0.82        41\n",
            "\n",
            "   micro avg       0.80      0.80      0.80        76\n",
            "   macro avg       0.80      0.80      0.80        76\n",
            "weighted avg       0.80      0.80      0.80        76\n",
            "\n"
          ],
          "name": "stdout"
        },
        {
          "output_type": "display_data",
          "data": {
            "image/png": "[encoded data removed]",
            "text/plain": [
              "<Figure size 432x288 with 2 Axes>"
            ]
          },
          "metadata": {
            "tags": []
          }
        },
        {
          "output_type": "display_data",
          "data": {
            "image/png": "[encoded data removed]",
            "text/plain": [
              "<Figure size 432x288 with 1 Axes>"
            ]
          },
          "metadata": {
            "tags": []
          }
        }
      ]
    },
    {
      "metadata": {
        "id": "UnjJhmrcR8x_",
        "colab_type": "text"
      },
      "cell_type": "markdown",
      "source": [
        "## Permutation importance"
      ]
    },
    {
      "metadata": {
        "id": "3V12r8zoSQnV",
        "colab_type": "code",
        "colab": {}
      },
      "cell_type": "code",
      "source": [
        "!pip install eli5"
      ],
      "execution_count": 0,
      "outputs": []
    },
    {
      "metadata": {
        "id": "LJnOGQnSR7vb",
        "colab_type": "code",
        "colab": {}
      },
      "cell_type": "code",
      "source": [
        "import eli5\n",
        "from eli5.sklearn import PermutationImportance"
      ],
      "execution_count": 0,
      "outputs": []
    },
    {
      "metadata": {
        "id": "lKTsViIDaaHq",
        "colab_type": "code",
        "outputId": "9efc5316-4710-44ea-9a90-3d7315934ac0",
        "colab": {
          "base_uri": "https://localhost:8080/",
          "height": 255
        }
      },
      "cell_type": "code",
      "source": [
        "perm_random_forest = RandomForestClassifier(n_estimators=100)\n",
        "perm_random_forest.fit(X, y)\n",
        "perm = PermutationImportance(perm_random_forest, random_state=1).fit(X, y)\n",
        "eli5.show_weights(perm, feature_names=feature_names)"
      ],
      "execution_count": 44,
      "outputs": [
        {
          "output_type": "execute_result",
          "data": {
            "text/html": [
              "\n",
              "    <style>\n",
              "    table.eli5-weights tr:hover {\n",
              "        filter: brightness(85%);\n",
              "    }\n",
              "</style>\n",
              "\n",
              "\n",
              "\n",
              "    \n",
              "\n",
              "    \n",
              "\n",
              "    \n",
              "\n",
              "    \n",
              "\n",
              "    \n",
              "\n",
              "    \n",
              "\n",
              "\n",
              "    \n",
              "\n",
              "    \n",
              "\n",
              "    \n",
              "\n",
              "    \n",
              "\n",
              "    \n",
              "\n",
              "    \n",
              "\n",
              "\n",
              "    \n",
              "\n",
              "    \n",
              "\n",
              "    \n",
              "\n",
              "    \n",
              "\n",
              "    \n",
              "        <table class=\"eli5-weights eli5-feature-importances\" style=\"border-collapse: collapse; border: none; margin-top: 0em; table-layout: auto;\">\n",
              "    <thead>\n",
              "    <tr style=\"border: none;\">\n",
              "        <th style=\"padding: 0 1em 0 0.5em; text-align: right; border: none;\">Weight</th>\n",
              "        <th style=\"padding: 0 0.5em 0 0.5em; text-align: left; border: none;\">Feature</th>\n",
              "    </tr>\n",
              "    </thead>\n",
              "    <tbody>\n",
              "    \n",
              "        <tr style=\"background-color: hsl(120, 100.00%, 80.00%); border: none;\">\n",
              "            <td style=\"padding: 0 1em 0 0.5em; text-align: right; border: none;\">\n",
              "                0.0752\n",
              "                \n",
              "                    &plusmn; 0.0114\n",
              "                \n",
              "            </td>\n",
              "            <td style=\"padding: 0 0.5em 0 0.5em; text-align: left; border: none;\">\n",
              "                cp\n",
              "            </td>\n",
              "        </tr>\n",
              "    \n",
              "        <tr style=\"background-color: hsl(120, 100.00%, 80.37%); border: none;\">\n",
              "            <td style=\"padding: 0 1em 0 0.5em; text-align: right; border: none;\">\n",
              "                0.0733\n",
              "                \n",
              "                    &plusmn; 0.0184\n",
              "                \n",
              "            </td>\n",
              "            <td style=\"padding: 0 0.5em 0 0.5em; text-align: left; border: none;\">\n",
              "                ca\n",
              "            </td>\n",
              "        </tr>\n",
              "    \n",
              "        <tr style=\"background-color: hsl(120, 100.00%, 83.71%); border: none;\">\n",
              "            <td style=\"padding: 0 1em 0 0.5em; text-align: right; border: none;\">\n",
              "                0.0561\n",
              "                \n",
              "                    &plusmn; 0.0196\n",
              "                \n",
              "            </td>\n",
              "            <td style=\"padding: 0 0.5em 0 0.5em; text-align: left; border: none;\">\n",
              "                thal\n",
              "            </td>\n",
              "        </tr>\n",
              "    \n",
              "        <tr style=\"background-color: hsl(120, 100.00%, 90.56%); border: none;\">\n",
              "            <td style=\"padding: 0 1em 0 0.5em; text-align: right; border: none;\">\n",
              "                0.0257\n",
              "                \n",
              "                    &plusmn; 0.0106\n",
              "                \n",
              "            </td>\n",
              "            <td style=\"padding: 0 0.5em 0 0.5em; text-align: left; border: none;\">\n",
              "                oldpeak\n",
              "            </td>\n",
              "        </tr>\n",
              "    \n",
              "        <tr style=\"background-color: hsl(120, 100.00%, 91.07%); border: none;\">\n",
              "            <td style=\"padding: 0 1em 0 0.5em; text-align: right; border: none;\">\n",
              "                0.0238\n",
              "                \n",
              "                    &plusmn; 0.0135\n",
              "                \n",
              "            </td>\n",
              "            <td style=\"padding: 0 0.5em 0 0.5em; text-align: left; border: none;\">\n",
              "                age\n",
              "            </td>\n",
              "        </tr>\n",
              "    \n",
              "        <tr style=\"background-color: hsl(120, 100.00%, 91.25%); border: none;\">\n",
              "            <td style=\"padding: 0 1em 0 0.5em; text-align: right; border: none;\">\n",
              "                0.0231\n",
              "                \n",
              "                    &plusmn; 0.0132\n",
              "                \n",
              "            </td>\n",
              "            <td style=\"padding: 0 0.5em 0 0.5em; text-align: left; border: none;\">\n",
              "                thalach\n",
              "            </td>\n",
              "        </tr>\n",
              "    \n",
              "        <tr style=\"background-color: hsl(120, 100.00%, 91.43%); border: none;\">\n",
              "            <td style=\"padding: 0 1em 0 0.5em; text-align: right; border: none;\">\n",
              "                0.0224\n",
              "                \n",
              "                    &plusmn; 0.0135\n",
              "                \n",
              "            </td>\n",
              "            <td style=\"padding: 0 0.5em 0 0.5em; text-align: left; border: none;\">\n",
              "                chol\n",
              "            </td>\n",
              "        </tr>\n",
              "    \n",
              "        <tr style=\"background-color: hsl(120, 100.00%, 93.48%); border: none;\">\n",
              "            <td style=\"padding: 0 1em 0 0.5em; text-align: right; border: none;\">\n",
              "                0.0152\n",
              "                \n",
              "                    &plusmn; 0.0107\n",
              "                \n",
              "            </td>\n",
              "            <td style=\"padding: 0 0.5em 0 0.5em; text-align: left; border: none;\">\n",
              "                sex\n",
              "            </td>\n",
              "        </tr>\n",
              "    \n",
              "        <tr style=\"background-color: hsl(120, 100.00%, 94.51%); border: none;\">\n",
              "            <td style=\"padding: 0 1em 0 0.5em; text-align: right; border: none;\">\n",
              "                0.0119\n",
              "                \n",
              "                    &plusmn; 0.0115\n",
              "                \n",
              "            </td>\n",
              "            <td style=\"padding: 0 0.5em 0 0.5em; text-align: left; border: none;\">\n",
              "                slope\n",
              "            </td>\n",
              "        </tr>\n",
              "    \n",
              "        <tr style=\"background-color: hsl(120, 100.00%, 94.72%); border: none;\">\n",
              "            <td style=\"padding: 0 1em 0 0.5em; text-align: right; border: none;\">\n",
              "                0.0112\n",
              "                \n",
              "                    &plusmn; 0.0032\n",
              "                \n",
              "            </td>\n",
              "            <td style=\"padding: 0 0.5em 0 0.5em; text-align: left; border: none;\">\n",
              "                exang\n",
              "            </td>\n",
              "        </tr>\n",
              "    \n",
              "        <tr style=\"background-color: hsl(120, 100.00%, 94.94%); border: none;\">\n",
              "            <td style=\"padding: 0 1em 0 0.5em; text-align: right; border: none;\">\n",
              "                0.0106\n",
              "                \n",
              "                    &plusmn; 0.0065\n",
              "                \n",
              "            </td>\n",
              "            <td style=\"padding: 0 0.5em 0 0.5em; text-align: left; border: none;\">\n",
              "                trestbps\n",
              "            </td>\n",
              "        </tr>\n",
              "    \n",
              "        <tr style=\"background-color: hsl(120, 100.00%, 97.45%); border: none;\">\n",
              "            <td style=\"padding: 0 1em 0 0.5em; text-align: right; border: none;\">\n",
              "                0.0040\n",
              "                \n",
              "                    &plusmn; 0.0049\n",
              "                \n",
              "            </td>\n",
              "            <td style=\"padding: 0 0.5em 0 0.5em; text-align: left; border: none;\">\n",
              "                restecg\n",
              "            </td>\n",
              "        </tr>\n",
              "    \n",
              "        <tr style=\"background-color: hsl(120, 100.00%, 99.27%); border: none;\">\n",
              "            <td style=\"padding: 0 1em 0 0.5em; text-align: right; border: none;\">\n",
              "                0.0007\n",
              "                \n",
              "                    &plusmn; 0.0026\n",
              "                \n",
              "            </td>\n",
              "            <td style=\"padding: 0 0.5em 0 0.5em; text-align: left; border: none;\">\n",
              "                fbs\n",
              "            </td>\n",
              "        </tr>\n",
              "    \n",
              "    \n",
              "    </tbody>\n",
              "</table>\n",
              "    \n",
              "\n",
              "    \n",
              "\n",
              "\n",
              "    \n",
              "\n",
              "    \n",
              "\n",
              "    \n",
              "\n",
              "    \n",
              "\n",
              "    \n",
              "\n",
              "    \n",
              "\n",
              "\n",
              "\n"
            ],
            "text/plain": [
              "<IPython.core.display.HTML object>"
            ]
          },
          "metadata": {
            "tags": []
          },
          "execution_count": 44
        }
      ]
    },
    {
      "metadata": {
        "id": "RL-inQ_CTk32",
        "colab_type": "text"
      },
      "cell_type": "markdown",
      "source": [
        "## Recursive Feature Elimination"
      ]
    },
    {
      "metadata": {
        "id": "144Re3EbTLMJ",
        "colab_type": "code",
        "colab": {}
      },
      "cell_type": "code",
      "source": [
        "from sklearn.feature_selection import RFECV"
      ],
      "execution_count": 0,
      "outputs": []
    },
    {
      "metadata": {
        "id": "XhH7dMpKTvSV",
        "colab_type": "code",
        "outputId": "dcc39721-b8d8-409b-c587-8434284fbf40",
        "colab": {
          "base_uri": "https://localhost:8080/",
          "height": 187
        }
      },
      "cell_type": "code",
      "source": [
        "random_forest_model = RandomForestClassifier(n_estimators=100)\n",
        "kfold = KFold(n_splits=5, random_state=10) \n",
        "\n",
        "rfe = RFECV(estimator=random_forest_model, step=1, cv=kfold, scoring='accuracy')\n",
        "rfe.fit(X, y)"
      ],
      "execution_count": 88,
      "outputs": [
        {
          "output_type": "execute_result",
          "data": {
            "text/plain": [
              "RFECV(cv=KFold(n_splits=5, random_state=10, shuffle=False),\n",
              "   estimator=RandomForestClassifier(bootstrap=True, class_weight=None, criterion='gini',\n",
              "            max_depth=None, max_features='auto', max_leaf_nodes=None,\n",
              "            min_impurity_decrease=0.0, min_impurity_split=None,\n",
              "            min_samples_leaf=1, min_samples_split=2,\n",
              "            min_weight_fraction_leaf=0.0, n_estimators=100, n_jobs=None,\n",
              "            oob_score=False, random_state=None, verbose=0,\n",
              "            warm_start=False),\n",
              "   min_features_to_select=1, n_jobs=None, scoring='accuracy', step=1,\n",
              "   verbose=0)"
            ]
          },
          "metadata": {
            "tags": []
          },
          "execution_count": 88
        }
      ]
    },
    {
      "metadata": {
        "id": "WlGZojDLUHD_",
        "colab_type": "code",
        "colab": {}
      },
      "cell_type": "code",
      "source": [
        "selected_features = rfe.get_support()\n",
        "selected_features = np.array(selected_features)"
      ],
      "execution_count": 0,
      "outputs": []
    },
    {
      "metadata": {
        "id": "X-7k_tF_W3ne",
        "colab_type": "code",
        "outputId": "2b421ab3-6d05-4fde-b9fc-bff89b69888e",
        "colab": {
          "base_uri": "https://localhost:8080/",
          "height": 51
        }
      },
      "cell_type": "code",
      "source": [
        "feature_names[selected_features]"
      ],
      "execution_count": 90,
      "outputs": [
        {
          "output_type": "execute_result",
          "data": {
            "text/plain": [
              "array(['age', 'sex', 'cp', 'trestbps', 'chol', 'restecg', 'thalach',\n",
              "       'exang', 'oldpeak', 'slope', 'ca', 'thal'], dtype='<U8')"
            ]
          },
          "metadata": {
            "tags": []
          },
          "execution_count": 90
        }
      ]
    },
    {
      "metadata": {
        "id": "DElkGrxWYBNF",
        "colab_type": "code",
        "colab": {}
      },
      "cell_type": "code",
      "source": [
        "X = standar_dataset.drop([\"target\", \"fbs\"], axis=1)\n",
        "y = standar_dataset[\"target\"]\n",
        "\n",
        "X_train, X_val, y_train, y_val = train_test_split(X, y, stratify=standar_dataset[\"target\"], random_state=0)"
      ],
      "execution_count": 0,
      "outputs": []
    },
    {
      "metadata": {
        "id": "QYhQQlOMawJO",
        "colab_type": "code",
        "outputId": "16661f17-c9a4-4a7c-d61d-2d4b7ad1fb26",
        "colab": {
          "base_uri": "https://localhost:8080/",
          "height": 842
        }
      },
      "cell_type": "code",
      "source": [
        "random_forest_model = RandomForestClassifier(n_estimators=100, max_depth=5)\n",
        "train_and_evaluate_model(random_forest_model, \"Random forest\")"
      ],
      "execution_count": 112,
      "outputs": [
        {
          "output_type": "stream",
          "text": [
            "Random forest train accuracy score: 0.947136563876652\n",
            "Random forest accuracy score: 0.8552631578947368\n",
            "-------------------------------------------\n",
            "Confusion matrix, without normalization\n",
            "Random forest sensitivity score: 0.8\n",
            "Random forest specifity score: 0.9024390243902439\n",
            "-------------------------------------------\n",
            "              precision    recall  f1-score   support\n",
            "\n",
            "    positive       0.88      0.80      0.84        35\n",
            "    negative       0.84      0.90      0.87        41\n",
            "\n",
            "   micro avg       0.86      0.86      0.86        76\n",
            "   macro avg       0.86      0.85      0.85        76\n",
            "weighted avg       0.86      0.86      0.85        76\n",
            "\n"
          ],
          "name": "stdout"
        },
        {
          "output_type": "display_data",
          "data": {
            "image/png": "[encoded data removed]",
            "text/plain": [
              "<Figure size 432x288 with 2 Axes>"
            ]
          },
          "metadata": {
            "tags": []
          }
        },
        {
          "output_type": "display_data",
          "data": {
            "image/png": "[encoded data removed]",
            "text/plain": [
              "<Figure size 432x288 with 1 Axes>"
            ]
          },
          "metadata": {
            "tags": []
          }
        }
      ]
    },
    {
      "metadata": {
        "id": "6xG3FcyNugiN",
        "colab_type": "text"
      },
      "cell_type": "markdown",
      "source": [
        "## Save forest Model"
      ]
    },
    {
      "metadata": {
        "id": "twwWHk4RuapR",
        "colab_type": "code",
        "colab": {}
      },
      "cell_type": "code",
      "source": [
        "from sklearn.externals import joblib"
      ],
      "execution_count": 0,
      "outputs": []
    },
    {
      "metadata": {
        "id": "sE9b7GWiudOX",
        "colab_type": "code",
        "colab": {
          "base_uri": "https://localhost:8080/",
          "height": 34
        },
        "outputId": "376fbbcf-df16-4ada-c02b-2f79ab9c3777"
      },
      "cell_type": "code",
      "source": [
        "filename = 'forest_heart_model.sav'\n",
        "joblib.dump(random_forest_model, filename)"
      ],
      "execution_count": 160,
      "outputs": [
        {
          "output_type": "execute_result",
          "data": {
            "text/plain": [
              "['forest_heart_model.sav']"
            ]
          },
          "metadata": {
            "tags": []
          },
          "execution_count": 160
        }
      ]
    },
    {
      "metadata": {
        "id": "NOe5DSefvmrg",
        "colab_type": "text"
      },
      "cell_type": "markdown",
      "source": [
        "## Load model"
      ]
    },
    {
      "metadata": {
        "id": "suKBk4Ecvn6Y",
        "colab_type": "code",
        "colab": {}
      },
      "cell_type": "code",
      "source": [
        "loaded_model = joblib.load(filename)"
      ],
      "execution_count": 0,
      "outputs": []
    },
    {
      "metadata": {
        "id": "j5NxUMiedpMW",
        "colab_type": "text"
      },
      "cell_type": "markdown",
      "source": [
        "## XGboost"
      ]
    },
    {
      "metadata": {
        "id": "RncVoJwfbGf_",
        "colab_type": "code",
        "colab": {}
      },
      "cell_type": "code",
      "source": [
        "import xgboost as xgb"
      ],
      "execution_count": 0,
      "outputs": []
    },
    {
      "metadata": {
        "id": "0AsEUEm5cKg-",
        "colab_type": "code",
        "colab": {}
      },
      "cell_type": "code",
      "source": [
        "xgboost_train = xgb.DMatrix(X_train, label=y_train)\n",
        "xgboost_val = xgb.DMatrix(X_val, label=y_val)"
      ],
      "execution_count": 0,
      "outputs": []
    },
    {
      "metadata": {
        "id": "Qffcvpi7cMbG",
        "colab_type": "code",
        "colab": {}
      },
      "cell_type": "code",
      "source": [
        "evallist = [(xgboost_val, 'eval'), (xgboost_train, 'train')]\n",
        "params = {'max_depth': 2, 'eta': 1, 'verbosity': 2, 'objective': 'binary:logistic'}\n",
        "params['nthread'] = 4\n",
        "params['eval_metric'] = 'auc'"
      ],
      "execution_count": 0,
      "outputs": []
    },
    {
      "metadata": {
        "id": "mFR3AZu1cQ33",
        "colab_type": "code",
        "outputId": "399dcf81-b706-4f8b-80cc-64270fb01f03",
        "colab": {
          "base_uri": "https://localhost:8080/",
          "height": 357
        }
      },
      "cell_type": "code",
      "source": [
        "steps = 20\n",
        "xgboost_model = xgb.train(params, xgboost_train, steps, evallist)"
      ],
      "execution_count": 147,
      "outputs": [
        {
          "output_type": "stream",
          "text": [
            "[0]\teval-auc:0.755749\ttrain-auc:0.852686\n",
            "[1]\teval-auc:0.841812\ttrain-auc:0.923231\n",
            "[2]\teval-auc:0.852613\ttrain-auc:0.937715\n",
            "[3]\teval-auc:0.859233\ttrain-auc:0.951417\n",
            "[4]\teval-auc:0.867944\ttrain-auc:0.960774\n",
            "[5]\teval-auc:0.862718\ttrain-auc:0.967859\n",
            "[6]\teval-auc:0.86899\ttrain-auc:0.974554\n",
            "[7]\teval-auc:0.873868\ttrain-auc:0.976355\n",
            "[8]\teval-auc:0.890592\ttrain-auc:0.979917\n",
            "[9]\teval-auc:0.888502\ttrain-auc:0.98391\n",
            "[10]\teval-auc:0.879443\ttrain-auc:0.986729\n",
            "[11]\teval-auc:0.880139\ttrain-auc:0.987668\n",
            "[12]\teval-auc:0.875958\ttrain-auc:0.989743\n",
            "[13]\teval-auc:0.876655\ttrain-auc:0.990213\n",
            "[14]\teval-auc:0.871777\ttrain-auc:0.992092\n",
            "[15]\teval-auc:0.875958\ttrain-auc:0.994206\n",
            "[16]\teval-auc:0.877352\ttrain-auc:0.994676\n",
            "[17]\teval-auc:0.876655\ttrain-auc:0.994832\n",
            "[18]\teval-auc:0.877352\ttrain-auc:0.995615\n",
            "[19]\teval-auc:0.872474\ttrain-auc:0.99679\n"
          ],
          "name": "stdout"
        }
      ]
    },
    {
      "metadata": {
        "id": "fxWcmUmWeubd",
        "colab_type": "code",
        "colab": {}
      },
      "cell_type": "code",
      "source": [
        "xgboost_test = xgb.DMatrix(X_val)\n",
        "y_xgboost_predicted = xgboost_model.predict(xgboost_test, ntree_limit=10)"
      ],
      "execution_count": 0,
      "outputs": []
    },
    {
      "metadata": {
        "id": "Yzqex83ygerZ",
        "colab_type": "code",
        "colab": {}
      },
      "cell_type": "code",
      "source": [
        "y_predicted_classes = np.where(y_xgboost_predicted > 0.5, 1, 0)"
      ],
      "execution_count": 0,
      "outputs": []
    },
    {
      "metadata": {
        "id": "-mH2ZrBefWCp",
        "colab_type": "code",
        "outputId": "119509f2-aa99-4a6d-ded8-153b6d9f8297",
        "colab": {
          "base_uri": "https://localhost:8080/",
          "height": 34
        }
      },
      "cell_type": "code",
      "source": [
        "validation_score = accuracy_score(y_val, y_predicted_classes)\n",
        "print(f'XGBoost validation accuracy : {validation_score}')"
      ],
      "execution_count": 153,
      "outputs": [
        {
          "output_type": "stream",
          "text": [
            "XGBoost validation accuracy : 0.8026315789473685\n"
          ],
          "name": "stdout"
        }
      ]
    },
    {
      "metadata": {
        "id": "ubryMBHhhRc8",
        "colab_type": "code",
        "outputId": "aed4d073-1240-4bdf-a078-5608ee72c6e2",
        "colab": {
          "base_uri": "https://localhost:8080/",
          "height": 344
        }
      },
      "cell_type": "code",
      "source": [
        "evaluate_confusion_matrix(y_val, y_predicted_classes, \"XGBoost\")"
      ],
      "execution_count": 154,
      "outputs": [
        {
          "output_type": "stream",
          "text": [
            "Confusion matrix, without normalization\n",
            "XGBoost sensitivity score: 0.8\n",
            "XGBoost specifity score: 0.8048780487804879\n"
          ],
          "name": "stdout"
        },
        {
          "output_type": "display_data",
          "data": {
            "image/png": "[encoded data removed]",
            "text/plain": [
              "<Figure size 432x288 with 2 Axes>"
            ]
          },
          "metadata": {
            "tags": []
          }
        }
      ]
    },
    {
      "metadata": {
        "id": "q-5s3dr5jSjp",
        "colab_type": "code",
        "colab": {
          "base_uri": "https://localhost:8080/",
          "height": 294
        },
        "outputId": "b6a323d8-f26e-4d01-b902-ad8b4f3bd6e4"
      },
      "cell_type": "code",
      "source": [
        "plot_auc(y_val, y_predicted_classes)"
      ],
      "execution_count": 155,
      "outputs": [
        {
          "output_type": "display_data",
          "data": {
            "image/png": "[encoded data removed]",
            "text/plain": [
              "<Figure size 432x288 with 1 Axes>"
            ]
          },
          "metadata": {
            "tags": []
          }
        }
      ]
    },
    {
      "metadata": {
        "id": "KpTcI7lXjSr4",
        "colab_type": "code",
        "colab": {
          "base_uri": "https://localhost:8080/",
          "height": 170
        },
        "outputId": "dbee8171-63d6-4aa7-b52e-808d4e97782e"
      },
      "cell_type": "code",
      "source": [
        "report = classification_report(y_val, y_predicted_classes, target_names=classes)\n",
        "print(report)"
      ],
      "execution_count": 156,
      "outputs": [
        {
          "output_type": "stream",
          "text": [
            "              precision    recall  f1-score   support\n",
            "\n",
            "    positive       0.78      0.80      0.79        35\n",
            "    negative       0.82      0.80      0.81        41\n",
            "\n",
            "   micro avg       0.80      0.80      0.80        76\n",
            "   macro avg       0.80      0.80      0.80        76\n",
            "weighted avg       0.80      0.80      0.80        76\n",
            "\n"
          ],
          "name": "stdout"
        }
      ]
    },
    {
      "metadata": {
        "id": "N54POlk-htKt",
        "colab_type": "code",
        "colab": {
          "base_uri": "https://localhost:8080/",
          "height": 602
        },
        "outputId": "75e374e9-f1a8-42ee-987a-5bcc618cae22"
      },
      "cell_type": "code",
      "source": [
        "xgb.to_graphviz(xgboost_model, num_trees=5)"
      ],
      "execution_count": 157,
      "outputs": [
        {
          "output_type": "execute_result",
          "data": {
            "text/plain": [
              "<graphviz.dot.Digraph at 0x7f9c7378fa58>"
            ],
            "image/svg+xml": "<?xml version=\"1.0\" encoding=\"UTF-8\" standalone=\"no\"?>\n<!DOCTYPE svg PUBLIC \"-//W3C//DTD SVG 1.1//EN\"\n \"http://www.w3.org/Graphics/SVG/1.1/DTD/svg11.dtd\">\n<!-- Generated by graphviz version 2.40.1 (20161225.0304)\n -->\n<!-- Title: %3 Pages: 1 -->\n<svg width=\"475pt\" height=\"436pt\"\n viewBox=\"0.00 0.00 474.50 435.87\" xmlns=\"http://www.w3.org/2000/svg\" xmlns:xlink=\"http://www.w3.org/1999/xlink\">\n<g id=\"graph0\" class=\"graph\" transform=\"scale(1 1) rotate(0) translate(4 431.8743)\">\n<title>%3</title>\n<polygon fill=\"#ffffff\" stroke=\"transparent\" points=\"-4,4 -4,-431.8743 470.5,-431.8743 470.5,4 -4,4\"/>\n<!-- 0 -->\n<g id=\"node1\" class=\"node\">\n<title>0</title>\n<ellipse fill=\"none\" stroke=\"#000000\" cx=\"231.5\" cy=\"-362.2301\" rx=\"65.7887\" ry=\"65.7887\"/>\n<text text-anchor=\"middle\" x=\"231.5\" y=\"-358.5301\" font-family=\"Times,serif\" font-size=\"14.00\" fill=\"#000000\">age&lt;0.345608</text>\n</g>\n<!-- 1 -->\n<g id=\"node2\" class=\"node\">\n<title>1</title>\n<ellipse fill=\"none\" stroke=\"#000000\" cx=\"165.5\" cy=\"-166.293\" rx=\"34.394\" ry=\"34.394\"/>\n<text text-anchor=\"middle\" x=\"165.5\" y=\"-162.593\" font-family=\"Times,serif\" font-size=\"14.00\" fill=\"#000000\">thal&lt;3</text>\n</g>\n<!-- 0&#45;&gt;1 -->\n<g id=\"edge1\" class=\"edge\">\n<title>0&#45;&gt;1</title>\n<path fill=\"none\" stroke=\"#0000ff\" d=\"M203.6252,-302.3948C200.3481,-294.4669 197.2116,-286.385 194.5,-278.5859 186.772,-256.3583 180.0558,-231.0211 175.0383,-210.0464\"/>\n<polygon fill=\"#0000ff\" stroke=\"#0000ff\" points=\"178.4045,-209.0704 172.7147,-200.133 171.5892,-210.6679 178.4045,-209.0704\"/>\n<text text-anchor=\"middle\" x=\"230\" y=\"-267.3859\" font-family=\"Times,serif\" font-size=\"14.00\" fill=\"#000000\">yes, missing</text>\n</g>\n<!-- 2 -->\n<g id=\"node3\" class=\"node\">\n<title>2</title>\n<ellipse fill=\"none\" stroke=\"#000000\" cx=\"297.5\" cy=\"-166.293\" rx=\"79.0865\" ry=\"79.0865\"/>\n<text text-anchor=\"middle\" x=\"297.5\" y=\"-162.593\" font-family=\"Times,serif\" font-size=\"14.00\" fill=\"#000000\">thalach&lt;0.343422</text>\n</g>\n<!-- 0&#45;&gt;2 -->\n<g id=\"edge2\" class=\"edge\">\n<title>0&#45;&gt;2</title>\n<path fill=\"none\" stroke=\"#ff0000\" d=\"M257.1554,-301.3065C260.0936,-293.7023 262.9466,-285.996 265.5,-278.5859 268.355,-270.3006 271.1584,-261.6113 273.846,-252.8908\"/>\n<polygon fill=\"#ff0000\" stroke=\"#ff0000\" points=\"277.277,-253.6369 276.8279,-243.0516 270.5779,-251.6066 277.277,-253.6369\"/>\n<text text-anchor=\"middle\" x=\"278.5\" y=\"-267.3859\" font-family=\"Times,serif\" font-size=\"14.00\" fill=\"#000000\">no</text>\n</g>\n<!-- 3 -->\n<g id=\"node4\" class=\"node\">\n<title>3</title>\n<polygon fill=\"none\" stroke=\"#000000\" points=\"101,-36 0,-36 0,0 101,0 101,-36\"/>\n<text text-anchor=\"middle\" x=\"50.5\" y=\"-14.3\" font-family=\"Times,serif\" font-size=\"14.00\" fill=\"#000000\">leaf=0.727216</text>\n</g>\n<!-- 1&#45;&gt;3 -->\n<g id=\"edge3\" class=\"edge\">\n<title>1&#45;&gt;3</title>\n<path fill=\"none\" stroke=\"#0000ff\" d=\"M144.1389,-138.7477C123.1558,-111.6899 91.3749,-70.7084 70.7746,-44.1442\"/>\n<polygon fill=\"#0000ff\" stroke=\"#0000ff\" points=\"73.4009,-41.8194 64.5069,-36.062 67.8693,-46.1091 73.4009,-41.8194\"/>\n<text text-anchor=\"middle\" x=\"124\" y=\"-57.8\" font-family=\"Times,serif\" font-size=\"14.00\" fill=\"#000000\">yes, missing</text>\n</g>\n<!-- 4 -->\n<g id=\"node5\" class=\"node\">\n<title>4</title>\n<polygon fill=\"none\" stroke=\"#000000\" points=\"217.5,-36 119.5,-36 119.5,0 217.5,0 217.5,-36\"/>\n<text text-anchor=\"middle\" x=\"168.5\" y=\"-14.3\" font-family=\"Times,serif\" font-size=\"14.00\" fill=\"#000000\">leaf=&#45;0.23361</text>\n</g>\n<!-- 1&#45;&gt;4 -->\n<g id=\"edge4\" class=\"edge\">\n<title>1&#45;&gt;4</title>\n<path fill=\"none\" stroke=\"#ff0000\" d=\"M166.2034,-131.5249C166.726,-105.6902 167.4304,-70.8704 167.9208,-46.6327\"/>\n<polygon fill=\"#ff0000\" stroke=\"#ff0000\" points=\"171.4265,-46.3802 168.1296,-36.3114 164.4279,-46.2385 171.4265,-46.3802\"/>\n<text text-anchor=\"middle\" x=\"176.5\" y=\"-57.8\" font-family=\"Times,serif\" font-size=\"14.00\" fill=\"#000000\">no</text>\n</g>\n<!-- 5 -->\n<g id=\"node6\" class=\"node\">\n<title>5</title>\n<polygon fill=\"none\" stroke=\"#000000\" points=\"350,-36 241,-36 241,0 350,0 350,-36\"/>\n<text text-anchor=\"middle\" x=\"295.5\" y=\"-14.3\" font-family=\"Times,serif\" font-size=\"14.00\" fill=\"#000000\">leaf=0.0851023</text>\n</g>\n<!-- 2&#45;&gt;5 -->\n<g id=\"edge5\" class=\"edge\">\n<title>2&#45;&gt;5</title>\n<path fill=\"none\" stroke=\"#0000ff\" d=\"M296.4297,-86.9369C296.2321,-72.2798 296.0381,-57.8956 295.8788,-46.0904\"/>\n<polygon fill=\"#0000ff\" stroke=\"#0000ff\" points=\"299.3779,-45.9919 295.7433,-36.04 292.3786,-46.0863 299.3779,-45.9919\"/>\n<text text-anchor=\"middle\" x=\"332\" y=\"-57.8\" font-family=\"Times,serif\" font-size=\"14.00\" fill=\"#000000\">yes, missing</text>\n</g>\n<!-- 6 -->\n<g id=\"node7\" class=\"node\">\n<title>6</title>\n<polygon fill=\"none\" stroke=\"#000000\" points=\"466.5,-36 368.5,-36 368.5,0 466.5,0 466.5,-36\"/>\n<text text-anchor=\"middle\" x=\"417.5\" y=\"-14.3\" font-family=\"Times,serif\" font-size=\"14.00\" fill=\"#000000\">leaf=&#45;1.05828</text>\n</g>\n<!-- 2&#45;&gt;6 -->\n<g id=\"edge6\" class=\"edge\">\n<title>2&#45;&gt;6</title>\n<path fill=\"none\" stroke=\"#ff0000\" d=\"M347.6955,-104.2626C364.6499,-83.3109 382.6777,-61.0325 396.165,-44.3652\"/>\n<polygon fill=\"#ff0000\" stroke=\"#ff0000\" points=\"399.2046,-46.1729 402.7744,-36.1976 393.7631,-41.7695 399.2046,-46.1729\"/>\n<text text-anchor=\"middle\" x=\"392.5\" y=\"-57.8\" font-family=\"Times,serif\" font-size=\"14.00\" fill=\"#000000\">no</text>\n</g>\n</g>\n</svg>\n"
          },
          "metadata": {
            "tags": []
          },
          "execution_count": 157
        }
      ]
    },
    {
      "metadata": {
        "id": "WtbRYutCwXWA",
        "colab_type": "text"
      },
      "cell_type": "markdown",
      "source": [
        "## References\n",
        "\n",
        "https://www.kaggle.com/heyrict/clinical-data-explanation-and-standard-eda-95"
      ]
    }
  ]
}