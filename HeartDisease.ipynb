{
  "nbformat": 4,
  "nbformat_minor": 0,
  "metadata": {
    "colab": {
      "name": "HeartDisease.ipynb",
      "version": "0.3.2",
      "provenance": [],
      "collapsed_sections": []
    },
    "kernelspec": {
      "name": "python3",
      "display_name": "Python 3"
    }
  },
  "cells": [
    {
      "metadata": {
        "id": "VGQomyb6H6KM",
        "colab_type": "code",
        "colab": {}
      },
      "cell_type": "code",
      "source": [
        "import pandas as pd\n",
        "import numpy as np\n",
        "import matplotlib.pyplot as plt\n",
        "import seaborn as sns\n",
        "%matplotlib inline"
      ],
      "execution_count": 0,
      "outputs": []
    },
    {
      "metadata": {
        "id": "r0mXvAftH9Zw",
        "colab_type": "code",
        "colab": {}
      },
      "cell_type": "code",
      "source": [
        "dataset = pd.read_csv(\"./heart.csv\")"
      ],
      "execution_count": 0,
      "outputs": []
    },
    {
      "metadata": {
        "id": "2tXeAFe6ICMn",
        "colab_type": "code",
        "outputId": "a0cbb9ea-e885-4211-c3ed-2948c55945f2",
        "colab": {
          "base_uri": "https://localhost:8080/",
          "height": 204
        }
      },
      "cell_type": "code",
      "source": [
        "dataset.head()"
      ],
      "execution_count": 3,
      "outputs": [
        {
          "output_type": "execute_result",
          "data": {
            "text/html": [
              "<div>\n",
              "<style scoped>\n",
              "    .dataframe tbody tr th:only-of-type {\n",
              "        vertical-align: middle;\n",
              "    }\n",
              "\n",
              "    .dataframe tbody tr th {\n",
              "        vertical-align: top;\n",
              "    }\n",
              "\n",
              "    .dataframe thead th {\n",
              "        text-align: right;\n",
              "    }\n",
              "</style>\n",
              "<table border=\"1\" class=\"dataframe\">\n",
              "  <thead>\n",
              "    <tr style=\"text-align: right;\">\n",
              "      <th></th>\n",
              "      <th>age</th>\n",
              "      <th>sex</th>\n",
              "      <th>cp</th>\n",
              "      <th>trestbps</th>\n",
              "      <th>chol</th>\n",
              "      <th>fbs</th>\n",
              "      <th>restecg</th>\n",
              "      <th>thalach</th>\n",
              "      <th>exang</th>\n",
              "      <th>oldpeak</th>\n",
              "      <th>slope</th>\n",
              "      <th>ca</th>\n",
              "      <th>thal</th>\n",
              "      <th>target</th>\n",
              "    </tr>\n",
              "  </thead>\n",
              "  <tbody>\n",
              "    <tr>\n",
              "      <th>0</th>\n",
              "      <td>63</td>\n",
              "      <td>1</td>\n",
              "      <td>3</td>\n",
              "      <td>145</td>\n",
              "      <td>233</td>\n",
              "      <td>1</td>\n",
              "      <td>0</td>\n",
              "      <td>150</td>\n",
              "      <td>0</td>\n",
              "      <td>2.3</td>\n",
              "      <td>0</td>\n",
              "      <td>0</td>\n",
              "      <td>1</td>\n",
              "      <td>1</td>\n",
              "    </tr>\n",
              "    <tr>\n",
              "      <th>1</th>\n",
              "      <td>37</td>\n",
              "      <td>1</td>\n",
              "      <td>2</td>\n",
              "      <td>130</td>\n",
              "      <td>250</td>\n",
              "      <td>0</td>\n",
              "      <td>1</td>\n",
              "      <td>187</td>\n",
              "      <td>0</td>\n",
              "      <td>3.5</td>\n",
              "      <td>0</td>\n",
              "      <td>0</td>\n",
              "      <td>2</td>\n",
              "      <td>1</td>\n",
              "    </tr>\n",
              "    <tr>\n",
              "      <th>2</th>\n",
              "      <td>41</td>\n",
              "      <td>0</td>\n",
              "      <td>1</td>\n",
              "      <td>130</td>\n",
              "      <td>204</td>\n",
              "      <td>0</td>\n",
              "      <td>0</td>\n",
              "      <td>172</td>\n",
              "      <td>0</td>\n",
              "      <td>1.4</td>\n",
              "      <td>2</td>\n",
              "      <td>0</td>\n",
              "      <td>2</td>\n",
              "      <td>1</td>\n",
              "    </tr>\n",
              "    <tr>\n",
              "      <th>3</th>\n",
              "      <td>56</td>\n",
              "      <td>1</td>\n",
              "      <td>1</td>\n",
              "      <td>120</td>\n",
              "      <td>236</td>\n",
              "      <td>0</td>\n",
              "      <td>1</td>\n",
              "      <td>178</td>\n",
              "      <td>0</td>\n",
              "      <td>0.8</td>\n",
              "      <td>2</td>\n",
              "      <td>0</td>\n",
              "      <td>2</td>\n",
              "      <td>1</td>\n",
              "    </tr>\n",
              "    <tr>\n",
              "      <th>4</th>\n",
              "      <td>57</td>\n",
              "      <td>0</td>\n",
              "      <td>0</td>\n",
              "      <td>120</td>\n",
              "      <td>354</td>\n",
              "      <td>0</td>\n",
              "      <td>1</td>\n",
              "      <td>163</td>\n",
              "      <td>1</td>\n",
              "      <td>0.6</td>\n",
              "      <td>2</td>\n",
              "      <td>0</td>\n",
              "      <td>2</td>\n",
              "      <td>1</td>\n",
              "    </tr>\n",
              "  </tbody>\n",
              "</table>\n",
              "</div>"
            ],
            "text/plain": [
              "   age  sex  cp  trestbps  chol  fbs  restecg  thalach  exang  oldpeak  slope  \\\n",
              "0   63    1   3       145   233    1        0      150      0      2.3      0   \n",
              "1   37    1   2       130   250    0        1      187      0      3.5      0   \n",
              "2   41    0   1       130   204    0        0      172      0      1.4      2   \n",
              "3   56    1   1       120   236    0        1      178      0      0.8      2   \n",
              "4   57    0   0       120   354    0        1      163      1      0.6      2   \n",
              "\n",
              "   ca  thal  target  \n",
              "0   0     1       1  \n",
              "1   0     2       1  \n",
              "2   0     2       1  \n",
              "3   0     2       1  \n",
              "4   0     2       1  "
            ]
          },
          "metadata": {
            "tags": []
          },
          "execution_count": 3
        }
      ]
    },
    {
      "metadata": {
        "id": "K5TFoZL_Nit3",
        "colab_type": "text"
      },
      "cell_type": "markdown",
      "source": [
        "* cp = chest pain type Value 1: typical angina -- Value 2: atypical angina -- Value 3: non-anginal pain -- Value 4: asymptomatic\n",
        "\n",
        "* trestbps = resting blood pressure\n",
        "* chol = serum cholestoral in mg/dl \n",
        "* fbs = fasting blood sugar > 120 mg/dl (1=true, 0=false)\n",
        "* restecg = resting electrocardiographic results (values 0,1,2)\n",
        "* thalach = maximum heart rate achieved \n",
        "* exang = exercise induced angina (1 = yes; 0 = no) \n",
        "* oldpeak = ST depression induced by exercise relative to rest \n",
        "* slope = the slope of the peak exercise ST segment \n",
        "* ca = number of major vessels (0-3) colored by flourosopy \n",
        "* thal: 3 = normal; 6 = fixed defect; 7 = reversable defect"
      ]
    },
    {
      "metadata": {
        "id": "IaNz6ay7IEDH",
        "colab_type": "code",
        "outputId": "f8c8f716-6281-452b-fd35-ce89f9e05e8b",
        "colab": {
          "base_uri": "https://localhost:8080/",
          "height": 34
        }
      },
      "cell_type": "code",
      "source": [
        "dataset.shape"
      ],
      "execution_count": 4,
      "outputs": [
        {
          "output_type": "execute_result",
          "data": {
            "text/plain": [
              "(303, 14)"
            ]
          },
          "metadata": {
            "tags": []
          },
          "execution_count": 4
        }
      ]
    },
    {
      "metadata": {
        "id": "wqrSBz6DIK5X",
        "colab_type": "code",
        "outputId": "a9186056-a121-4e98-a418-1111bf918b5a",
        "colab": {
          "base_uri": "https://localhost:8080/",
          "height": 272
        }
      },
      "cell_type": "code",
      "source": [
        "dataset.count()"
      ],
      "execution_count": 5,
      "outputs": [
        {
          "output_type": "execute_result",
          "data": {
            "text/plain": [
              "age         303\n",
              "sex         303\n",
              "cp          303\n",
              "trestbps    303\n",
              "chol        303\n",
              "fbs         303\n",
              "restecg     303\n",
              "thalach     303\n",
              "exang       303\n",
              "oldpeak     303\n",
              "slope       303\n",
              "ca          303\n",
              "thal        303\n",
              "target      303\n",
              "dtype: int64"
            ]
          },
          "metadata": {
            "tags": []
          },
          "execution_count": 5
        }
      ]
    },
    {
      "metadata": {
        "id": "GtGrb2S7IQLw",
        "colab_type": "code",
        "outputId": "38e18a54-01aa-48c4-8329-493ef57937fb",
        "colab": {
          "base_uri": "https://localhost:8080/",
          "height": 272
        }
      },
      "cell_type": "code",
      "source": [
        "dataset.isnull().sum()"
      ],
      "execution_count": 0,
      "outputs": [
        {
          "output_type": "execute_result",
          "data": {
            "text/plain": [
              "age         0\n",
              "sex         0\n",
              "cp          0\n",
              "trestbps    0\n",
              "chol        0\n",
              "fbs         0\n",
              "restecg     0\n",
              "thalach     0\n",
              "exang       0\n",
              "oldpeak     0\n",
              "slope       0\n",
              "ca          0\n",
              "thal        0\n",
              "target      0\n",
              "dtype: int64"
            ]
          },
          "metadata": {
            "tags": []
          },
          "execution_count": 6
        }
      ]
    },
    {
      "metadata": {
        "id": "adKT0tASITIw",
        "colab_type": "code",
        "outputId": "be65612b-6324-4f1b-e8d0-e7be1619bb29",
        "colab": {
          "base_uri": "https://localhost:8080/",
          "height": 272
        }
      },
      "cell_type": "code",
      "source": [
        "dataset.isna().sum()"
      ],
      "execution_count": 0,
      "outputs": [
        {
          "output_type": "execute_result",
          "data": {
            "text/plain": [
              "age         0\n",
              "sex         0\n",
              "cp          0\n",
              "trestbps    0\n",
              "chol        0\n",
              "fbs         0\n",
              "restecg     0\n",
              "thalach     0\n",
              "exang       0\n",
              "oldpeak     0\n",
              "slope       0\n",
              "ca          0\n",
              "thal        0\n",
              "target      0\n",
              "dtype: int64"
            ]
          },
          "metadata": {
            "tags": []
          },
          "execution_count": 7
        }
      ]
    },
    {
      "metadata": {
        "id": "ttsgiy9hIWM5",
        "colab_type": "code",
        "outputId": "0a17cf14-fffc-426c-b5aa-32aafef72aa2",
        "colab": {
          "base_uri": "https://localhost:8080/",
          "height": 671
        }
      },
      "cell_type": "code",
      "source": [
        "sns.heatmap(dataset.corr(), annot=True, cmap='RdYlGn', linewidths=0.2)\n",
        "figure = plt.gcf()\n",
        "figure.set_size_inches(15, 11)\n",
        "plt.show()"
      ],
      "execution_count": 0,
      "outputs": [
        {
          "output_type": "display_data",
          "data": {
            "image/png": "iVBORw0KGgoAAAANSUhEUgAAAzkAAAKOCAYAAACFqtdgAAAABHNCSVQICAgIfAhkiAAAAAlwSFlz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\nsrPzsLUzw8t3QOH6Ex6kYGZuXG435gwMdJk1bygzfXe