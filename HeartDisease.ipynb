{
  "nbformat": 4,
  "nbformat_minor": 0,
  "metadata": {
    "colab": {
      "name": "HeartDisease.ipynb",
      "version": "0.3.2",
      "provenance": [],
      "collapsed_sections": []
    },
    "kernelspec": {
      "name": "python3",
      "display_name": "Python 3"
    }
  },
  "cells": [
    {
      "metadata": {
        "id": "VGQomyb6H6KM",
        "colab_type": "code",
        "colab": {}
      },
      "cell_type": "code",
      "source": [
        "import pandas as pd\n",
        "import numpy as np\n",
        "import matplotlib.pyplot as plt\n",
        "import seaborn as sns\n",
        "%matplotlib inline"
      ],
      "execution_count": 0,
      "outputs": []
    },
    {
      "metadata": {
        "id": "r0mXvAftH9Zw",
        "colab_type": "code",
        "colab": {}
      },
      "cell_type": "code",
      "source": [
        "dataset = pd.read_csv(\"./heart.csv\")"
      ],
      "execution_count": 0,
      "outputs": []
    },
    {
      "metadata": {
        "id": "2tXeAFe6ICMn",
        "colab_type": "code",
        "outputId": "a0cbb9ea-e885-4211-c3ed-2948c55945f2",
        "colab": {
          "base_uri": "https://localhost:8080/",
          "height": 204
        }
      },
      "cell_type": "code",
      "source": [
        "dataset.head()"
      ],
      "execution_count": 3,
      "outputs": [
        {
          "output_type": "execute_result",
          "data": {
            "text/html": [
              "<div>\n",
              "<style scoped>\n",
              "    .dataframe tbody tr th:only-of-type {\n",
              "        vertical-align: middle;\n",
              "    }\n",
              "\n",
              "    .dataframe tbody tr th {\n",
              "        vertical-align: top;\n",
              "    }\n",
              "\n",
              "    .dataframe thead th {\n",
              "        text-align: right;\n",
              "    }\n",
              "</style>\n",
              "<table border=\"1\" class=\"dataframe\">\n",
              "  <thead>\n",
              "    <tr style=\"text-align: right;\">\n",
              "      <th></th>\n",
              "      <th>age</th>\n",
              "      <th>sex</th>\n",
              "      <th>cp</th>\n",
              "      <th>trestbps</th>\n",
              "      <th>chol</th>\n",
              "      <th>fbs</th>\n",
              "      <th>restecg</th>\n",
              "      <th>thalach</th>\n",
              "      <th>exang</th>\n",
              "      <th>oldpeak</th>\n",
              "      <th>slope</th>\n",
              "      <th>ca</th>\n",
              "      <th>thal</th>\n",
              "      <th>target</th>\n",
              "    </tr>\n",
              "  </thead>\n",
              "  <tbody>\n",
              "    <tr>\n",
              "      <th>0</th>\n",
              "      <td>63</td>\n",
              "      <td>1</td>\n",
              "      <td>3</td>\n",
              "      <td>145</td>\n",
              "      <td>233</td>\n",
              "      <td>1</td>\n",
              "      <td>0</td>\n",
              "      <td>150</td>\n",
              "      <td>0</td>\n",
              "      <td>2.3</td>\n",
              "      <td>0</td>\n",
              "      <td>0</td>\n",
              "      <td>1</td>\n",
              "      <td>1</td>\n",
              "    </tr>\n",
              "    <tr>\n",
              "      <th>1</th>\n",
              "      <td>37</td>\n",
              "      <td>1</td>\n",
              "      <td>2</td>\n",
              "      <td>130</td>\n",
              "      <td>250</td>\n",
              "      <td>0</td>\n",
              "      <td>1</td>\n",
              "      <td>187</td>\n",
              "      <td>0</td>\n",
              "      <td>3.5</td>\n",
              "      <td>0</td>\n",
              "      <td>0</td>\n",
              "      <td>2</td>\n",
              "      <td>1</td>\n",
              "    </tr>\n",
              "    <tr>\n",
              "      <th>2</th>\n",
              "      <td>41</td>\n",
              "      <td>0</td>\n",
              "      <td>1</td>\n",
              "      <td>130</td>\n",
              "      <td>204</td>\n",
              "      <td>0</td>\n",
              "      <td>0</td>\n",
              "      <td>172</td>\n",
              "      <td>0</td>\n",
              "      <td>1.4</td>\n",
              "      <td>2</td>\n",
              "      <td>0</td>\n",
              "      <td>2</td>\n",
              "      <td>1</td>\n",
              "    </tr>\n",
              "    <tr>\n",
              "      <th>3</th>\n",
              "      <td>56</td>\n",
              "      <td>1</td>\n",
              "      <td>1</td>\n",
              "      <td>120</td>\n",
              "      <td>236</td>\n",
              "      <td>0</td>\n",
              "      <td>1</td>\n",
              "      <td>178</td>\n",
              "      <td>0</td>\n",
              "      <td>0.8</td>\n",
              "      <td>2</td>\n",
              "      <td>0</td>\n",
              "      <td>2</td>\n",
              "      <td>1</td>\n",
              "    </tr>\n",
              "    <tr>\n",
              "      <th>4</th>\n",
              "      <td>57</td>\n",
              "      <td>0</td>\n",
              "      <td>0</td>\n",
              "      <td>120</td>\n",
              "      <td>354</td>\n",
              "      <td>0</td>\n",
              "      <td>1</td>\n",
              "      <td>163</td>\n",
              "      <td>1</td>\n",
              "      <td>0.6</td>\n",
              "      <td>2</td>\n",
              "      <td>0</td>\n",
              "      <td>2</td>\n",
              "      <td>1</td>\n",
              "    </tr>\n",
              "  </tbody>\n",
              "</table>\n",
              "</div>"
            ],
            "text/plain": [
              "   age  sex  cp  trestbps  chol  fbs  restecg  thalach  exang  oldpeak  slope  \\\n",
              "0   63    1   3       145   233    1        0      150      0      2.3      0   \n",
              "1   37    1   2       130   250    0        1      187      0      3.5      0   \n",
              "2   41    0   1       130   204    0        0      172      0      1.4      2   \n",
              "3   56    1   1       120   236    0        1      178      0      0.8      2   \n",
              "4   57    0   0       120   354    0        1      163      1      0.6      2   \n",
              "\n",
              "   ca  thal  target  \n",
              "0   0     1       1  \n",
              "1   0     2       1  \n",
              "2   0     2       1  \n",
              "3   0     2       1  \n",
              "4   0     2       1  "
            ]
          },
          "metadata": {
            "tags": []
          },
          "execution_count": 3
        }
      ]
    },
    {
      "metadata": {
        "id": "K5TFoZL_Nit3",
        "colab_type": "text"
      },
      "cell_type": "markdown",
      "source": [
        "* cp = chest pain type Value 1: typical angina -- Value 2: atypical angina -- Value 3: non-anginal pain -- Value 4: asymptomatic\n",
        "\n",
        "* trestbps = resting blood pressure\n",
        "* chol = serum cholestoral in mg/dl \n",
        "* fbs = fasting blood sugar > 120 mg/dl (1=true, 0=false)\n",
        "* restecg = resting electrocardiographic results (values 0,1,2)\n",
        "* thalach = maximum heart rate achieved \n",
        "* exang = exercise induced angina (1 = yes; 0 = no) \n",
        "* oldpeak = ST depression induced by exercise relative to rest \n",
        "* slope = the slope of the peak exercise ST segment \n",
        "* ca = number of major vessels (0-3) colored by flourosopy \n",
        "* thal: 3 = normal; 6 = fixed defect; 7 = reversable defect"
      ]
    },
    {
      "metadata": {
        "id": "IaNz6ay7IEDH",
        "colab_type": "code",
        "outputId": "f8c8f716-6281-452b-fd35-ce89f9e05e8b",
        "colab": {
          "base_uri": "https://localhost:8080/",
          "height": 34
        }
      },
      "cell_type": "code",
      "source": [
        "dataset.shape"
      ],
      "execution_count": 4,
      "outputs": [
        {
          "output_type": "execute_result",
          "data": {
            "text/plain": [
              "(303, 14)"
            ]
          },
          "metadata": {
            "tags": []
          },
          "execution_count": 4
        }
      ]
    },
    {
      "metadata": {
        "id": "wqrSBz6DIK5X",
        "colab_type": "code",
        "outputId": "a9186056-a121-4e98-a418-1111bf918b5a",
        "colab": {
          "base_uri": "https://localhost:8080/",
          "height": 272
        }
      },
      "cell_type": "code",
      "source": [
        "dataset.count()"
      ],
      "execution_count": 5,
      "outputs": [
        {
          "output_type": "execute_result",
          "data": {
            "text/plain": [
              "age         303\n",
              "sex         303\n",
              "cp          303\n",
              "trestbps    303\n",
              "chol        303\n",
              "fbs         303\n",
              "restecg     303\n",
              "thalach     303\n",
              "exang       303\n",
              "oldpeak     303\n",
              "slope       303\n",
              "ca          303\n",
              "thal        303\n",
              "target      303\n",
              "dtype: int64"
            ]
          },
          "metadata": {
            "tags": []
          },
          "execution_count": 5
        }
      ]
    },
    {
      "metadata": {
        "id": "GtGrb2S7IQLw",
        "colab_type": "code",
        "outputId": "38e18a54-01aa-48c4-8329-493ef57937fb",
        "colab": {
          "base_uri": "https://localhost:8080/",
          "height": 272
        }
      },
      "cell_type": "code",
      "source": [
        "dataset.isnull().sum()"
      ],
      "execution_count": 0,
      "outputs": [
        {
          "output_type": "execute_result",
          "data": {
            "text/plain": [
              "age         0\n",
              "sex         0\n",
              "cp          0\n",
              "trestbps    0\n",
              "chol        0\n",
              "fbs         0\n",
              "restecg     0\n",
              "thalach     0\n",
              "exang       0\n",
              "oldpeak     0\n",
              "slope       0\n",
              "ca          0\n",
              "thal        0\n",
              "target      0\n",
              "dtype: int64"
            ]
          },
          "metadata": {
            "tags": []
          },
          "execution_count": 6
        }
      ]
    },
    {
      "metadata": {
        "id": "adKT0tASITIw",
        "colab_type": "code",
        "outputId": "be65612b-6324-4f1b-e8d0-e7be1619bb29",
        "colab": {
          "base_uri": "https://localhost:8080/",
          "height": 272
        }
      },
      "cell_type": "code",
      "source": [
        "dataset.isna().sum()"
      ],
      "execution_count": 0,
      "outputs": [
        {
          "output_type": "execute_result",
          "data": {
            "text/plain": [
              "age         0\n",
              "sex         0\n",
              "cp          0\n",
              "trestbps    0\n",
              "chol        0\n",
              "fbs         0\n",
              "restecg     0\n",
              "thalach     0\n",
              "exang       0\n",
              "oldpeak     0\n",
              "slope       0\n",
              "ca          0\n",
              "thal        0\n",
              "target      0\n",
              "dtype: int64"
            ]
          },
          "metadata": {
            "tags": []
          },
          "execution_count": 7
        }
      ]
    },
    {
      "metadata": {
        "id": "ttsgiy9hIWM5",
        "colab_type": "code",
        "outputId": "0a17cf14-fffc-426c-b5aa-32aafef72aa2",
        "colab": {
          "base_uri": "https://localhost:8080/",
          "height": 671
        }
      },
      "cell_type": "code",
      "source": [
        "sns.heatmap(dataset.corr(), annot=True, cmap='RdYlGn', linewidths=0.2)\n",
        "figure = plt.gcf()\n",
        "figure.set_size_inches(15, 11)\n",
        "plt.show()"
      ],
      "execution_count": 0,
      "outputs": [
        {
          "output_type": "display_data",
          "data": {
            "image/png": "iVBORw0KGgoAAAANSUhEUgAAAzkAAAKOCAYAAACFqtdgAAAABHNCSVQICAgIfAhkiAAAAAlwSFlz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\nqoMDUKd+Ke7efkxkRCwAG9eE07h5eaz+4UjG/XtJLF1wiDkL