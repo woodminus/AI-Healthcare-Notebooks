{
  "nbformat": 4,
  "nbformat_minor": 0,
  "metadata": {
    "colab": {
      "name": "Malaria.ipynb",
      "version": "0.3.2",
      "provenance": [],
      "collapsed_sections": []
    },
    "kernelspec": {
      "name": "python3",
      "display_name": "Python 3"
    },
    "accelerator": "GPU"
  },
  "cells": [
    {
      "metadata": {
        "id": "58HXCU9ZMCwg",
        "colab_type": "code",
        "outputId": "44c2025e-8fda-428a-95bb-aa2f877c2b68",
        "colab": {
          "base_uri": "https://localhost:8080/",
          "height": 204
        }
      },
      "cell_type": "code",
      "source": [
        "!wget https://ceb.nlm.nih.gov/proj/malaria/cell_images.zip"
      ],
      "execution_count": 1,
      "outputs": [
        {
          "output_type": "stream",
          "text": [
            "--2019-04-24 17:33:58--  https://ceb.nlm.nih.gov/proj/malaria/cell_images.zip\n",
            "Resolving ceb.nlm.nih.gov (ceb.nlm.nih.gov)... 130.14.52.15, 2607:f220:41e:7052::15\n",
            "Connecting to ceb.nlm.nih.gov (ceb.nlm.nih.gov)|130.14.52.15|:443... connected.\n",
            "HTTP request sent, awaiting response... 200 OK\n",
            "Length: 353452851 (337M) [application/zip]\n",
            "Saving to: ‘cell_images.zip’\n",
            "\n",
            "\rcell_images.zip       0%[                    ]       0  --.-KB/s               \rcell_images.zip       3%[                    ]  10.95M  54.7MB/s               \rcell_images.zip       8%[>                   ]  27.90M  69.7MB/s               \rcell_images.zip      13%[=>                  ]  45.20M  75.1MB/s               \rcell_images.zip      18%[==>                 ]  63.18M  78.7MB/s               \rcell_images.zip      24%[===>                ]  81.41M  81.1MB/s               \rcell_images.zip      29%[====>               ]  99.66M  82.7MB/s               \rcell_images.zip      34%[=====>              ] 117.90M  83.9MB/s               \rcell_images.zip      39%[======>             ] 132.10M  82.3MB/s               \rcell_images.zip      43%[=======>            ] 145.13M  80.3MB/s               \rcell_images.zip      47%[========>           ] 158.54M  78.9MB/s               \rcell_images.zip      51%[=========>          ] 172.41M  77.9MB/s               \rcell_images.zip      55%[==========>         ] 186.45M  77.2MB/s               \rcell_images.zip      59%[==========>         ] 200.40M  76.6MB/s               \rcell_images.zip      63%[===========>        ] 214.35M  76.1MB/s               \rcell_images.zip      67%[============>       ] 228.93M  75.8MB/s    eta 1s     \rcell_images.zip      72%[=============>      ] 243.63M  77.6MB/s    eta 1s     \rcell_images.zip      76%[==============>     ] 258.28M  76.6MB/s    eta 1s     \rcell_images.zip      80%[===============>    ] 272.98M  75.8MB/s    eta 1s     \rcell_images.zip      85%[================>   ] 287.12M  74.3MB/s    eta 1s     \rcell_images.zip      89%[================>   ] 301.84M  73.5MB/s    eta 0s     \rcell_images.zip      93%[=================>  ] 316.59M  72.8MB/s    eta 0s     \rcell_images.zip      98%[==================> ] 331.96M  71.2MB/s    eta 0s     \rcell_images.zip     100%[===================>] 337.08M  71.4MB/s    in 4.5s    \n",
            "\n",
            "2019-04-24 17:34:03 (75.1 MB/s) - ‘cell_images.zip’ saved [353452851/353452851]\n",
            "\n"
          ],
          "name": "stdout"
        }
      ]
    },
    {
      "metadata": {
        "id": "UQCHLzxRMMvc",
        "colab_type": "code",
        "colab": {}
      },
      "cell_type": "code",
      "source": [
        "!unzip -q cell_images.zip"
      ],
      "execution_count": 0,
      "outputs": []
    },
    {
      "metadata": {
        "id": "MobKMvoYa1b-",
        "colab_type": "code",
        "colab": {}
      },
      "cell_type": "code",
      "source": [
        "mv cell_images training"
      ],
      "execution_count": 0,
      "outputs": []
    },
    {
      "metadata": {
        "id": "REsKS-97Of4N",
        "colab_type": "code",
        "colab": {}
      },
      "cell_type": "code",
      "source": [
        "!mkdir -p validation/Parasitized && mkdir -p validation/Uninfected"
      ],
      "execution_count": 0,
      "outputs": []
    },
    {
      "metadata": {
        "id": "7cOVSMy2OkZe",
        "colab_type": "code",
        "outputId": "b6f61554-cac6-4023-b304-9c554ac7fca4",
        "colab": {
          "base_uri": "https://localhost:8080/",
          "height": 34
        }
      },
      "cell_type": "code",
      "source": [
        "import numpy as np\n",
        "import keras\n",
        "from keras import backend as K\n",
        "from keras.optimizers import Adam, SGD\n",
        "import random\n",
        "\n",
        "from keras.layers import Flatten, Dropout, BatchNormalization, Reshape, GlobalAveragePooling2D\n",
        "from keras.layers import Dense, Dropout, Input\n",
        "from keras.applications.mobilenet_v2 import MobileNetV2, preprocess_input\n",
        "\n",
        "from keras.models import Model\n",
        "from keras.callbacks import ReduceLROnPlateau, ModelCheckpoint, LearningRateScheduler\n",
        "\n",
        "from keras.preprocessing.image import ImageDataGenerator\n",
        "\n",
        "from sklearn.metrics import confusion_matrix\n",
        "import itertools\n",
        "import matplotlib.pyplot as plt\n",
        "import pandas as pd\n",
        "\n",
        "from keras.preprocessing import image\n",
        "\n",
        "from sklearn.model_selection import train_test_split\n",
        "\n",
        "import os\n",
        "import shutil\n",
        "\n",
        "import matplotlib.image as mpimg\n",
        "%matplotlib inline"
      ],
      "execution_count": 2,
      "outputs": [
        {
          "output_type": "stream",
          "text": [
            "Using TensorFlow backend.\n"
          ],
          "name": "stderr"
        }
      ]
    },
    {
      "metadata": {
        "id": "6sWAG43ZKTqE",
        "colab_type": "code",
        "colab": {}
      },
      "cell_type": "code",
      "source": [
        "total_images = 27558\n",
        "validation_size = 0.20\n",
        "\n",
        "training_parasitized_folder_name = \"training/Parasitized\"\n",
        "training_uninfected_folder_name = \"training/Uninfected\"\n",
        "\n",
        "validation_parasitized_folder_name = \"validation/Parasitized\"\n",
        "validation_uninfected_folder_name = \"validation/Uninfected\""
      ],
      "execution_count": 0,
      "outputs": []
    },
    {
      "metadata": {
        "id": "AoY641AAOntt",
        "colab_type": "code",
        "colab": {}
      },
      "cell_type": "code",
      "source": [
        "parasitized_folder = os.listdir(\"training/Parasitized\")\n",
        "uninfected_folder = os.listdir(\"training/Uninfected\")\n",
        "\n",
        "validation_folder_size = int(len(parasitized_folder) * 0.20)\n",
        "\n",
        "for image_name in parasitized_folder[:validation_folder_size]:\n",
        "  image_url = f'{training_parasitized_folder_name}/{image_name}'\n",
        "  shutil.move(image_url, validation_parasitized_folder_name)\n",
        "  \n",
        "for image_name in uninfected_folder[:validation_folder_size]:\n",
        "  image_url = f'{training_uninfected_folder_name}/{image_name}'\n",
        "  shutil.move(image_url, validation_uninfected_folder_name)"
      ],
      "execution_count": 0,
      "outputs": []
    },
    {
      "metadata": {
        "id": "ustDT04RxVBk",
        "colab_type": "code",
        "outputId": "2fe740c3-bb59-426a-e1df-692705c81de9",
        "colab": {
          "base_uri": "https://localhost:8080/",
          "height": 392
        }
      },
      "cell_type": "code",
      "source": [
        "def plot_images(image_index, folder_name, image_name, title):\n",
        "  sp = figure.add_subplot(2, 3, image_index + 1)\n",
        "  sp.axis('Off')\n",
        "  image_path = f'{folder_name}/{image_name}'\n",
        "  image_loaded = img=mpimg.imread(image_path)\n",
        "  sp.set_title(title, fontsize=16)\n",
        "  plt.imshow(image_loaded, interpolation=None)\n",
        "\n",
        "figure = plt.figure(figsize=(12, 6))\n",
        "parasitized_images = os.listdir(\"training/Parasitized\")[0:3]\n",
        "uninfected_images = os.listdir(\"training/Uninfected\")[0:3]\n",
        "\n",
        "for image_index, image_name in enumerate(parasitized_images):\n",
        "  plot_images(image_index, training_parasitized_folder_name, image_name, \"Parasitized\")\n",
        "\n",
        "for image_index, image_name in enumerate(uninfected_images):\n",
        "  plot_images(image_index + 3, training_uninfected_folder_name, image_name, \"Uninfected\")"
      ],
      "execution_count": 7,
      "outputs": [
        {
          "output_type": "display_data",
          "data": {
            "image/png": "iVBORw0KGgoAAAANSUhEUgAAApkAAAF3CAYAAADuCVA9AAAABHNCSVQICAgIfAhkiAAAAAlwSFlz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\n3GO4fW48GCVz